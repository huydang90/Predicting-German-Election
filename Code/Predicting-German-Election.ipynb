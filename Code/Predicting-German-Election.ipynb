{
 "cells": [
  {
   "cell_type": "code",
   "execution_count": 27,
   "metadata": {},
   "outputs": [],
   "source": [
    "import pyreadr\n",
    "import pandas as pd\n",
    "import numpy as np"
   ]
  },
  {
   "cell_type": "code",
   "execution_count": 28,
   "metadata": {},
   "outputs": [],
   "source": [
    "result = pyreadr.read_r('/Users/dangngochuy/Desktop/polls_btw.RData')"
   ]
  },
  {
   "cell_type": "code",
   "execution_count": 29,
   "metadata": {},
   "outputs": [
    {
     "name": "stdout",
     "output_type": "stream",
     "text": [
      "odict_keys(['polls_df'])\n"
     ]
    }
   ],
   "source": [
    "print(result.keys())"
   ]
  },
  {
   "cell_type": "code",
   "execution_count": 30,
   "metadata": {},
   "outputs": [],
   "source": [
    "polls = result[\"polls_df\"]"
   ]
  },
  {
   "cell_type": "code",
   "execution_count": 31,
   "metadata": {},
   "outputs": [
    {
     "data": {
      "text/html": [
       "<div>\n",
       "<style scoped>\n",
       "    .dataframe tbody tr th:only-of-type {\n",
       "        vertical-align: middle;\n",
       "    }\n",
       "\n",
       "    .dataframe tbody tr th {\n",
       "        vertical-align: top;\n",
       "    }\n",
       "\n",
       "    .dataframe thead th {\n",
       "        text-align: right;\n",
       "    }\n",
       "</style>\n",
       "<table border=\"1\" class=\"dataframe\">\n",
       "  <thead>\n",
       "    <tr style=\"text-align: right;\">\n",
       "      <th></th>\n",
       "      <th>election</th>\n",
       "      <th>sample_size</th>\n",
       "      <th>institute</th>\n",
       "      <th>date</th>\n",
       "      <th>party</th>\n",
       "      <th>support</th>\n",
       "      <th>election_date</th>\n",
       "      <th>days_to_election</th>\n",
       "    </tr>\n",
       "  </thead>\n",
       "  <tbody>\n",
       "    <tr>\n",
       "      <th>0</th>\n",
       "      <td>1953.0</td>\n",
       "      <td>NaN</td>\n",
       "      <td>allensbach</td>\n",
       "      <td>1951-04-15</td>\n",
       "      <td>oth</td>\n",
       "      <td>24.0</td>\n",
       "      <td>1953-09-06</td>\n",
       "      <td>875.0</td>\n",
       "    </tr>\n",
       "    <tr>\n",
       "      <th>1</th>\n",
       "      <td>1953.0</td>\n",
       "      <td>NaN</td>\n",
       "      <td>allensbach</td>\n",
       "      <td>1950-11-15</td>\n",
       "      <td>gru</td>\n",
       "      <td>NaN</td>\n",
       "      <td>1953-09-06</td>\n",
       "      <td>1026.0</td>\n",
       "    </tr>\n",
       "    <tr>\n",
       "      <th>2</th>\n",
       "      <td>1953.0</td>\n",
       "      <td>NaN</td>\n",
       "      <td>allensbach</td>\n",
       "      <td>1952-12-15</td>\n",
       "      <td>spd</td>\n",
       "      <td>35.0</td>\n",
       "      <td>1953-09-06</td>\n",
       "      <td>265.0</td>\n",
       "    </tr>\n",
       "    <tr>\n",
       "      <th>3</th>\n",
       "      <td>1953.0</td>\n",
       "      <td>NaN</td>\n",
       "      <td>allensbach</td>\n",
       "      <td>1953-02-15</td>\n",
       "      <td>spd</td>\n",
       "      <td>33.0</td>\n",
       "      <td>1953-09-06</td>\n",
       "      <td>203.0</td>\n",
       "    </tr>\n",
       "    <tr>\n",
       "      <th>4</th>\n",
       "      <td>1953.0</td>\n",
       "      <td>NaN</td>\n",
       "      <td>allensbach</td>\n",
       "      <td>1951-03-15</td>\n",
       "      <td>gru</td>\n",
       "      <td>NaN</td>\n",
       "      <td>1953-09-06</td>\n",
       "      <td>906.0</td>\n",
       "    </tr>\n",
       "  </tbody>\n",
       "</table>\n",
       "</div>"
      ],
      "text/plain": [
       "   election  sample_size   institute        date party  support election_date  \\\n",
       "0    1953.0          NaN  allensbach  1951-04-15   oth     24.0    1953-09-06   \n",
       "1    1953.0          NaN  allensbach  1950-11-15   gru      NaN    1953-09-06   \n",
       "2    1953.0          NaN  allensbach  1952-12-15   spd     35.0    1953-09-06   \n",
       "3    1953.0          NaN  allensbach  1953-02-15   spd     33.0    1953-09-06   \n",
       "4    1953.0          NaN  allensbach  1951-03-15   gru      NaN    1953-09-06   \n",
       "\n",
       "   days_to_election  \n",
       "0             875.0  \n",
       "1            1026.0  \n",
       "2             265.0  \n",
       "3             203.0  \n",
       "4             906.0  "
      ]
     },
     "execution_count": 31,
     "metadata": {},
     "output_type": "execute_result"
    }
   ],
   "source": [
    "polls.head()"
   ]
  },
  {
   "cell_type": "code",
   "execution_count": 32,
   "metadata": {},
   "outputs": [
    {
     "data": {
      "text/html": [
       "<div>\n",
       "<style scoped>\n",
       "    .dataframe tbody tr th:only-of-type {\n",
       "        vertical-align: middle;\n",
       "    }\n",
       "\n",
       "    .dataframe tbody tr th {\n",
       "        vertical-align: top;\n",
       "    }\n",
       "\n",
       "    .dataframe thead th {\n",
       "        text-align: right;\n",
       "    }\n",
       "</style>\n",
       "<table border=\"1\" class=\"dataframe\">\n",
       "  <thead>\n",
       "    <tr style=\"text-align: right;\">\n",
       "      <th></th>\n",
       "      <th>election</th>\n",
       "      <th>sample_size</th>\n",
       "      <th>institute</th>\n",
       "      <th>date</th>\n",
       "      <th>party</th>\n",
       "      <th>support</th>\n",
       "      <th>election_date</th>\n",
       "      <th>days_to_election</th>\n",
       "    </tr>\n",
       "  </thead>\n",
       "  <tbody>\n",
       "    <tr>\n",
       "      <th>0</th>\n",
       "      <td>1953.0</td>\n",
       "      <td>1000.0</td>\n",
       "      <td>allensbach</td>\n",
       "      <td>1951-04-15</td>\n",
       "      <td>oth</td>\n",
       "      <td>24.0</td>\n",
       "      <td>1953-09-06</td>\n",
       "      <td>875.0</td>\n",
       "    </tr>\n",
       "    <tr>\n",
       "      <th>1</th>\n",
       "      <td>1953.0</td>\n",
       "      <td>1000.0</td>\n",
       "      <td>allensbach</td>\n",
       "      <td>1950-11-15</td>\n",
       "      <td>gru</td>\n",
       "      <td>NaN</td>\n",
       "      <td>1953-09-06</td>\n",
       "      <td>1026.0</td>\n",
       "    </tr>\n",
       "    <tr>\n",
       "      <th>2</th>\n",
       "      <td>1953.0</td>\n",
       "      <td>1000.0</td>\n",
       "      <td>allensbach</td>\n",
       "      <td>1952-12-15</td>\n",
       "      <td>spd</td>\n",
       "      <td>35.0</td>\n",
       "      <td>1953-09-06</td>\n",
       "      <td>265.0</td>\n",
       "    </tr>\n",
       "    <tr>\n",
       "      <th>3</th>\n",
       "      <td>1953.0</td>\n",
       "      <td>1000.0</td>\n",
       "      <td>allensbach</td>\n",
       "      <td>1953-02-15</td>\n",
       "      <td>spd</td>\n",
       "      <td>33.0</td>\n",
       "      <td>1953-09-06</td>\n",
       "      <td>203.0</td>\n",
       "    </tr>\n",
       "    <tr>\n",
       "      <th>4</th>\n",
       "      <td>1953.0</td>\n",
       "      <td>1000.0</td>\n",
       "      <td>allensbach</td>\n",
       "      <td>1951-03-15</td>\n",
       "      <td>gru</td>\n",
       "      <td>NaN</td>\n",
       "      <td>1953-09-06</td>\n",
       "      <td>906.0</td>\n",
       "    </tr>\n",
       "  </tbody>\n",
       "</table>\n",
       "</div>"
      ],
      "text/plain": [
       "   election  sample_size   institute        date party  support election_date  \\\n",
       "0    1953.0       1000.0  allensbach  1951-04-15   oth     24.0    1953-09-06   \n",
       "1    1953.0       1000.0  allensbach  1950-11-15   gru      NaN    1953-09-06   \n",
       "2    1953.0       1000.0  allensbach  1952-12-15   spd     35.0    1953-09-06   \n",
       "3    1953.0       1000.0  allensbach  1953-02-15   spd     33.0    1953-09-06   \n",
       "4    1953.0       1000.0  allensbach  1951-03-15   gru      NaN    1953-09-06   \n",
       "\n",
       "   days_to_election  \n",
       "0             875.0  \n",
       "1            1026.0  \n",
       "2             265.0  \n",
       "3             203.0  \n",
       "4             906.0  "
      ]
     },
     "execution_count": 32,
     "metadata": {},
     "output_type": "execute_result"
    }
   ],
   "source": [
    "#Impute sample_size with 1000\n",
    "\n",
    "polls[\"sample_size\"].fillna(1000, inplace=True)\n",
    "polls.head()"
   ]
  },
  {
   "cell_type": "code",
   "execution_count": 33,
   "metadata": {},
   "outputs": [],
   "source": [
    "election2017 = polls.loc[(polls['institute'] == 'allensbach') & (polls['election'] == 2017)]"
   ]
  },
  {
   "cell_type": "code",
   "execution_count": 34,
   "metadata": {},
   "outputs": [
    {
     "data": {
      "text/html": [
       "<div>\n",
       "<style scoped>\n",
       "    .dataframe tbody tr th:only-of-type {\n",
       "        vertical-align: middle;\n",
       "    }\n",
       "\n",
       "    .dataframe tbody tr th {\n",
       "        vertical-align: top;\n",
       "    }\n",
       "\n",
       "    .dataframe thead th {\n",
       "        text-align: right;\n",
       "    }\n",
       "</style>\n",
       "<table border=\"1\" class=\"dataframe\">\n",
       "  <thead>\n",
       "    <tr style=\"text-align: right;\">\n",
       "      <th></th>\n",
       "      <th>election</th>\n",
       "      <th>sample_size</th>\n",
       "      <th>institute</th>\n",
       "      <th>date</th>\n",
       "      <th>party</th>\n",
       "      <th>support</th>\n",
       "      <th>election_date</th>\n",
       "      <th>days_to_election</th>\n",
       "    </tr>\n",
       "  </thead>\n",
       "  <tbody>\n",
       "    <tr>\n",
       "      <th>26005</th>\n",
       "      <td>2017.0</td>\n",
       "      <td>1400.0</td>\n",
       "      <td>allensbach</td>\n",
       "      <td>2015-06-18</td>\n",
       "      <td>spd</td>\n",
       "      <td>26.0</td>\n",
       "      <td>2017-09-24</td>\n",
       "      <td>829.0</td>\n",
       "    </tr>\n",
       "    <tr>\n",
       "      <th>26008</th>\n",
       "      <td>2017.0</td>\n",
       "      <td>1496.0</td>\n",
       "      <td>allensbach</td>\n",
       "      <td>2016-08-24</td>\n",
       "      <td>spd</td>\n",
       "      <td>23.0</td>\n",
       "      <td>2017-09-24</td>\n",
       "      <td>396.0</td>\n",
       "    </tr>\n",
       "    <tr>\n",
       "      <th>26022</th>\n",
       "      <td>2017.0</td>\n",
       "      <td>1400.0</td>\n",
       "      <td>allensbach</td>\n",
       "      <td>2015-08-19</td>\n",
       "      <td>spd</td>\n",
       "      <td>26.0</td>\n",
       "      <td>2017-09-24</td>\n",
       "      <td>767.0</td>\n",
       "    </tr>\n",
       "    <tr>\n",
       "      <th>26035</th>\n",
       "      <td>2017.0</td>\n",
       "      <td>1400.0</td>\n",
       "      <td>allensbach</td>\n",
       "      <td>2015-02-19</td>\n",
       "      <td>spd</td>\n",
       "      <td>25.5</td>\n",
       "      <td>2017-09-24</td>\n",
       "      <td>948.0</td>\n",
       "    </tr>\n",
       "    <tr>\n",
       "      <th>26037</th>\n",
       "      <td>2017.0</td>\n",
       "      <td>1403.0</td>\n",
       "      <td>allensbach</td>\n",
       "      <td>2017-07-18</td>\n",
       "      <td>spd</td>\n",
       "      <td>25.0</td>\n",
       "      <td>2017-09-24</td>\n",
       "      <td>68.0</td>\n",
       "    </tr>\n",
       "  </tbody>\n",
       "</table>\n",
       "</div>"
      ],
      "text/plain": [
       "       election  sample_size   institute        date party  support  \\\n",
       "26005    2017.0       1400.0  allensbach  2015-06-18   spd     26.0   \n",
       "26008    2017.0       1496.0  allensbach  2016-08-24   spd     23.0   \n",
       "26022    2017.0       1400.0  allensbach  2015-08-19   spd     26.0   \n",
       "26035    2017.0       1400.0  allensbach  2015-02-19   spd     25.5   \n",
       "26037    2017.0       1403.0  allensbach  2017-07-18   spd     25.0   \n",
       "\n",
       "      election_date  days_to_election  \n",
       "26005    2017-09-24             829.0  \n",
       "26008    2017-09-24             396.0  \n",
       "26022    2017-09-24             767.0  \n",
       "26035    2017-09-24             948.0  \n",
       "26037    2017-09-24              68.0  "
      ]
     },
     "execution_count": 34,
     "metadata": {},
     "output_type": "execute_result"
    }
   ],
   "source": [
    "election2017.head()"
   ]
  },
  {
   "cell_type": "code",
   "execution_count": 35,
   "metadata": {},
   "outputs": [
    {
     "data": {
      "text/plain": [
       "array(['allensbach', 'fgruppe_wahlen', 'forsa', 'emnid',\n",
       "       'infratest_dimap', 'gms', 'insa'], dtype=object)"
      ]
     },
     "execution_count": 35,
     "metadata": {},
     "output_type": "execute_result"
    }
   ],
   "source": [
    "polls['institute'].unique()"
   ]
  },
  {
   "cell_type": "code",
   "execution_count": 36,
   "metadata": {},
   "outputs": [
    {
     "data": {
      "text/plain": [
       "[oth, gru, spd, cdu, lin, fdp, afd]\n",
       "Categories (7, object): [oth, gru, spd, cdu, lin, fdp, afd]"
      ]
     },
     "execution_count": 36,
     "metadata": {},
     "output_type": "execute_result"
    }
   ],
   "source": [
    "polls['party'].unique()"
   ]
  },
  {
   "cell_type": "code",
   "execution_count": 49,
   "metadata": {},
   "outputs": [
    {
     "data": {
      "text/plain": [
       "49"
      ]
     },
     "execution_count": 49,
     "metadata": {},
     "output_type": "execute_result"
    }
   ],
   "source": [
    "election2017_spd = election2017.loc[election2017['party'] == 'spd']\n",
    "election2017_spd['date'].nunique()"
   ]
  },
  {
   "cell_type": "code",
   "execution_count": 38,
   "metadata": {},
   "outputs": [
    {
     "data": {
      "text/html": [
       "<div>\n",
       "<style scoped>\n",
       "    .dataframe tbody tr th:only-of-type {\n",
       "        vertical-align: middle;\n",
       "    }\n",
       "\n",
       "    .dataframe tbody tr th {\n",
       "        vertical-align: top;\n",
       "    }\n",
       "\n",
       "    .dataframe thead th {\n",
       "        text-align: right;\n",
       "    }\n",
       "</style>\n",
       "<table border=\"1\" class=\"dataframe\">\n",
       "  <thead>\n",
       "    <tr style=\"text-align: right;\">\n",
       "      <th></th>\n",
       "      <th>election</th>\n",
       "      <th>sample_size</th>\n",
       "      <th>institute</th>\n",
       "      <th>date</th>\n",
       "      <th>party</th>\n",
       "      <th>support</th>\n",
       "      <th>election_date</th>\n",
       "      <th>days_to_election</th>\n",
       "    </tr>\n",
       "  </thead>\n",
       "  <tbody>\n",
       "    <tr>\n",
       "      <th>26787</th>\n",
       "      <td>2017.0</td>\n",
       "      <td>1505.0</td>\n",
       "      <td>allensbach</td>\n",
       "      <td>2014-12-17</td>\n",
       "      <td>cdu</td>\n",
       "      <td>40.5</td>\n",
       "      <td>2017-09-24</td>\n",
       "      <td>1012.0</td>\n",
       "    </tr>\n",
       "    <tr>\n",
       "      <th>26803</th>\n",
       "      <td>2017.0</td>\n",
       "      <td>1521.0</td>\n",
       "      <td>allensbach</td>\n",
       "      <td>2016-02-17</td>\n",
       "      <td>cdu</td>\n",
       "      <td>33.5</td>\n",
       "      <td>2017-09-24</td>\n",
       "      <td>585.0</td>\n",
       "    </tr>\n",
       "    <tr>\n",
       "      <th>26806</th>\n",
       "      <td>2017.0</td>\n",
       "      <td>1542.0</td>\n",
       "      <td>allensbach</td>\n",
       "      <td>2017-02-22</td>\n",
       "      <td>cdu</td>\n",
       "      <td>33.0</td>\n",
       "      <td>2017-09-24</td>\n",
       "      <td>214.0</td>\n",
       "    </tr>\n",
       "    <tr>\n",
       "      <th>26808</th>\n",
       "      <td>2017.0</td>\n",
       "      <td>1571.0</td>\n",
       "      <td>allensbach</td>\n",
       "      <td>2014-04-16</td>\n",
       "      <td>cdu</td>\n",
       "      <td>40.0</td>\n",
       "      <td>2017-09-24</td>\n",
       "      <td>1257.0</td>\n",
       "    </tr>\n",
       "    <tr>\n",
       "      <th>27098</th>\n",
       "      <td>2017.0</td>\n",
       "      <td>1437.0</td>\n",
       "      <td>allensbach</td>\n",
       "      <td>2017-06-20</td>\n",
       "      <td>cdu</td>\n",
       "      <td>40.0</td>\n",
       "      <td>2017-09-24</td>\n",
       "      <td>96.0</td>\n",
       "    </tr>\n",
       "  </tbody>\n",
       "</table>\n",
       "</div>"
      ],
      "text/plain": [
       "       election  sample_size   institute        date party  support  \\\n",
       "26787    2017.0       1505.0  allensbach  2014-12-17   cdu     40.5   \n",
       "26803    2017.0       1521.0  allensbach  2016-02-17   cdu     33.5   \n",
       "26806    2017.0       1542.0  allensbach  2017-02-22   cdu     33.0   \n",
       "26808    2017.0       1571.0  allensbach  2014-04-16   cdu     40.0   \n",
       "27098    2017.0       1437.0  allensbach  2017-06-20   cdu     40.0   \n",
       "\n",
       "      election_date  days_to_election  \n",
       "26787    2017-09-24            1012.0  \n",
       "26803    2017-09-24             585.0  \n",
       "26806    2017-09-24             214.0  \n",
       "26808    2017-09-24            1257.0  \n",
       "27098    2017-09-24              96.0  "
      ]
     },
     "execution_count": 38,
     "metadata": {},
     "output_type": "execute_result"
    }
   ],
   "source": [
    "election2017_cdu = election2017.loc[election2017['party'] == 'cdu']\n",
    "election2017_cdu.head()"
   ]
  },
  {
   "cell_type": "code",
   "execution_count": 39,
   "metadata": {},
   "outputs": [
    {
     "data": {
      "text/html": [
       "<div>\n",
       "<style scoped>\n",
       "    .dataframe tbody tr th:only-of-type {\n",
       "        vertical-align: middle;\n",
       "    }\n",
       "\n",
       "    .dataframe tbody tr th {\n",
       "        vertical-align: top;\n",
       "    }\n",
       "\n",
       "    .dataframe thead th {\n",
       "        text-align: right;\n",
       "    }\n",
       "</style>\n",
       "<table border=\"1\" class=\"dataframe\">\n",
       "  <thead>\n",
       "    <tr style=\"text-align: right;\">\n",
       "      <th></th>\n",
       "      <th>election</th>\n",
       "      <th>sample_size</th>\n",
       "      <th>institute</th>\n",
       "      <th>date</th>\n",
       "      <th>party</th>\n",
       "      <th>support</th>\n",
       "      <th>election_date</th>\n",
       "      <th>days_to_election</th>\n",
       "    </tr>\n",
       "  </thead>\n",
       "  <tbody>\n",
       "    <tr>\n",
       "      <th>26019</th>\n",
       "      <td>2017.0</td>\n",
       "      <td>1947.0</td>\n",
       "      <td>insa</td>\n",
       "      <td>2016-05-17</td>\n",
       "      <td>cdu</td>\n",
       "      <td>30.5</td>\n",
       "      <td>2017-09-24</td>\n",
       "      <td>495.0</td>\n",
       "    </tr>\n",
       "    <tr>\n",
       "      <th>26046</th>\n",
       "      <td>2017.0</td>\n",
       "      <td>1973.0</td>\n",
       "      <td>insa</td>\n",
       "      <td>2016-08-02</td>\n",
       "      <td>cdu</td>\n",
       "      <td>31.5</td>\n",
       "      <td>2017-09-24</td>\n",
       "      <td>418.0</td>\n",
       "    </tr>\n",
       "    <tr>\n",
       "      <th>26092</th>\n",
       "      <td>2017.0</td>\n",
       "      <td>1979.0</td>\n",
       "      <td>insa</td>\n",
       "      <td>2014-11-24</td>\n",
       "      <td>cdu</td>\n",
       "      <td>41.0</td>\n",
       "      <td>2017-09-24</td>\n",
       "      <td>1035.0</td>\n",
       "    </tr>\n",
       "    <tr>\n",
       "      <th>26125</th>\n",
       "      <td>2017.0</td>\n",
       "      <td>1933.0</td>\n",
       "      <td>insa</td>\n",
       "      <td>2017-03-20</td>\n",
       "      <td>cdu</td>\n",
       "      <td>31.0</td>\n",
       "      <td>2017-09-24</td>\n",
       "      <td>188.0</td>\n",
       "    </tr>\n",
       "    <tr>\n",
       "      <th>26134</th>\n",
       "      <td>2017.0</td>\n",
       "      <td>1992.0</td>\n",
       "      <td>insa</td>\n",
       "      <td>2015-02-24</td>\n",
       "      <td>cdu</td>\n",
       "      <td>41.0</td>\n",
       "      <td>2017-09-24</td>\n",
       "      <td>943.0</td>\n",
       "    </tr>\n",
       "  </tbody>\n",
       "</table>\n",
       "</div>"
      ],
      "text/plain": [
       "       election  sample_size institute        date party  support  \\\n",
       "26019    2017.0       1947.0      insa  2016-05-17   cdu     30.5   \n",
       "26046    2017.0       1973.0      insa  2016-08-02   cdu     31.5   \n",
       "26092    2017.0       1979.0      insa  2014-11-24   cdu     41.0   \n",
       "26125    2017.0       1933.0      insa  2017-03-20   cdu     31.0   \n",
       "26134    2017.0       1992.0      insa  2015-02-24   cdu     41.0   \n",
       "\n",
       "      election_date  days_to_election  \n",
       "26019    2017-09-24             495.0  \n",
       "26046    2017-09-24             418.0  \n",
       "26092    2017-09-24            1035.0  \n",
       "26125    2017-09-24             188.0  \n",
       "26134    2017-09-24             943.0  "
      ]
     },
     "execution_count": 39,
     "metadata": {},
     "output_type": "execute_result"
    }
   ],
   "source": [
    "election2017insa = polls.loc[(polls['institute'] == 'insa') & (polls['election'] == 2017)]\n",
    "election2017insa_cdu = election2017insa.loc[election2017insa['party'] == 'cdu']\n",
    "election2017insa_cdu.head()"
   ]
  },
  {
   "cell_type": "code",
   "execution_count": 47,
   "metadata": {},
   "outputs": [
    {
     "data": {
      "text/html": [
       "<div>\n",
       "<style scoped>\n",
       "    .dataframe tbody tr th:only-of-type {\n",
       "        vertical-align: middle;\n",
       "    }\n",
       "\n",
       "    .dataframe tbody tr th {\n",
       "        vertical-align: top;\n",
       "    }\n",
       "\n",
       "    .dataframe thead th {\n",
       "        text-align: right;\n",
       "    }\n",
       "</style>\n",
       "<table border=\"1\" class=\"dataframe\">\n",
       "  <thead>\n",
       "    <tr style=\"text-align: right;\">\n",
       "      <th></th>\n",
       "      <th>election</th>\n",
       "      <th>sample_size</th>\n",
       "      <th>institute</th>\n",
       "      <th>date</th>\n",
       "      <th>party</th>\n",
       "      <th>support</th>\n",
       "      <th>election_date</th>\n",
       "      <th>days_to_election</th>\n",
       "    </tr>\n",
       "  </thead>\n",
       "  <tbody>\n",
       "    <tr>\n",
       "      <th>26518</th>\n",
       "      <td>2017.0</td>\n",
       "      <td>1000.0</td>\n",
       "      <td>insa</td>\n",
       "      <td>2017-02-02</td>\n",
       "      <td>spd</td>\n",
       "      <td>27.0</td>\n",
       "      <td>2017-09-24</td>\n",
       "      <td>234.0</td>\n",
       "    </tr>\n",
       "    <tr>\n",
       "      <th>26571</th>\n",
       "      <td>2017.0</td>\n",
       "      <td>1455.0</td>\n",
       "      <td>insa</td>\n",
       "      <td>2016-12-13</td>\n",
       "      <td>spd</td>\n",
       "      <td>21.5</td>\n",
       "      <td>2017-09-24</td>\n",
       "      <td>285.0</td>\n",
       "    </tr>\n",
       "    <tr>\n",
       "      <th>28501</th>\n",
       "      <td>2017.0</td>\n",
       "      <td>1873.0</td>\n",
       "      <td>insa</td>\n",
       "      <td>2016-03-29</td>\n",
       "      <td>spd</td>\n",
       "      <td>20.0</td>\n",
       "      <td>2017-09-24</td>\n",
       "      <td>544.0</td>\n",
       "    </tr>\n",
       "    <tr>\n",
       "      <th>28617</th>\n",
       "      <td>2017.0</td>\n",
       "      <td>2022.0</td>\n",
       "      <td>insa</td>\n",
       "      <td>2016-05-23</td>\n",
       "      <td>spd</td>\n",
       "      <td>19.5</td>\n",
       "      <td>2017-09-24</td>\n",
       "      <td>489.0</td>\n",
       "    </tr>\n",
       "    <tr>\n",
       "      <th>28618</th>\n",
       "      <td>2017.0</td>\n",
       "      <td>2022.0</td>\n",
       "      <td>insa</td>\n",
       "      <td>2017-03-07</td>\n",
       "      <td>spd</td>\n",
       "      <td>31.5</td>\n",
       "      <td>2017-09-24</td>\n",
       "      <td>201.0</td>\n",
       "    </tr>\n",
       "  </tbody>\n",
       "</table>\n",
       "</div>"
      ],
      "text/plain": [
       "       election  sample_size institute        date party  support  \\\n",
       "26518    2017.0       1000.0      insa  2017-02-02   spd     27.0   \n",
       "26571    2017.0       1455.0      insa  2016-12-13   spd     21.5   \n",
       "28501    2017.0       1873.0      insa  2016-03-29   spd     20.0   \n",
       "28617    2017.0       2022.0      insa  2016-05-23   spd     19.5   \n",
       "28618    2017.0       2022.0      insa  2017-03-07   spd     31.5   \n",
       "\n",
       "      election_date  days_to_election  \n",
       "26518    2017-09-24             234.0  \n",
       "26571    2017-09-24             285.0  \n",
       "28501    2017-09-24             544.0  \n",
       "28617    2017-09-24             489.0  \n",
       "28618    2017-09-24             201.0  "
      ]
     },
     "execution_count": 47,
     "metadata": {},
     "output_type": "execute_result"
    }
   ],
   "source": [
    "election2017insa_spd = election2017insa.loc[election2017insa['party'] == 'spd']\n",
    "election2017insa_spd.head()\n"
   ]
  },
  {
   "cell_type": "code",
   "execution_count": 41,
   "metadata": {},
   "outputs": [
    {
     "data": {
      "text/html": [
       "<div>\n",
       "<style scoped>\n",
       "    .dataframe tbody tr th:only-of-type {\n",
       "        vertical-align: middle;\n",
       "    }\n",
       "\n",
       "    .dataframe tbody tr th {\n",
       "        vertical-align: top;\n",
       "    }\n",
       "\n",
       "    .dataframe thead th {\n",
       "        text-align: right;\n",
       "    }\n",
       "</style>\n",
       "<table border=\"1\" class=\"dataframe\">\n",
       "  <thead>\n",
       "    <tr style=\"text-align: right;\">\n",
       "      <th></th>\n",
       "      <th>election</th>\n",
       "      <th>sample_size</th>\n",
       "      <th>institute</th>\n",
       "      <th>date</th>\n",
       "      <th>party</th>\n",
       "      <th>support</th>\n",
       "      <th>election_date</th>\n",
       "      <th>days_to_election</th>\n",
       "    </tr>\n",
       "  </thead>\n",
       "  <tbody>\n",
       "    <tr>\n",
       "      <th>26430</th>\n",
       "      <td>2017.0</td>\n",
       "      <td>1993.0</td>\n",
       "      <td>insa</td>\n",
       "      <td>2014-06-16</td>\n",
       "      <td>afd</td>\n",
       "      <td>6.0</td>\n",
       "      <td>2017-09-24</td>\n",
       "      <td>1196.0</td>\n",
       "    </tr>\n",
       "    <tr>\n",
       "      <th>26432</th>\n",
       "      <td>2017.0</td>\n",
       "      <td>1997.0</td>\n",
       "      <td>insa</td>\n",
       "      <td>2015-03-11</td>\n",
       "      <td>afd</td>\n",
       "      <td>7.5</td>\n",
       "      <td>2017-09-24</td>\n",
       "      <td>928.0</td>\n",
       "    </tr>\n",
       "    <tr>\n",
       "      <th>26960</th>\n",
       "      <td>2017.0</td>\n",
       "      <td>1000.0</td>\n",
       "      <td>insa</td>\n",
       "      <td>2017-02-02</td>\n",
       "      <td>afd</td>\n",
       "      <td>12.0</td>\n",
       "      <td>2017-09-24</td>\n",
       "      <td>234.0</td>\n",
       "    </tr>\n",
       "    <tr>\n",
       "      <th>27482</th>\n",
       "      <td>2017.0</td>\n",
       "      <td>1873.0</td>\n",
       "      <td>insa</td>\n",
       "      <td>2016-03-29</td>\n",
       "      <td>afd</td>\n",
       "      <td>13.0</td>\n",
       "      <td>2017-09-24</td>\n",
       "      <td>544.0</td>\n",
       "    </tr>\n",
       "    <tr>\n",
       "      <th>27516</th>\n",
       "      <td>2017.0</td>\n",
       "      <td>1973.0</td>\n",
       "      <td>insa</td>\n",
       "      <td>2016-08-02</td>\n",
       "      <td>afd</td>\n",
       "      <td>13.0</td>\n",
       "      <td>2017-09-24</td>\n",
       "      <td>418.0</td>\n",
       "    </tr>\n",
       "  </tbody>\n",
       "</table>\n",
       "</div>"
      ],
      "text/plain": [
       "       election  sample_size institute        date party  support  \\\n",
       "26430    2017.0       1993.0      insa  2014-06-16   afd      6.0   \n",
       "26432    2017.0       1997.0      insa  2015-03-11   afd      7.5   \n",
       "26960    2017.0       1000.0      insa  2017-02-02   afd     12.0   \n",
       "27482    2017.0       1873.0      insa  2016-03-29   afd     13.0   \n",
       "27516    2017.0       1973.0      insa  2016-08-02   afd     13.0   \n",
       "\n",
       "      election_date  days_to_election  \n",
       "26430    2017-09-24            1196.0  \n",
       "26432    2017-09-24             928.0  \n",
       "26960    2017-09-24             234.0  \n",
       "27482    2017-09-24             544.0  \n",
       "27516    2017-09-24             418.0  "
      ]
     },
     "execution_count": 41,
     "metadata": {},
     "output_type": "execute_result"
    }
   ],
   "source": [
    "election2017insa_afd = election2017insa.loc[election2017insa['party'] == 'afd']\n",
    "election2017insa_afd.head()"
   ]
  },
  {
   "cell_type": "code",
   "execution_count": 48,
   "metadata": {},
   "outputs": [
    {
     "data": {
      "text/plain": [
       "203"
      ]
     },
     "execution_count": 48,
     "metadata": {},
     "output_type": "execute_result"
    }
   ],
   "source": [
    "test_insaafd = election2017insa_afd.sort_values(['days_to_election'], ascending=[False])\n",
    "test_insaafd['date'].nunique()"
   ]
  },
  {
   "cell_type": "code",
   "execution_count": 43,
   "metadata": {},
   "outputs": [
    {
     "data": {
      "image/png": "[encoded data removed]",
      "text/plain": [
       "<matplotlib.figure.Figure at 0x11bd84358>"
      ]
     },
     "metadata": {
      "needs_background": "light"
     },
     "output_type": "display_data"
    }
   ],
   "source": [
    "import matplotlib.pyplot as plt\n",
    "import seaborn as sns\n",
    "%matplotlib inline\n",
    "plot_test_insaafd = sns.lineplot(x=\"days_to_election\", y=\"support\", data=test_insaafd)"
   ]
  },
  {
   "cell_type": "code",
   "execution_count": 44,
   "metadata": {},
   "outputs": [
    {
     "data": {
      "image/png": "[encoded data removed]",
      "text/plain": [
       "<matplotlib.figure.Figure at 0x11c053ef0>"
      ]
     },
     "metadata": {
      "needs_background": "light"
     },
     "output_type": "display_data"
    }
   ],
   "source": [
    "test_insaspd = election2017insa_spd.sort_values(['days_to_election'], ascending=[False])\n",
    "plot_test_insaspd = sns.lineplot(x=\"days_to_election\", y=\"support\", data=test_insaspd)"
   ]
  },
  {
   "cell_type": "code",
   "execution_count": 51,
   "metadata": {},
   "outputs": [
    {
     "data": {
      "image/png": "[encoded data removed]",
      "text/plain": [
       "<matplotlib.figure.Figure at 0x11b167470>"
      ]
     },
     "metadata": {
      "needs_background": "light"
     },
     "output_type": "display_data"
    }
   ],
   "source": [
    "plot_test_allen_spd = sns.lineplot(x=\"days_to_election\", y=\"support\", data=election2017_spd)"
   ]
  },
  {
   "cell_type": "code",
   "execution_count": 52,
   "metadata": {},
   "outputs": [
    {
     "data": {
      "image/png": "[encoded data removed]",
      "text/plain": [
       "<matplotlib.figure.Figure at 0x1058a3e48>"
      ]
     },
     "metadata": {
      "needs_background": "light"
     },
     "output_type": "display_data"
    }
   ],
   "source": [
    "election2017allen = polls.loc[(polls['institute'] == 'allensbach') & (polls['election'] == 2017)]\n",
    "election2017allen_afd = election2017allen.loc[election2017allen['party'] == 'afd']\n",
    "plot_test_allen_afd = sns.lineplot(x=\"days_to_election\", y=\"support\", data=election2017allen_afd)"
   ]
  },
  {
   "cell_type": "code",
   "execution_count": null,
   "metadata": {},
   "outputs": [],
   "source": []
  }
 ],
 "metadata": {
  "kernelspec": {
   "display_name": "Python 3",
   "language": "python",
   "name": "python3"
  },
  "language_info": {
   "codemirror_mode": {
    "name": "ipython",
    "version": 3
   },
   "file_extension": ".py",
   "mimetype": "text/x-python",
   "name": "python",
   "nbconvert_exporter": "python",
   "pygments_lexer": "ipython3",
   "version": "3.6.8"
  }
 },
 "nbformat": 4,
 "nbformat_minor": 2
}
