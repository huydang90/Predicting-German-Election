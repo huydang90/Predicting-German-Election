{
 "cells": [
  {
   "cell_type": "code",
   "execution_count": 17,
   "metadata": {},
   "outputs": [],
   "source": [
    "#import libraries\n",
    "\n",
    "import pyreadr\n",
    "import pandas as pd\n",
    "import numpy as np\n",
    "import matplotlib.pyplot as plt\n",
    "import seaborn as sns\n",
    "%matplotlib inline\n",
    "from matplotlib.dates import DateFormatter\n",
    "import matplotlib.dates as mdates"
   ]
  },
  {
   "cell_type": "code",
   "execution_count": 18,
   "metadata": {},
   "outputs": [
    {
     "data": {
      "text/html": [
       "<div>\n",
       "<style scoped>\n",
       "    .dataframe tbody tr th:only-of-type {\n",
       "        vertical-align: middle;\n",
       "    }\n",
       "\n",
       "    .dataframe tbody tr th {\n",
       "        vertical-align: top;\n",
       "    }\n",
       "\n",
       "    .dataframe thead th {\n",
       "        text-align: right;\n",
       "    }\n",
       "</style>\n",
       "<table border=\"1\" class=\"dataframe\">\n",
       "  <thead>\n",
       "    <tr style=\"text-align: right;\">\n",
       "      <th></th>\n",
       "      <th>election</th>\n",
       "      <th>sample_size</th>\n",
       "      <th>institute</th>\n",
       "      <th>party</th>\n",
       "      <th>support</th>\n",
       "      <th>election_date</th>\n",
       "      <th>days_to_election</th>\n",
       "    </tr>\n",
       "    <tr>\n",
       "      <th>date</th>\n",
       "      <th></th>\n",
       "      <th></th>\n",
       "      <th></th>\n",
       "      <th></th>\n",
       "      <th></th>\n",
       "      <th></th>\n",
       "      <th></th>\n",
       "    </tr>\n",
       "  </thead>\n",
       "  <tbody>\n",
       "    <tr>\n",
       "      <th>1951-04-15</th>\n",
       "      <td>1953.0</td>\n",
       "      <td>NaN</td>\n",
       "      <td>allensbach</td>\n",
       "      <td>oth</td>\n",
       "      <td>24.0</td>\n",
       "      <td>1953-09-06</td>\n",
       "      <td>875.0</td>\n",
       "    </tr>\n",
       "    <tr>\n",
       "      <th>1950-11-15</th>\n",
       "      <td>1953.0</td>\n",
       "      <td>NaN</td>\n",
       "      <td>allensbach</td>\n",
       "      <td>gru</td>\n",
       "      <td>NaN</td>\n",
       "      <td>1953-09-06</td>\n",
       "      <td>1026.0</td>\n",
       "    </tr>\n",
       "    <tr>\n",
       "      <th>1952-12-15</th>\n",
       "      <td>1953.0</td>\n",
       "      <td>NaN</td>\n",
       "      <td>allensbach</td>\n",
       "      <td>spd</td>\n",
       "      <td>35.0</td>\n",
       "      <td>1953-09-06</td>\n",
       "      <td>265.0</td>\n",
       "    </tr>\n",
       "    <tr>\n",
       "      <th>1953-02-15</th>\n",
       "      <td>1953.0</td>\n",
       "      <td>NaN</td>\n",
       "      <td>allensbach</td>\n",
       "      <td>spd</td>\n",
       "      <td>33.0</td>\n",
       "      <td>1953-09-06</td>\n",
       "      <td>203.0</td>\n",
       "    </tr>\n",
       "    <tr>\n",
       "      <th>1951-03-15</th>\n",
       "      <td>1953.0</td>\n",
       "      <td>NaN</td>\n",
       "      <td>allensbach</td>\n",
       "      <td>gru</td>\n",
       "      <td>NaN</td>\n",
       "      <td>1953-09-06</td>\n",
       "      <td>906.0</td>\n",
       "    </tr>\n",
       "  </tbody>\n",
       "</table>\n",
       "</div>"
      ],
      "text/plain": [
       "            election  sample_size   institute party  support election_date  \\\n",
       "date                                                                         \n",
       "1951-04-15    1953.0          NaN  allensbach   oth     24.0    1953-09-06   \n",
       "1950-11-15    1953.0          NaN  allensbach   gru      NaN    1953-09-06   \n",
       "1952-12-15    1953.0          NaN  allensbach   spd     35.0    1953-09-06   \n",
       "1953-02-15    1953.0          NaN  allensbach   spd     33.0    1953-09-06   \n",
       "1951-03-15    1953.0          NaN  allensbach   gru      NaN    1953-09-06   \n",
       "\n",
       "            days_to_election  \n",
       "date                          \n",
       "1951-04-15             875.0  \n",
       "1950-11-15            1026.0  \n",
       "1952-12-15             265.0  \n",
       "1953-02-15             203.0  \n",
       "1951-03-15             906.0  "
      ]
     },
     "execution_count": 18,
     "metadata": {},
     "output_type": "execute_result"
    }
   ],
   "source": [
    "#load data\n",
    "\n",
    "polls = pd.read_csv(\"polls_btw.csv\", index_col='date', parse_dates=True)\n",
    "polls.head()"
   ]
  },
  {
   "cell_type": "markdown",
   "metadata": {},
   "source": [
    "## Exploratory Data Analysis"
   ]
  },
  {
   "cell_type": "code",
   "execution_count": 212,
   "metadata": {},
   "outputs": [
    {
     "data": {
      "text/html": [
       "<div>\n",
       "<style scoped>\n",
       "    .dataframe tbody tr th:only-of-type {\n",
       "        vertical-align: middle;\n",
       "    }\n",
       "\n",
       "    .dataframe tbody tr th {\n",
       "        vertical-align: top;\n",
       "    }\n",
       "\n",
       "    .dataframe thead th {\n",
       "        text-align: right;\n",
       "    }\n",
       "</style>\n",
       "<table border=\"1\" class=\"dataframe\">\n",
       "  <thead>\n",
       "    <tr style=\"text-align: right;\">\n",
       "      <th></th>\n",
       "      <th>election</th>\n",
       "      <th>sample_size</th>\n",
       "      <th>institute</th>\n",
       "      <th>party</th>\n",
       "      <th>support</th>\n",
       "      <th>election_date</th>\n",
       "      <th>days_to_election</th>\n",
       "    </tr>\n",
       "    <tr>\n",
       "      <th>date</th>\n",
       "      <th></th>\n",
       "      <th></th>\n",
       "      <th></th>\n",
       "      <th></th>\n",
       "      <th></th>\n",
       "      <th></th>\n",
       "      <th></th>\n",
       "    </tr>\n",
       "  </thead>\n",
       "  <tbody>\n",
       "    <tr>\n",
       "      <th>1951-04-15</th>\n",
       "      <td>1953.0</td>\n",
       "      <td>1000.0</td>\n",
       "      <td>allensbach</td>\n",
       "      <td>oth</td>\n",
       "      <td>24.0</td>\n",
       "      <td>1953-09-06</td>\n",
       "      <td>875.0</td>\n",
       "    </tr>\n",
       "    <tr>\n",
       "      <th>1950-11-15</th>\n",
       "      <td>1953.0</td>\n",
       "      <td>1000.0</td>\n",
       "      <td>allensbach</td>\n",
       "      <td>gru</td>\n",
       "      <td>NaN</td>\n",
       "      <td>1953-09-06</td>\n",
       "      <td>1026.0</td>\n",
       "    </tr>\n",
       "    <tr>\n",
       "      <th>1952-12-15</th>\n",
       "      <td>1953.0</td>\n",
       "      <td>1000.0</td>\n",
       "      <td>allensbach</td>\n",
       "      <td>spd</td>\n",
       "      <td>35.0</td>\n",
       "      <td>1953-09-06</td>\n",
       "      <td>265.0</td>\n",
       "    </tr>\n",
       "    <tr>\n",
       "      <th>1953-02-15</th>\n",
       "      <td>1953.0</td>\n",
       "      <td>1000.0</td>\n",
       "      <td>allensbach</td>\n",
       "      <td>spd</td>\n",
       "      <td>33.0</td>\n",
       "      <td>1953-09-06</td>\n",
       "      <td>203.0</td>\n",
       "    </tr>\n",
       "    <tr>\n",
       "      <th>1951-03-15</th>\n",
       "      <td>1953.0</td>\n",
       "      <td>1000.0</td>\n",
       "      <td>allensbach</td>\n",
       "      <td>gru</td>\n",
       "      <td>NaN</td>\n",
       "      <td>1953-09-06</td>\n",
       "      <td>906.0</td>\n",
       "    </tr>\n",
       "  </tbody>\n",
       "</table>\n",
       "</div>"
      ],
      "text/plain": [
       "            election  sample_size   institute party  support election_date  \\\n",
       "date                                                                         \n",
       "1951-04-15    1953.0       1000.0  allensbach   oth     24.0    1953-09-06   \n",
       "1950-11-15    1953.0       1000.0  allensbach   gru      NaN    1953-09-06   \n",
       "1952-12-15    1953.0       1000.0  allensbach   spd     35.0    1953-09-06   \n",
       "1953-02-15    1953.0       1000.0  allensbach   spd     33.0    1953-09-06   \n",
       "1951-03-15    1953.0       1000.0  allensbach   gru      NaN    1953-09-06   \n",
       "\n",
       "            days_to_election  \n",
       "date                          \n",
       "1951-04-15             875.0  \n",
       "1950-11-15            1026.0  \n",
       "1952-12-15             265.0  \n",
       "1953-02-15             203.0  \n",
       "1951-03-15             906.0  "
      ]
     },
     "execution_count": 212,
     "metadata": {},
     "output_type": "execute_result"
    }
   ],
   "source": [
    "#Impute sample_size with 1000 for missing values\n",
    "\n",
    "polls[\"sample_size\"].fillna(1000, inplace=True)\n",
    "polls.head()"
   ]
  },
  {
   "cell_type": "code",
   "execution_count": 213,
   "metadata": {},
   "outputs": [
    {
     "data": {
      "text/plain": [
       "array(['allensbach', 'fgruppe_wahlen', 'forsa', 'emnid',\n",
       "       'infratest_dimap', 'gms', 'insa'], dtype=object)"
      ]
     },
     "execution_count": 213,
     "metadata": {},
     "output_type": "execute_result"
    }
   ],
   "source": [
    "#see how many unique polling institutions there are\n",
    "\n",
    "polls['institute'].unique()"
   ]
  },
  {
   "cell_type": "code",
   "execution_count": 214,
   "metadata": {},
   "outputs": [
    {
     "data": {
      "text/plain": [
       "array(['oth', 'gru', 'spd', 'cdu', 'lin', 'fdp', 'afd'], dtype=object)"
      ]
     },
     "execution_count": 214,
     "metadata": {},
     "output_type": "execute_result"
    }
   ],
   "source": [
    "#see how many unique parties there are in the polls\n",
    "\n",
    "polls['party'].unique()"
   ]
  },
  {
   "cell_type": "code",
   "execution_count": 215,
   "metadata": {},
   "outputs": [],
   "source": [
    "#create data frame with polls from each institutions in 2017 \n",
    "\n",
    "election2017_allen = polls.loc[(polls['institute'] == 'allensbach') & (polls['election'] == 2017)]\n",
    "election2017_insa = polls.loc[(polls['institute'] == 'insa') & (polls['election'] == 2017)]\n",
    "election2017_forsa = polls.loc[(polls['institute'] == 'forsa') & (polls['election'] == 2017)]\n",
    "election2017_emnid = polls.loc[(polls['institute'] == 'emnid') & (polls['election'] == 2017)]\n",
    "election2017_gms = polls.loc[(polls['institute'] == 'gms') & (polls['election'] == 2017)]\n",
    "election2017_infra = polls.loc[(polls['institute'] == 'infratest_dimap') & (polls['election'] == 2017)]\n",
    "election2017_fgruppe = polls.loc[(polls['institute'] == 'fgruppe_wahlen') & (polls['election'] == 2017)]"
   ]
  },
  {
   "cell_type": "code",
   "execution_count": 24,
   "metadata": {},
   "outputs": [
    {
     "data": {
      "text/html": [
       "<div>\n",
       "<style scoped>\n",
       "    .dataframe tbody tr th:only-of-type {\n",
       "        vertical-align: middle;\n",
       "    }\n",
       "\n",
       "    .dataframe tbody tr th {\n",
       "        vertical-align: top;\n",
       "    }\n",
       "\n",
       "    .dataframe thead th {\n",
       "        text-align: right;\n",
       "    }\n",
       "</style>\n",
       "<table border=\"1\" class=\"dataframe\">\n",
       "  <thead>\n",
       "    <tr style=\"text-align: right;\">\n",
       "      <th></th>\n",
       "      <th>election</th>\n",
       "      <th>sample_size</th>\n",
       "      <th>institute</th>\n",
       "      <th>party</th>\n",
       "      <th>support</th>\n",
       "      <th>election_date</th>\n",
       "      <th>days_to_election</th>\n",
       "    </tr>\n",
       "    <tr>\n",
       "      <th>date</th>\n",
       "      <th></th>\n",
       "      <th></th>\n",
       "      <th></th>\n",
       "      <th></th>\n",
       "      <th></th>\n",
       "      <th></th>\n",
       "      <th></th>\n",
       "    </tr>\n",
       "  </thead>\n",
       "  <tbody>\n",
       "    <tr>\n",
       "      <th>2015-06-18</th>\n",
       "      <td>2017.0</td>\n",
       "      <td>1400.0</td>\n",
       "      <td>allensbach</td>\n",
       "      <td>spd</td>\n",
       "      <td>26.0</td>\n",
       "      <td>2017-09-24</td>\n",
       "      <td>829.0</td>\n",
       "    </tr>\n",
       "    <tr>\n",
       "      <th>2016-08-24</th>\n",
       "      <td>2017.0</td>\n",
       "      <td>1496.0</td>\n",
       "      <td>allensbach</td>\n",
       "      <td>spd</td>\n",
       "      <td>23.0</td>\n",
       "      <td>2017-09-24</td>\n",
       "      <td>396.0</td>\n",
       "    </tr>\n",
       "    <tr>\n",
       "      <th>2015-08-19</th>\n",
       "      <td>2017.0</td>\n",
       "      <td>1400.0</td>\n",
       "      <td>allensbach</td>\n",
       "      <td>spd</td>\n",
       "      <td>26.0</td>\n",
       "      <td>2017-09-24</td>\n",
       "      <td>767.0</td>\n",
       "    </tr>\n",
       "    <tr>\n",
       "      <th>2015-02-19</th>\n",
       "      <td>2017.0</td>\n",
       "      <td>1400.0</td>\n",
       "      <td>allensbach</td>\n",
       "      <td>spd</td>\n",
       "      <td>25.5</td>\n",
       "      <td>2017-09-24</td>\n",
       "      <td>948.0</td>\n",
       "    </tr>\n",
       "    <tr>\n",
       "      <th>2017-07-18</th>\n",
       "      <td>2017.0</td>\n",
       "      <td>1403.0</td>\n",
       "      <td>allensbach</td>\n",
       "      <td>spd</td>\n",
       "      <td>25.0</td>\n",
       "      <td>2017-09-24</td>\n",
       "      <td>68.0</td>\n",
       "    </tr>\n",
       "  </tbody>\n",
       "</table>\n",
       "</div>"
      ],
      "text/plain": [
       "            election  sample_size   institute party  support election_date  \\\n",
       "date                                                                         \n",
       "2015-06-18    2017.0       1400.0  allensbach   spd     26.0    2017-09-24   \n",
       "2016-08-24    2017.0       1496.0  allensbach   spd     23.0    2017-09-24   \n",
       "2015-08-19    2017.0       1400.0  allensbach   spd     26.0    2017-09-24   \n",
       "2015-02-19    2017.0       1400.0  allensbach   spd     25.5    2017-09-24   \n",
       "2017-07-18    2017.0       1403.0  allensbach   spd     25.0    2017-09-24   \n",
       "\n",
       "            days_to_election  \n",
       "date                          \n",
       "2015-06-18             829.0  \n",
       "2016-08-24             396.0  \n",
       "2015-08-19             767.0  \n",
       "2015-02-19             948.0  \n",
       "2017-07-18              68.0  "
      ]
     },
     "execution_count": 24,
     "metadata": {},
     "output_type": "execute_result"
    }
   ],
   "source": [
    "#check out institution allensbach: \n",
    "\n",
    "election2017_allen.head()"
   ]
  },
  {
   "cell_type": "code",
   "execution_count": 47,
   "metadata": {},
   "outputs": [],
   "source": [
    "#create allensbach's polls for AFD in 2017 election:\n",
    "\n",
    "election2017_allen_afd = election2017_allen.loc[election2017_allen['party'] == 'afd']\n",
    "#plot_allen_afd = sns.lineplot(x=\"days_to_election\", y=\"support\", data=election2017allen_afd)"
   ]
  },
  {
   "cell_type": "code",
   "execution_count": 48,
   "metadata": {},
   "outputs": [
    {
     "data": {
      "image/png": "[encoded data removed]",
      "text/plain": [
       "<matplotlib.figure.Figure at 0x11534b048>"
      ]
     },
     "metadata": {
      "needs_background": "light"
     },
     "output_type": "display_data"
    },
    {
     "data": {
      "text/plain": [
       "<matplotlib.figure.Figure at 0x1156704a8>"
      ]
     },
     "metadata": {},
     "output_type": "display_data"
    }
   ],
   "source": [
    "#plot allensbach's polls for AFD in 2017 election:\n",
    "#election2017allen_afd['date'] = election2017allen_afd.index\n",
    "#melted_df = pd.melt(election2017allen_afd, id_vars='date', value_name='support')\n",
    "#plot_allen_afd = sns.tsplot(melted_df, time='date', value='support')\n",
    "election2017_allen_afd.support['2013-10-23':'2017-09-19'].plot()\n",
    "plt.show()\n",
    "plt.clf()"
   ]
  },
  {
   "cell_type": "code",
   "execution_count": 49,
   "metadata": {},
   "outputs": [],
   "source": [
    "upsampled_election2017_allen_afd = election2017_allen_afd['support'].resample('D').first()"
   ]
  },
  {
   "cell_type": "code",
   "execution_count": 174,
   "metadata": {},
   "outputs": [
    {
     "name": "stdout",
     "output_type": "stream",
     "text": [
      "date\n",
      "2013-10-23    5.5\n",
      "2013-10-24    NaN\n",
      "2013-10-25    NaN\n",
      "2013-10-26    NaN\n",
      "2013-10-27    NaN\n",
      "2013-10-28    NaN\n",
      "2013-10-29    NaN\n",
      "2013-10-30    NaN\n",
      "2013-10-31    NaN\n",
      "2013-11-01    NaN\n",
      "2013-11-02    NaN\n",
      "2013-11-03    NaN\n",
      "2013-11-04    NaN\n",
      "2013-11-05    NaN\n",
      "2013-11-06    NaN\n",
      "2013-11-07    NaN\n",
      "2013-11-08    NaN\n",
      "2013-11-09    NaN\n",
      "2013-11-10    NaN\n",
      "2013-11-11    NaN\n",
      "2013-11-12    NaN\n",
      "2013-11-13    NaN\n",
      "2013-11-14    NaN\n",
      "2013-11-15    NaN\n",
      "2013-11-16    NaN\n",
      "2013-11-17    NaN\n",
      "2013-11-18    NaN\n",
      "2013-11-19    NaN\n",
      "2013-11-20    NaN\n",
      "2013-11-21    NaN\n",
      "2013-11-22    NaN\n",
      "2013-11-23    NaN\n",
      "Freq: D, Name: support, dtype: float64\n"
     ]
    }
   ],
   "source": [
    "print(upsampled_election2017_allen_afd.head(32))"
   ]
  },
  {
   "cell_type": "code",
   "execution_count": 51,
   "metadata": {},
   "outputs": [
    {
     "data": {
      "text/plain": [
       "date\n",
       "2013-10-23    5.500000\n",
       "2013-10-24    5.485714\n",
       "2013-10-25    5.471429\n",
       "2013-10-26    5.457143\n",
       "2013-10-27    5.442857\n",
       "Freq: D, Name: support, dtype: float64"
      ]
     },
     "execution_count": 51,
     "metadata": {},
     "output_type": "execute_result"
    }
   ],
   "source": [
    "interpolated_election2017_allen_afd = upsampled_election2017_allen_afd.interpolate(how='linear')\n",
    "interpolated_election2017_allen_afd.head()"
   ]
  },
  {
   "cell_type": "code",
   "execution_count": 52,
   "metadata": {},
   "outputs": [
    {
     "data": {
      "image/png": "[encoded data removed]",
      "text/plain": [
       "<matplotlib.figure.Figure at 0x1154f82b0>"
      ]
     },
     "metadata": {
      "needs_background": "light"
     },
     "output_type": "display_data"
    },
    {
     "data": {
      "text/plain": [
       "<matplotlib.figure.Figure at 0x1154f8588>"
      ]
     },
     "metadata": {},
     "output_type": "display_data"
    }
   ],
   "source": [
    "interpolated_election2017_allen_afd.plot()\n",
    "plt.show()\n",
    "plt.clf()"
   ]
  },
  {
   "cell_type": "markdown",
   "metadata": {},
   "source": [
    "## Data transformation of time-series \n",
    "\n"
   ]
  },
  {
   "cell_type": "markdown",
   "metadata": {},
   "source": [
    "#### AFD"
   ]
  },
  {
   "cell_type": "code",
   "execution_count": 194,
   "metadata": {},
   "outputs": [],
   "source": [
    "#Create dataframe for AFD voteshares polls by each of the 7 institutions\n",
    "\n",
    "election2017_allen_afd = election2017_allen.loc[election2017_allen['party'] == 'afd']\n",
    "election2017_insa_afd = election2017_insa.loc[election2017_insa['party'] == 'afd']\n",
    "election2017_forsa_afd = election2017_forsa.loc[election2017_forsa['party'] == 'afd']\n",
    "election2017_emnid_afd = election2017_emnid.loc[election2017_emnid['party'] == 'afd']\n",
    "election2017_gms_afd = election2017_gms.loc[election2017_gms['party'] == 'afd']\n",
    "election2017_infra_afd = election2017_infra.loc[election2017_infra['party'] == 'afd']\n",
    "election2017_fgruppe_afd = election2017_fgruppe.loc[election2017_fgruppe['party'] == 'afd']"
   ]
  },
  {
   "cell_type": "code",
   "execution_count": 195,
   "metadata": {},
   "outputs": [
    {
     "data": {
      "text/plain": [
       "2017-09-17    11.0\n",
       "2017-09-18    11.0\n",
       "2017-09-19    11.0\n",
       "2017-09-20    11.0\n",
       "2017-09-21    11.0\n",
       "Freq: D, Name: support, dtype: float64"
      ]
     },
     "execution_count": 195,
     "metadata": {},
     "output_type": "execute_result"
    }
   ],
   "source": [
    "#Create upsampled and interpolated data for Allen in AFD voteshares\n",
    "\n",
    "t_index_final = pd.date_range(start='2013-10-23', end='2017-09-21', freq='D')\n",
    "t_index_insa = pd.date_range(start='2013-10-10', end='2017-09-21', freq='D')\n",
    "\n",
    "upsampled_election2017_allen_afd = election2017_allen_afd['support'].resample('D').first().reindex(t_index1)\n",
    "interpolated_election2017_allen_afd = upsampled_election2017_allen_afd.interpolate(how='linear')\n",
    "interpolated_election2017_allen_afd = interpolated_election2017_allen_afd.reindex(t_index_final)\n",
    "interpolated_election2017_insa_afd.tail()"
   ]
  },
  {
   "cell_type": "code",
   "execution_count": 196,
   "metadata": {},
   "outputs": [
    {
     "data": {
      "text/plain": [
       "2017-09-17    11.0\n",
       "2017-09-18    11.0\n",
       "2017-09-19    11.0\n",
       "2017-09-20    11.0\n",
       "2017-09-21    11.0\n",
       "Freq: D, Name: support, dtype: float64"
      ]
     },
     "execution_count": 196,
     "metadata": {},
     "output_type": "execute_result"
    }
   ],
   "source": [
    "#Create upsampled and interpolated data for Insa in AFD voteshares\n",
    "\n",
    "t_index_final = pd.date_range(start='2013-10-23', end='2017-09-21', freq='D')\n",
    "t_index_insa = pd.date_range(start='2013-10-10', end='2017-09-21', freq='D')\n",
    "\n",
    "upsampled_election2017_insa_afd = election2017_insa_afd['support'].resample('D').first().reindex(t_index1)\n",
    "interpolated_election2017_insa_afd = upsampled_election2017_insa_afd.interpolate(how='linear')\n",
    "interpolated_election2017_insa_afd = interpolated_election2017_insa_afd.reindex(t_index_final)\n",
    "interpolated_election2017_insa_afd.tail()"
   ]
  },
  {
   "cell_type": "code",
   "execution_count": 197,
   "metadata": {},
   "outputs": [
    {
     "data": {
      "text/plain": [
       "2017-09-17    9.0\n",
       "2017-09-18    9.0\n",
       "2017-09-19    9.0\n",
       "2017-09-20    9.0\n",
       "2017-09-21    9.0\n",
       "Freq: D, Name: support, dtype: float64"
      ]
     },
     "execution_count": 197,
     "metadata": {},
     "output_type": "execute_result"
    }
   ],
   "source": [
    "#Create upsampled and interpolated data for Forsa in AFD voteshares\n",
    "\n",
    "t_index_forsa = pd.date_range(start='2013-10-01', end='2017-09-21', freq='D')\n",
    "\n",
    "upsampled_election2017_forsa_afd = election2017_forsa_afd['support'].resample('D').first().reindex(t_index1)\n",
    "interpolated_election2017_forsa_afd = upsampled_election2017_forsa_afd.interpolate(how='linear')\n",
    "interpolated_election2017_forsa_afd = interpolated_election2017_forsa_afd.reindex(t_index_final)\n",
    "interpolated_election2017_forsa_afd.tail()"
   ]
  },
  {
   "cell_type": "code",
   "execution_count": 198,
   "metadata": {},
   "outputs": [
    {
     "data": {
      "text/plain": [
       "2017-09-17    11.0\n",
       "2017-09-18    11.0\n",
       "2017-09-19    11.0\n",
       "2017-09-20    11.0\n",
       "2017-09-21    11.0\n",
       "Freq: D, Name: support, dtype: float64"
      ]
     },
     "execution_count": 198,
     "metadata": {},
     "output_type": "execute_result"
    }
   ],
   "source": [
    "#Create upsampled and interpolated data for Emnid in AFD voteshares\n",
    "\n",
    "t_index_emnid = pd.date_range(start='2013-09-29', end='2017-09-21', freq='D')\n",
    "\n",
    "upsampled_election2017_emnid_afd = election2017_emnid_afd['support'].resample('D').first().reindex(t_index1)\n",
    "interpolated_election2017_emnid_afd = upsampled_election2017_emnid_afd.interpolate(how='linear')\n",
    "interpolated_election2017_emnid_afd = interpolated_election2017_emnid_afd.reindex(t_index_final)\n",
    "interpolated_election2017_emnid_afd.tail()"
   ]
  },
  {
   "cell_type": "code",
   "execution_count": 199,
   "metadata": {},
   "outputs": [
    {
     "data": {
      "text/plain": [
       "2017-09-17     9.428571\n",
       "2017-09-18     9.571429\n",
       "2017-09-19     9.714286\n",
       "2017-09-20     9.857143\n",
       "2017-09-21    10.000000\n",
       "Freq: D, Name: support, dtype: float64"
      ]
     },
     "execution_count": 199,
     "metadata": {},
     "output_type": "execute_result"
    }
   ],
   "source": [
    "#Create upsampled and interpolated data for GMS in AFD voteshares\n",
    "\n",
    "t_index_gms = pd.date_range(start='2013-10-15', end='2017-09-21', freq='D')\n",
    "\n",
    "upsampled_election2017_gms_afd = election2017_gms_afd['support'].resample('D').first().reindex(t_index1)\n",
    "interpolated_election2017_gms_afd = upsampled_election2017_gms_afd.interpolate(how='linear')\n",
    "interpolated_election2017_gms_afd = interpolated_election2017_gms_afd.reindex(t_index_final)\n",
    "interpolated_election2017_gms_afd.tail()"
   ]
  },
  {
   "cell_type": "code",
   "execution_count": 200,
   "metadata": {},
   "outputs": [
    {
     "data": {
      "text/plain": [
       "2017-09-17     9.428571\n",
       "2017-09-18     9.571429\n",
       "2017-09-19     9.714286\n",
       "2017-09-20     9.857143\n",
       "2017-09-21    10.000000\n",
       "Freq: D, Name: support, dtype: float64"
      ]
     },
     "execution_count": 200,
     "metadata": {},
     "output_type": "execute_result"
    }
   ],
   "source": [
    "#Create upsampled and interpolated data for Infra in AFD voteshares\n",
    "\n",
    "t_index_infra = pd.date_range(start='2013-10-10', end='2017-09-21', freq='D')\n",
    "\n",
    "upsampled_election2017_infra_afd = election2017_infra_afd['support'].resample('D').first().reindex(t_index1)\n",
    "interpolated_election2017_infra_afd = upsampled_election2017_infra_afd.interpolate(how='linear')\n",
    "interpolated_election2017_infra_afd = interpolated_election2017_infra_afd.reindex(t_index_final)\n",
    "interpolated_election2017_gms_afd.tail()"
   ]
  },
  {
   "cell_type": "code",
   "execution_count": 201,
   "metadata": {},
   "outputs": [
    {
     "data": {
      "text/plain": [
       "2017-09-17    10.333333\n",
       "2017-09-18    10.500000\n",
       "2017-09-19    10.666667\n",
       "2017-09-20    10.833333\n",
       "2017-09-21    11.000000\n",
       "Freq: D, Name: support, dtype: float64"
      ]
     },
     "execution_count": 201,
     "metadata": {},
     "output_type": "execute_result"
    }
   ],
   "source": [
    "#Create upsampled and interpolated data for Fgruppe in AFD voteshares\n",
    "\n",
    "t_index_fgruppe = pd.date_range(start='2013-09-27', end='2017-09-21', freq='D')\n",
    "\n",
    "upsampled_election2017_fgruppe_afd = election2017_fgruppe_afd['support'].resample('D').first().reindex(t_index1)\n",
    "interpolated_election2017_fgruppe_afd = upsampled_election2017_fgruppe_afd.interpolate(how='linear')\n",
    "interpolated_election2017_fgruppe_afd = interpolated_election2017_fgruppe_afd.reindex(t_index_final)\n",
    "interpolated_election2017_fgruppe_afd.tail()"
   ]
  },
  {
   "cell_type": "code",
   "execution_count": 202,
   "metadata": {},
   "outputs": [
    {
     "data": {
      "image/png": "[encoded data removed]",
      "text/plain": [
       "<matplotlib.figure.Figure at 0x114e9e240>"
      ]
     },
     "metadata": {
      "needs_background": "light"
     },
     "output_type": "display_data"
    },
    {
     "data": {
      "text/plain": [
       "<matplotlib.figure.Figure at 0x11564f128>"
      ]
     },
     "metadata": {},
     "output_type": "display_data"
    }
   ],
   "source": [
    "interpolated_election2017_allen_afd.plot()\n",
    "interpolated_election2017_insa_afd.plot()\n",
    "interpolated_election2017_forsa_afd.plot()\n",
    "interpolated_election2017_emnid_afd.plot()\n",
    "interpolated_election2017_gms_afd.plot()\n",
    "interpolated_election2017_infra_afd.plot()\n",
    "interpolated_election2017_fgruppe_afd.plot()\n",
    "plt.xlabel(\"Date\")\n",
    "plt.ylabel(\"Voteshares\")\n",
    "plt.title(\"AFD voteshares from polls for 2017 election\")\n",
    "plt.show()\n",
    "plt.clf()"
   ]
  },
  {
   "cell_type": "code",
   "execution_count": 210,
   "metadata": {},
   "outputs": [
    {
     "data": {
      "text/html": [
       "<div>\n",
       "<style scoped>\n",
       "    .dataframe tbody tr th:only-of-type {\n",
       "        vertical-align: middle;\n",
       "    }\n",
       "\n",
       "    .dataframe tbody tr th {\n",
       "        vertical-align: top;\n",
       "    }\n",
       "\n",
       "    .dataframe thead th {\n",
       "        text-align: right;\n",
       "    }\n",
       "</style>\n",
       "<table border=\"1\" class=\"dataframe\">\n",
       "  <thead>\n",
       "    <tr style=\"text-align: right;\">\n",
       "      <th></th>\n",
       "      <th>2013-10-23 00:00:00</th>\n",
       "      <th>2013-10-24 00:00:00</th>\n",
       "      <th>2013-10-25 00:00:00</th>\n",
       "      <th>2013-10-26 00:00:00</th>\n",
       "      <th>2013-10-27 00:00:00</th>\n",
       "      <th>2013-10-28 00:00:00</th>\n",
       "      <th>2013-10-29 00:00:00</th>\n",
       "      <th>2013-10-30 00:00:00</th>\n",
       "      <th>2013-10-31 00:00:00</th>\n",
       "      <th>2013-11-01 00:00:00</th>\n",
       "      <th>...</th>\n",
       "      <th>2017-09-12 00:00:00</th>\n",
       "      <th>2017-09-13 00:00:00</th>\n",
       "      <th>2017-09-14 00:00:00</th>\n",
       "      <th>2017-09-15 00:00:00</th>\n",
       "      <th>2017-09-16 00:00:00</th>\n",
       "      <th>2017-09-17 00:00:00</th>\n",
       "      <th>2017-09-18 00:00:00</th>\n",
       "      <th>2017-09-19 00:00:00</th>\n",
       "      <th>2017-09-20 00:00:00</th>\n",
       "      <th>2017-09-21 00:00:00</th>\n",
       "    </tr>\n",
       "  </thead>\n",
       "  <tbody>\n",
       "    <tr>\n",
       "      <th>support</th>\n",
       "      <td>5.500000</td>\n",
       "      <td>5.485714</td>\n",
       "      <td>5.471429</td>\n",
       "      <td>5.457143</td>\n",
       "      <td>5.442857</td>\n",
       "      <td>5.428571</td>\n",
       "      <td>5.414286</td>\n",
       "      <td>5.400000</td>\n",
       "      <td>5.385714</td>\n",
       "      <td>5.371429</td>\n",
       "      <td>...</td>\n",
       "      <td>8.923077</td>\n",
       "      <td>9.076923</td>\n",
       "      <td>9.230769</td>\n",
       "      <td>9.384615</td>\n",
       "      <td>9.538462</td>\n",
       "      <td>9.692308</td>\n",
       "      <td>9.846154</td>\n",
       "      <td>10.000000</td>\n",
       "      <td>10.000000</td>\n",
       "      <td>10.0</td>\n",
       "    </tr>\n",
       "    <tr>\n",
       "      <th>support</th>\n",
       "      <td>4.111111</td>\n",
       "      <td>4.166667</td>\n",
       "      <td>4.222222</td>\n",
       "      <td>4.277778</td>\n",
       "      <td>4.333333</td>\n",
       "      <td>4.388889</td>\n",
       "      <td>4.444444</td>\n",
       "      <td>4.500000</td>\n",
       "      <td>4.428571</td>\n",
       "      <td>4.357143</td>\n",
       "      <td>...</td>\n",
       "      <td>11.000000</td>\n",
       "      <td>11.000000</td>\n",
       "      <td>11.000000</td>\n",
       "      <td>11.000000</td>\n",
       "      <td>11.000000</td>\n",
       "      <td>11.000000</td>\n",
       "      <td>11.000000</td>\n",
       "      <td>11.000000</td>\n",
       "      <td>11.000000</td>\n",
       "      <td>11.0</td>\n",
       "    </tr>\n",
       "    <tr>\n",
       "      <th>support</th>\n",
       "      <td>5.000000</td>\n",
       "      <td>5.000000</td>\n",
       "      <td>5.000000</td>\n",
       "      <td>5.000000</td>\n",
       "      <td>5.000000</td>\n",
       "      <td>5.000000</td>\n",
       "      <td>5.000000</td>\n",
       "      <td>5.000000</td>\n",
       "      <td>5.000000</td>\n",
       "      <td>5.000000</td>\n",
       "      <td>...</td>\n",
       "      <td>9.000000</td>\n",
       "      <td>9.000000</td>\n",
       "      <td>9.000000</td>\n",
       "      <td>9.000000</td>\n",
       "      <td>9.000000</td>\n",
       "      <td>9.000000</td>\n",
       "      <td>9.000000</td>\n",
       "      <td>9.000000</td>\n",
       "      <td>9.000000</td>\n",
       "      <td>9.0</td>\n",
       "    </tr>\n",
       "    <tr>\n",
       "      <th>support</th>\n",
       "      <td>5.000000</td>\n",
       "      <td>5.000000</td>\n",
       "      <td>5.000000</td>\n",
       "      <td>5.000000</td>\n",
       "      <td>5.000000</td>\n",
       "      <td>5.000000</td>\n",
       "      <td>5.000000</td>\n",
       "      <td>5.000000</td>\n",
       "      <td>5.000000</td>\n",
       "      <td>5.000000</td>\n",
       "      <td>...</td>\n",
       "      <td>9.857143</td>\n",
       "      <td>10.142857</td>\n",
       "      <td>10.428571</td>\n",
       "      <td>10.714286</td>\n",
       "      <td>11.000000</td>\n",
       "      <td>11.000000</td>\n",
       "      <td>11.000000</td>\n",
       "      <td>11.000000</td>\n",
       "      <td>11.000000</td>\n",
       "      <td>11.0</td>\n",
       "    </tr>\n",
       "    <tr>\n",
       "      <th>support</th>\n",
       "      <td>5.771429</td>\n",
       "      <td>5.742857</td>\n",
       "      <td>5.714286</td>\n",
       "      <td>5.685714</td>\n",
       "      <td>5.657143</td>\n",
       "      <td>5.628571</td>\n",
       "      <td>5.600000</td>\n",
       "      <td>5.571429</td>\n",
       "      <td>5.542857</td>\n",
       "      <td>5.514286</td>\n",
       "      <td>...</td>\n",
       "      <td>8.714286</td>\n",
       "      <td>8.857143</td>\n",
       "      <td>9.000000</td>\n",
       "      <td>9.142857</td>\n",
       "      <td>9.285714</td>\n",
       "      <td>9.428571</td>\n",
       "      <td>9.571429</td>\n",
       "      <td>9.714286</td>\n",
       "      <td>9.857143</td>\n",
       "      <td>10.0</td>\n",
       "    </tr>\n",
       "  </tbody>\n",
       "</table>\n",
       "<p>5 rows × 1430 columns</p>\n",
       "</div>"
      ],
      "text/plain": [
       "         2013-10-23  2013-10-24  2013-10-25  2013-10-26  2013-10-27  \\\n",
       "support    5.500000    5.485714    5.471429    5.457143    5.442857   \n",
       "support    4.111111    4.166667    4.222222    4.277778    4.333333   \n",
       "support    5.000000    5.000000    5.000000    5.000000    5.000000   \n",
       "support    5.000000    5.000000    5.000000    5.000000    5.000000   \n",
       "support    5.771429    5.742857    5.714286    5.685714    5.657143   \n",
       "\n",
       "         2013-10-28  2013-10-29  2013-10-30  2013-10-31  2013-11-01  ...  \\\n",
       "support    5.428571    5.414286    5.400000    5.385714    5.371429  ...   \n",
       "support    4.388889    4.444444    4.500000    4.428571    4.357143  ...   \n",
       "support    5.000000    5.000000    5.000000    5.000000    5.000000  ...   \n",
       "support    5.000000    5.000000    5.000000    5.000000    5.000000  ...   \n",
       "support    5.628571    5.600000    5.571429    5.542857    5.514286  ...   \n",
       "\n",
       "         2017-09-12  2017-09-13  2017-09-14  2017-09-15  2017-09-16  \\\n",
       "support    8.923077    9.076923    9.230769    9.384615    9.538462   \n",
       "support   11.000000   11.000000   11.000000   11.000000   11.000000   \n",
       "support    9.000000    9.000000    9.000000    9.000000    9.000000   \n",
       "support    9.857143   10.142857   10.428571   10.714286   11.000000   \n",
       "support    8.714286    8.857143    9.000000    9.142857    9.285714   \n",
       "\n",
       "         2017-09-17  2017-09-18  2017-09-19  2017-09-20  2017-09-21  \n",
       "support    9.692308    9.846154   10.000000   10.000000        10.0  \n",
       "support   11.000000   11.000000   11.000000   11.000000        11.0  \n",
       "support    9.000000    9.000000    9.000000    9.000000         9.0  \n",
       "support   11.000000   11.000000   11.000000   11.000000        11.0  \n",
       "support    9.428571    9.571429    9.714286    9.857143        10.0  \n",
       "\n",
       "[5 rows x 1430 columns]"
      ]
     },
     "execution_count": 210,
     "metadata": {},
     "output_type": "execute_result"
    }
   ],
   "source": [
    "#Create new dataframe with all new time-series from 7 institutions\n",
    "\n",
    "frames_afd = [interpolated_election2017_allen_afd, interpolated_election2017_insa_afd, \n",
    "         interpolated_election2017_forsa_afd, interpolated_election2017_emnid_afd,\n",
    "         interpolated_election2017_gms_afd, interpolated_election2017_infra_afd, \n",
    "         interpolated_election2017_fgruppe_afd]\n",
    "\n",
    "result_afd = pd.concat(frames_afd, axis=1)\n",
    "final_result_afd = result_afd.T\n",
    "final_result_afd.head()"
   ]
  },
  {
   "cell_type": "markdown",
   "metadata": {},
   "source": [
    "## MODELLING FOR AFD"
   ]
  },
  {
   "cell_type": "code",
   "execution_count": null,
   "metadata": {},
   "outputs": [],
   "source": [
    "#import libraries \n",
    "\n",
    "import numpy as np\n",
    "from sklearn.metrics import mean_squared_log_error\n",
    "from sklearn.ensemble import RandomForestRegressor\n",
    "from lightgbm import LGBMRegressor"
   ]
  },
  {
   "cell_type": "code",
   "execution_count": null,
   "metadata": {},
   "outputs": [],
   "source": []
  }
 ],
 "metadata": {
  "kernelspec": {
   "display_name": "Python 3",
   "language": "python",
   "name": "python3"
  },
  "language_info": {
   "codemirror_mode": {
    "name": "ipython",
    "version": 3
   },
   "file_extension": ".py",
   "mimetype": "text/x-python",
   "name": "python",
   "nbconvert_exporter": "python",
   "pygments_lexer": "ipython3",
   "version": "3.6.8"
  }
 },
 "nbformat": 4,
 "nbformat_minor": 2
}
