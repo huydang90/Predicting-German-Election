{
 "cells": [
  {
   "cell_type": "markdown",
   "metadata": {},
   "source": [
    "# Predict German Election"
   ]
  },
  {
   "cell_type": "code",
   "execution_count": 6,
   "metadata": {},
   "outputs": [],
   "source": [
    "#import libraries\n",
    "\n",
    "import pyreadr\n",
    "import pandas as pd\n",
    "import numpy as np\n",
    "import matplotlib.pyplot as plt\n",
    "import seaborn as sns\n",
    "%matplotlib inline\n",
    "from matplotlib.dates import DateFormatter\n",
    "import matplotlib.dates as mdates"
   ]
  },
  {
   "cell_type": "code",
   "execution_count": 7,
   "metadata": {},
   "outputs": [
    {
     "data": {
      "text/html": [
       "<div>\n",
       "<style scoped>\n",
       "    .dataframe tbody tr th:only-of-type {\n",
       "        vertical-align: middle;\n",
       "    }\n",
       "\n",
       "    .dataframe tbody tr th {\n",
       "        vertical-align: top;\n",
       "    }\n",
       "\n",
       "    .dataframe thead th {\n",
       "        text-align: right;\n",
       "    }\n",
       "</style>\n",
       "<table border=\"1\" class=\"dataframe\">\n",
       "  <thead>\n",
       "    <tr style=\"text-align: right;\">\n",
       "      <th></th>\n",
       "      <th>election</th>\n",
       "      <th>sample_size</th>\n",
       "      <th>institute</th>\n",
       "      <th>party</th>\n",
       "      <th>support</th>\n",
       "      <th>election_date</th>\n",
       "      <th>days_to_election</th>\n",
       "    </tr>\n",
       "    <tr>\n",
       "      <th>date</th>\n",
       "      <th></th>\n",
       "      <th></th>\n",
       "      <th></th>\n",
       "      <th></th>\n",
       "      <th></th>\n",
       "      <th></th>\n",
       "      <th></th>\n",
       "    </tr>\n",
       "  </thead>\n",
       "  <tbody>\n",
       "    <tr>\n",
       "      <th>1951-04-15</th>\n",
       "      <td>1953.0</td>\n",
       "      <td>NaN</td>\n",
       "      <td>allensbach</td>\n",
       "      <td>oth</td>\n",
       "      <td>24.0</td>\n",
       "      <td>1953-09-06</td>\n",
       "      <td>875.0</td>\n",
       "    </tr>\n",
       "    <tr>\n",
       "      <th>1950-11-15</th>\n",
       "      <td>1953.0</td>\n",
       "      <td>NaN</td>\n",
       "      <td>allensbach</td>\n",
       "      <td>gru</td>\n",
       "      <td>NaN</td>\n",
       "      <td>1953-09-06</td>\n",
       "      <td>1026.0</td>\n",
       "    </tr>\n",
       "    <tr>\n",
       "      <th>1952-12-15</th>\n",
       "      <td>1953.0</td>\n",
       "      <td>NaN</td>\n",
       "      <td>allensbach</td>\n",
       "      <td>spd</td>\n",
       "      <td>35.0</td>\n",
       "      <td>1953-09-06</td>\n",
       "      <td>265.0</td>\n",
       "    </tr>\n",
       "    <tr>\n",
       "      <th>1953-02-15</th>\n",
       "      <td>1953.0</td>\n",
       "      <td>NaN</td>\n",
       "      <td>allensbach</td>\n",
       "      <td>spd</td>\n",
       "      <td>33.0</td>\n",
       "      <td>1953-09-06</td>\n",
       "      <td>203.0</td>\n",
       "    </tr>\n",
       "    <tr>\n",
       "      <th>1951-03-15</th>\n",
       "      <td>1953.0</td>\n",
       "      <td>NaN</td>\n",
       "      <td>allensbach</td>\n",
       "      <td>gru</td>\n",
       "      <td>NaN</td>\n",
       "      <td>1953-09-06</td>\n",
       "      <td>906.0</td>\n",
       "    </tr>\n",
       "  </tbody>\n",
       "</table>\n",
       "</div>"
      ],
      "text/plain": [
       "            election  sample_size   institute party  support election_date  \\\n",
       "date                                                                         \n",
       "1951-04-15    1953.0          NaN  allensbach   oth     24.0    1953-09-06   \n",
       "1950-11-15    1953.0          NaN  allensbach   gru      NaN    1953-09-06   \n",
       "1952-12-15    1953.0          NaN  allensbach   spd     35.0    1953-09-06   \n",
       "1953-02-15    1953.0          NaN  allensbach   spd     33.0    1953-09-06   \n",
       "1951-03-15    1953.0          NaN  allensbach   gru      NaN    1953-09-06   \n",
       "\n",
       "            days_to_election  \n",
       "date                          \n",
       "1951-04-15             875.0  \n",
       "1950-11-15            1026.0  \n",
       "1952-12-15             265.0  \n",
       "1953-02-15             203.0  \n",
       "1951-03-15             906.0  "
      ]
     },
     "execution_count": 7,
     "metadata": {},
     "output_type": "execute_result"
    }
   ],
   "source": [
    "#load data\n",
    "\n",
    "polls = pd.read_csv(\"polls_btw.csv\", index_col='date', parse_dates=True)\n",
    "polls.head()"
   ]
  },
  {
   "cell_type": "markdown",
   "metadata": {},
   "source": [
    "## Exploratory Data Analysis"
   ]
  },
  {
   "cell_type": "code",
   "execution_count": 8,
   "metadata": {},
   "outputs": [
    {
     "data": {
      "text/html": [
       "<div>\n",
       "<style scoped>\n",
       "    .dataframe tbody tr th:only-of-type {\n",
       "        vertical-align: middle;\n",
       "    }\n",
       "\n",
       "    .dataframe tbody tr th {\n",
       "        vertical-align: top;\n",
       "    }\n",
       "\n",
       "    .dataframe thead th {\n",
       "        text-align: right;\n",
       "    }\n",
       "</style>\n",
       "<table border=\"1\" class=\"dataframe\">\n",
       "  <thead>\n",
       "    <tr style=\"text-align: right;\">\n",
       "      <th></th>\n",
       "      <th>election</th>\n",
       "      <th>sample_size</th>\n",
       "      <th>institute</th>\n",
       "      <th>party</th>\n",
       "      <th>support</th>\n",
       "      <th>election_date</th>\n",
       "      <th>days_to_election</th>\n",
       "    </tr>\n",
       "    <tr>\n",
       "      <th>date</th>\n",
       "      <th></th>\n",
       "      <th></th>\n",
       "      <th></th>\n",
       "      <th></th>\n",
       "      <th></th>\n",
       "      <th></th>\n",
       "      <th></th>\n",
       "    </tr>\n",
       "  </thead>\n",
       "  <tbody>\n",
       "    <tr>\n",
       "      <th>1951-04-15</th>\n",
       "      <td>1953.0</td>\n",
       "      <td>1000.0</td>\n",
       "      <td>allensbach</td>\n",
       "      <td>oth</td>\n",
       "      <td>24.0</td>\n",
       "      <td>1953-09-06</td>\n",
       "      <td>875.0</td>\n",
       "    </tr>\n",
       "    <tr>\n",
       "      <th>1950-11-15</th>\n",
       "      <td>1953.0</td>\n",
       "      <td>1000.0</td>\n",
       "      <td>allensbach</td>\n",
       "      <td>gru</td>\n",
       "      <td>NaN</td>\n",
       "      <td>1953-09-06</td>\n",
       "      <td>1026.0</td>\n",
       "    </tr>\n",
       "    <tr>\n",
       "      <th>1952-12-15</th>\n",
       "      <td>1953.0</td>\n",
       "      <td>1000.0</td>\n",
       "      <td>allensbach</td>\n",
       "      <td>spd</td>\n",
       "      <td>35.0</td>\n",
       "      <td>1953-09-06</td>\n",
       "      <td>265.0</td>\n",
       "    </tr>\n",
       "    <tr>\n",
       "      <th>1953-02-15</th>\n",
       "      <td>1953.0</td>\n",
       "      <td>1000.0</td>\n",
       "      <td>allensbach</td>\n",
       "      <td>spd</td>\n",
       "      <td>33.0</td>\n",
       "      <td>1953-09-06</td>\n",
       "      <td>203.0</td>\n",
       "    </tr>\n",
       "    <tr>\n",
       "      <th>1951-03-15</th>\n",
       "      <td>1953.0</td>\n",
       "      <td>1000.0</td>\n",
       "      <td>allensbach</td>\n",
       "      <td>gru</td>\n",
       "      <td>NaN</td>\n",
       "      <td>1953-09-06</td>\n",
       "      <td>906.0</td>\n",
       "    </tr>\n",
       "  </tbody>\n",
       "</table>\n",
       "</div>"
      ],
      "text/plain": [
       "            election  sample_size   institute party  support election_date  \\\n",
       "date                                                                         \n",
       "1951-04-15    1953.0       1000.0  allensbach   oth     24.0    1953-09-06   \n",
       "1950-11-15    1953.0       1000.0  allensbach   gru      NaN    1953-09-06   \n",
       "1952-12-15    1953.0       1000.0  allensbach   spd     35.0    1953-09-06   \n",
       "1953-02-15    1953.0       1000.0  allensbach   spd     33.0    1953-09-06   \n",
       "1951-03-15    1953.0       1000.0  allensbach   gru      NaN    1953-09-06   \n",
       "\n",
       "            days_to_election  \n",
       "date                          \n",
       "1951-04-15             875.0  \n",
       "1950-11-15            1026.0  \n",
       "1952-12-15             265.0  \n",
       "1953-02-15             203.0  \n",
       "1951-03-15             906.0  "
      ]
     },
     "execution_count": 8,
     "metadata": {},
     "output_type": "execute_result"
    }
   ],
   "source": [
    "#Impute sample_size with 1000 for missing values\n",
    "\n",
    "polls[\"sample_size\"].fillna(1000, inplace=True)\n",
    "polls.head()"
   ]
  },
  {
   "cell_type": "code",
   "execution_count": 9,
   "metadata": {},
   "outputs": [
    {
     "data": {
      "text/plain": [
       "array(['allensbach', 'fgruppe_wahlen', 'forsa', 'emnid',\n",
       "       'infratest_dimap', 'gms', 'insa'], dtype=object)"
      ]
     },
     "execution_count": 9,
     "metadata": {},
     "output_type": "execute_result"
    }
   ],
   "source": [
    "#see how many unique polling institutions there are\n",
    "\n",
    "polls['institute'].unique()"
   ]
  },
  {
   "cell_type": "code",
   "execution_count": 10,
   "metadata": {},
   "outputs": [
    {
     "data": {
      "text/plain": [
       "array(['oth', 'gru', 'spd', 'cdu', 'lin', 'fdp', 'afd'], dtype=object)"
      ]
     },
     "execution_count": 10,
     "metadata": {},
     "output_type": "execute_result"
    }
   ],
   "source": [
    "#see how many unique parties there are in the polls\n",
    "\n",
    "polls['party'].unique()"
   ]
  },
  {
   "cell_type": "code",
   "execution_count": 11,
   "metadata": {},
   "outputs": [],
   "source": [
    "#create data frame with polls from each institutions in 2017 \n",
    "\n",
    "election2017_allen = polls.loc[(polls['institute'] == 'allensbach') & (polls['election'] == 2017)]\n",
    "election2017_insa = polls.loc[(polls['institute'] == 'insa') & (polls['election'] == 2017)]\n",
    "election2017_forsa = polls.loc[(polls['institute'] == 'forsa') & (polls['election'] == 2017)]\n",
    "election2017_emnid = polls.loc[(polls['institute'] == 'emnid') & (polls['election'] == 2017)]\n",
    "election2017_gms = polls.loc[(polls['institute'] == 'gms') & (polls['election'] == 2017)]\n",
    "election2017_infra = polls.loc[(polls['institute'] == 'infratest_dimap') & (polls['election'] == 2017)]\n",
    "election2017_fgruppe = polls.loc[(polls['institute'] == 'fgruppe_wahlen') & (polls['election'] == 2017)]"
   ]
  },
  {
   "cell_type": "code",
   "execution_count": 12,
   "metadata": {},
   "outputs": [
    {
     "data": {
      "text/html": [
       "<div>\n",
       "<style scoped>\n",
       "    .dataframe tbody tr th:only-of-type {\n",
       "        vertical-align: middle;\n",
       "    }\n",
       "\n",
       "    .dataframe tbody tr th {\n",
       "        vertical-align: top;\n",
       "    }\n",
       "\n",
       "    .dataframe thead th {\n",
       "        text-align: right;\n",
       "    }\n",
       "</style>\n",
       "<table border=\"1\" class=\"dataframe\">\n",
       "  <thead>\n",
       "    <tr style=\"text-align: right;\">\n",
       "      <th></th>\n",
       "      <th>election</th>\n",
       "      <th>sample_size</th>\n",
       "      <th>institute</th>\n",
       "      <th>party</th>\n",
       "      <th>support</th>\n",
       "      <th>election_date</th>\n",
       "      <th>days_to_election</th>\n",
       "    </tr>\n",
       "    <tr>\n",
       "      <th>date</th>\n",
       "      <th></th>\n",
       "      <th></th>\n",
       "      <th></th>\n",
       "      <th></th>\n",
       "      <th></th>\n",
       "      <th></th>\n",
       "      <th></th>\n",
       "    </tr>\n",
       "  </thead>\n",
       "  <tbody>\n",
       "    <tr>\n",
       "      <th>2015-06-18</th>\n",
       "      <td>2017.0</td>\n",
       "      <td>1400.0</td>\n",
       "      <td>allensbach</td>\n",
       "      <td>spd</td>\n",
       "      <td>26.0</td>\n",
       "      <td>2017-09-24</td>\n",
       "      <td>829.0</td>\n",
       "    </tr>\n",
       "    <tr>\n",
       "      <th>2016-08-24</th>\n",
       "      <td>2017.0</td>\n",
       "      <td>1496.0</td>\n",
       "      <td>allensbach</td>\n",
       "      <td>spd</td>\n",
       "      <td>23.0</td>\n",
       "      <td>2017-09-24</td>\n",
       "      <td>396.0</td>\n",
       "    </tr>\n",
       "    <tr>\n",
       "      <th>2015-08-19</th>\n",
       "      <td>2017.0</td>\n",
       "      <td>1400.0</td>\n",
       "      <td>allensbach</td>\n",
       "      <td>spd</td>\n",
       "      <td>26.0</td>\n",
       "      <td>2017-09-24</td>\n",
       "      <td>767.0</td>\n",
       "    </tr>\n",
       "    <tr>\n",
       "      <th>2015-02-19</th>\n",
       "      <td>2017.0</td>\n",
       "      <td>1400.0</td>\n",
       "      <td>allensbach</td>\n",
       "      <td>spd</td>\n",
       "      <td>25.5</td>\n",
       "      <td>2017-09-24</td>\n",
       "      <td>948.0</td>\n",
       "    </tr>\n",
       "    <tr>\n",
       "      <th>2017-07-18</th>\n",
       "      <td>2017.0</td>\n",
       "      <td>1403.0</td>\n",
       "      <td>allensbach</td>\n",
       "      <td>spd</td>\n",
       "      <td>25.0</td>\n",
       "      <td>2017-09-24</td>\n",
       "      <td>68.0</td>\n",
       "    </tr>\n",
       "  </tbody>\n",
       "</table>\n",
       "</div>"
      ],
      "text/plain": [
       "            election  sample_size   institute party  support election_date  \\\n",
       "date                                                                         \n",
       "2015-06-18    2017.0       1400.0  allensbach   spd     26.0    2017-09-24   \n",
       "2016-08-24    2017.0       1496.0  allensbach   spd     23.0    2017-09-24   \n",
       "2015-08-19    2017.0       1400.0  allensbach   spd     26.0    2017-09-24   \n",
       "2015-02-19    2017.0       1400.0  allensbach   spd     25.5    2017-09-24   \n",
       "2017-07-18    2017.0       1403.0  allensbach   spd     25.0    2017-09-24   \n",
       "\n",
       "            days_to_election  \n",
       "date                          \n",
       "2015-06-18             829.0  \n",
       "2016-08-24             396.0  \n",
       "2015-08-19             767.0  \n",
       "2015-02-19             948.0  \n",
       "2017-07-18              68.0  "
      ]
     },
     "execution_count": 12,
     "metadata": {},
     "output_type": "execute_result"
    }
   ],
   "source": [
    "#check out institution allensbach: \n",
    "\n",
    "election2017_allen.head()"
   ]
  },
  {
   "cell_type": "code",
   "execution_count": 13,
   "metadata": {},
   "outputs": [
    {
     "data": {
      "text/plain": [
       "pandas.core.frame.DataFrame"
      ]
     },
     "execution_count": 13,
     "metadata": {},
     "output_type": "execute_result"
    }
   ],
   "source": [
    "type(election2017_allen)"
   ]
  },
  {
   "cell_type": "code",
   "execution_count": 14,
   "metadata": {},
   "outputs": [],
   "source": [
    "#create allensbach's polls for AFD in 2017 election:\n",
    "\n",
    "election2017_allen_afd = election2017_allen.loc[election2017_allen['party'] == 'afd']\n",
    "#plot_allen_afd = sns.lineplot(x=\"days_to_election\", y=\"support\", data=election2017allen_afd)"
   ]
  },
  {
   "cell_type": "code",
   "execution_count": 15,
   "metadata": {},
   "outputs": [
    {
     "data": {
      "image/png": "[encoded data removed]",
      "text/plain": [
       "<matplotlib.figure.Figure at 0x1168ff0f0>"
      ]
     },
     "metadata": {
      "needs_background": "light"
     },
     "output_type": "display_data"
    },
    {
     "data": {
      "text/plain": [
       "<matplotlib.figure.Figure at 0x1167c12b0>"
      ]
     },
     "metadata": {},
     "output_type": "display_data"
    }
   ],
   "source": [
    "#plot allensbach's polls for AFD in 2017 election:\n",
    "#election2017allen_afd['date'] = election2017allen_afd.index\n",
    "#melted_df = pd.melt(election2017allen_afd, id_vars='date', value_name='support')\n",
    "#plot_allen_afd = sns.tsplot(melted_df, time='date', value='support')\n",
    "election2017_allen_afd.support['2013-10-23':'2017-09-19'].plot()\n",
    "plt.show()\n",
    "plt.clf()"
   ]
  },
  {
   "cell_type": "code",
   "execution_count": 16,
   "metadata": {},
   "outputs": [],
   "source": [
    "upsampled_election2017_allen_afd = election2017_allen_afd['support'].resample('D').first()"
   ]
  },
  {
   "cell_type": "code",
   "execution_count": 17,
   "metadata": {},
   "outputs": [
    {
     "name": "stdout",
     "output_type": "stream",
     "text": [
      "date\n",
      "2013-10-23    5.5\n",
      "2013-10-24    NaN\n",
      "2013-10-25    NaN\n",
      "2013-10-26    NaN\n",
      "2013-10-27    NaN\n",
      "2013-10-28    NaN\n",
      "2013-10-29    NaN\n",
      "2013-10-30    NaN\n",
      "2013-10-31    NaN\n",
      "2013-11-01    NaN\n",
      "2013-11-02    NaN\n",
      "2013-11-03    NaN\n",
      "2013-11-04    NaN\n",
      "2013-11-05    NaN\n",
      "2013-11-06    NaN\n",
      "2013-11-07    NaN\n",
      "2013-11-08    NaN\n",
      "2013-11-09    NaN\n",
      "2013-11-10    NaN\n",
      "2013-11-11    NaN\n",
      "2013-11-12    NaN\n",
      "2013-11-13    NaN\n",
      "2013-11-14    NaN\n",
      "2013-11-15    NaN\n",
      "2013-11-16    NaN\n",
      "2013-11-17    NaN\n",
      "2013-11-18    NaN\n",
      "2013-11-19    NaN\n",
      "2013-11-20    NaN\n",
      "2013-11-21    NaN\n",
      "2013-11-22    NaN\n",
      "2013-11-23    NaN\n",
      "Freq: D, Name: support, dtype: float64\n"
     ]
    }
   ],
   "source": [
    "print(upsampled_election2017_allen_afd.head(32))"
   ]
  },
  {
   "cell_type": "code",
   "execution_count": 18,
   "metadata": {},
   "outputs": [
    {
     "data": {
      "text/plain": [
       "date\n",
       "2013-10-23    5.500000\n",
       "2013-10-24    5.485714\n",
       "2013-10-25    5.471429\n",
       "2013-10-26    5.457143\n",
       "2013-10-27    5.442857\n",
       "Freq: D, Name: support, dtype: float64"
      ]
     },
     "execution_count": 18,
     "metadata": {},
     "output_type": "execute_result"
    }
   ],
   "source": [
    "interpolated_election2017_allen_afd = upsampled_election2017_allen_afd.interpolate(how='linear')\n",
    "interpolated_election2017_allen_afd.head()"
   ]
  },
  {
   "cell_type": "code",
   "execution_count": 19,
   "metadata": {},
   "outputs": [
    {
     "data": {
      "image/png": "[encoded data removed]",
      "text/plain": [
       "<matplotlib.figure.Figure at 0x116ae1518>"
      ]
     },
     "metadata": {
      "needs_background": "light"
     },
     "output_type": "display_data"
    },
    {
     "data": {
      "text/plain": [
       "<matplotlib.figure.Figure at 0x116af15f8>"
      ]
     },
     "metadata": {},
     "output_type": "display_data"
    }
   ],
   "source": [
    "interpolated_election2017_allen_afd.plot()\n",
    "plt.show()\n",
    "plt.clf()"
   ]
  },
  {
   "cell_type": "markdown",
   "metadata": {},
   "source": [
    "## Data transformation of time-series \n",
    "\n"
   ]
  },
  {
   "cell_type": "markdown",
   "metadata": {},
   "source": [
    "#### AFD"
   ]
  },
  {
   "cell_type": "code",
   "execution_count": 20,
   "metadata": {},
   "outputs": [],
   "source": [
    "#Create dataframe for AFD voteshares polls by each of the 7 institutions\n",
    "\n",
    "election2017_allen_afd = election2017_allen.loc[election2017_allen['party'] == 'afd']\n",
    "election2017_insa_afd = election2017_insa.loc[election2017_insa['party'] == 'afd']\n",
    "election2017_forsa_afd = election2017_forsa.loc[election2017_forsa['party'] == 'afd']\n",
    "election2017_emnid_afd = election2017_emnid.loc[election2017_emnid['party'] == 'afd']\n",
    "election2017_gms_afd = election2017_gms.loc[election2017_gms['party'] == 'afd']\n",
    "election2017_infra_afd = election2017_infra.loc[election2017_infra['party'] == 'afd']\n",
    "election2017_fgruppe_afd = election2017_fgruppe.loc[election2017_fgruppe['party'] == 'afd']\n",
    "\n",
    "#Create upsampled and interpolated data for Allen in AFD voteshares\n",
    "\n",
    "t_index_final = pd.date_range(start='2013-10-23', end='2017-09-21', freq='D')\n",
    "t_index_allen = pd.date_range(start='2013-10-10', end='2017-09-21', freq='D')\n",
    "\n",
    "upsampled_election2017_allen_afd = election2017_allen_afd['support'].resample('D').first().reindex(t_index_allen)\n",
    "interpolated_election2017_allen_afd = upsampled_election2017_allen_afd.interpolate(how='linear')\n",
    "interpolated_election2017_allen_afd = interpolated_election2017_allen_afd.reindex(t_index_final)\n",
    "\n",
    "#Create upsampled and interpolated data for Insa in AFD voteshares\n",
    "\n",
    "t_index_insa = pd.date_range(start='2013-10-10', end='2017-09-21', freq='D')\n",
    "\n",
    "upsampled_election2017_insa_afd = election2017_insa_afd['support'].resample('D').first().reindex(t_index_insa)\n",
    "interpolated_election2017_insa_afd = upsampled_election2017_insa_afd.interpolate(how='linear')\n",
    "interpolated_election2017_insa_afd = interpolated_election2017_insa_afd.reindex(t_index_final)\n",
    "\n",
    "#Create upsampled and interpolated data for Forsa in AFD voteshares\n",
    "\n",
    "t_index_forsa = pd.date_range(start='2013-10-01', end='2017-09-21', freq='D')\n",
    "\n",
    "upsampled_election2017_forsa_afd = election2017_forsa_afd['support'].resample('D').first().reindex(t_index_forsa)\n",
    "interpolated_election2017_forsa_afd = upsampled_election2017_forsa_afd.interpolate(how='linear')\n",
    "interpolated_election2017_forsa_afd = interpolated_election2017_forsa_afd.reindex(t_index_final)\n",
    "interpolated_election2017_forsa_afd.tail()\n",
    "\n",
    "#Create upsampled and interpolated data for Emnid in AFD voteshares\n",
    "\n",
    "t_index_emnid = pd.date_range(start='2013-09-29', end='2017-09-21', freq='D')\n",
    "\n",
    "upsampled_election2017_emnid_afd = election2017_emnid_afd['support'].resample('D').first().reindex(t_index_emnid)\n",
    "interpolated_election2017_emnid_afd = upsampled_election2017_emnid_afd.interpolate(how='linear')\n",
    "interpolated_election2017_emnid_afd = interpolated_election2017_emnid_afd.reindex(t_index_final)\n",
    "interpolated_election2017_emnid_afd.tail()\n",
    "\n",
    "#Create upsampled and interpolated data for GMS in AFD voteshares\n",
    "\n",
    "t_index_gms = pd.date_range(start='2013-10-15', end='2017-09-21', freq='D')\n",
    "\n",
    "upsampled_election2017_gms_afd = election2017_gms_afd['support'].resample('D').first().reindex(t_index_gms)\n",
    "interpolated_election2017_gms_afd = upsampled_election2017_gms_afd.interpolate(how='linear')\n",
    "interpolated_election2017_gms_afd = interpolated_election2017_gms_afd.reindex(t_index_final)\n",
    "interpolated_election2017_gms_afd.tail()\n",
    "\n",
    "#Create upsampled and interpolated data for Infra in AFD voteshares\n",
    "\n",
    "t_index_infra = pd.date_range(start='2013-10-10', end='2017-09-21', freq='D')\n",
    "\n",
    "upsampled_election2017_infra_afd = election2017_infra_afd['support'].resample('D').first().reindex(t_index_infra)\n",
    "interpolated_election2017_infra_afd = upsampled_election2017_infra_afd.interpolate(how='linear')\n",
    "interpolated_election2017_infra_afd = interpolated_election2017_infra_afd.reindex(t_index_final)\n",
    "interpolated_election2017_gms_afd.tail()\n",
    "\n",
    "#Create upsampled and interpolated data for Fgruppe in AFD voteshares\n",
    "\n",
    "t_index_fgruppe = pd.date_range(start='2013-09-27', end='2017-09-21', freq='D')\n",
    "\n",
    "upsampled_election2017_fgruppe_afd = election2017_fgruppe_afd['support'].resample('D').first().reindex(t_index_fgruppe)\n",
    "interpolated_election2017_fgruppe_afd = upsampled_election2017_fgruppe_afd.interpolate(how='linear')\n",
    "interpolated_election2017_fgruppe_afd = interpolated_election2017_fgruppe_afd.reindex(t_index_final)\n",
    "interpolated_election2017_fgruppe_afd.tail()\n",
    "\n",
    "# Plot out party support shares for AFD through polls of all institutions\n",
    "\n",
    "interpolated_election2017_allen_afd.plot(label=\"Allensbach\", legend = True)\n",
    "interpolated_election2017_insa_afd.plot(label=\"Insa\", legend = True)\n",
    "interpolated_election2017_forsa_afd.plot(label=\"Forsa\", legend = True)\n",
    "interpolated_election2017_emnid_afd.plot(label=\"Emnid\", legend = True)\n",
    "interpolated_election2017_gms_afd.plot(label=\"GMS\", legend = True)\n",
    "interpolated_election2017_infra_afd.plot(label=\"Infra\", legend = True)\n",
    "interpolated_election2017_fgruppe_afd.plot(label=\"Fgruppe\", legend = True)\n",
    "plt.xlabel(\"Date\")\n",
    "plt.ylabel(\"Voteshares\")\n",
    "plt.title(\"AFD party support from polls for 2017 election\")\n",
    "plt.show()\n",
    "plt.clf()"
   ]
  },
  {
   "cell_type": "code",
   "execution_count": 29,
   "metadata": {},
   "outputs": [
    {
     "data": {
      "image/png": "[encoded data removed]",
      "text/plain": [
       "<matplotlib.figure.Figure at 0x116f427f0>"
      ]
     },
     "metadata": {
      "needs_background": "light"
     },
     "output_type": "display_data"
    },
    {
     "data": {
      "text/plain": [
       "<matplotlib.figure.Figure at 0x1169616a0>"
      ]
     },
     "metadata": {},
     "output_type": "display_data"
    }
   ],
   "source": [
    "# Plot party support for Other parties with different polling stations \n",
    "\n",
    "election2017_allen_oth = election2017_allen.loc[election2017_allen['party'] == 'oth']\n",
    "election2017_insa_oth = election2017_insa.loc[election2017_insa['party'] == 'oth']\n",
    "election2017_forsa_oth = election2017_forsa.loc[election2017_forsa['party'] == 'oth']\n",
    "election2017_emnid_oth = election2017_emnid.loc[election2017_emnid['party'] == 'oth']\n",
    "election2017_gms_oth = election2017_gms.loc[election2017_gms['party'] == 'oth']\n",
    "election2017_infra_oth = election2017_infra.loc[election2017_infra['party'] == 'oth']\n",
    "election2017_fgruppe_oth = election2017_fgruppe.loc[election2017_fgruppe['party'] == 'oth']\n",
    "\n",
    "election2017_allen_oth['support'].plot(label=\"Allensbach\", legend = True)\n",
    "election2017_insa_oth['support'].plot(label=\"Insa\", legend = True)\n",
    "election2017_forsa_oth['support'].plot(label=\"Forsa\", legend = True)\n",
    "election2017_emnid_oth['support'].plot(label=\"Emnid\", legend = True)\n",
    "election2017_gms_oth['support'].plot(label=\"GMS\", legend = True)\n",
    "election2017_infra_oth['support'].plot(label=\"Infra\", legend = True)\n",
    "election2017_fgruppe_oth['support'].plot(label=\"Fgruppe\", legend = True)\n",
    "plt.xlabel(\"Date\")\n",
    "plt.ylabel(\"Voteshares\")\n",
    "plt.title(\"Other parties support from polls for 2017 election\")\n",
    "plt.show()\n",
    "plt.clf()"
   ]
  },
  {
   "cell_type": "code",
   "execution_count": 30,
   "metadata": {},
   "outputs": [
    {
     "data": {
      "image/png": "[encoded data removed]",
      "text/plain": [
       "<matplotlib.figure.Figure at 0x117013828>"
      ]
     },
     "metadata": {
      "needs_background": "light"
     },
     "output_type": "display_data"
    },
    {
     "data": {
      "text/plain": [
       "<matplotlib.figure.Figure at 0x116f35470>"
      ]
     },
     "metadata": {},
     "output_type": "display_data"
    }
   ],
   "source": [
    "election2017_allen_gru = election2017_allen.loc[election2017_allen['party'] == 'gru']\n",
    "election2017_insa_gru = election2017_insa.loc[election2017_insa['party'] == 'gru']\n",
    "election2017_forsa_gru = election2017_forsa.loc[election2017_forsa['party'] == 'gru']\n",
    "election2017_emnid_gru = election2017_emnid.loc[election2017_emnid['party'] == 'gru']\n",
    "election2017_gms_gru = election2017_gms.loc[election2017_gms['party'] == 'gru']\n",
    "election2017_infra_gru = election2017_infra.loc[election2017_infra['party'] == 'gru']\n",
    "election2017_fgruppe_gru = election2017_fgruppe.loc[election2017_fgruppe['party'] == 'gru']\n",
    "\n",
    "election2017_allen_gru['support'].plot(label=\"Allensbach\", legend = True)\n",
    "election2017_insa_gru['support'].plot(label=\"Insa\", legend = True)\n",
    "election2017_forsa_gru['support'].plot(label=\"Forsa\", legend = True)\n",
    "election2017_emnid_gru['support'].plot(label=\"Emnid\", legend = True)\n",
    "election2017_gms_gru['support'].plot(label=\"GMS\", legend = True)\n",
    "election2017_infra_gru['support'].plot(label=\"Infra\", legend = True)\n",
    "election2017_fgruppe_gru['support'].plot(label=\"Fgruppe\", legend = True)\n",
    "plt.xlabel(\"Date\")\n",
    "plt.ylabel(\"Voteshares\")\n",
    "plt.title(\"Grune party support from polls for 2017 election\")\n",
    "plt.show()\n",
    "plt.clf()"
   ]
  },
  {
   "cell_type": "code",
   "execution_count": 31,
   "metadata": {},
   "outputs": [
    {
     "data": {
      "image/png": "[encoded data removed]",
      "text/plain": [
       "<matplotlib.figure.Figure at 0x116d880f0>"
      ]
     },
     "metadata": {
      "needs_background": "light"
     },
     "output_type": "display_data"
    },
    {
     "data": {
      "text/plain": [
       "<matplotlib.figure.Figure at 0x116b8da20>"
      ]
     },
     "metadata": {},
     "output_type": "display_data"
    }
   ],
   "source": [
    "election2017_allen_spd = election2017_allen.loc[election2017_allen['party'] == 'spd']\n",
    "election2017_insa_spd = election2017_insa.loc[election2017_insa['party'] == 'spd']\n",
    "election2017_forsa_spd = election2017_forsa.loc[election2017_forsa['party'] == 'spd']\n",
    "election2017_emnid_spd = election2017_emnid.loc[election2017_emnid['party'] == 'spd']\n",
    "election2017_gms_spd = election2017_gms.loc[election2017_gms['party'] == 'spd']\n",
    "election2017_infra_spd = election2017_infra.loc[election2017_infra['party'] == 'spd']\n",
    "election2017_fgruppe_spd = election2017_fgruppe.loc[election2017_fgruppe['party'] == 'spd']\n",
    "\n",
    "election2017_allen_spd['support'].plot(label=\"Allensbach\", legend = True)\n",
    "election2017_insa_spd['support'].plot(label=\"Insa\", legend = True)\n",
    "election2017_forsa_spd['support'].plot(label=\"Forsa\", legend = True)\n",
    "election2017_emnid_spd['support'].plot(label=\"Emnid\", legend = True)\n",
    "election2017_gms_spd['support'].plot(label=\"GMS\", legend = True)\n",
    "election2017_infra_spd['support'].plot(label=\"Infra\", legend = True)\n",
    "election2017_fgruppe_spd['support'].plot(label=\"Fgruppe\", legend = True)\n",
    "plt.xlabel(\"Date\")\n",
    "plt.ylabel(\"Voteshares\")\n",
    "plt.title(\"SPD party support from polls for 2017 election\")\n",
    "plt.show()\n",
    "plt.clf()"
   ]
  },
  {
   "cell_type": "code",
   "execution_count": 32,
   "metadata": {},
   "outputs": [
    {
     "data": {
      "image/png": "[encoded data removed]",
      "text/plain": [
       "<matplotlib.figure.Figure at 0x116ba79e8>"
      ]
     },
     "metadata": {
      "needs_background": "light"
     },
     "output_type": "display_data"
    },
    {
     "data": {
      "text/plain": [
       "<matplotlib.figure.Figure at 0x116e89ac8>"
      ]
     },
     "metadata": {},
     "output_type": "display_data"
    }
   ],
   "source": [
    "election2017_allen_cdu = election2017_allen.loc[election2017_allen['party'] == 'cdu']\n",
    "election2017_insa_cdu = election2017_insa.loc[election2017_insa['party'] == 'cdu']\n",
    "election2017_forsa_cdu = election2017_forsa.loc[election2017_forsa['party'] == 'cdu']\n",
    "election2017_emnid_cdu = election2017_emnid.loc[election2017_emnid['party'] == 'cdu']\n",
    "election2017_gms_cdu = election2017_gms.loc[election2017_gms['party'] == 'cdu']\n",
    "election2017_infra_cdu = election2017_infra.loc[election2017_infra['party'] == 'cdu']\n",
    "election2017_fgruppe_cdu = election2017_fgruppe.loc[election2017_fgruppe['party'] == 'cdu']\n",
    "\n",
    "election2017_allen_cdu['support'].plot(label=\"Allensbach\", legend = True)\n",
    "election2017_insa_cdu['support'].plot(label=\"Insa\", legend = True)\n",
    "election2017_forsa_cdu['support'].plot(label=\"Forsa\", legend = True)\n",
    "election2017_emnid_cdu['support'].plot(label=\"Emnid\", legend = True)\n",
    "election2017_gms_cdu['support'].plot(label=\"GMS\", legend = True)\n",
    "election2017_infra_cdu['support'].plot(label=\"Infra\", legend = True)\n",
    "election2017_fgruppe_cdu['support'].plot(label=\"Fgruppe\", legend = True)\n",
    "plt.xlabel(\"Date\")\n",
    "plt.ylabel(\"Voteshares\")\n",
    "plt.title(\"CDU party support from polls for 2017 election\")\n",
    "plt.show()\n",
    "plt.clf()"
   ]
  },
  {
   "cell_type": "code",
   "execution_count": 33,
   "metadata": {},
   "outputs": [
    {
     "data": {
      "image/png": "[encoded data removed]",
      "text/plain": [
       "<matplotlib.figure.Figure at 0x116e78588>"
      ]
     },
     "metadata": {
      "needs_background": "light"
     },
     "output_type": "display_data"
    },
    {
     "data": {
      "text/plain": [
       "<matplotlib.figure.Figure at 0x116e6c7b8>"
      ]
     },
     "metadata": {},
     "output_type": "display_data"
    }
   ],
   "source": [
    "election2017_allen_lin = election2017_allen.loc[election2017_allen['party'] == 'lin']\n",
    "election2017_insa_lin = election2017_insa.loc[election2017_insa['party'] == 'lin']\n",
    "election2017_forsa_lin = election2017_forsa.loc[election2017_forsa['party'] == 'lin']\n",
    "election2017_emnid_lin = election2017_emnid.loc[election2017_emnid['party'] == 'lin']\n",
    "election2017_gms_lin = election2017_gms.loc[election2017_gms['party'] == 'lin']\n",
    "election2017_infra_lin = election2017_infra.loc[election2017_infra['party'] == 'lin']\n",
    "election2017_fgruppe_lin = election2017_fgruppe.loc[election2017_fgruppe['party'] == 'lin']\n",
    "\n",
    "election2017_allen_lin['support'].plot(label=\"Allensbach\", legend = True)\n",
    "election2017_insa_lin['support'].plot(label=\"Insa\", legend = True)\n",
    "election2017_forsa_lin['support'].plot(label=\"Forsa\", legend = True)\n",
    "election2017_emnid_lin['support'].plot(label=\"Emnid\", legend = True)\n",
    "election2017_gms_lin['support'].plot(label=\"GMS\", legend = True)\n",
    "election2017_infra_lin['support'].plot(label=\"Infra\", legend = True)\n",
    "election2017_fgruppe_lin['support'].plot(label=\"Fgruppe\", legend = True)\n",
    "plt.xlabel(\"Date\")\n",
    "plt.ylabel(\"Voteshares\")\n",
    "plt.title(\"Die Linke party support from polls for 2017 election\")\n",
    "plt.show()\n",
    "plt.clf()"
   ]
  },
  {
   "cell_type": "code",
   "execution_count": 34,
   "metadata": {},
   "outputs": [
    {
     "data": {
      "image/png": "[encoded data removed]",
      "text/plain": [
       "<matplotlib.figure.Figure at 0x116d344e0>"
      ]
     },
     "metadata": {
      "needs_background": "light"
     },
     "output_type": "display_data"
    },
    {
     "data": {
      "text/plain": [
       "<matplotlib.figure.Figure at 0x116d068d0>"
      ]
     },
     "metadata": {},
     "output_type": "display_data"
    }
   ],
   "source": [
    "election2017_allen_fdp = election2017_allen.loc[election2017_allen['party'] == 'fdp']\n",
    "election2017_insa_fdp = election2017_insa.loc[election2017_insa['party'] == 'fdp']\n",
    "election2017_forsa_fdp = election2017_forsa.loc[election2017_forsa['party'] == 'fdp']\n",
    "election2017_emnid_fdp = election2017_emnid.loc[election2017_emnid['party'] == 'fdp']\n",
    "election2017_gms_fdp = election2017_gms.loc[election2017_gms['party'] == 'fdp']\n",
    "election2017_infra_fdp = election2017_infra.loc[election2017_infra['party'] == 'fdp']\n",
    "election2017_fgruppe_fdp = election2017_fgruppe.loc[election2017_fgruppe['party'] == 'fdp']\n",
    "\n",
    "election2017_allen_fdp['support'].plot(label=\"Allensbach\", legend = True)\n",
    "election2017_insa_fdp['support'].plot(label=\"Insa\", legend = True)\n",
    "election2017_forsa_fdp['support'].plot(label=\"Forsa\", legend = True)\n",
    "election2017_emnid_fdp['support'].plot(label=\"Emnid\", legend = True)\n",
    "election2017_gms_fdp['support'].plot(label=\"GMS\", legend = True)\n",
    "election2017_infra_fdp['support'].plot(label=\"Infra\", legend = True)\n",
    "election2017_fgruppe_fdp['support'].plot(label=\"Fgruppe\", legend = True)\n",
    "plt.xlabel(\"Date\")\n",
    "plt.ylabel(\"Voteshares\")\n",
    "plt.title(\"FDP party support from polls for 2017 election\")\n",
    "plt.show()\n",
    "plt.clf()"
   ]
  },
  {
   "cell_type": "code",
   "execution_count": 35,
   "metadata": {},
   "outputs": [
    {
     "data": {
      "text/html": [
       "<div>\n",
       "<style scoped>\n",
       "    .dataframe tbody tr th:only-of-type {\n",
       "        vertical-align: middle;\n",
       "    }\n",
       "\n",
       "    .dataframe tbody tr th {\n",
       "        vertical-align: top;\n",
       "    }\n",
       "\n",
       "    .dataframe thead th {\n",
       "        text-align: right;\n",
       "    }\n",
       "</style>\n",
       "<table border=\"1\" class=\"dataframe\">\n",
       "  <thead>\n",
       "    <tr style=\"text-align: right;\">\n",
       "      <th></th>\n",
       "      <th>2013-10-23 00:00:00</th>\n",
       "      <th>2013-10-24 00:00:00</th>\n",
       "      <th>2013-10-25 00:00:00</th>\n",
       "      <th>2013-10-26 00:00:00</th>\n",
       "      <th>2013-10-27 00:00:00</th>\n",
       "      <th>2013-10-28 00:00:00</th>\n",
       "      <th>2013-10-29 00:00:00</th>\n",
       "      <th>2013-10-30 00:00:00</th>\n",
       "      <th>2013-10-31 00:00:00</th>\n",
       "      <th>2013-11-01 00:00:00</th>\n",
       "      <th>...</th>\n",
       "      <th>2017-09-12 00:00:00</th>\n",
       "      <th>2017-09-13 00:00:00</th>\n",
       "      <th>2017-09-14 00:00:00</th>\n",
       "      <th>2017-09-15 00:00:00</th>\n",
       "      <th>2017-09-16 00:00:00</th>\n",
       "      <th>2017-09-17 00:00:00</th>\n",
       "      <th>2017-09-18 00:00:00</th>\n",
       "      <th>2017-09-19 00:00:00</th>\n",
       "      <th>2017-09-20 00:00:00</th>\n",
       "      <th>2017-09-21 00:00:00</th>\n",
       "    </tr>\n",
       "  </thead>\n",
       "  <tbody>\n",
       "    <tr>\n",
       "      <th>support</th>\n",
       "      <td>5.500000</td>\n",
       "      <td>5.485714</td>\n",
       "      <td>5.471429</td>\n",
       "      <td>5.457143</td>\n",
       "      <td>5.442857</td>\n",
       "      <td>5.428571</td>\n",
       "      <td>5.414286</td>\n",
       "      <td>5.400000</td>\n",
       "      <td>5.385714</td>\n",
       "      <td>5.371429</td>\n",
       "      <td>...</td>\n",
       "      <td>8.923077</td>\n",
       "      <td>9.076923</td>\n",
       "      <td>9.230769</td>\n",
       "      <td>9.384615</td>\n",
       "      <td>9.538462</td>\n",
       "      <td>9.692308</td>\n",
       "      <td>9.846154</td>\n",
       "      <td>10.000000</td>\n",
       "      <td>10.000000</td>\n",
       "      <td>10.0</td>\n",
       "    </tr>\n",
       "    <tr>\n",
       "      <th>support</th>\n",
       "      <td>4.111111</td>\n",
       "      <td>4.166667</td>\n",
       "      <td>4.222222</td>\n",
       "      <td>4.277778</td>\n",
       "      <td>4.333333</td>\n",
       "      <td>4.388889</td>\n",
       "      <td>4.444444</td>\n",
       "      <td>4.500000</td>\n",
       "      <td>4.428571</td>\n",
       "      <td>4.357143</td>\n",
       "      <td>...</td>\n",
       "      <td>11.000000</td>\n",
       "      <td>11.000000</td>\n",
       "      <td>11.000000</td>\n",
       "      <td>11.000000</td>\n",
       "      <td>11.000000</td>\n",
       "      <td>11.000000</td>\n",
       "      <td>11.000000</td>\n",
       "      <td>11.000000</td>\n",
       "      <td>11.000000</td>\n",
       "      <td>11.0</td>\n",
       "    </tr>\n",
       "    <tr>\n",
       "      <th>support</th>\n",
       "      <td>5.000000</td>\n",
       "      <td>5.000000</td>\n",
       "      <td>5.000000</td>\n",
       "      <td>5.000000</td>\n",
       "      <td>5.000000</td>\n",
       "      <td>5.000000</td>\n",
       "      <td>5.000000</td>\n",
       "      <td>5.000000</td>\n",
       "      <td>5.000000</td>\n",
       "      <td>5.000000</td>\n",
       "      <td>...</td>\n",
       "      <td>9.000000</td>\n",
       "      <td>9.000000</td>\n",
       "      <td>9.000000</td>\n",
       "      <td>9.000000</td>\n",
       "      <td>9.000000</td>\n",
       "      <td>9.000000</td>\n",
       "      <td>9.000000</td>\n",
       "      <td>9.000000</td>\n",
       "      <td>9.000000</td>\n",
       "      <td>9.0</td>\n",
       "    </tr>\n",
       "    <tr>\n",
       "      <th>support</th>\n",
       "      <td>5.000000</td>\n",
       "      <td>5.000000</td>\n",
       "      <td>5.000000</td>\n",
       "      <td>5.000000</td>\n",
       "      <td>5.000000</td>\n",
       "      <td>5.000000</td>\n",
       "      <td>5.000000</td>\n",
       "      <td>5.000000</td>\n",
       "      <td>5.000000</td>\n",
       "      <td>5.000000</td>\n",
       "      <td>...</td>\n",
       "      <td>9.857143</td>\n",
       "      <td>10.142857</td>\n",
       "      <td>10.428571</td>\n",
       "      <td>10.714286</td>\n",
       "      <td>11.000000</td>\n",
       "      <td>11.000000</td>\n",
       "      <td>11.000000</td>\n",
       "      <td>11.000000</td>\n",
       "      <td>11.000000</td>\n",
       "      <td>11.0</td>\n",
       "    </tr>\n",
       "    <tr>\n",
       "      <th>support</th>\n",
       "      <td>5.771429</td>\n",
       "      <td>5.742857</td>\n",
       "      <td>5.714286</td>\n",
       "      <td>5.685714</td>\n",
       "      <td>5.657143</td>\n",
       "      <td>5.628571</td>\n",
       "      <td>5.600000</td>\n",
       "      <td>5.571429</td>\n",
       "      <td>5.542857</td>\n",
       "      <td>5.514286</td>\n",
       "      <td>...</td>\n",
       "      <td>8.714286</td>\n",
       "      <td>8.857143</td>\n",
       "      <td>9.000000</td>\n",
       "      <td>9.142857</td>\n",
       "      <td>9.285714</td>\n",
       "      <td>9.428571</td>\n",
       "      <td>9.571429</td>\n",
       "      <td>9.714286</td>\n",
       "      <td>9.857143</td>\n",
       "      <td>10.0</td>\n",
       "    </tr>\n",
       "  </tbody>\n",
       "</table>\n",
       "<p>5 rows × 1430 columns</p>\n",
       "</div>"
      ],
      "text/plain": [
       "         2013-10-23  2013-10-24  2013-10-25  2013-10-26  2013-10-27  \\\n",
       "support    5.500000    5.485714    5.471429    5.457143    5.442857   \n",
       "support    4.111111    4.166667    4.222222    4.277778    4.333333   \n",
       "support    5.000000    5.000000    5.000000    5.000000    5.000000   \n",
       "support    5.000000    5.000000    5.000000    5.000000    5.000000   \n",
       "support    5.771429    5.742857    5.714286    5.685714    5.657143   \n",
       "\n",
       "         2013-10-28  2013-10-29  2013-10-30  2013-10-31  2013-11-01  ...  \\\n",
       "support    5.428571    5.414286    5.400000    5.385714    5.371429  ...   \n",
       "support    4.388889    4.444444    4.500000    4.428571    4.357143  ...   \n",
       "support    5.000000    5.000000    5.000000    5.000000    5.000000  ...   \n",
       "support    5.000000    5.000000    5.000000    5.000000    5.000000  ...   \n",
       "support    5.628571    5.600000    5.571429    5.542857    5.514286  ...   \n",
       "\n",
       "         2017-09-12  2017-09-13  2017-09-14  2017-09-15  2017-09-16  \\\n",
       "support    8.923077    9.076923    9.230769    9.384615    9.538462   \n",
       "support   11.000000   11.000000   11.000000   11.000000   11.000000   \n",
       "support    9.000000    9.000000    9.000000    9.000000    9.000000   \n",
       "support    9.857143   10.142857   10.428571   10.714286   11.000000   \n",
       "support    8.714286    8.857143    9.000000    9.142857    9.285714   \n",
       "\n",
       "         2017-09-17  2017-09-18  2017-09-19  2017-09-20  2017-09-21  \n",
       "support    9.692308    9.846154   10.000000   10.000000        10.0  \n",
       "support   11.000000   11.000000   11.000000   11.000000        11.0  \n",
       "support    9.000000    9.000000    9.000000    9.000000         9.0  \n",
       "support   11.000000   11.000000   11.000000   11.000000        11.0  \n",
       "support    9.428571    9.571429    9.714286    9.857143        10.0  \n",
       "\n",
       "[5 rows x 1430 columns]"
      ]
     },
     "execution_count": 35,
     "metadata": {},
     "output_type": "execute_result"
    }
   ],
   "source": [
    "#Create new dataframe with all new time-series from 7 institutions\n",
    "\n",
    "frames_afd = [interpolated_election2017_allen_afd, interpolated_election2017_insa_afd, \n",
    "         interpolated_election2017_forsa_afd, interpolated_election2017_emnid_afd,\n",
    "         interpolated_election2017_gms_afd, interpolated_election2017_infra_afd, \n",
    "         interpolated_election2017_fgruppe_afd]\n",
    "\n",
    "result_afd = pd.concat(frames_afd, axis=1)\n",
    "final_result_afd = result_afd.T\n",
    "final_result_afd.head()"
   ]
  },
  {
   "cell_type": "markdown",
   "metadata": {},
   "source": [
    "## MODELLING FOR AFD"
   ]
  },
  {
   "cell_type": "code",
   "execution_count": 36,
   "metadata": {},
   "outputs": [],
   "source": [
    "#import libraries \n",
    "\n",
    "import talib\n",
    "import numpy as np\n",
    "from sklearn.metrics import mean_squared_log_error\n",
    "from sklearn.ensemble import RandomForestRegressor\n"
   ]
  },
  {
   "cell_type": "markdown",
   "metadata": {},
   "source": [
    "##### Correlations\n",
    "Correlations are nice to check out before building machine learning models, because we can see which features correlate to the target most strongly. Pearson's correlation coefficient is often used, which only detects linear relationships. It's commonly assumed our data is normally distributed, which we can \"eyeball\" from histograms. Highly correlated variables have a Pearson correlation coefficient near 1 (positively correlated) or -1 (negatively correlated). A value near 0 means the two variables are not linearly correlated.\n",
    "\n",
    "If we use the same time periods for previous voteshares changes and future voteshares changes, we can see if the vote share is mean-reverting (bounces around) or trend-following (goes up if it has been going up recently)."
   ]
  },
  {
   "cell_type": "code",
   "execution_count": 37,
   "metadata": {},
   "outputs": [
    {
     "data": {
      "text/html": [
       "<div>\n",
       "<style scoped>\n",
       "    .dataframe tbody tr th:only-of-type {\n",
       "        vertical-align: middle;\n",
       "    }\n",
       "\n",
       "    .dataframe tbody tr th {\n",
       "        vertical-align: top;\n",
       "    }\n",
       "\n",
       "    .dataframe thead th {\n",
       "        text-align: right;\n",
       "    }\n",
       "</style>\n",
       "<table border=\"1\" class=\"dataframe\">\n",
       "  <thead>\n",
       "    <tr style=\"text-align: right;\">\n",
       "      <th></th>\n",
       "      <th>support</th>\n",
       "    </tr>\n",
       "  </thead>\n",
       "  <tbody>\n",
       "    <tr>\n",
       "      <th>2017-09-17</th>\n",
       "      <td>9.692308</td>\n",
       "    </tr>\n",
       "    <tr>\n",
       "      <th>2017-09-18</th>\n",
       "      <td>9.846154</td>\n",
       "    </tr>\n",
       "    <tr>\n",
       "      <th>2017-09-19</th>\n",
       "      <td>10.000000</td>\n",
       "    </tr>\n",
       "    <tr>\n",
       "      <th>2017-09-20</th>\n",
       "      <td>10.000000</td>\n",
       "    </tr>\n",
       "    <tr>\n",
       "      <th>2017-09-21</th>\n",
       "      <td>10.000000</td>\n",
       "    </tr>\n",
       "  </tbody>\n",
       "</table>\n",
       "</div>"
      ],
      "text/plain": [
       "              support\n",
       "2017-09-17   9.692308\n",
       "2017-09-18   9.846154\n",
       "2017-09-19  10.000000\n",
       "2017-09-20  10.000000\n",
       "2017-09-21  10.000000"
      ]
     },
     "execution_count": 37,
     "metadata": {},
     "output_type": "execute_result"
    }
   ],
   "source": [
    "#Create dataframe from interpolated allensbach data for AFD\n",
    "\n",
    "df_2017_allen_afd = interpolated_election2017_allen_afd.to_frame()\n",
    "df_2017_allen_afd.tail()"
   ]
  },
  {
   "cell_type": "code",
   "execution_count": 38,
   "metadata": {},
   "outputs": [],
   "source": [
    "# Create 3-day % changes of support for the current day, and 3 days in the future\n",
    "\n",
    "df_2017_allen_afd['3d_future'] = df_2017_allen_afd['support'].shift(-3)\n",
    "df_2017_allen_afd['3d_future_pct'] = df_2017_allen_afd['3d_future'].pct_change(3)\n",
    "df_2017_allen_afd['3d_pct'] = df_2017_allen_afd['support'].pct_change(3)"
   ]
  },
  {
   "cell_type": "code",
   "execution_count": 39,
   "metadata": {},
   "outputs": [
    {
     "data": {
      "text/html": [
       "<div>\n",
       "<style scoped>\n",
       "    .dataframe tbody tr th:only-of-type {\n",
       "        vertical-align: middle;\n",
       "    }\n",
       "\n",
       "    .dataframe tbody tr th {\n",
       "        vertical-align: top;\n",
       "    }\n",
       "\n",
       "    .dataframe thead th {\n",
       "        text-align: right;\n",
       "    }\n",
       "</style>\n",
       "<table border=\"1\" class=\"dataframe\">\n",
       "  <thead>\n",
       "    <tr style=\"text-align: right;\">\n",
       "      <th></th>\n",
       "      <th>support</th>\n",
       "      <th>3d_future</th>\n",
       "      <th>3d_future_pct</th>\n",
       "      <th>3d_pct</th>\n",
       "    </tr>\n",
       "  </thead>\n",
       "  <tbody>\n",
       "    <tr>\n",
       "      <th>2013-10-23</th>\n",
       "      <td>5.500000</td>\n",
       "      <td>5.457143</td>\n",
       "      <td>NaN</td>\n",
       "      <td>NaN</td>\n",
       "    </tr>\n",
       "    <tr>\n",
       "      <th>2013-10-24</th>\n",
       "      <td>5.485714</td>\n",
       "      <td>5.442857</td>\n",
       "      <td>NaN</td>\n",
       "      <td>NaN</td>\n",
       "    </tr>\n",
       "    <tr>\n",
       "      <th>2013-10-25</th>\n",
       "      <td>5.471429</td>\n",
       "      <td>5.428571</td>\n",
       "      <td>NaN</td>\n",
       "      <td>NaN</td>\n",
       "    </tr>\n",
       "    <tr>\n",
       "      <th>2013-10-26</th>\n",
       "      <td>5.457143</td>\n",
       "      <td>5.414286</td>\n",
       "      <td>-0.007853</td>\n",
       "      <td>-0.007792</td>\n",
       "    </tr>\n",
       "    <tr>\n",
       "      <th>2013-10-27</th>\n",
       "      <td>5.442857</td>\n",
       "      <td>5.400000</td>\n",
       "      <td>-0.007874</td>\n",
       "      <td>-0.007812</td>\n",
       "    </tr>\n",
       "    <tr>\n",
       "      <th>2013-10-28</th>\n",
       "      <td>5.428571</td>\n",
       "      <td>5.385714</td>\n",
       "      <td>-0.007895</td>\n",
       "      <td>-0.007833</td>\n",
       "    </tr>\n",
       "    <tr>\n",
       "      <th>2013-10-29</th>\n",
       "      <td>5.414286</td>\n",
       "      <td>5.371429</td>\n",
       "      <td>-0.007916</td>\n",
       "      <td>-0.007853</td>\n",
       "    </tr>\n",
       "    <tr>\n",
       "      <th>2013-10-30</th>\n",
       "      <td>5.400000</td>\n",
       "      <td>5.357143</td>\n",
       "      <td>-0.007937</td>\n",
       "      <td>-0.007874</td>\n",
       "    </tr>\n",
       "    <tr>\n",
       "      <th>2013-10-31</th>\n",
       "      <td>5.385714</td>\n",
       "      <td>5.342857</td>\n",
       "      <td>-0.007958</td>\n",
       "      <td>-0.007895</td>\n",
       "    </tr>\n",
       "    <tr>\n",
       "      <th>2013-11-01</th>\n",
       "      <td>5.371429</td>\n",
       "      <td>5.328571</td>\n",
       "      <td>-0.007979</td>\n",
       "      <td>-0.007916</td>\n",
       "    </tr>\n",
       "  </tbody>\n",
       "</table>\n",
       "</div>"
      ],
      "text/plain": [
       "             support  3d_future  3d_future_pct    3d_pct\n",
       "2013-10-23  5.500000   5.457143            NaN       NaN\n",
       "2013-10-24  5.485714   5.442857            NaN       NaN\n",
       "2013-10-25  5.471429   5.428571            NaN       NaN\n",
       "2013-10-26  5.457143   5.414286      -0.007853 -0.007792\n",
       "2013-10-27  5.442857   5.400000      -0.007874 -0.007812\n",
       "2013-10-28  5.428571   5.385714      -0.007895 -0.007833\n",
       "2013-10-29  5.414286   5.371429      -0.007916 -0.007853\n",
       "2013-10-30  5.400000   5.357143      -0.007937 -0.007874\n",
       "2013-10-31  5.385714   5.342857      -0.007958 -0.007895\n",
       "2013-11-01  5.371429   5.328571      -0.007979 -0.007916"
      ]
     },
     "execution_count": 39,
     "metadata": {},
     "output_type": "execute_result"
    }
   ],
   "source": [
    "#look at the new dataframe\n",
    "\n",
    "df_2017_allen_afd.head(10)"
   ]
  },
  {
   "cell_type": "code",
   "execution_count": 40,
   "metadata": {},
   "outputs": [
    {
     "name": "stdout",
     "output_type": "stream",
     "text": [
      "                 3d_pct  3d_future_pct\n",
      "3d_pct         1.000000       0.923151\n",
      "3d_future_pct  0.923151       1.000000\n"
     ]
    }
   ],
   "source": [
    "# Calculate the correlation matrix between the 3d close pecentage changes (current and future)\n",
    "\n",
    "corr = df_2017_allen_afd[['3d_pct', '3d_future_pct']].corr()\n",
    "print(corr)"
   ]
  },
  {
   "cell_type": "code",
   "execution_count": 41,
   "metadata": {},
   "outputs": [
    {
     "data": {
      "image/png": "[encoded data removed]",
      "text/plain": [
       "<matplotlib.figure.Figure at 0x117d2ef28>"
      ]
     },
     "metadata": {
      "needs_background": "light"
     },
     "output_type": "display_data"
    }
   ],
   "source": [
    "# Scatter the current 3-day percent change vs the future 3-day percent change\n",
    "plt.scatter(df_2017_allen_afd['3d_pct'], df_2017_allen_afd['3d_future_pct'])\n",
    "plt.show()"
   ]
  },
  {
   "cell_type": "markdown",
   "metadata": {},
   "source": [
    "#### Create moving average\n",
    "\n",
    "We want to add historical data to our machine learning models to make better predictions, but adding lots of historical time steps is tricky. Instead, we can condense information from previous points into a single timestep with indicators.\n",
    "\n",
    "A moving average is one of the simplest indicators - it's the average of previous data points. This is the function talib.SMA() from the TAlib library."
   ]
  },
  {
   "cell_type": "code",
   "execution_count": 42,
   "metadata": {},
   "outputs": [
    {
     "name": "stdout",
     "output_type": "stream",
     "text": [
      "['3d_future_pct', 'ma3', 'ma5', 'ma10', 'ma20', 'ma30', 'ma50', 'ma100', 'ma200']\n"
     ]
    }
   ],
   "source": [
    "feature_names = ['3d_future_pct']  # a list of the feature names for later\n",
    "\n",
    "# Create moving averages timeperiods of 3, 5, 10, 20, 30, 50, 100 and 200\n",
    "for n in [3, 5, 10, 20, 30, 50, 100, 200]:\n",
    "\n",
    "    # Create the moving average indicator and divide by support\n",
    "    df_2017_allen_afd['ma' + str(n)] = talib.SMA(df_2017_allen_afd['support'].values,\n",
    "                              timeperiod=n) / df_2017_allen_afd['support']\n",
    "    # Create the RSI indicator\n",
    "    #df_2017_allen_afd['rsi' + str(n)] = talib.RSI(df_2017_allen_afd['support'].values, timeperiod=n)\n",
    "    \n",
    "    # Add rsi and moving average to the feature name list\n",
    "    feature_names = feature_names + ['ma' + str(n)]\n",
    "print(feature_names)"
   ]
  },
  {
   "cell_type": "code",
   "execution_count": 43,
   "metadata": {},
   "outputs": [
    {
     "data": {
      "text/html": [
       "<div>\n",
       "<style scoped>\n",
       "    .dataframe tbody tr th:only-of-type {\n",
       "        vertical-align: middle;\n",
       "    }\n",
       "\n",
       "    .dataframe tbody tr th {\n",
       "        vertical-align: top;\n",
       "    }\n",
       "\n",
       "    .dataframe thead th {\n",
       "        text-align: right;\n",
       "    }\n",
       "</style>\n",
       "<table border=\"1\" class=\"dataframe\">\n",
       "  <thead>\n",
       "    <tr style=\"text-align: right;\">\n",
       "      <th></th>\n",
       "      <th>support</th>\n",
       "      <th>3d_future</th>\n",
       "      <th>3d_future_pct</th>\n",
       "      <th>3d_pct</th>\n",
       "      <th>ma3</th>\n",
       "      <th>ma5</th>\n",
       "      <th>ma10</th>\n",
       "      <th>ma20</th>\n",
       "      <th>ma30</th>\n",
       "      <th>ma50</th>\n",
       "      <th>ma100</th>\n",
       "      <th>ma200</th>\n",
       "    </tr>\n",
       "  </thead>\n",
       "  <tbody>\n",
       "    <tr>\n",
       "      <th>2013-10-23</th>\n",
       "      <td>5.500000</td>\n",
       "      <td>5.457143</td>\n",
       "      <td>NaN</td>\n",
       "      <td>NaN</td>\n",
       "      <td>NaN</td>\n",
       "      <td>NaN</td>\n",
       "      <td>NaN</td>\n",
       "      <td>NaN</td>\n",
       "      <td>NaN</td>\n",
       "      <td>NaN</td>\n",
       "      <td>NaN</td>\n",
       "      <td>NaN</td>\n",
       "    </tr>\n",
       "    <tr>\n",
       "      <th>2013-10-24</th>\n",
       "      <td>5.485714</td>\n",
       "      <td>5.442857</td>\n",
       "      <td>NaN</td>\n",
       "      <td>NaN</td>\n",
       "      <td>NaN</td>\n",
       "      <td>NaN</td>\n",
       "      <td>NaN</td>\n",
       "      <td>NaN</td>\n",
       "      <td>NaN</td>\n",
       "      <td>NaN</td>\n",
       "      <td>NaN</td>\n",
       "      <td>NaN</td>\n",
       "    </tr>\n",
       "    <tr>\n",
       "      <th>2013-10-25</th>\n",
       "      <td>5.471429</td>\n",
       "      <td>5.428571</td>\n",
       "      <td>NaN</td>\n",
       "      <td>NaN</td>\n",
       "      <td>1.002611</td>\n",
       "      <td>NaN</td>\n",
       "      <td>NaN</td>\n",
       "      <td>NaN</td>\n",
       "      <td>NaN</td>\n",
       "      <td>NaN</td>\n",
       "      <td>NaN</td>\n",
       "      <td>NaN</td>\n",
       "    </tr>\n",
       "    <tr>\n",
       "      <th>2013-10-26</th>\n",
       "      <td>5.457143</td>\n",
       "      <td>5.414286</td>\n",
       "      <td>-0.007853</td>\n",
       "      <td>-0.007792</td>\n",
       "      <td>1.002618</td>\n",
       "      <td>NaN</td>\n",
       "      <td>NaN</td>\n",
       "      <td>NaN</td>\n",
       "      <td>NaN</td>\n",
       "      <td>NaN</td>\n",
       "      <td>NaN</td>\n",
       "      <td>NaN</td>\n",
       "    </tr>\n",
       "    <tr>\n",
       "      <th>2013-10-27</th>\n",
       "      <td>5.442857</td>\n",
       "      <td>5.400000</td>\n",
       "      <td>-0.007874</td>\n",
       "      <td>-0.007812</td>\n",
       "      <td>1.002625</td>\n",
       "      <td>1.005249</td>\n",
       "      <td>NaN</td>\n",
       "      <td>NaN</td>\n",
       "      <td>NaN</td>\n",
       "      <td>NaN</td>\n",
       "      <td>NaN</td>\n",
       "      <td>NaN</td>\n",
       "    </tr>\n",
       "    <tr>\n",
       "      <th>2013-10-28</th>\n",
       "      <td>5.428571</td>\n",
       "      <td>5.385714</td>\n",
       "      <td>-0.007895</td>\n",
       "      <td>-0.007833</td>\n",
       "      <td>1.002632</td>\n",
       "      <td>1.005263</td>\n",
       "      <td>NaN</td>\n",
       "      <td>NaN</td>\n",
       "      <td>NaN</td>\n",
       "      <td>NaN</td>\n",
       "      <td>NaN</td>\n",
       "      <td>NaN</td>\n",
       "    </tr>\n",
       "    <tr>\n",
       "      <th>2013-10-29</th>\n",
       "      <td>5.414286</td>\n",
       "      <td>5.371429</td>\n",
       "      <td>-0.007916</td>\n",
       "      <td>-0.007853</td>\n",
       "      <td>1.002639</td>\n",
       "      <td>1.005277</td>\n",
       "      <td>NaN</td>\n",
       "      <td>NaN</td>\n",
       "      <td>NaN</td>\n",
       "      <td>NaN</td>\n",
       "      <td>NaN</td>\n",
       "      <td>NaN</td>\n",
       "    </tr>\n",
       "    <tr>\n",
       "      <th>2013-10-30</th>\n",
       "      <td>5.400000</td>\n",
       "      <td>5.357143</td>\n",
       "      <td>-0.007937</td>\n",
       "      <td>-0.007874</td>\n",
       "      <td>1.002646</td>\n",
       "      <td>1.005291</td>\n",
       "      <td>NaN</td>\n",
       "      <td>NaN</td>\n",
       "      <td>NaN</td>\n",
       "      <td>NaN</td>\n",
       "      <td>NaN</td>\n",
       "      <td>NaN</td>\n",
       "    </tr>\n",
       "    <tr>\n",
       "      <th>2013-10-31</th>\n",
       "      <td>5.385714</td>\n",
       "      <td>5.342857</td>\n",
       "      <td>-0.007958</td>\n",
       "      <td>-0.007895</td>\n",
       "      <td>1.002653</td>\n",
       "      <td>1.005305</td>\n",
       "      <td>NaN</td>\n",
       "      <td>NaN</td>\n",
       "      <td>NaN</td>\n",
       "      <td>NaN</td>\n",
       "      <td>NaN</td>\n",
       "      <td>NaN</td>\n",
       "    </tr>\n",
       "    <tr>\n",
       "      <th>2013-11-01</th>\n",
       "      <td>5.371429</td>\n",
       "      <td>5.328571</td>\n",
       "      <td>-0.007979</td>\n",
       "      <td>-0.007916</td>\n",
       "      <td>1.002660</td>\n",
       "      <td>1.005319</td>\n",
       "      <td>1.011968</td>\n",
       "      <td>NaN</td>\n",
       "      <td>NaN</td>\n",
       "      <td>NaN</td>\n",
       "      <td>NaN</td>\n",
       "      <td>NaN</td>\n",
       "    </tr>\n",
       "    <tr>\n",
       "      <th>2013-11-02</th>\n",
       "      <td>5.357143</td>\n",
       "      <td>5.314286</td>\n",
       "      <td>-0.008000</td>\n",
       "      <td>-0.007937</td>\n",
       "      <td>1.002667</td>\n",
       "      <td>1.005333</td>\n",
       "      <td>1.012000</td>\n",
       "      <td>NaN</td>\n",
       "      <td>NaN</td>\n",
       "      <td>NaN</td>\n",
       "      <td>NaN</td>\n",
       "      <td>NaN</td>\n",
       "    </tr>\n",
       "    <tr>\n",
       "      <th>2013-11-03</th>\n",
       "      <td>5.342857</td>\n",
       "      <td>5.300000</td>\n",
       "      <td>-0.008021</td>\n",
       "      <td>-0.007958</td>\n",
       "      <td>1.002674</td>\n",
       "      <td>1.005348</td>\n",
       "      <td>1.012032</td>\n",
       "      <td>NaN</td>\n",
       "      <td>NaN</td>\n",
       "      <td>NaN</td>\n",
       "      <td>NaN</td>\n",
       "      <td>NaN</td>\n",
       "    </tr>\n",
       "    <tr>\n",
       "      <th>2013-11-04</th>\n",
       "      <td>5.328571</td>\n",
       "      <td>5.285714</td>\n",
       "      <td>-0.008043</td>\n",
       "      <td>-0.007979</td>\n",
       "      <td>1.002681</td>\n",
       "      <td>1.005362</td>\n",
       "      <td>1.012064</td>\n",
       "      <td>NaN</td>\n",
       "      <td>NaN</td>\n",
       "      <td>NaN</td>\n",
       "      <td>NaN</td>\n",
       "      <td>NaN</td>\n",
       "    </tr>\n",
       "    <tr>\n",
       "      <th>2013-11-05</th>\n",
       "      <td>5.314286</td>\n",
       "      <td>5.271429</td>\n",
       "      <td>-0.008065</td>\n",
       "      <td>-0.008000</td>\n",
       "      <td>1.002688</td>\n",
       "      <td>1.005376</td>\n",
       "      <td>1.012097</td>\n",
       "      <td>NaN</td>\n",
       "      <td>NaN</td>\n",
       "      <td>NaN</td>\n",
       "      <td>NaN</td>\n",
       "      <td>NaN</td>\n",
       "    </tr>\n",
       "    <tr>\n",
       "      <th>2013-11-06</th>\n",
       "      <td>5.300000</td>\n",
       "      <td>5.257143</td>\n",
       "      <td>-0.008086</td>\n",
       "      <td>-0.008021</td>\n",
       "      <td>1.002695</td>\n",
       "      <td>1.005391</td>\n",
       "      <td>1.012129</td>\n",
       "      <td>NaN</td>\n",
       "      <td>NaN</td>\n",
       "      <td>NaN</td>\n",
       "      <td>NaN</td>\n",
       "      <td>NaN</td>\n",
       "    </tr>\n",
       "    <tr>\n",
       "      <th>2013-11-07</th>\n",
       "      <td>5.285714</td>\n",
       "      <td>5.242857</td>\n",
       "      <td>-0.008108</td>\n",
       "      <td>-0.008043</td>\n",
       "      <td>1.002703</td>\n",
       "      <td>1.005405</td>\n",
       "      <td>1.012162</td>\n",
       "      <td>NaN</td>\n",
       "      <td>NaN</td>\n",
       "      <td>NaN</td>\n",
       "      <td>NaN</td>\n",
       "      <td>NaN</td>\n",
       "    </tr>\n",
       "    <tr>\n",
       "      <th>2013-11-08</th>\n",
       "      <td>5.271429</td>\n",
       "      <td>5.228571</td>\n",
       "      <td>-0.008130</td>\n",
       "      <td>-0.008065</td>\n",
       "      <td>1.002710</td>\n",
       "      <td>1.005420</td>\n",
       "      <td>1.012195</td>\n",
       "      <td>NaN</td>\n",
       "      <td>NaN</td>\n",
       "      <td>NaN</td>\n",
       "      <td>NaN</td>\n",
       "      <td>NaN</td>\n",
       "    </tr>\n",
       "    <tr>\n",
       "      <th>2013-11-09</th>\n",
       "      <td>5.257143</td>\n",
       "      <td>5.214286</td>\n",
       "      <td>-0.008152</td>\n",
       "      <td>-0.008086</td>\n",
       "      <td>1.002717</td>\n",
       "      <td>1.005435</td>\n",
       "      <td>1.012228</td>\n",
       "      <td>NaN</td>\n",
       "      <td>NaN</td>\n",
       "      <td>NaN</td>\n",
       "      <td>NaN</td>\n",
       "      <td>NaN</td>\n",
       "    </tr>\n",
       "    <tr>\n",
       "      <th>2013-11-10</th>\n",
       "      <td>5.242857</td>\n",
       "      <td>5.200000</td>\n",
       "      <td>-0.008174</td>\n",
       "      <td>-0.008108</td>\n",
       "      <td>1.002725</td>\n",
       "      <td>1.005450</td>\n",
       "      <td>1.012262</td>\n",
       "      <td>NaN</td>\n",
       "      <td>NaN</td>\n",
       "      <td>NaN</td>\n",
       "      <td>NaN</td>\n",
       "      <td>NaN</td>\n",
       "    </tr>\n",
       "    <tr>\n",
       "      <th>2013-11-11</th>\n",
       "      <td>5.228571</td>\n",
       "      <td>5.185714</td>\n",
       "      <td>-0.008197</td>\n",
       "      <td>-0.008130</td>\n",
       "      <td>1.002732</td>\n",
       "      <td>1.005464</td>\n",
       "      <td>1.012295</td>\n",
       "      <td>1.025956</td>\n",
       "      <td>NaN</td>\n",
       "      <td>NaN</td>\n",
       "      <td>NaN</td>\n",
       "      <td>NaN</td>\n",
       "    </tr>\n",
       "  </tbody>\n",
       "</table>\n",
       "</div>"
      ],
      "text/plain": [
       "             support  3d_future  3d_future_pct    3d_pct       ma3       ma5  \\\n",
       "2013-10-23  5.500000   5.457143            NaN       NaN       NaN       NaN   \n",
       "2013-10-24  5.485714   5.442857            NaN       NaN       NaN       NaN   \n",
       "2013-10-25  5.471429   5.428571            NaN       NaN  1.002611       NaN   \n",
       "2013-10-26  5.457143   5.414286      -0.007853 -0.007792  1.002618       NaN   \n",
       "2013-10-27  5.442857   5.400000      -0.007874 -0.007812  1.002625  1.005249   \n",
       "2013-10-28  5.428571   5.385714      -0.007895 -0.007833  1.002632  1.005263   \n",
       "2013-10-29  5.414286   5.371429      -0.007916 -0.007853  1.002639  1.005277   \n",
       "2013-10-30  5.400000   5.357143      -0.007937 -0.007874  1.002646  1.005291   \n",
       "2013-10-31  5.385714   5.342857      -0.007958 -0.007895  1.002653  1.005305   \n",
       "2013-11-01  5.371429   5.328571      -0.007979 -0.007916  1.002660  1.005319   \n",
       "2013-11-02  5.357143   5.314286      -0.008000 -0.007937  1.002667  1.005333   \n",
       "2013-11-03  5.342857   5.300000      -0.008021 -0.007958  1.002674  1.005348   \n",
       "2013-11-04  5.328571   5.285714      -0.008043 -0.007979  1.002681  1.005362   \n",
       "2013-11-05  5.314286   5.271429      -0.008065 -0.008000  1.002688  1.005376   \n",
       "2013-11-06  5.300000   5.257143      -0.008086 -0.008021  1.002695  1.005391   \n",
       "2013-11-07  5.285714   5.242857      -0.008108 -0.008043  1.002703  1.005405   \n",
       "2013-11-08  5.271429   5.228571      -0.008130 -0.008065  1.002710  1.005420   \n",
       "2013-11-09  5.257143   5.214286      -0.008152 -0.008086  1.002717  1.005435   \n",
       "2013-11-10  5.242857   5.200000      -0.008174 -0.008108  1.002725  1.005450   \n",
       "2013-11-11  5.228571   5.185714      -0.008197 -0.008130  1.002732  1.005464   \n",
       "\n",
       "                ma10      ma20  ma30  ma50  ma100  ma200  \n",
       "2013-10-23       NaN       NaN   NaN   NaN    NaN    NaN  \n",
       "2013-10-24       NaN       NaN   NaN   NaN    NaN    NaN  \n",
       "2013-10-25       NaN       NaN   NaN   NaN    NaN    NaN  \n",
       "2013-10-26       NaN       NaN   NaN   NaN    NaN    NaN  \n",
       "2013-10-27       NaN       NaN   NaN   NaN    NaN    NaN  \n",
       "2013-10-28       NaN       NaN   NaN   NaN    NaN    NaN  \n",
       "2013-10-29       NaN       NaN   NaN   NaN    NaN    NaN  \n",
       "2013-10-30       NaN       NaN   NaN   NaN    NaN    NaN  \n",
       "2013-10-31       NaN       NaN   NaN   NaN    NaN    NaN  \n",
       "2013-11-01  1.011968       NaN   NaN   NaN    NaN    NaN  \n",
       "2013-11-02  1.012000       NaN   NaN   NaN    NaN    NaN  \n",
       "2013-11-03  1.012032       NaN   NaN   NaN    NaN    NaN  \n",
       "2013-11-04  1.012064       NaN   NaN   NaN    NaN    NaN  \n",
       "2013-11-05  1.012097       NaN   NaN   NaN    NaN    NaN  \n",
       "2013-11-06  1.012129       NaN   NaN   NaN    NaN    NaN  \n",
       "2013-11-07  1.012162       NaN   NaN   NaN    NaN    NaN  \n",
       "2013-11-08  1.012195       NaN   NaN   NaN    NaN    NaN  \n",
       "2013-11-09  1.012228       NaN   NaN   NaN    NaN    NaN  \n",
       "2013-11-10  1.012262       NaN   NaN   NaN    NaN    NaN  \n",
       "2013-11-11  1.012295  1.025956   NaN   NaN    NaN    NaN  "
      ]
     },
     "execution_count": 43,
     "metadata": {},
     "output_type": "execute_result"
    }
   ],
   "source": [
    "df_2017_allen_afd.head(20)"
   ]
  },
  {
   "cell_type": "code",
   "execution_count": 44,
   "metadata": {},
   "outputs": [
    {
     "name": "stdout",
     "output_type": "stream",
     "text": [
      "               3d_future  3d_future_pct       ma3       ma5      ma10  \\\n",
      "3d_future       1.000000       0.010718 -0.046979 -0.056604 -0.079524   \n",
      "3d_future_pct   0.010718       1.000000 -0.942369 -0.930175 -0.896611   \n",
      "ma3            -0.046979      -0.942369  1.000000  0.994403  0.967001   \n",
      "ma5            -0.056604      -0.930175  0.994403  1.000000  0.984826   \n",
      "ma10           -0.079524      -0.896611  0.967001  0.984826  1.000000   \n",
      "ma20           -0.121077      -0.827028  0.902962  0.927801  0.970825   \n",
      "ma30           -0.157662      -0.752974  0.833167  0.860684  0.915457   \n",
      "ma50           -0.218267      -0.624141  0.701935  0.729511  0.790111   \n",
      "ma100          -0.326635      -0.449299  0.513022  0.535717  0.587977   \n",
      "ma200          -0.482655      -0.313555  0.369658  0.388982  0.434164   \n",
      "\n",
      "                   ma20      ma30      ma50     ma100     ma200  \n",
      "3d_future     -0.121077 -0.157662 -0.218267 -0.326635 -0.482655  \n",
      "3d_future_pct -0.827028 -0.752974 -0.624141 -0.449299 -0.313555  \n",
      "ma3            0.902962  0.833167  0.701935  0.513022  0.369658  \n",
      "ma5            0.927801  0.860684  0.729511  0.535717  0.388982  \n",
      "ma10           0.970825  0.915457  0.790111  0.587977  0.434164  \n",
      "ma20           1.000000  0.980935  0.885965  0.681027  0.516767  \n",
      "ma30           0.980935  1.000000  0.951707  0.761882  0.591350  \n",
      "ma50           0.885965  0.951707  1.000000  0.888060  0.718528  \n",
      "ma100          0.681027  0.761882  0.888060  1.000000  0.908953  \n",
      "ma200          0.516767  0.591350  0.718528  0.908953  1.000000  \n"
     ]
    }
   ],
   "source": [
    "df_2017_allen_afd = df_2017_allen_afd.dropna()\n",
    "\n",
    "# Create features and targets\n",
    "# use feature_names for features; '5d_close_future_pct' for targets\n",
    "features = df_2017_allen_afd[feature_names]\n",
    "targets = df_2017_allen_afd['3d_future']\n",
    "\n",
    "# Create DataFrame from target column and feature columns\n",
    "feature_and_target_cols = ['3d_future'] + feature_names\n",
    "feat_targ_df = df_2017_allen_afd[feature_and_target_cols]\n",
    "\n",
    "# Calculate correlation matrix\n",
    "corr = feat_targ_df.corr()\n",
    "print(corr)"
   ]
  },
  {
   "cell_type": "code",
   "execution_count": 49,
   "metadata": {},
   "outputs": [
    {
     "data": {
      "image/png": "[encoded data removed]",
      "text/plain": [
       "<matplotlib.figure.Figure at 0x11d349710>"
      ]
     },
     "metadata": {
      "needs_background": "light"
     },
     "output_type": "display_data"
    },
    {
     "data": {
      "text/plain": [
       "<matplotlib.figure.Figure at 0x11c08ea90>"
      ]
     },
     "metadata": {},
     "output_type": "display_data"
    }
   ],
   "source": [
    "sns.heatmap(corr, annot=True)\n",
    "plt.yticks(rotation=0); plt.xticks(rotation=90)  # fix ticklabel directions\n",
    "plt.title(\"Heatmap of features and targets correlations\")\n",
    "plt.tight_layout()  # fits plot area to the plot, \"tightly\"\n",
    "plt.show()  # show the plot\n",
    "plt.clf()  # clear the plot area"
   ]
  },
  {
   "cell_type": "code",
   "execution_count": 50,
   "metadata": {},
   "outputs": [
    {
     "data": {
      "image/png": "[encoded data removed]",
      "text/plain": [
       "<matplotlib.figure.Figure at 0x11d152a58>"
      ]
     },
     "metadata": {
      "needs_background": "light"
     },
     "output_type": "display_data"
    }
   ],
   "source": [
    "# Create a scatter plot of the most highly correlated variable with the target\n",
    "plt.scatter(df_2017_allen_afd['ma200'], df_2017_allen_afd['3d_future'])\n",
    "plt.show()"
   ]
  },
  {
   "cell_type": "markdown",
   "metadata": {},
   "source": [
    "#### Linear Model \n",
    "\n",
    "##### Create training and test features"
   ]
  },
  {
   "cell_type": "code",
   "execution_count": 51,
   "metadata": {},
   "outputs": [
    {
     "name": "stdout",
     "output_type": "stream",
     "text": [
      "(1228, 10) (1043, 10) (185, 10)\n"
     ]
    },
    {
     "name": "stderr",
     "output_type": "stream",
     "text": [
      "/Users/dangngochuy/anaconda3/lib/python3.6/site-packages/numpy/core/fromnumeric.py:2389: FutureWarning: Method .ptp is deprecated and will be removed in a future version. Use numpy.ptp instead.\n",
      "  return ptp(axis=axis, out=out, **kwargs)\n"
     ]
    }
   ],
   "source": [
    "\n",
    "# Import the statsmodels.api library with the alias sm\n",
    "import statsmodels.api as sm\n",
    "\n",
    "# Add a constant to the features\n",
    "linear_features = sm.add_constant(features)\n",
    "\n",
    "# Create a size for the training set that is 85% of the total number of samples\n",
    "train_size = int(0.85 * features.shape[0])\n",
    "train_features = linear_features[:train_size]\n",
    "train_targets = targets[:train_size]\n",
    "test_features = linear_features[train_size:]\n",
    "test_targets = targets[train_size:]\n",
    "print(linear_features.shape, train_features.shape, test_features.shape)"
   ]
  },
  {
   "cell_type": "code",
   "execution_count": 52,
   "metadata": {},
   "outputs": [
    {
     "name": "stdout",
     "output_type": "stream",
     "text": [
      "                            OLS Regression Results                            \n",
      "==============================================================================\n",
      "Dep. Variable:              3d_future   R-squared:                       0.364\n",
      "Model:                            OLS   Adj. R-squared:                  0.359\n",
      "Method:                 Least Squares   F-statistic:                     65.71\n",
      "Date:                Mon, 21 Oct 2019   Prob (F-statistic):           2.32e-95\n",
      "Time:                        11:07:57   Log-Likelihood:                -2246.0\n",
      "No. Observations:                1043   AIC:                             4512.\n",
      "Df Residuals:                    1033   BIC:                             4561.\n",
      "Df Model:                           9                                         \n",
      "Covariance Type:            nonrobust                                         \n",
      "=================================================================================\n",
      "                    coef    std err          t      P>|t|      [0.025      0.975]\n",
      "---------------------------------------------------------------------------------\n",
      "const            27.5580     78.431      0.351      0.725    -126.343     181.459\n",
      "3d_future_pct   -20.0395     12.335     -1.625      0.105     -44.244       4.165\n",
      "ma3             -14.0675    173.128     -0.081      0.935    -353.790     325.655\n",
      "ma5             -12.7532    138.534     -0.092      0.927    -284.594     259.088\n",
      "ma10             21.0896     54.470      0.387      0.699     -85.795     127.975\n",
      "ma20            -27.5933     33.759     -0.817      0.414     -93.837      38.651\n",
      "ma30             24.2509     22.180      1.093      0.274     -19.273      67.775\n",
      "ma50            -15.3076      7.150     -2.141      0.033     -29.338      -1.277\n",
      "ma100            20.2826      2.366      8.572      0.000      15.640      24.925\n",
      "ma200           -15.7751      0.863    -18.286      0.000     -17.468     -14.082\n",
      "==============================================================================\n",
      "Omnibus:                      109.940   Durbin-Watson:                   0.001\n",
      "Prob(Omnibus):                  0.000   Jarque-Bera (JB):              108.932\n",
      "Skew:                           0.731   Prob(JB):                     2.22e-24\n",
      "Kurtosis:                       2.394   Cond. No.                     1.06e+04\n",
      "==============================================================================\n",
      "\n",
      "Warnings:\n",
      "[1] Standard Errors assume that the covariance matrix of the errors is correctly specified.\n",
      "[2] The condition number is large, 1.06e+04. This might indicate that there are\n",
      "strong multicollinearity or other numerical problems.\n"
     ]
    }
   ],
   "source": [
    "# Create the linear model and complete the least squares fit\n",
    "model_allen_afd = sm.OLS(train_targets, train_features)\n",
    "results_allen_afd = model_allen_afd.fit()  # fit the model\n",
    "print(results_allen_afd.summary())"
   ]
  },
  {
   "cell_type": "code",
   "execution_count": 53,
   "metadata": {},
   "outputs": [
    {
     "name": "stdout",
     "output_type": "stream",
     "text": [
      "const            7.253838e-01\n",
      "3d_future_pct    1.045518e-01\n",
      "ma3              9.352551e-01\n",
      "ma5              9.266700e-01\n",
      "ma10             6.987048e-01\n",
      "ma20             4.139108e-01\n",
      "ma30             2.744931e-01\n",
      "ma50             3.251931e-02\n",
      "ma100            3.659072e-17\n",
      "ma200            6.243565e-65\n",
      "dtype: float64\n"
     ]
    }
   ],
   "source": [
    "# examine pvalues\n",
    "# Features with p <= 0.05 are typically considered significantly different from 0\n",
    "print(results_allen_afd.pvalues)\n"
   ]
  },
  {
   "cell_type": "code",
   "execution_count": 54,
   "metadata": {},
   "outputs": [
    {
     "name": "stdout",
     "output_type": "stream",
     "text": [
      "2017-03-18    5.646715\n",
      "2017-03-19    5.643265\n",
      "2017-03-20    5.644531\n",
      "2017-03-21    5.650597\n",
      "2017-03-22    5.661552\n",
      "2017-03-23    5.677484\n",
      "2017-03-24    5.698486\n",
      "2017-03-25    5.717059\n",
      "2017-03-26    5.608430\n",
      "2017-03-27    5.495718\n",
      "2017-03-28    5.378845\n",
      "2017-03-29    5.487494\n",
      "2017-03-30    5.556316\n",
      "2017-03-31    5.585313\n",
      "2017-04-01    5.604037\n",
      "2017-04-02    5.611661\n",
      "2017-04-03    5.624260\n",
      "2017-04-04    5.641834\n",
      "2017-04-05    5.664383\n",
      "2017-04-06    5.691908\n",
      "2017-04-07    5.724407\n",
      "2017-04-08    5.748590\n",
      "2017-04-09    5.764457\n",
      "2017-04-10    5.772006\n",
      "2017-04-11    5.770268\n",
      "2017-04-12    5.759241\n",
      "2017-04-13    5.738927\n",
      "2017-04-14    5.712254\n",
      "2017-04-15    5.679224\n",
      "2017-04-16    5.639835\n",
      "                ...   \n",
      "2017-08-20    6.821327\n",
      "2017-08-21    6.643096\n",
      "2017-08-22    6.463459\n",
      "2017-08-23    6.616669\n",
      "2017-08-24    6.710643\n",
      "2017-08-25    6.747024\n",
      "2017-08-26    6.770420\n",
      "2017-08-27    6.781182\n",
      "2017-08-28    6.802633\n",
      "2017-08-29    6.834485\n",
      "2017-08-30    6.876463\n",
      "2017-08-31    6.928299\n",
      "2017-09-01    6.989738\n",
      "2017-09-02    7.042348\n",
      "2017-09-03    7.086358\n",
      "2017-09-04    6.902283\n",
      "2017-09-05    6.716089\n",
      "2017-09-06    6.527828\n",
      "2017-09-07    6.715110\n",
      "2017-09-08    6.828071\n",
      "2017-09-09    6.870763\n",
      "2017-09-10    6.894401\n",
      "2017-09-11    6.900590\n",
      "2017-09-12    6.925461\n",
      "2017-09-13    6.968064\n",
      "2017-09-14    7.027512\n",
      "2017-09-15    7.102977\n",
      "2017-09-16    7.193683\n",
      "2017-09-17    7.598023\n",
      "2017-09-18    7.988179\n",
      "Freq: D, Length: 185, dtype: float64\n"
     ]
    }
   ],
   "source": [
    "# Make predictions from our model for train and test sets\n",
    "train_predictions = results_allen_afd.predict(train_features)\n",
    "test_predictions = results_allen_afd.predict(test_features)\n",
    "print(test_predictions)"
   ]
  },
  {
   "cell_type": "markdown",
   "metadata": {},
   "source": [
    "#### Evaluate Linear Model Results\n",
    "\n",
    "Once we have our linear fit and predictions, we want to see how good the predictions are so we can decide if our model is any good or not. \n",
    "\n",
    "A quick way to understand the performance of our model is looking at regression evaluation metrics like R2, and plotting the predictions versus the actual values of the targets. Perfect predictions would form a straight, diagonal line in such a plot, making it easy for us to eyeball how our predictions are doing in different regions of voteshare changes."
   ]
  },
  {
   "cell_type": "code",
   "execution_count": 55,
   "metadata": {},
   "outputs": [
    {
     "data": {
      "image/png": "[encoded data removed]",
      "text/plain": [
       "<matplotlib.figure.Figure at 0x1292c18d0>"
      ]
     },
     "metadata": {
      "needs_background": "light"
     },
     "output_type": "display_data"
    }
   ],
   "source": [
    "# Scatter the predictions vs the targets with 80% transparency\n",
    "plt.scatter(train_predictions, train_targets, alpha=0.2, color='b', label='train')\n",
    "plt.scatter(test_predictions, test_targets, alpha = 0.2, color='r', label='test')\n",
    "\n",
    "# Plot the perfect prediction line\n",
    "xmin, xmax = plt.xlim()\n",
    "plt.plot(np.arange(xmin, xmax, 0.01), np.arange(xmin, xmax, 0.01), c='k')\n",
    "\n",
    "# Set the axis labels and show the plot\n",
    "plt.title('')\n",
    "plt.xlabel('Predictions')\n",
    "plt.ylabel('Actual')\n",
    "plt.legend()  # show the legend\n",
    "plt.show()"
   ]
  },
  {
   "cell_type": "code",
   "execution_count": 56,
   "metadata": {},
   "outputs": [
    {
     "name": "stdout",
     "output_type": "stream",
     "text": [
      "0.36407560540611095\n",
      "-7.226329182383553\n",
      "1.9504572826298539\n"
     ]
    }
   ],
   "source": [
    "from sklearn.linear_model import LinearRegression\n",
    "from sklearn.metrics import mean_squared_error\n",
    "from math import sqrt\n",
    "\n",
    "linear_model_allen_afd = LinearRegression()\n",
    "linear_model_allen_afd.fit(train_features, train_targets)\n",
    "\n",
    "# Check the score on train and test\n",
    "print(linear_model_allen_afd.score(train_features, train_targets))\n",
    "print(linear_model_allen_afd.score(test_features, test_targets))\n",
    "\n",
    "#Check Root mean squared error\n",
    "linear_model_allen_afd_pred = linear_model_allen_afd.predict(test_features)\n",
    "print(sqrt(mean_squared_error(linear_model_allen_afd_pred, test_targets)))"
   ]
  },
  {
   "cell_type": "markdown",
   "metadata": {},
   "source": [
    "#### Decision Tree Model"
   ]
  },
  {
   "cell_type": "code",
   "execution_count": 57,
   "metadata": {},
   "outputs": [
    {
     "name": "stdout",
     "output_type": "stream",
     "text": [
      "0.49153789399141035\n",
      "-7.242002638189584\n",
      "1.9523144815035618\n"
     ]
    }
   ],
   "source": [
    "from sklearn.tree import DecisionTreeRegressor\n",
    "\n",
    "# Create a decision tree regression model with default arguments\n",
    "decision_tree_allen_afd = DecisionTreeRegressor(max_depth=3)\n",
    "\n",
    "# Fit the model to the training features and targets\n",
    "decision_tree_allen_afd.fit(train_features, train_targets)\n",
    "\n",
    "# Check the score on train and test\n",
    "print(decision_tree_allen_afd.score(train_features, train_targets))\n",
    "print(decision_tree_allen_afd.score(test_features, test_targets))\n",
    "\n",
    "#Check Root mean squared error\n",
    "decision_tree_allen_afd_pred = decision_tree_allen_afd.predict(test_features)\n",
    "print(sqrt(mean_squared_error(decision_tree_allen_afd_pred, test_targets)))"
   ]
  },
  {
   "cell_type": "markdown",
   "metadata": {},
   "source": [
    "As expected, perfect fit on the training data but quite a bad fit on the test data. Let's see if we can improve by experimenting on the max height of the trees. "
   ]
  },
  {
   "cell_type": "code",
   "execution_count": 58,
   "metadata": {},
   "outputs": [
    {
     "name": "stdout",
     "output_type": "stream",
     "text": [
      "max_depth= 3\n",
      "0.49153789399141035\n",
      "-7.2420026381895735 \n",
      "\n",
      "max_depth= 5\n",
      "0.7435521806871099\n",
      "-15.794331206929819 \n",
      "\n",
      "max_depth= 10\n",
      "0.9813466370440243\n",
      "-15.299793440951788 \n",
      "\n",
      "max_depth= 15\n",
      "0.9999949868538771\n",
      "-15.413563451337978 \n",
      "\n",
      "max_depth= 20\n",
      "1.0\n",
      "-15.011104990269999 \n",
      "\n",
      "max_depth= 25\n",
      "1.0\n",
      "-15.219585593837524 \n",
      "\n"
     ]
    }
   ],
   "source": [
    "# Loop through a few different max depths and check the performance\n",
    "for d in [3, 5, 10, 15, 20, 25]:\n",
    "    # Create the tree and fit it\n",
    "    decision_tree_allen_afd = DecisionTreeRegressor(max_depth=d)\n",
    "    decision_tree_allen_afd.fit(train_features, train_targets)\n",
    "\n",
    "    # Print out the scores on train and test\n",
    "    print('max_depth=', str(d))\n",
    "    print(decision_tree_allen_afd.score(train_features, train_targets))\n",
    "    print(decision_tree_allen_afd.score(test_features, test_targets), '\\n')"
   ]
  },
  {
   "cell_type": "markdown",
   "metadata": {},
   "source": [
    "It seems that trees of max height 3 would be the best at predicting the changes in voteshares percentage during the next 5 days. "
   ]
  },
  {
   "cell_type": "code",
   "execution_count": 59,
   "metadata": {},
   "outputs": [
    {
     "data": {
      "image/png": "[encoded data removed]",
      "text/plain": [
       "<matplotlib.figure.Figure at 0x11d339e48>"
      ]
     },
     "metadata": {
      "needs_background": "light"
     },
     "output_type": "display_data"
    }
   ],
   "source": [
    "# Use the best max_depth of 3 from last exercise to fit a decision tree\n",
    "decision_tree_allen_afd = DecisionTreeRegressor(max_depth=3)\n",
    "decision_tree_allen_afd.fit(train_features, train_targets)\n",
    "\n",
    "# Predict values for train and test\n",
    "train_predictions = decision_tree_allen_afd.predict(train_features)\n",
    "test_predictions = decision_tree_allen_afd.predict(test_features)\n",
    "\n",
    "# Scatter the predictions vs actual values\n",
    "plt.scatter(train_predictions, train_targets, label='train')\n",
    "plt.scatter(test_predictions, test_targets, label = 'test')\n",
    "plt.show()"
   ]
  },
  {
   "cell_type": "markdown",
   "metadata": {},
   "source": [
    "#### Random Forest Model "
   ]
  },
  {
   "cell_type": "code",
   "execution_count": 60,
   "metadata": {},
   "outputs": [
    {
     "name": "stdout",
     "output_type": "stream",
     "text": [
      "0.9963103275260438\n",
      "-8.91732782867268\n",
      "2.1415624132461217\n"
     ]
    }
   ],
   "source": [
    "from sklearn.ensemble import RandomForestRegressor\n",
    "\n",
    "# Create the random forest model and fit to the training data\n",
    "rfr_allen_afd = RandomForestRegressor(n_estimators=50)\n",
    "rfr_allen_afd.fit(train_features, train_targets)\n",
    "\n",
    "# Look at the R^2 scores on train and test\n",
    "print(rfr_allen_afd.score(train_features, train_targets))\n",
    "print(rfr_allen_afd.score(test_features, test_targets))\n",
    "\n",
    "# Check RMSE\n",
    "rfr_allen_afd_pred = rfr_allen_afd.predict(test_features)\n",
    "print(sqrt(mean_squared_error(rfr_allen_afd_pred, test_targets)))"
   ]
  },
  {
   "cell_type": "markdown",
   "metadata": {},
   "source": [
    "Let's see if we can improve on the score with hyperparameter tuning: "
   ]
  },
  {
   "cell_type": "code",
   "execution_count": 61,
   "metadata": {},
   "outputs": [
    {
     "name": "stdout",
     "output_type": "stream",
     "text": [
      "-3.8163508183839667 {'random_state': 42, 'n_estimators': 50, 'max_features': 4, 'max_depth': 3}\n"
     ]
    }
   ],
   "source": [
    "from sklearn.model_selection import ParameterGrid\n",
    "\n",
    "# Create a dictionary of hyperparameters to search\n",
    "grid = {'n_estimators': [50,100,200,300], 'max_depth': [3], 'max_features': [4, 8], 'random_state': [42]}\n",
    "test_scores = []\n",
    "\n",
    "# Loop through the parameter grid, set the hyperparameters, and save the scores\n",
    "for g in ParameterGrid(grid):\n",
    "    rfr_allen_afd.set_params(**g)  # ** is \"unpacking\" the dictionary\n",
    "    rfr_allen_afd.fit(train_features, train_targets)\n",
    "    test_scores.append(rfr_allen_afd.score(test_features, test_targets))\n",
    "\n",
    "# Find best hyperparameters from the test score and print\n",
    "best_idx = np.argmax(test_scores)\n",
    "print(test_scores[best_idx], ParameterGrid(grid)[best_idx])"
   ]
  },
  {
   "cell_type": "code",
   "execution_count": 62,
   "metadata": {},
   "outputs": [
    {
     "name": "stdout",
     "output_type": "stream",
     "text": [
      "0.5274883159960239\n",
      "-3.8163508183839667\n",
      "1.4924248013938481\n"
     ]
    },
    {
     "data": {
      "image/png": "[encoded data removed]",
      "text/plain": [
       "<matplotlib.figure.Figure at 0x12b688668>"
      ]
     },
     "metadata": {
      "needs_background": "light"
     },
     "output_type": "display_data"
    }
   ],
   "source": [
    "# Use the best hyperparameters from before to fit a random forest model\n",
    "rfr_allen_afd = RandomForestRegressor(n_estimators=50, max_depth=3, max_features=4, random_state=42)\n",
    "rfr_allen_afd.fit(train_features, train_targets)\n",
    "\n",
    "# Make predictions with our model\n",
    "train_predictions = rfr_allen_afd.predict(train_features)\n",
    "test_predictions = rfr_allen_afd.predict(test_features)\n",
    "\n",
    "# Look at the R^2 scores on train and test\n",
    "print(rfr_allen_afd.score(train_features, train_targets))\n",
    "print(rfr_allen_afd.score(test_features, test_targets))\n",
    "\n",
    "# Check RMSE\n",
    "rfr_allen_afd_pred = rfr_allen_afd.predict(test_features)\n",
    "print(sqrt(mean_squared_error(rfr_allen_afd_pred, test_targets)))\n",
    "\n",
    "# Create a scatter plot with train and test actual vs predictions\n",
    "plt.scatter(train_targets, train_predictions, label='train')\n",
    "plt.scatter(test_targets, test_predictions, label='test')\n",
    "plt.title('Scatter plot of training and test sets of targets vs. predictions')\n",
    "plt.xlabel('Targets')\n",
    "plt.ylabel('Predictions')\n",
    "plt.legend()\n",
    "plt.show()"
   ]
  },
  {
   "cell_type": "code",
   "execution_count": 63,
   "metadata": {},
   "outputs": [
    {
     "data": {
      "image/png": "[encoded data removed]",
      "text/plain": [
       "<matplotlib.figure.Figure at 0x12b7e10f0>"
      ]
     },
     "metadata": {
      "needs_background": "light"
     },
     "output_type": "display_data"
    }
   ],
   "source": [
    "# Get feature importances from our random forest model\n",
    "importances = rfr_allen_afd.feature_importances_\n",
    "importances = importances[importances != 0]\n",
    "\n",
    "# Get the index of importances from greatest importance to least\n",
    "sorted_index = np.argsort(importances)[::-1]\n",
    "x = range(len(importances))\n",
    "\n",
    "# Create tick labels \n",
    "labels = np.array(feature_names)[sorted_index]\n",
    "plt.bar(x, importances[sorted_index], tick_label=labels)\n",
    "\n",
    "# Rotate tick labels to vertical\n",
    "plt.xticks(rotation=90)\n",
    "plt.title(\"Feature importances from Random Forest model\")\n",
    "plt.show()"
   ]
  },
  {
   "cell_type": "code",
   "execution_count": 61,
   "metadata": {},
   "outputs": [
    {
     "name": "stdout",
     "output_type": "stream",
     "text": [
      "0.6491622974727742\n",
      "-2.6842097576611614\n",
      "1.3052856855710697\n"
     ]
    }
   ],
   "source": [
    "# Gradient Boosting Model \n",
    "from sklearn.ensemble import GradientBoostingRegressor\n",
    "\n",
    "# Create GB model\n",
    "gbr_allen_afd = GradientBoostingRegressor(max_features=4,\n",
    "                                learning_rate=0.01,\n",
    "                                n_estimators=200,\n",
    "                                subsample=0.6,\n",
    "                                random_state=42)\n",
    "result_gbr = gbr_allen_afd.fit(train_features, train_targets)\n",
    "\n",
    "print(gbr_allen_afd.score(train_features, train_targets))\n",
    "print(gbr_allen_afd.score(test_features, test_targets))\n",
    "\n",
    "# Check RMSE\n",
    "gbr_allen_afd_pred = gbr_allen_afd.predict(test_features)\n",
    "print(sqrt(mean_squared_error(gbr_allen_afd_pred, test_targets)))"
   ]
  },
  {
   "cell_type": "code",
   "execution_count": 62,
   "metadata": {},
   "outputs": [
    {
     "data": {
      "image/png": "[encoded data removed]",
      "text/plain": [
       "<matplotlib.figure.Figure at 0x124e47748>"
      ]
     },
     "metadata": {
      "needs_background": "light"
     },
     "output_type": "display_data"
    }
   ],
   "source": [
    "# Extract feature importances from the fitted gradient boosting model\n",
    "feature_importances_gbr = gbr_allen_afd.feature_importances_\n",
    "feature_importances_gbr = feature_importances_gbr[feature_importances_gbr != 0]\n",
    "\n",
    "# Get the indices of the largest to smallest feature importances\n",
    "sorted_index_gbr = np.argsort(feature_importances_gbr)[::-1]\n",
    "x_gbr = range(features.shape[1])\n",
    "\n",
    "# Create tick labels \n",
    "labels = np.array(feature_names)[sorted_index_gbr]\n",
    "\n",
    "plt.bar(x_gbr, feature_importances_gbr[sorted_index_gbr], tick_label=labels)\n",
    "\n",
    "# Set the tick lables to be the feature names, according to the sorted feature_idx\n",
    "plt.xticks(rotation=90)\n",
    "plt.title('Feature Importances from Gradient Boosting Model')\n",
    "plt.show()"
   ]
  },
  {
   "cell_type": "code",
   "execution_count": 65,
   "metadata": {},
   "outputs": [
    {
     "name": "stderr",
     "output_type": "stream",
     "text": [
      "/Users/dangngochuy/anaconda3/lib/python3.6/site-packages/xgboost/core.py:587: FutureWarning: Series.base is deprecated and will be removed in a future version\n",
      "  if getattr(data, 'base', None) is not None and \\\n",
      "/Users/dangngochuy/anaconda3/lib/python3.6/site-packages/xgboost/core.py:588: FutureWarning: Series.base is deprecated and will be removed in a future version\n",
      "  data.base is not None and isinstance(data, np.ndarray) \\\n"
     ]
    },
    {
     "name": "stdout",
     "output_type": "stream",
     "text": [
      "0.9935721491089263\n",
      "-6.338438362174\n",
      "1.8421934190527058\n"
     ]
    }
   ],
   "source": [
    "# XGBoost Model\n",
    "from xgboost import XGBRegressor\n",
    "import xgboost as xgb\n",
    "\n",
    "# Create the xgboost model and fit to the training data\n",
    "\n",
    "xgb_model_allen_afd = XGBRegressor(colsample_bytree = 0.7, learning_rate= 0.01, max_depth= 7, min_child_weight= 4, n_estimators= 500, nthread= 4, objective= 'reg:linear', silent= 1, subsample= 0.7)\n",
    "result_xgb = xgb_model_allen_afd.fit(train_features, train_targets)\n",
    "\n",
    "# Look at the R^2 scores on train and test\n",
    "print(xgb_model_allen_afd.score(train_features, train_targets))\n",
    "print(xgb_model_allen_afd.score(test_features, test_targets))\n",
    "\n",
    "# Check RMSE\n",
    "xgb_model_allen_afd_pred = xgb_model_allen_afd.predict(test_features)\n",
    "print(sqrt(mean_squared_error(xgb_model_allen_afd_pred, test_targets)))"
   ]
  },
  {
   "cell_type": "code",
   "execution_count": 66,
   "metadata": {},
   "outputs": [
    {
     "name": "stdout",
     "output_type": "stream",
     "text": [
      "Fitting 2 folds for each of 12 candidates, totalling 24 fits\n"
     ]
    },
    {
     "name": "stderr",
     "output_type": "stream",
     "text": [
      "[Parallel(n_jobs=5)]: Using backend LokyBackend with 5 concurrent workers.\n",
      "[Parallel(n_jobs=5)]: Done  24 out of  24 | elapsed:   25.3s finished\n",
      "/Users/dangngochuy/anaconda3/lib/python3.6/site-packages/sklearn/model_selection/_search.py:841: DeprecationWarning: The default of the `iid` parameter will change from True to False in version 0.22 and will be removed in 0.24. This will change numeric results when test-set sizes are unequal.\n",
      "  DeprecationWarning)\n",
      "/Users/dangngochuy/anaconda3/lib/python3.6/site-packages/xgboost/core.py:587: FutureWarning: Series.base is deprecated and will be removed in a future version\n",
      "  if getattr(data, 'base', None) is not None and \\\n",
      "/Users/dangngochuy/anaconda3/lib/python3.6/site-packages/xgboost/core.py:588: FutureWarning: Series.base is deprecated and will be removed in a future version\n",
      "  data.base is not None and isinstance(data, np.ndarray) \\\n"
     ]
    },
    {
     "name": "stdout",
     "output_type": "stream",
     "text": [
      "-11.920163700977515\n",
      "{'colsample_bytree': 0.7, 'learning_rate': 0.01, 'max_depth': 7, 'min_child_weight': 4, 'n_estimators': 500, 'nthread': 4, 'objective': 'reg:linear', 'silent': 1, 'subsample': 0.7}\n"
     ]
    }
   ],
   "source": [
    "from sklearn.model_selection import GridSearchCV\n",
    "\n",
    "xgb1 = XGBRegressor()\n",
    "parameters = {'nthread':[4], #when use hyperthread, xgboost may become slower\n",
    "              'objective':['reg:linear'],\n",
    "              'learning_rate': [0.01, 0.03, 0.05, 0.07], #so called `eta` value\n",
    "              'max_depth': [5, 6, 7],\n",
    "              'min_child_weight': [4],\n",
    "              'silent': [1],\n",
    "              'subsample': [0.7],\n",
    "              'colsample_bytree': [0.7],\n",
    "              'n_estimators': [500]}\n",
    "\n",
    "xgb_grid = GridSearchCV(xgb1,\n",
    "                        parameters,\n",
    "                        cv = 2,\n",
    "                        n_jobs = 5,\n",
    "                        verbose=True)\n",
    "\n",
    "xgb_grid.fit(train_features,\n",
    "         train_targets)\n",
    "\n",
    "print(xgb_grid.best_score_)\n",
    "print(xgb_grid.best_params_)"
   ]
  },
  {
   "cell_type": "code",
   "execution_count": 342,
   "metadata": {},
   "outputs": [
    {
     "name": "stderr",
     "output_type": "stream",
     "text": [
      "/Users/dangngochuy/anaconda3/lib/python3.6/site-packages/xgboost/core.py:587: FutureWarning: Series.base is deprecated and will be removed in a future version\n",
      "  if getattr(data, 'base', None) is not None and \\\n",
      "/Users/dangngochuy/anaconda3/lib/python3.6/site-packages/xgboost/core.py:588: FutureWarning: Series.base is deprecated and will be removed in a future version\n",
      "  data.base is not None and isinstance(data, np.ndarray) \\\n"
     ]
    }
   ],
   "source": [
    "dtrain = xgb.DMatrix(train_features, label=train_targets)\n",
    "dtest = xgb.DMatrix(test_features, label=test_targets)\n"
   ]
  },
  {
   "cell_type": "code",
   "execution_count": 346,
   "metadata": {},
   "outputs": [
    {
     "name": "stdout",
     "output_type": "stream",
     "text": [
      "[0]\tTest-rmse:5.45681\n",
      "Will train until Test-rmse hasn't improved in 10 rounds.\n",
      "[1]\tTest-rmse:4.45589\n",
      "[2]\tTest-rmse:3.48937\n",
      "[3]\tTest-rmse:2.90346\n",
      "[4]\tTest-rmse:2.49636\n",
      "[5]\tTest-rmse:2.28716\n",
      "[6]\tTest-rmse:2.14887\n",
      "[7]\tTest-rmse:2.03212\n",
      "[8]\tTest-rmse:2.02118\n",
      "[9]\tTest-rmse:1.9997\n",
      "[10]\tTest-rmse:1.97564\n",
      "[11]\tTest-rmse:1.9574\n",
      "[12]\tTest-rmse:1.95522\n",
      "[13]\tTest-rmse:1.95556\n",
      "[14]\tTest-rmse:1.94934\n",
      "[15]\tTest-rmse:1.95773\n",
      "[16]\tTest-rmse:1.96366\n",
      "[17]\tTest-rmse:1.96626\n",
      "[18]\tTest-rmse:1.9682\n",
      "[19]\tTest-rmse:1.96976\n",
      "[20]\tTest-rmse:1.97611\n",
      "[21]\tTest-rmse:1.98164\n",
      "[22]\tTest-rmse:1.98453\n",
      "[23]\tTest-rmse:1.98448\n",
      "[24]\tTest-rmse:1.98564\n",
      "Stopping. Best iteration:\n",
      "[14]\tTest-rmse:1.94934\n",
      "\n"
     ]
    }
   ],
   "source": [
    "params = {\n",
    "    # Parameters that we are going to tune.\n",
    "    'max_depth':6,\n",
    "    'min_child_weight': 1,\n",
    "    'eta':.3,\n",
    "    'subsample': 1,\n",
    "    'colsample_bytree': 1,\n",
    "    # Other parameters\n",
    "    'objective':'reg:linear',\n",
    "}\n",
    "\n",
    "params['eval_metric'] = \"rmse\"\n",
    "num_boost_round = 999\n",
    "model = xgb.train(\n",
    "    params,\n",
    "    dtrain,\n",
    "    num_boost_round=num_boost_round,\n",
    "    evals=[(dtest, \"Test\")],\n",
    "    early_stopping_rounds=10)"
   ]
  },
  {
   "cell_type": "code",
   "execution_count": 349,
   "metadata": {},
   "outputs": [
    {
     "data": {
      "text/html": [
       "<div>\n",
       "<style scoped>\n",
       "    .dataframe tbody tr th:only-of-type {\n",
       "        vertical-align: middle;\n",
       "    }\n",
       "\n",
       "    .dataframe tbody tr th {\n",
       "        vertical-align: top;\n",
       "    }\n",
       "\n",
       "    .dataframe thead th {\n",
       "        text-align: right;\n",
       "    }\n",
       "</style>\n",
       "<table border=\"1\" class=\"dataframe\">\n",
       "  <thead>\n",
       "    <tr style=\"text-align: right;\">\n",
       "      <th></th>\n",
       "      <th>train-rmse-mean</th>\n",
       "      <th>train-rmse-std</th>\n",
       "      <th>test-rmse-mean</th>\n",
       "      <th>test-rmse-std</th>\n",
       "    </tr>\n",
       "  </thead>\n",
       "  <tbody>\n",
       "    <tr>\n",
       "      <th>0</th>\n",
       "      <td>5.630100</td>\n",
       "      <td>0.058773</td>\n",
       "      <td>5.643082</td>\n",
       "      <td>0.224679</td>\n",
       "    </tr>\n",
       "    <tr>\n",
       "      <th>1</th>\n",
       "      <td>4.054261</td>\n",
       "      <td>0.043310</td>\n",
       "      <td>4.080913</td>\n",
       "      <td>0.189644</td>\n",
       "    </tr>\n",
       "    <tr>\n",
       "      <th>2</th>\n",
       "      <td>2.963434</td>\n",
       "      <td>0.030343</td>\n",
       "      <td>3.015409</td>\n",
       "      <td>0.169399</td>\n",
       "    </tr>\n",
       "    <tr>\n",
       "      <th>3</th>\n",
       "      <td>2.184361</td>\n",
       "      <td>0.023999</td>\n",
       "      <td>2.266691</td>\n",
       "      <td>0.146381</td>\n",
       "    </tr>\n",
       "    <tr>\n",
       "      <th>4</th>\n",
       "      <td>1.631810</td>\n",
       "      <td>0.021898</td>\n",
       "      <td>1.744600</td>\n",
       "      <td>0.136442</td>\n",
       "    </tr>\n",
       "    <tr>\n",
       "      <th>5</th>\n",
       "      <td>1.241045</td>\n",
       "      <td>0.026979</td>\n",
       "      <td>1.385241</td>\n",
       "      <td>0.105369</td>\n",
       "    </tr>\n",
       "    <tr>\n",
       "      <th>6</th>\n",
       "      <td>0.962718</td>\n",
       "      <td>0.033240</td>\n",
       "      <td>1.134914</td>\n",
       "      <td>0.108229</td>\n",
       "    </tr>\n",
       "    <tr>\n",
       "      <th>7</th>\n",
       "      <td>0.767438</td>\n",
       "      <td>0.034188</td>\n",
       "      <td>0.977461</td>\n",
       "      <td>0.096910</td>\n",
       "    </tr>\n",
       "    <tr>\n",
       "      <th>8</th>\n",
       "      <td>0.634805</td>\n",
       "      <td>0.034852</td>\n",
       "      <td>0.873447</td>\n",
       "      <td>0.084350</td>\n",
       "    </tr>\n",
       "    <tr>\n",
       "      <th>9</th>\n",
       "      <td>0.531471</td>\n",
       "      <td>0.045482</td>\n",
       "      <td>0.790444</td>\n",
       "      <td>0.078768</td>\n",
       "    </tr>\n",
       "    <tr>\n",
       "      <th>10</th>\n",
       "      <td>0.442530</td>\n",
       "      <td>0.032431</td>\n",
       "      <td>0.727756</td>\n",
       "      <td>0.063425</td>\n",
       "    </tr>\n",
       "    <tr>\n",
       "      <th>11</th>\n",
       "      <td>0.370968</td>\n",
       "      <td>0.023481</td>\n",
       "      <td>0.672952</td>\n",
       "      <td>0.075853</td>\n",
       "    </tr>\n",
       "    <tr>\n",
       "      <th>12</th>\n",
       "      <td>0.331947</td>\n",
       "      <td>0.017176</td>\n",
       "      <td>0.647967</td>\n",
       "      <td>0.077875</td>\n",
       "    </tr>\n",
       "    <tr>\n",
       "      <th>13</th>\n",
       "      <td>0.285538</td>\n",
       "      <td>0.019878</td>\n",
       "      <td>0.616171</td>\n",
       "      <td>0.081246</td>\n",
       "    </tr>\n",
       "    <tr>\n",
       "      <th>14</th>\n",
       "      <td>0.256256</td>\n",
       "      <td>0.017322</td>\n",
       "      <td>0.599725</td>\n",
       "      <td>0.085820</td>\n",
       "    </tr>\n",
       "    <tr>\n",
       "      <th>15</th>\n",
       "      <td>0.233421</td>\n",
       "      <td>0.013648</td>\n",
       "      <td>0.585237</td>\n",
       "      <td>0.083785</td>\n",
       "    </tr>\n",
       "    <tr>\n",
       "      <th>16</th>\n",
       "      <td>0.204511</td>\n",
       "      <td>0.007157</td>\n",
       "      <td>0.566626</td>\n",
       "      <td>0.083200</td>\n",
       "    </tr>\n",
       "    <tr>\n",
       "      <th>17</th>\n",
       "      <td>0.188870</td>\n",
       "      <td>0.010573</td>\n",
       "      <td>0.559110</td>\n",
       "      <td>0.085335</td>\n",
       "    </tr>\n",
       "    <tr>\n",
       "      <th>18</th>\n",
       "      <td>0.174123</td>\n",
       "      <td>0.008439</td>\n",
       "      <td>0.551655</td>\n",
       "      <td>0.083560</td>\n",
       "    </tr>\n",
       "    <tr>\n",
       "      <th>19</th>\n",
       "      <td>0.156744</td>\n",
       "      <td>0.008180</td>\n",
       "      <td>0.542800</td>\n",
       "      <td>0.080688</td>\n",
       "    </tr>\n",
       "    <tr>\n",
       "      <th>20</th>\n",
       "      <td>0.144114</td>\n",
       "      <td>0.009299</td>\n",
       "      <td>0.536034</td>\n",
       "      <td>0.082137</td>\n",
       "    </tr>\n",
       "    <tr>\n",
       "      <th>21</th>\n",
       "      <td>0.134074</td>\n",
       "      <td>0.009818</td>\n",
       "      <td>0.530194</td>\n",
       "      <td>0.080572</td>\n",
       "    </tr>\n",
       "    <tr>\n",
       "      <th>22</th>\n",
       "      <td>0.123597</td>\n",
       "      <td>0.008205</td>\n",
       "      <td>0.522699</td>\n",
       "      <td>0.082318</td>\n",
       "    </tr>\n",
       "    <tr>\n",
       "      <th>23</th>\n",
       "      <td>0.117310</td>\n",
       "      <td>0.007781</td>\n",
       "      <td>0.521179</td>\n",
       "      <td>0.081615</td>\n",
       "    </tr>\n",
       "    <tr>\n",
       "      <th>24</th>\n",
       "      <td>0.108944</td>\n",
       "      <td>0.009095</td>\n",
       "      <td>0.517366</td>\n",
       "      <td>0.081990</td>\n",
       "    </tr>\n",
       "    <tr>\n",
       "      <th>25</th>\n",
       "      <td>0.101836</td>\n",
       "      <td>0.006863</td>\n",
       "      <td>0.514029</td>\n",
       "      <td>0.082754</td>\n",
       "    </tr>\n",
       "    <tr>\n",
       "      <th>26</th>\n",
       "      <td>0.097692</td>\n",
       "      <td>0.008173</td>\n",
       "      <td>0.511395</td>\n",
       "      <td>0.082283</td>\n",
       "    </tr>\n",
       "    <tr>\n",
       "      <th>27</th>\n",
       "      <td>0.092210</td>\n",
       "      <td>0.008531</td>\n",
       "      <td>0.508655</td>\n",
       "      <td>0.083235</td>\n",
       "    </tr>\n",
       "    <tr>\n",
       "      <th>28</th>\n",
       "      <td>0.088560</td>\n",
       "      <td>0.008228</td>\n",
       "      <td>0.507534</td>\n",
       "      <td>0.083363</td>\n",
       "    </tr>\n",
       "    <tr>\n",
       "      <th>29</th>\n",
       "      <td>0.083221</td>\n",
       "      <td>0.006829</td>\n",
       "      <td>0.506117</td>\n",
       "      <td>0.082834</td>\n",
       "    </tr>\n",
       "    <tr>\n",
       "      <th>...</th>\n",
       "      <td>...</td>\n",
       "      <td>...</td>\n",
       "      <td>...</td>\n",
       "      <td>...</td>\n",
       "    </tr>\n",
       "    <tr>\n",
       "      <th>213</th>\n",
       "      <td>0.002359</td>\n",
       "      <td>0.000219</td>\n",
       "      <td>0.483144</td>\n",
       "      <td>0.079728</td>\n",
       "    </tr>\n",
       "    <tr>\n",
       "      <th>214</th>\n",
       "      <td>0.002323</td>\n",
       "      <td>0.000211</td>\n",
       "      <td>0.483140</td>\n",
       "      <td>0.079732</td>\n",
       "    </tr>\n",
       "    <tr>\n",
       "      <th>215</th>\n",
       "      <td>0.002302</td>\n",
       "      <td>0.000201</td>\n",
       "      <td>0.483137</td>\n",
       "      <td>0.079730</td>\n",
       "    </tr>\n",
       "    <tr>\n",
       "      <th>216</th>\n",
       "      <td>0.002274</td>\n",
       "      <td>0.000195</td>\n",
       "      <td>0.483133</td>\n",
       "      <td>0.079733</td>\n",
       "    </tr>\n",
       "    <tr>\n",
       "      <th>217</th>\n",
       "      <td>0.002246</td>\n",
       "      <td>0.000187</td>\n",
       "      <td>0.483137</td>\n",
       "      <td>0.079737</td>\n",
       "    </tr>\n",
       "    <tr>\n",
       "      <th>218</th>\n",
       "      <td>0.002215</td>\n",
       "      <td>0.000181</td>\n",
       "      <td>0.483142</td>\n",
       "      <td>0.079736</td>\n",
       "    </tr>\n",
       "    <tr>\n",
       "      <th>219</th>\n",
       "      <td>0.002193</td>\n",
       "      <td>0.000179</td>\n",
       "      <td>0.483139</td>\n",
       "      <td>0.079743</td>\n",
       "    </tr>\n",
       "    <tr>\n",
       "      <th>220</th>\n",
       "      <td>0.002178</td>\n",
       "      <td>0.000184</td>\n",
       "      <td>0.483140</td>\n",
       "      <td>0.079742</td>\n",
       "    </tr>\n",
       "    <tr>\n",
       "      <th>221</th>\n",
       "      <td>0.002165</td>\n",
       "      <td>0.000186</td>\n",
       "      <td>0.483137</td>\n",
       "      <td>0.079738</td>\n",
       "    </tr>\n",
       "    <tr>\n",
       "      <th>222</th>\n",
       "      <td>0.002147</td>\n",
       "      <td>0.000182</td>\n",
       "      <td>0.483133</td>\n",
       "      <td>0.079735</td>\n",
       "    </tr>\n",
       "    <tr>\n",
       "      <th>223</th>\n",
       "      <td>0.002115</td>\n",
       "      <td>0.000183</td>\n",
       "      <td>0.483132</td>\n",
       "      <td>0.079734</td>\n",
       "    </tr>\n",
       "    <tr>\n",
       "      <th>224</th>\n",
       "      <td>0.002094</td>\n",
       "      <td>0.000180</td>\n",
       "      <td>0.483134</td>\n",
       "      <td>0.079736</td>\n",
       "    </tr>\n",
       "    <tr>\n",
       "      <th>225</th>\n",
       "      <td>0.002074</td>\n",
       "      <td>0.000172</td>\n",
       "      <td>0.483141</td>\n",
       "      <td>0.079737</td>\n",
       "    </tr>\n",
       "    <tr>\n",
       "      <th>226</th>\n",
       "      <td>0.002059</td>\n",
       "      <td>0.000161</td>\n",
       "      <td>0.483137</td>\n",
       "      <td>0.079735</td>\n",
       "    </tr>\n",
       "    <tr>\n",
       "      <th>227</th>\n",
       "      <td>0.002047</td>\n",
       "      <td>0.000156</td>\n",
       "      <td>0.483130</td>\n",
       "      <td>0.079733</td>\n",
       "    </tr>\n",
       "    <tr>\n",
       "      <th>228</th>\n",
       "      <td>0.002038</td>\n",
       "      <td>0.000151</td>\n",
       "      <td>0.483128</td>\n",
       "      <td>0.079732</td>\n",
       "    </tr>\n",
       "    <tr>\n",
       "      <th>229</th>\n",
       "      <td>0.002010</td>\n",
       "      <td>0.000134</td>\n",
       "      <td>0.483128</td>\n",
       "      <td>0.079731</td>\n",
       "    </tr>\n",
       "    <tr>\n",
       "      <th>230</th>\n",
       "      <td>0.001995</td>\n",
       "      <td>0.000120</td>\n",
       "      <td>0.483129</td>\n",
       "      <td>0.079732</td>\n",
       "    </tr>\n",
       "    <tr>\n",
       "      <th>231</th>\n",
       "      <td>0.001981</td>\n",
       "      <td>0.000099</td>\n",
       "      <td>0.483125</td>\n",
       "      <td>0.079727</td>\n",
       "    </tr>\n",
       "    <tr>\n",
       "      <th>232</th>\n",
       "      <td>0.001969</td>\n",
       "      <td>0.000093</td>\n",
       "      <td>0.483125</td>\n",
       "      <td>0.079727</td>\n",
       "    </tr>\n",
       "    <tr>\n",
       "      <th>233</th>\n",
       "      <td>0.001956</td>\n",
       "      <td>0.000083</td>\n",
       "      <td>0.483126</td>\n",
       "      <td>0.079727</td>\n",
       "    </tr>\n",
       "    <tr>\n",
       "      <th>234</th>\n",
       "      <td>0.001941</td>\n",
       "      <td>0.000072</td>\n",
       "      <td>0.483123</td>\n",
       "      <td>0.079722</td>\n",
       "    </tr>\n",
       "    <tr>\n",
       "      <th>235</th>\n",
       "      <td>0.001930</td>\n",
       "      <td>0.000065</td>\n",
       "      <td>0.483119</td>\n",
       "      <td>0.079717</td>\n",
       "    </tr>\n",
       "    <tr>\n",
       "      <th>236</th>\n",
       "      <td>0.001914</td>\n",
       "      <td>0.000054</td>\n",
       "      <td>0.483121</td>\n",
       "      <td>0.079721</td>\n",
       "    </tr>\n",
       "    <tr>\n",
       "      <th>237</th>\n",
       "      <td>0.001908</td>\n",
       "      <td>0.000047</td>\n",
       "      <td>0.483122</td>\n",
       "      <td>0.079722</td>\n",
       "    </tr>\n",
       "    <tr>\n",
       "      <th>238</th>\n",
       "      <td>0.001906</td>\n",
       "      <td>0.000046</td>\n",
       "      <td>0.483122</td>\n",
       "      <td>0.079722</td>\n",
       "    </tr>\n",
       "    <tr>\n",
       "      <th>239</th>\n",
       "      <td>0.001905</td>\n",
       "      <td>0.000045</td>\n",
       "      <td>0.483122</td>\n",
       "      <td>0.079722</td>\n",
       "    </tr>\n",
       "    <tr>\n",
       "      <th>240</th>\n",
       "      <td>0.001899</td>\n",
       "      <td>0.000042</td>\n",
       "      <td>0.483119</td>\n",
       "      <td>0.079718</td>\n",
       "    </tr>\n",
       "    <tr>\n",
       "      <th>241</th>\n",
       "      <td>0.001895</td>\n",
       "      <td>0.000043</td>\n",
       "      <td>0.483118</td>\n",
       "      <td>0.079715</td>\n",
       "    </tr>\n",
       "    <tr>\n",
       "      <th>242</th>\n",
       "      <td>0.001891</td>\n",
       "      <td>0.000044</td>\n",
       "      <td>0.483116</td>\n",
       "      <td>0.079713</td>\n",
       "    </tr>\n",
       "  </tbody>\n",
       "</table>\n",
       "<p>243 rows × 4 columns</p>\n",
       "</div>"
      ],
      "text/plain": [
       "     train-rmse-mean  train-rmse-std  test-rmse-mean  test-rmse-std\n",
       "0           5.630100        0.058773        5.643082       0.224679\n",
       "1           4.054261        0.043310        4.080913       0.189644\n",
       "2           2.963434        0.030343        3.015409       0.169399\n",
       "3           2.184361        0.023999        2.266691       0.146381\n",
       "4           1.631810        0.021898        1.744600       0.136442\n",
       "5           1.241045        0.026979        1.385241       0.105369\n",
       "6           0.962718        0.033240        1.134914       0.108229\n",
       "7           0.767438        0.034188        0.977461       0.096910\n",
       "8           0.634805        0.034852        0.873447       0.084350\n",
       "9           0.531471        0.045482        0.790444       0.078768\n",
       "10          0.442530        0.032431        0.727756       0.063425\n",
       "11          0.370968        0.023481        0.672952       0.075853\n",
       "12          0.331947        0.017176        0.647967       0.077875\n",
       "13          0.285538        0.019878        0.616171       0.081246\n",
       "14          0.256256        0.017322        0.599725       0.085820\n",
       "15          0.233421        0.013648        0.585237       0.083785\n",
       "16          0.204511        0.007157        0.566626       0.083200\n",
       "17          0.188870        0.010573        0.559110       0.085335\n",
       "18          0.174123        0.008439        0.551655       0.083560\n",
       "19          0.156744        0.008180        0.542800       0.080688\n",
       "20          0.144114        0.009299        0.536034       0.082137\n",
       "21          0.134074        0.009818        0.530194       0.080572\n",
       "22          0.123597        0.008205        0.522699       0.082318\n",
       "23          0.117310        0.007781        0.521179       0.081615\n",
       "24          0.108944        0.009095        0.517366       0.081990\n",
       "25          0.101836        0.006863        0.514029       0.082754\n",
       "26          0.097692        0.008173        0.511395       0.082283\n",
       "27          0.092210        0.008531        0.508655       0.083235\n",
       "28          0.088560        0.008228        0.507534       0.083363\n",
       "29          0.083221        0.006829        0.506117       0.082834\n",
       "..               ...             ...             ...            ...\n",
       "213         0.002359        0.000219        0.483144       0.079728\n",
       "214         0.002323        0.000211        0.483140       0.079732\n",
       "215         0.002302        0.000201        0.483137       0.079730\n",
       "216         0.002274        0.000195        0.483133       0.079733\n",
       "217         0.002246        0.000187        0.483137       0.079737\n",
       "218         0.002215        0.000181        0.483142       0.079736\n",
       "219         0.002193        0.000179        0.483139       0.079743\n",
       "220         0.002178        0.000184        0.483140       0.079742\n",
       "221         0.002165        0.000186        0.483137       0.079738\n",
       "222         0.002147        0.000182        0.483133       0.079735\n",
       "223         0.002115        0.000183        0.483132       0.079734\n",
       "224         0.002094        0.000180        0.483134       0.079736\n",
       "225         0.002074        0.000172        0.483141       0.079737\n",
       "226         0.002059        0.000161        0.483137       0.079735\n",
       "227         0.002047        0.000156        0.483130       0.079733\n",
       "228         0.002038        0.000151        0.483128       0.079732\n",
       "229         0.002010        0.000134        0.483128       0.079731\n",
       "230         0.001995        0.000120        0.483129       0.079732\n",
       "231         0.001981        0.000099        0.483125       0.079727\n",
       "232         0.001969        0.000093        0.483125       0.079727\n",
       "233         0.001956        0.000083        0.483126       0.079727\n",
       "234         0.001941        0.000072        0.483123       0.079722\n",
       "235         0.001930        0.000065        0.483119       0.079717\n",
       "236         0.001914        0.000054        0.483121       0.079721\n",
       "237         0.001908        0.000047        0.483122       0.079722\n",
       "238         0.001906        0.000046        0.483122       0.079722\n",
       "239         0.001905        0.000045        0.483122       0.079722\n",
       "240         0.001899        0.000042        0.483119       0.079718\n",
       "241         0.001895        0.000043        0.483118       0.079715\n",
       "242         0.001891        0.000044        0.483116       0.079713\n",
       "\n",
       "[243 rows x 4 columns]"
      ]
     },
     "execution_count": 349,
     "metadata": {},
     "output_type": "execute_result"
    }
   ],
   "source": [
    "cv_results = xgb.cv(\n",
    "    params,\n",
    "    dtrain,\n",
    "    num_boost_round=num_boost_round,\n",
    "    seed=42,\n",
    "    nfold=5,\n",
    "    metrics={'rmse'},\n",
    "    early_stopping_rounds=10)\n",
    "cv_results"
   ]
  },
  {
   "cell_type": "code",
   "execution_count": 350,
   "metadata": {},
   "outputs": [
    {
     "data": {
      "text/plain": [
       "0.48311600000000005"
      ]
     },
     "execution_count": 350,
     "metadata": {},
     "output_type": "execute_result"
    }
   ],
   "source": [
    "cv_results['test-rmse-mean'].min()"
   ]
  },
  {
   "cell_type": "code",
   "execution_count": 351,
   "metadata": {},
   "outputs": [],
   "source": [
    "gridsearch_params = [\n",
    "    (max_depth, min_child_weight)\n",
    "    for max_depth in range(9,12)\n",
    "    for min_child_weight in range(5,8)\n",
    "]"
   ]
  },
  {
   "cell_type": "code",
   "execution_count": 352,
   "metadata": {},
   "outputs": [
    {
     "name": "stdout",
     "output_type": "stream",
     "text": [
      "CV with max_depth=9, min_child_weight=5\n"
     ]
    },
    {
     "name": "stderr",
     "output_type": "stream",
     "text": [
      "/Users/dangngochuy/anaconda3/lib/python3.6/site-packages/ipykernel_launcher.py:23: FutureWarning: \n",
      "The current behaviour of 'Series.argmin' is deprecated, use 'idxmin'\n",
      "instead.\n",
      "The behavior of 'argmin' will be corrected to return the positional\n",
      "minimum in the future. For now, use 'series.values.argmin' or\n",
      "'np.argmin(np.array(values))' to get the position of the minimum\n",
      "row.\n"
     ]
    },
    {
     "name": "stdout",
     "output_type": "stream",
     "text": [
      "\tMAE 0.4737476 for 206 rounds\n",
      "CV with max_depth=9, min_child_weight=6\n",
      "\tMAE 0.47844 for 187 rounds\n",
      "CV with max_depth=9, min_child_weight=7\n",
      "\tMAE 0.4741632 for 291 rounds\n",
      "CV with max_depth=10, min_child_weight=5\n",
      "\tMAE 0.46714520000000004 for 212 rounds\n",
      "CV with max_depth=10, min_child_weight=6\n",
      "\tMAE 0.46527799999999997 for 260 rounds\n",
      "CV with max_depth=10, min_child_weight=7\n",
      "\tMAE 0.4567472 for 194 rounds\n",
      "CV with max_depth=11, min_child_weight=5\n",
      "\tMAE 0.46822660000000005 for 122 rounds\n",
      "CV with max_depth=11, min_child_weight=6\n",
      "\tMAE 0.4577922 for 148 rounds\n",
      "CV with max_depth=11, min_child_weight=7\n",
      "\tMAE 0.46371219999999996 for 175 rounds\n",
      "Best params: 10, 7, RMSE: 0.4567472\n"
     ]
    }
   ],
   "source": [
    "# Define initial best params and RMSE\n",
    "min_rmse = float(\"Inf\")\n",
    "best_params = None\n",
    "for max_depth, min_child_weight in gridsearch_params:\n",
    "    print(\"CV with max_depth={}, min_child_weight={}\".format(\n",
    "                             max_depth,\n",
    "                             min_child_weight))\n",
    "    # Update our parameters\n",
    "    params['max_depth'] = max_depth\n",
    "    params['min_child_weight'] = min_child_weight\n",
    "    # Run CV\n",
    "    cv_results = xgb.cv(\n",
    "        params,\n",
    "        dtrain,\n",
    "        num_boost_round=num_boost_round,\n",
    "        seed=42,\n",
    "        nfold=5,\n",
    "        metrics={'rmse'},\n",
    "        early_stopping_rounds=10\n",
    "    )\n",
    "    # Update best RMSE\n",
    "    mean_rmse = cv_results['test-rmse-mean'].min()\n",
    "    boost_rounds = cv_results['test-rmse-mean'].argmin()\n",
    "    print(\"\\tMAE {} for {} rounds\".format(mean_rmse, boost_rounds))\n",
    "    if mean_rmse < min_rmse:\n",
    "        min_rmse = mean_rmse\n",
    "        best_params = (max_depth,min_child_weight)\n",
    "print(\"Best params: {}, {}, RMSE: {}\".format(best_params[0], best_params[1], min_rmse))"
   ]
  },
  {
   "cell_type": "code",
   "execution_count": 353,
   "metadata": {},
   "outputs": [],
   "source": [
    "#Best parameters for XGBoost\n",
    "params['max_depth'] = 10\n",
    "params['min_child_weight'] = 7"
   ]
  },
  {
   "cell_type": "code",
   "execution_count": 355,
   "metadata": {},
   "outputs": [
    {
     "name": "stderr",
     "output_type": "stream",
     "text": [
      "/Users/dangngochuy/anaconda3/lib/python3.6/site-packages/xgboost/core.py:587: FutureWarning: Series.base is deprecated and will be removed in a future version\n",
      "  if getattr(data, 'base', None) is not None and \\\n",
      "/Users/dangngochuy/anaconda3/lib/python3.6/site-packages/xgboost/core.py:588: FutureWarning: Series.base is deprecated and will be removed in a future version\n",
      "  data.base is not None and isinstance(data, np.ndarray) \\\n"
     ]
    },
    {
     "name": "stdout",
     "output_type": "stream",
     "text": [
      "0.9990442086663633\n",
      "-12.253587432769663\n",
      "2.475712017665856\n"
     ]
    }
   ],
   "source": [
    "# Retrain the xgboost model and fit to the training data\n",
    "\n",
    "xgb_model_allen_afd_new = XGBRegressor(max_depth = 10, min_child_weight = 7)\n",
    "result_xgb_new = xgb_model_allen_afd_new.fit(train_features, train_targets)\n",
    "\n",
    "# Look at the R^2 scores on train and test\n",
    "print(xgb_model_allen_afd_new.score(train_features, train_targets))\n",
    "print(xgb_model_allen_afd_new.score(test_features, test_targets))\n",
    "\n",
    "# Check RMSE\n",
    "xgb_model_allen_afd_pred_new = xgb_model_allen_afd_new.predict(test_features)\n",
    "print(sqrt(mean_squared_error(xgb_model_allen_afd_pred_new, test_targets)))"
   ]
  },
  {
   "cell_type": "code",
   "execution_count": 338,
   "metadata": {},
   "outputs": [
    {
     "name": "stdout",
     "output_type": "stream",
     "text": [
      "[ 4.4503403  4.393775   4.362237   4.362237   4.362237   4.362237\n",
      "  4.362237   4.362237   4.1867     4.3222656  4.3222656  4.907153\n",
      "  3.9317982  4.278284   3.8652427  3.8652427  4.0062013  3.8836725\n",
      "  3.8990085  3.8990085  3.8990085  3.8990085  3.91862    3.91862\n",
      "  3.91862    3.91862    3.91862    3.91862    3.91862    3.91862\n",
      "  3.91862    3.91862    3.91862    3.91862    3.91862    3.91862\n",
      "  5.00645    4.9323316  4.9323316  6.3931036  6.347856   6.3255424\n",
      "  6.3255424  6.3255424  6.2243466  7.1150613  7.1150613  7.1150613\n",
      "  7.6177225  7.760206   7.624819   7.624819   7.624819   7.624819\n",
      "  7.624819   7.5270405  7.1693935  7.296683   7.296683   7.7289877\n",
      "  7.859662   7.859662   7.859662   7.859662   8.159753   8.159753\n",
      "  8.159753   6.661994   7.0350275  7.7985654  6.3978515  6.2740655\n",
      "  6.7645645  6.862343   6.84473    5.7440405  5.4566255  5.4566255\n",
      "  5.4566255  5.43677    5.1232557  5.1232557  4.854418   4.854418\n",
      "  4.854418   4.854418   4.854418   4.854418   4.854418   4.8794146\n",
      "  5.0998755  5.665838   5.7094345  5.7255116  6.3957767  6.768191\n",
      "  7.01608    7.2397795  7.0652623  7.1515136  7.196525   7.107488\n",
      "  7.107488   7.136916   6.91668    6.91668    6.91668    6.932028\n",
      "  6.932028   6.932028   7.042836   7.0689297  7.0689297  7.1933155\n",
      "  7.1933155  7.1933155  7.32399    7.3947763  7.3947763  7.3947763\n",
      "  7.5829453  7.883036   6.52267    6.874769   5.380071   5.2330985\n",
      "  5.2330985  5.2330985  5.2330985  5.641866   5.641866   5.641866\n",
      "  5.641866   5.641866   6.167978   6.167978   6.167978   6.167978\n",
      "  6.167978   6.167978   6.167978   6.167978   6.167978   6.167978\n",
      "  6.167978   6.0571694  6.0571694  6.0571694  6.0571694  6.174846\n",
      "  6.4230103  9.10703    9.10703    9.10703    9.603201   9.389707\n",
      " 10.155453   9.319854   9.610806  10.094393  10.29703   11.061655\n",
      " 11.198894  10.348118  10.088088   9.245661   9.318022   8.843926\n",
      "  8.843926   9.258215   8.997124   9.271298   8.353596   8.061964\n",
      "  7.9365993  7.6623087  7.3049793  7.2624917  7.019267   6.4582853\n",
      "  6.5749264  6.50908    6.46118    6.8226123  6.8706694]\n"
     ]
    }
   ],
   "source": [
    "test_predictions_xgb_model_allen_afd = xgb_model_allen_afd.predict(test_features)\n",
    "print(test_predictions_xgb_model_allen_afd)"
   ]
  },
  {
   "cell_type": "code",
   "execution_count": 358,
   "metadata": {},
   "outputs": [
    {
     "data": {
      "image/png": "[encoded data removed]",
      "text/plain": [
       "<matplotlib.figure.Figure at 0x14783ed30>"
      ]
     },
     "metadata": {
      "needs_background": "light"
     },
     "output_type": "display_data"
    }
   ],
   "source": [
    "# Extract feature importances from the fitted gradient boosting model\n",
    "feature_importances_xgb = xgb_model_allen_afd.feature_importances_\n",
    "feature_importances_xgb = feature_importances_xgb[feature_importances_xgb != 0]\n",
    "\n",
    "# Get the indices of the largest to smallest feature importances\n",
    "sorted_index_xgb = np.argsort(feature_importances_xgb)[::-1]\n",
    "x_xgb = range(features.shape[1])\n",
    "\n",
    "# Create tick labels \n",
    "labels = np.array(feature_names)[sorted_index_xgb]\n",
    "\n",
    "plt.bar(x_xgb, feature_importances_xgb[sorted_index_xgb], tick_label=labels)\n",
    "\n",
    "# Set the tick lables to be the feature names, according to the sorted feature_idx\n",
    "plt.xticks(rotation=90)\n",
    "plt.title('Feature Importances from the XGBoost Model')\n",
    "plt.show()"
   ]
  },
  {
   "cell_type": "code",
   "execution_count": 255,
   "metadata": {},
   "outputs": [
    {
     "name": "stdout",
     "output_type": "stream",
     "text": [
      "Train on 1043 samples\n",
      "Epoch 1/25\n",
      "1043/1043 [==============================] - 0s 178us/sample - loss: 0.0722\n",
      "Epoch 2/25\n",
      "1043/1043 [==============================] - 0s 64us/sample - loss: 0.0018\n",
      "Epoch 3/25\n",
      "1043/1043 [==============================] - 0s 105us/sample - loss: 5.7861e-04\n",
      "Epoch 4/25\n",
      "1043/1043 [==============================] - 0s 66us/sample - loss: 4.7978e-04\n",
      "Epoch 5/25\n",
      "1043/1043 [==============================] - 0s 49us/sample - loss: 4.2982e-04\n",
      "Epoch 6/25\n",
      "1043/1043 [==============================] - 0s 68us/sample - loss: 3.9867e-04\n",
      "Epoch 7/25\n",
      "1043/1043 [==============================] - 0s 177us/sample - loss: 3.8245e-04\n",
      "Epoch 8/25\n",
      "1043/1043 [==============================] - 0s 130us/sample - loss: 3.6612e-04\n",
      "Epoch 9/25\n",
      "1043/1043 [==============================] - 0s 121us/sample - loss: 3.6218e-04\n",
      "Epoch 10/25\n",
      "1043/1043 [==============================] - 0s 95us/sample - loss: 3.5319e-04\n",
      "Epoch 11/25\n",
      "1043/1043 [==============================] - 0s 76us/sample - loss: 3.4469e-04\n",
      "Epoch 12/25\n",
      "1043/1043 [==============================] - 0s 70us/sample - loss: 3.3724e-04\n",
      "Epoch 13/25\n",
      "1043/1043 [==============================] - 0s 54us/sample - loss: 3.2021e-04\n",
      "Epoch 14/25\n",
      "1043/1043 [==============================] - 0s 135us/sample - loss: 3.3439e-04\n",
      "Epoch 15/25\n",
      "1043/1043 [==============================] - 0s 116us/sample - loss: 3.3130e-04\n",
      "Epoch 16/25\n",
      "1043/1043 [==============================] - 0s 45us/sample - loss: 3.1702e-04\n",
      "Epoch 17/25\n",
      "1043/1043 [==============================] - 0s 57us/sample - loss: 3.0689e-04\n",
      "Epoch 18/25\n",
      "1043/1043 [==============================] - 0s 103us/sample - loss: 2.9599e-04\n",
      "Epoch 19/25\n",
      "1043/1043 [==============================] - 0s 127us/sample - loss: 3.0620e-04\n",
      "Epoch 20/25\n",
      "1043/1043 [==============================] - 0s 82us/sample - loss: 3.4987e-04\n",
      "Epoch 21/25\n",
      "1043/1043 [==============================] - 0s 79us/sample - loss: 2.7430e-04\n",
      "Epoch 22/25\n",
      "1043/1043 [==============================] - 0s 58us/sample - loss: 2.6461e-04\n",
      "Epoch 23/25\n",
      "1043/1043 [==============================] - 0s 81us/sample - loss: 2.6579e-04\n",
      "Epoch 24/25\n",
      "1043/1043 [==============================] - 0s 96us/sample - loss: 2.6345e-04\n",
      "Epoch 25/25\n",
      "1043/1043 [==============================] - 0s 113us/sample - loss: 2.7985e-04\n",
      "[[-0.03205785]\n",
      " [-0.03338134]\n",
      " [-0.03472778]\n",
      " [-0.03609735]\n",
      " [-0.03747571]\n",
      " [-0.03808817]\n",
      " [-0.03895688]\n",
      " [-0.04010922]\n",
      " [-0.04031056]\n",
      " [-0.04053572]\n",
      " [-0.04078573]\n",
      " [-0.03963375]\n",
      " [-0.03828374]\n",
      " [-0.03673583]\n",
      " [-0.03524289]\n",
      " [-0.03383288]\n",
      " [-0.03243163]\n",
      " [-0.03081486]\n",
      " [-0.02933252]\n",
      " [-0.02798414]\n",
      " [-0.02677044]\n",
      " [-0.02559265]\n",
      " [-0.02445203]\n",
      " [-0.0233478 ]\n",
      " [-0.02228785]\n",
      " [-0.02127212]\n",
      " [-0.02071857]\n",
      " [-0.02059484]\n",
      " [-0.02045873]\n",
      " [-0.02031061]\n",
      " [-0.02015013]\n",
      " [-0.01999706]\n",
      " [-0.01985154]\n",
      " [-0.01971364]\n",
      " [-0.01958311]\n",
      " [-0.01946014]\n",
      " [-0.01956853]\n",
      " [-0.01968434]\n",
      " [-0.01980752]\n",
      " [-0.02000552]\n",
      " [-0.0200226 ]\n",
      " [-0.01986679]\n",
      " [-0.01971152]\n",
      " [-0.01955605]\n",
      " [-0.01945233]\n",
      " [-0.01939949]\n",
      " [-0.01939666]\n",
      " [-0.01944298]\n",
      " [-0.01953831]\n",
      " [-0.01963562]\n",
      " [-0.01972347]\n",
      " [-0.01980218]\n",
      " [-0.0198746 ]\n",
      " [-0.019941  ]\n",
      " [-0.02000171]\n",
      " [-0.02005646]\n",
      " [-0.02010518]\n",
      " [-0.02014863]\n",
      " [-0.02018616]\n",
      " [-0.0202314 ]\n",
      " [-0.020284  ]\n",
      " [-0.0203346 ]\n",
      " [-0.02038312]\n",
      " [-0.02042985]\n",
      " [-0.02047455]\n",
      " [-0.02051744]\n",
      " [-0.02055827]\n",
      " [-0.01995736]\n",
      " [-0.01935446]\n",
      " [-0.01875332]\n",
      " [-0.01791209]\n",
      " [-0.01754734]\n",
      " [-0.01767012]\n",
      " [-0.01784289]\n",
      " [-0.01806626]\n",
      " [-0.01820362]\n",
      " [-0.01825365]\n",
      " [-0.01821858]\n",
      " [-0.01809719]\n",
      " [-0.01788399]\n",
      " [-0.01770943]\n",
      " [-0.01757449]\n",
      " [-0.01747966]\n",
      " [-0.01745224]\n",
      " [-0.01816159]\n",
      " [-0.01890686]\n",
      " [-0.01968911]\n",
      " [-0.02050921]\n",
      " [-0.02302605]\n",
      " [-0.02767906]\n",
      " [-0.03191549]\n",
      " [-0.03510824]\n",
      " [-0.03657201]\n",
      " [-0.03802758]\n",
      " [-0.03947443]\n",
      " [-0.0383231 ]\n",
      " [-0.03671771]\n",
      " [-0.03448802]\n",
      " [-0.03148633]\n",
      " [-0.02836961]\n",
      " [-0.02545172]\n",
      " [-0.02273118]\n",
      " [-0.02214804]\n",
      " [-0.02184486]\n",
      " [-0.02164438]\n",
      " [-0.02139765]\n",
      " [-0.02110514]\n",
      " [-0.02096188]\n",
      " [-0.02083698]\n",
      " [-0.02065963]\n",
      " [-0.02043006]\n",
      " [-0.02015293]\n",
      " [-0.01982793]\n",
      " [-0.01945633]\n",
      " [-0.01903784]\n",
      " [-0.01860702]\n",
      " [-0.01816413]\n",
      " [-0.01770961]\n",
      " [-0.01724312]\n",
      " [-0.0167647 ]\n",
      " [-0.01617268]\n",
      " [-0.01559049]\n",
      " [-0.0150184 ]\n",
      " [-0.01440737]\n",
      " [-0.01390848]\n",
      " [-0.01353163]\n",
      " [-0.01317915]\n",
      " [-0.01285273]\n",
      " [-0.01252222]\n",
      " [-0.01218754]\n",
      " [-0.01184943]\n",
      " [-0.01150724]\n",
      " [-0.01116124]\n",
      " [-0.01083827]\n",
      " [-0.01053822]\n",
      " [-0.01026118]\n",
      " [-0.01000744]\n",
      " [-0.00977692]\n",
      " [-0.00956905]\n",
      " [-0.00938696]\n",
      " [-0.00923076]\n",
      " [-0.00910038]\n",
      " [-0.00899562]\n",
      " [-0.00890878]\n",
      " [-0.00883973]\n",
      " [-0.00877005]\n",
      " [-0.00869983]\n",
      " [-0.00862911]\n",
      " [-0.00855759]\n",
      " [-0.00848585]\n",
      " [-0.00841954]\n",
      " [-0.00835818]\n",
      " [-0.00830236]\n",
      " [-0.00825012]\n",
      " [-0.00820059]\n",
      " [-0.00861713]\n",
      " [-0.00903693]\n",
      " [-0.00946006]\n",
      " [-0.01012799]\n",
      " [-0.01040989]\n",
      " [-0.01031607]\n",
      " [-0.01020396]\n",
      " [-0.01007411]\n",
      " [-0.01002914]\n",
      " [-0.01006758]\n",
      " [-0.00977752]\n",
      " [-0.00848308]\n",
      " [-0.00728166]\n",
      " [-0.00607985]\n",
      " [-0.0048776 ]\n",
      " [-0.00310144]\n",
      " [-0.00132066]\n",
      " [ 0.0003264 ]\n",
      " [-0.00038707]\n",
      " [-0.00084251]\n",
      " [-0.00105432]\n",
      " [-0.00121775]\n",
      " [-0.001333  ]\n",
      " [-0.00250408]\n",
      " [-0.00473395]\n",
      " [-0.00695705]\n",
      " [-0.00917345]\n",
      " [-0.0105927 ]\n",
      " [-0.0106858 ]\n",
      " [-0.01070863]]\n"
     ]
    }
   ],
   "source": [
    "# Deep Learning Model\n",
    "\n",
    "#import libraries \n",
    "import tensorflow as tf\n",
    "from tensorflow import keras\n",
    "\n",
    "dnnmodel_allen_afd = tf.keras.Sequential()\n",
    "dnnmodel_allen_afd.add(keras.layers.Dense(100, input_dim=train_features.shape[1], activation='relu'))\n",
    "dnnmodel_allen_afd.add(keras.layers.Dense(20, activation='relu'))\n",
    "dnnmodel_allen_afd.add(keras.layers.Dense(1, activation='linear'))\n",
    "\n",
    "# Fit the model with our custom 'sign_penalty' loss function\n",
    "dnnmodel_allen_afd.compile(optimizer='adam', loss='mean_squared_error')\n",
    "history = dnnmodel_allen_afd.fit(train_features, train_targets, epochs=25)\n",
    "print(dnnmodel_allen_afd.predict(test_features))"
   ]
  },
  {
   "cell_type": "code",
   "execution_count": 256,
   "metadata": {},
   "outputs": [
    {
     "data": {
      "image/png": "[encoded data removed]",
      "text/plain": [
       "<matplotlib.figure.Figure at 0x12eb27eb8>"
      ]
     },
     "metadata": {
      "needs_background": "light"
     },
     "output_type": "display_data"
    }
   ],
   "source": [
    "plt.plot(history.history['loss'])\n",
    "plt.title('loss:' + str(round(history.history['loss'][-1], 6)))\n",
    "plt.show()"
   ]
  },
  {
   "cell_type": "code",
   "execution_count": 259,
   "metadata": {},
   "outputs": [
    {
     "name": "stdout",
     "output_type": "stream",
     "text": [
      "0.1084825883750129\n",
      "-1.338070462160454\n"
     ]
    }
   ],
   "source": [
    "# Evaluate R^2 scores\n",
    "from sklearn.metrics import mean_squared_error, r2_score\n",
    "\n",
    "train_preds_dnn_allen_afd = dnnmodel_allen_afd.predict(train_features)\n",
    "test_preds_dnn_allen_afd = dnnmodel_allen_afd.predict(test_features)\n",
    "print(r2_score(train_targets, train_preds_dnn_allen_afd))\n",
    "print(r2_score(test_targets, test_preds_dnn_allen_afd))"
   ]
  },
  {
   "cell_type": "code",
   "execution_count": 260,
   "metadata": {},
   "outputs": [
    {
     "data": {
      "image/png": "[encoded data removed]",
      "text/plain": [
       "<matplotlib.figure.Figure at 0x1443b74a8>"
      ]
     },
     "metadata": {
      "needs_background": "light"
     },
     "output_type": "display_data"
    }
   ],
   "source": [
    "# Scatter the predictions vs actual\n",
    "plt.scatter(train_preds_dnn_allen_afd, train_targets, label='train')\n",
    "plt.scatter(test_preds_dnn_allen_afd, test_targets, label='test')  # plot test set\n",
    "plt.legend(); plt.show()"
   ]
  },
  {
   "cell_type": "code",
   "execution_count": 305,
   "metadata": {},
   "outputs": [
    {
     "name": "stdout",
     "output_type": "stream",
     "text": [
      "['3d_future_pct', 'ma3', 'ma5', 'ma10', 'ma20', 'ma30', 'ma50', 'ma100', 'ma200']\n",
      "               3d_future  3d_future_pct       ma3       ma5      ma10  \\\n",
      "3d_future       1.000000       0.010718 -0.046979 -0.056604 -0.079524   \n",
      "3d_future_pct   0.010718       1.000000 -0.942369 -0.930175 -0.896611   \n",
      "ma3            -0.046979      -0.942369  1.000000  0.994403  0.967001   \n",
      "ma5            -0.056604      -0.930175  0.994403  1.000000  0.984826   \n",
      "ma10           -0.079524      -0.896611  0.967001  0.984826  1.000000   \n",
      "ma20           -0.121077      -0.827028  0.902962  0.927801  0.970825   \n",
      "ma30           -0.157662      -0.752974  0.833167  0.860684  0.915457   \n",
      "ma50           -0.218267      -0.624141  0.701935  0.729511  0.790111   \n",
      "ma100          -0.326635      -0.449299  0.513022  0.535717  0.587977   \n",
      "ma200          -0.482655      -0.313555  0.369658  0.388982  0.434164   \n",
      "\n",
      "                   ma20      ma30      ma50     ma100     ma200  \n",
      "3d_future     -0.121077 -0.157662 -0.218267 -0.326635 -0.482655  \n",
      "3d_future_pct -0.827028 -0.752974 -0.624141 -0.449299 -0.313555  \n",
      "ma3            0.902962  0.833167  0.701935  0.513022  0.369658  \n",
      "ma5            0.927801  0.860684  0.729511  0.535717  0.388982  \n",
      "ma10           0.970825  0.915457  0.790111  0.587977  0.434164  \n",
      "ma20           1.000000  0.980935  0.885965  0.681027  0.516767  \n",
      "ma30           0.980935  1.000000  0.951707  0.761882  0.591350  \n",
      "ma50           0.885965  0.951707  1.000000  0.888060  0.718528  \n",
      "ma100          0.681027  0.761882  0.888060  1.000000  0.908953  \n",
      "ma200          0.516767  0.591350  0.718528  0.908953  1.000000  \n"
     ]
    }
   ],
   "source": [
    "#Create dataframe from interpolated allensbach data for AFD\n",
    "\n",
    "df_2017_allen_afd = interpolated_election2017_allen_afd.to_frame()\n",
    "df_2017_allen_afd.tail()\n",
    "\n",
    "# Create 3-day % changes of support for the current day, and 3 days in the future\n",
    "\n",
    "df_2017_allen_afd['3d_future'] = df_2017_allen_afd['support'].shift(-3)\n",
    "df_2017_allen_afd['3d_future_pct'] = df_2017_allen_afd['3d_future'].pct_change(3)\n",
    "df_2017_allen_afd['3d_pct'] = df_2017_allen_afd['support'].pct_change(3)\n",
    "\n",
    "feature_names = ['3d_future_pct']  # a list of the feature names for later\n",
    "\n",
    "# Create moving averages timeperiods of 3, 5, 10, 20, 30, 50, 100 and 200\n",
    "for n in [3, 5, 10, 20, 30, 50, 100, 200]:\n",
    "\n",
    "    # Create the moving average indicator and divide by Adj_Close\n",
    "    df_2017_allen_afd['ma' + str(n)] = talib.SMA(df_2017_allen_afd['support'].values,\n",
    "                              timeperiod=n) / df_2017_allen_afd['support']\n",
    "    # Create the RSI indicator\n",
    "    #df_2017_allen_afd['rsi' + str(n)] = talib.RSI(df_2017_allen_afd['support'].values, timeperiod=n)\n",
    "    \n",
    "    # Add rsi and moving average to the feature name list\n",
    "    feature_names = feature_names + ['ma' + str(n)]\n",
    "print(feature_names)\n",
    "\n",
    "df_2017_allen_afd = df_2017_allen_afd.dropna()\n",
    "\n",
    "# Create features and targets\n",
    "# use feature_names for features; '5d_close_future_pct' for targets\n",
    "features = df_2017_allen_afd[feature_names]\n",
    "targets = df_2017_allen_afd['3d_future']\n",
    "\n",
    "# Create DataFrame from target column and feature columns\n",
    "feature_and_target_cols = ['3d_future'] + feature_names\n",
    "feat_targ_df = df_2017_allen_afd[feature_and_target_cols]\n",
    "\n",
    "# Calculate correlation matrix\n",
    "corr = feat_targ_df.corr()\n",
    "print(corr)"
   ]
  },
  {
   "cell_type": "code",
   "execution_count": 306,
   "metadata": {},
   "outputs": [
    {
     "name": "stdout",
     "output_type": "stream",
     "text": [
      "0.9000939824340732\n",
      "0.8655072267397463\n",
      "0.006855685508280691\n"
     ]
    }
   ],
   "source": [
    "from sklearn.linear_model import LinearRegression\n",
    "\n",
    "linear_model_allen_afd = LinearRegression()\n",
    "linear_model_allen_afd.fit(train_features, train_targets)\n",
    "\n",
    "# Check the score on train and test\n",
    "print(linear_model_allen_afd.score(train_features, train_targets))\n",
    "print(linear_model_allen_afd.score(test_features, test_targets))\n",
    "\n",
    "#Check Root mean squared error\n",
    "linear_model_allen_afd_pred = linear_model_allen_afd.predict(test_features)\n",
    "print(sqrt(mean_squared_error(linear_model_allen_afd_pred, test_targets)))"
   ]
  },
  {
   "cell_type": "markdown",
   "metadata": {},
   "source": [
    "#### Combined Average Model for AFD Party in 2017 Polls"
   ]
  },
  {
   "cell_type": "code",
   "execution_count": 51,
   "metadata": {},
   "outputs": [],
   "source": [
    "# combine and take average of all \n",
    "\n",
    "df_2017_allen_afd_combined = interpolated_election2017_allen_afd.to_frame()\n",
    "df_2017_insa_afd_combined = interpolated_election2017_insa_afd.to_frame()\n",
    "df_2017_forsa_combined = interpolated_election2017_forsa_afd.to_frame()\n",
    "df_2017_emnid_afd_combined = interpolated_election2017_emnid_afd.to_frame()\n",
    "df_2017_gms_afd_combined = interpolated_election2017_gms_afd.to_frame()\n",
    "df_2017_infra_afd_combined = interpolated_election2017_infra_afd.to_frame()\n",
    "df_2017_fgruppe_afd_combined = interpolated_election2017_fgruppe_afd.to_frame()\n"
   ]
  },
  {
   "cell_type": "code",
   "execution_count": 52,
   "metadata": {},
   "outputs": [
    {
     "data": {
      "text/html": [
       "<div>\n",
       "<style scoped>\n",
       "    .dataframe tbody tr th:only-of-type {\n",
       "        vertical-align: middle;\n",
       "    }\n",
       "\n",
       "    .dataframe tbody tr th {\n",
       "        vertical-align: top;\n",
       "    }\n",
       "\n",
       "    .dataframe thead th {\n",
       "        text-align: right;\n",
       "    }\n",
       "</style>\n",
       "<table border=\"1\" class=\"dataframe\">\n",
       "  <thead>\n",
       "    <tr style=\"text-align: right;\">\n",
       "      <th></th>\n",
       "      <th>support</th>\n",
       "    </tr>\n",
       "  </thead>\n",
       "  <tbody>\n",
       "    <tr>\n",
       "      <th>2013-10-23</th>\n",
       "      <td>5.045125</td>\n",
       "    </tr>\n",
       "    <tr>\n",
       "      <th>2013-10-24</th>\n",
       "      <td>5.051701</td>\n",
       "    </tr>\n",
       "    <tr>\n",
       "      <th>2013-10-25</th>\n",
       "      <td>5.058277</td>\n",
       "    </tr>\n",
       "    <tr>\n",
       "      <th>2013-10-26</th>\n",
       "      <td>5.049102</td>\n",
       "    </tr>\n",
       "    <tr>\n",
       "      <th>2013-10-27</th>\n",
       "      <td>5.039927</td>\n",
       "    </tr>\n",
       "    <tr>\n",
       "      <th>2013-10-28</th>\n",
       "      <td>5.030752</td>\n",
       "    </tr>\n",
       "    <tr>\n",
       "      <th>2013-10-29</th>\n",
       "      <td>5.021577</td>\n",
       "    </tr>\n",
       "    <tr>\n",
       "      <th>2013-10-30</th>\n",
       "      <td>5.012402</td>\n",
       "    </tr>\n",
       "    <tr>\n",
       "      <th>2013-10-31</th>\n",
       "      <td>4.985086</td>\n",
       "    </tr>\n",
       "    <tr>\n",
       "      <th>2013-11-01</th>\n",
       "      <td>4.957771</td>\n",
       "    </tr>\n",
       "    <tr>\n",
       "      <th>2013-11-02</th>\n",
       "      <td>4.930455</td>\n",
       "    </tr>\n",
       "    <tr>\n",
       "      <th>2013-11-03</th>\n",
       "      <td>4.903140</td>\n",
       "    </tr>\n",
       "    <tr>\n",
       "      <th>2013-11-04</th>\n",
       "      <td>4.875824</td>\n",
       "    </tr>\n",
       "    <tr>\n",
       "      <th>2013-11-05</th>\n",
       "      <td>4.848509</td>\n",
       "    </tr>\n",
       "    <tr>\n",
       "      <th>2013-11-06</th>\n",
       "      <td>4.821193</td>\n",
       "    </tr>\n",
       "    <tr>\n",
       "      <th>2013-11-07</th>\n",
       "      <td>4.815986</td>\n",
       "    </tr>\n",
       "    <tr>\n",
       "      <th>2013-11-08</th>\n",
       "      <td>4.821769</td>\n",
       "    </tr>\n",
       "    <tr>\n",
       "      <th>2013-11-09</th>\n",
       "      <td>4.827551</td>\n",
       "    </tr>\n",
       "    <tr>\n",
       "      <th>2013-11-10</th>\n",
       "      <td>4.833333</td>\n",
       "    </tr>\n",
       "    <tr>\n",
       "      <th>2013-11-11</th>\n",
       "      <td>4.839116</td>\n",
       "    </tr>\n",
       "    <tr>\n",
       "      <th>2013-11-12</th>\n",
       "      <td>4.844898</td>\n",
       "    </tr>\n",
       "    <tr>\n",
       "      <th>2013-11-13</th>\n",
       "      <td>4.838776</td>\n",
       "    </tr>\n",
       "    <tr>\n",
       "      <th>2013-11-14</th>\n",
       "      <td>4.832653</td>\n",
       "    </tr>\n",
       "    <tr>\n",
       "      <th>2013-11-15</th>\n",
       "      <td>4.826531</td>\n",
       "    </tr>\n",
       "    <tr>\n",
       "      <th>2013-11-16</th>\n",
       "      <td>4.820408</td>\n",
       "    </tr>\n",
       "    <tr>\n",
       "      <th>2013-11-17</th>\n",
       "      <td>4.814286</td>\n",
       "    </tr>\n",
       "    <tr>\n",
       "      <th>2013-11-18</th>\n",
       "      <td>4.808163</td>\n",
       "    </tr>\n",
       "    <tr>\n",
       "      <th>2013-11-19</th>\n",
       "      <td>4.802041</td>\n",
       "    </tr>\n",
       "    <tr>\n",
       "      <th>2013-11-20</th>\n",
       "      <td>4.793197</td>\n",
       "    </tr>\n",
       "    <tr>\n",
       "      <th>2013-11-21</th>\n",
       "      <td>4.774150</td>\n",
       "    </tr>\n",
       "  </tbody>\n",
       "</table>\n",
       "</div>"
      ],
      "text/plain": [
       "             support\n",
       "2013-10-23  5.045125\n",
       "2013-10-24  5.051701\n",
       "2013-10-25  5.058277\n",
       "2013-10-26  5.049102\n",
       "2013-10-27  5.039927\n",
       "2013-10-28  5.030752\n",
       "2013-10-29  5.021577\n",
       "2013-10-30  5.012402\n",
       "2013-10-31  4.985086\n",
       "2013-11-01  4.957771\n",
       "2013-11-02  4.930455\n",
       "2013-11-03  4.903140\n",
       "2013-11-04  4.875824\n",
       "2013-11-05  4.848509\n",
       "2013-11-06  4.821193\n",
       "2013-11-07  4.815986\n",
       "2013-11-08  4.821769\n",
       "2013-11-09  4.827551\n",
       "2013-11-10  4.833333\n",
       "2013-11-11  4.839116\n",
       "2013-11-12  4.844898\n",
       "2013-11-13  4.838776\n",
       "2013-11-14  4.832653\n",
       "2013-11-15  4.826531\n",
       "2013-11-16  4.820408\n",
       "2013-11-17  4.814286\n",
       "2013-11-18  4.808163\n",
       "2013-11-19  4.802041\n",
       "2013-11-20  4.793197\n",
       "2013-11-21  4.774150"
      ]
     },
     "execution_count": 52,
     "metadata": {},
     "output_type": "execute_result"
    }
   ],
   "source": [
    "combined_data_afd = pd.concat([df_2017_allen_afd_combined, df_2017_insa_afd_combined, df_2017_forsa_combined, df_2017_emnid_afd_combined, df_2017_gms_afd_combined, df_2017_infra_afd_combined, df_2017_fgruppe_afd_combined]).groupby(level=0).mean()\n",
    "combined_data_afd.head(30)"
   ]
  },
  {
   "cell_type": "code",
   "execution_count": 53,
   "metadata": {},
   "outputs": [
    {
     "data": {
      "image/png": "[encoded data removed]",
      "text/plain": [
       "<matplotlib.figure.Figure at 0x1182a6400>"
      ]
     },
     "metadata": {
      "needs_background": "light"
     },
     "output_type": "display_data"
    },
    {
     "data": {
      "text/plain": [
       "<matplotlib.figure.Figure at 0x11812f630>"
      ]
     },
     "metadata": {},
     "output_type": "display_data"
    }
   ],
   "source": [
    "combined_data_afd['support'].plot()\n",
    "plt.xlabel(\"Date\")\n",
    "plt.ylabel(\"Voteshares\")\n",
    "plt.title(\"AfD party support from polls for 2017 election with combined data\")\n",
    "plt.show()\n",
    "plt.clf()"
   ]
  },
  {
   "cell_type": "code",
   "execution_count": 49,
   "metadata": {},
   "outputs": [
    {
     "data": {
      "image/png": "[encoded data removed]",
      "text/plain": [
       "<matplotlib.figure.Figure at 0x117daea20>"
      ]
     },
     "metadata": {
      "needs_background": "light"
     },
     "output_type": "display_data"
    },
    {
     "data": {
      "text/plain": [
       "<matplotlib.figure.Figure at 0x1181eab00>"
      ]
     },
     "metadata": {},
     "output_type": "display_data"
    }
   ],
   "source": [
    "interpolated_election2017_allen_afd.plot(label=\"Allensbach\", legend = True)\n",
    "interpolated_election2017_insa_afd.plot(label=\"Insa\", legend = True)\n",
    "interpolated_election2017_forsa_afd.plot(label=\"Forsa\", legend = True)\n",
    "interpolated_election2017_emnid_afd.plot(label=\"Emnid\", legend = True)\n",
    "interpolated_election2017_gms_afd.plot(label=\"GMS\", legend = True)\n",
    "interpolated_election2017_infra_afd.plot(label=\"Infra\", legend = True)\n",
    "interpolated_election2017_fgruppe_afd.plot(label=\"Fgruppe\", legend = True)\n",
    "plt.xlabel(\"Date\")\n",
    "plt.ylabel(\"Voteshares\")\n",
    "plt.title(\"AFD party support from polls for 2017 election\")\n",
    "plt.show()\n",
    "plt.clf()"
   ]
  },
  {
   "cell_type": "markdown",
   "metadata": {},
   "source": [
    "#### Combined Average Model for SPD Party in 2017 Polls"
   ]
  },
  {
   "cell_type": "code",
   "execution_count": null,
   "metadata": {},
   "outputs": [],
   "source": [
    "# array(['oth', 'gru', 'spd', 'cdu', 'lin', 'fdp', 'afd'], dtype=object)\n",
    "\n",
    "\n",
    "#Create dataframe for SPD voteshares polls by each of the 7 institutions\n",
    "\n",
    "election2017_allen_spd = election2017_allen.loc[election2017_allen['party'] == 'spd']\n",
    "election2017_insa_spd = election2017_insa.loc[election2017_insa['party'] == 'spd']\n",
    "election2017_forsa_spd = election2017_forsa.loc[election2017_forsa['party'] == 'spd']\n",
    "election2017_emnid_spd = election2017_emnid.loc[election2017_emnid['party'] == 'spd']\n",
    "election2017_gms_spd = election2017_gms.loc[election2017_gms['party'] == 'spd']\n",
    "election2017_infra_spd = election2017_infra.loc[election2017_infra['party'] == 'spd']\n",
    "election2017_fgruppe_spd = election2017_fgruppe.loc[election2017_fgruppe['party'] == 'spd']\n",
    "\n",
    "#Create upsampled and interpolated data for Allen in AFD voteshares\n",
    "\n",
    "t_index_final = pd.date_range(start='2013-10-23', end='2017-09-21', freq='D')\n",
    "t_index_allen = pd.date_range(start='2013-10-10', end='2017-09-21', freq='D')\n",
    "\n",
    "upsampled_election2017_allen_spd = election2017_allen_spd['support'].resample('D').first().reindex(t_index_allen)\n",
    "interpolated_election2017_allen_spd = upsampled_election2017_allen_spd.interpolate(how='linear')\n",
    "interpolated_election2017_allen_spd = interpolated_election2017_allen_spd.reindex(t_index_final)\n",
    "\n",
    "#Create upsampled and interpolated data for Insa in AFD voteshares\n",
    "\n",
    "t_index_insa = pd.date_range(start='2013-10-10', end='2017-09-21', freq='D')\n",
    "\n",
    "upsampled_election2017_insa_spd = election2017_insa_spd['support'].resample('D').first().reindex(t_index_insa)\n",
    "interpolated_election2017_insa_spd = upsampled_election2017_insa_spd.interpolate(how='linear')\n",
    "interpolated_election2017_insa_spd = interpolated_election2017_insa_spd.reindex(t_index_final)\n",
    "\n",
    "#Create upsampled and interpolated data for Forsa in AFD voteshares\n",
    "\n",
    "t_index_forsa = pd.date_range(start='2013-10-01', end='2017-09-21', freq='D')\n",
    "\n",
    "upsampled_election2017_forsa_spd = election2017_forsa_spd['support'].resample('D').first().reindex(t_index_forsa)\n",
    "interpolated_election2017_forsa_spd = upsampled_election2017_forsa_spd.interpolate(how='linear')\n",
    "interpolated_election2017_forsa_spd = interpolated_election2017_forsa_spd.reindex(t_index_final)\n",
    "\n",
    "#Create upsampled and interpolated data for Emnid in AFD voteshares\n",
    "\n",
    "t_index_emnid = pd.date_range(start='2013-09-29', end='2017-09-21', freq='D')\n",
    "\n",
    "upsampled_election2017_emnid_spd = election2017_emnid_spd['support'].resample('D').first().reindex(t_index_emnid)\n",
    "interpolated_election2017_emnid_spd = upsampled_election2017_emnid_spd.interpolate(how='linear')\n",
    "interpolated_election2017_emnid_spd = interpolated_election2017_emnid_spd.reindex(t_index_final)\n",
    "\n",
    "#Create upsampled and interpolated data for GMS in AFD voteshares\n",
    "\n",
    "t_index_gms = pd.date_range(start='2013-10-15', end='2017-09-21', freq='D')\n",
    "\n",
    "upsampled_election2017_gms_spd = election2017_gms_spd['support'].resample('D').first().reindex(t_index_gms)\n",
    "interpolated_election2017_gms_spd = upsampled_election2017_gms_spd.interpolate(how='linear')\n",
    "interpolated_election2017_gms_spd = interpolated_election2017_gms_spd.reindex(t_index_final)\n",
    "\n",
    "#Create upsampled and interpolated data for Infra in AFD voteshares\n",
    "\n",
    "t_index_infra = pd.date_range(start='2013-10-10', end='2017-09-21', freq='D')\n",
    "\n",
    "upsampled_election2017_infra_spd = election2017_infra_spd['support'].resample('D').first().reindex(t_index_infra)\n",
    "interpolated_election2017_infra_spd = upsampled_election2017_infra_spd.interpolate(how='linear')\n",
    "interpolated_election2017_infra_spd = interpolated_election2017_infra_spd.reindex(t_index_final)\n",
    "\n",
    "#Create upsampled and interpolated data for Fgruppe in AFD voteshares\n",
    "\n",
    "t_index_fgruppe = pd.date_range(start='2013-09-27', end='2017-09-21', freq='D')\n",
    "\n",
    "upsampled_election2017_fgruppe_spd = election2017_fgruppe_spd['support'].resample('D').first().reindex(t_index_fgruppe)\n",
    "interpolated_election2017_fgruppe_spd = upsampled_election2017_fgruppe_spd.interpolate(how='linear')\n",
    "interpolated_election2017_fgruppe_spd = interpolated_election2017_fgruppe_spd.reindex(t_index_final)\n",
    "\n",
    "# Plot out party support shares for AFD through polls of all institutions\n",
    "\n",
    "interpolated_election2017_allen_spd.plot(label=\"Allensbach\", legend = True)\n",
    "interpolated_election2017_insa_spd.plot(label=\"Insa\", legend = True)\n",
    "interpolated_election2017_forsa_spd.plot(label=\"Forsa\", legend = True)\n",
    "interpolated_election2017_emnid_spd.plot(label=\"Emnid\", legend = True)\n",
    "interpolated_election2017_gms_spd.plot(label=\"GMS\", legend = True)\n",
    "interpolated_election2017_infra_spd.plot(label=\"Infra\", legend = True)\n",
    "interpolated_election2017_fgruppe_spd.plot(label=\"Fgruppe\", legend = True)\n",
    "plt.xlabel(\"Date\")\n",
    "plt.ylabel(\"Voteshares\")\n",
    "plt.title(\"SPD party support from polls for 2017 election\")\n",
    "plt.show()\n",
    "plt.clf()"
   ]
  },
  {
   "cell_type": "code",
   "execution_count": null,
   "metadata": {},
   "outputs": [],
   "source": [
    "# Combined data for SPD\n",
    "\n",
    "df_2017_allen_spd_combined = interpolated_election2017_allen_spd.to_frame()\n",
    "df_2017_insa_spd_combined = interpolated_election2017_insa_spd.to_frame()\n",
    "df_2017_forsa_spd_combined = interpolated_election2017_forsa_spd.to_frame()\n",
    "df_2017_emnid_spd_combined = interpolated_election2017_emnid_spd.to_frame()\n",
    "df_2017_gms_spd_combined = interpolated_election2017_gms_spd.to_frame()\n",
    "df_2017_infra_spd_combined = interpolated_election2017_infra_spd.to_frame()\n",
    "df_2017_fgruppe_spd_combined = interpolated_election2017_fgruppe_spd.to_frame()\n",
    "\n",
    "# Concatenate all data for SPD together\n",
    "combined_data_spd = pd.concat([df_2017_allen_spd_combined, df_2017_insa_spd_combined, df_2017_forsa_spd_combined, df_2017_emnid_spd_combined, df_2017_gms_spd_combined, df_2017_infra_spd_combined, df_2017_fgruppe_spd_combined]).groupby(level=0).mean()\n",
    "combined_data_spd.head(30)"
   ]
  },
  {
   "cell_type": "code",
   "execution_count": null,
   "metadata": {},
   "outputs": [],
   "source": [
    "# Plot combined data\n",
    "\n",
    "combined_data_spd['support'].plot()\n",
    "plt.xlabel(\"Date\")\n",
    "plt.ylabel(\"Voteshares\")\n",
    "plt.title(\"SPD party support from polls for 2017 election with combined data\")\n",
    "plt.show()\n",
    "plt.clf()"
   ]
  }
 ],
 "metadata": {
  "kernelspec": {
   "display_name": "Python 3",
   "language": "python",
   "name": "python3"
  },
  "language_info": {
   "codemirror_mode": {
    "name": "ipython",
    "version": 3
   },
   "file_extension": ".py",
   "mimetype": "text/x-python",
   "name": "python",
   "nbconvert_exporter": "python",
   "pygments_lexer": "ipython3",
   "version": "3.6.8"
  }
 },
 "nbformat": 4,
 "nbformat_minor": 2
}
