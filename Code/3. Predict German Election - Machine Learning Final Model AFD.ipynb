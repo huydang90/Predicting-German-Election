{
 "cells": [
  {
   "cell_type": "code",
   "execution_count": 1,
   "metadata": {},
   "outputs": [],
   "source": [
    "import pandas_gbq as gbq\n"
   ]
  },
  {
   "cell_type": "code",
   "execution_count": 4,
   "metadata": {},
   "outputs": [
    {
     "name": "stdout",
     "output_type": "stream",
     "text": [
      "/Users/dangngochuy/training-data-analyst/blogs/gcp_forecasting\n"
     ]
    }
   ],
   "source": [
    "cd training-data-analyst/blogs/gcp_forecasting"
   ]
  },
  {
   "cell_type": "code",
   "execution_count": 5,
   "metadata": {},
   "outputs": [],
   "source": [
    "from sklearn.ensemble import RandomForestRegressor, GradientBoostingRegressor\n",
    "from sklearn.linear_model import Ridge\n",
    "import time_series\n"
   ]
  },
  {
   "cell_type": "code",
   "execution_count": 7,
   "metadata": {},
   "outputs": [],
   "source": [
    "#import libraries\n",
    "\n",
    "import pyreadr\n",
    "import pandas as pd\n",
    "import numpy as np\n",
    "import matplotlib.pyplot as plt\n",
    "import seaborn as sns\n",
    "%matplotlib inline\n",
    "from matplotlib.dates import DateFormatter\n",
    "import matplotlib.dates as mdates\n",
    "import os\n"
   ]
  },
  {
   "cell_type": "code",
   "execution_count": 18,
   "metadata": {},
   "outputs": [],
   "source": [
    "#set working directory \n",
    "path = \"/Users/dangngochuy/Desktop/Hertie/Hertie 3rd semester/Machine Learning/Predicting-German-Election/Code/Transformed Data\"\n",
    "os.chdir(path)\n",
    "\n",
    "#load data\n",
    "#load data\n",
    "afd = pd.read_csv(\"combined_data_afd.csv\", index_col='date', parse_dates=True)\n",
    "cdu = pd.read_csv(\"combined_data_cdu.csv\", index_col='date', parse_dates=True)\n",
    "fdp = pd.read_csv(\"combined_data_fdp.csv\", index_col='date', parse_dates=True)\n",
    "spd = pd.read_csv(\"combined_data_spd.csv\", index_col='date', parse_dates=True)\n",
    "lin = pd.read_csv(\"combined_data_lin.csv\", index_col='date', parse_dates=True)\n",
    "gru = pd.read_csv(\"combined_data_gru.csv\", index_col='date', parse_dates=True)\n",
    "oth = pd.read_csv(\"combined_data_oth.csv\", index_col='date', parse_dates=True)"
   ]
  },
  {
   "cell_type": "code",
   "execution_count": 19,
   "metadata": {},
   "outputs": [
    {
     "data": {
      "text/html": [
       "<div>\n",
       "<style scoped>\n",
       "    .dataframe tbody tr th:only-of-type {\n",
       "        vertical-align: middle;\n",
       "    }\n",
       "\n",
       "    .dataframe tbody tr th {\n",
       "        vertical-align: top;\n",
       "    }\n",
       "\n",
       "    .dataframe thead th {\n",
       "        text-align: right;\n",
       "    }\n",
       "</style>\n",
       "<table border=\"1\" class=\"dataframe\">\n",
       "  <thead>\n",
       "    <tr style=\"text-align: right;\">\n",
       "      <th></th>\n",
       "      <th>support</th>\n",
       "    </tr>\n",
       "    <tr>\n",
       "      <th>date</th>\n",
       "      <th></th>\n",
       "    </tr>\n",
       "  </thead>\n",
       "  <tbody>\n",
       "    <tr>\n",
       "      <th>2013-10-23</th>\n",
       "      <td>5.045125</td>\n",
       "    </tr>\n",
       "    <tr>\n",
       "      <th>2013-10-24</th>\n",
       "      <td>5.051701</td>\n",
       "    </tr>\n",
       "    <tr>\n",
       "      <th>2013-10-25</th>\n",
       "      <td>5.058277</td>\n",
       "    </tr>\n",
       "    <tr>\n",
       "      <th>2013-10-26</th>\n",
       "      <td>5.049102</td>\n",
       "    </tr>\n",
       "    <tr>\n",
       "      <th>2013-10-27</th>\n",
       "      <td>5.039927</td>\n",
       "    </tr>\n",
       "  </tbody>\n",
       "</table>\n",
       "</div>"
      ],
      "text/plain": [
       "             support\n",
       "date                \n",
       "2013-10-23  5.045125\n",
       "2013-10-24  5.051701\n",
       "2013-10-25  5.058277\n",
       "2013-10-26  5.049102\n",
       "2013-10-27  5.039927"
      ]
     },
     "execution_count": 19,
     "metadata": {},
     "output_type": "execute_result"
    }
   ],
   "source": [
    "afd.head()"
   ]
  },
  {
   "cell_type": "markdown",
   "metadata": {},
   "source": [
    "## Feature Engineering for Machine Learning Model"
   ]
  },
  {
   "cell_type": "code",
   "execution_count": 69,
   "metadata": {},
   "outputs": [],
   "source": [
    "series = pd.Series(afd['support'], index=afd.index)"
   ]
  },
  {
   "cell_type": "code",
   "execution_count": 99,
   "metadata": {},
   "outputs": [
    {
     "name": "stderr",
     "output_type": "stream",
     "text": [
      "/Users/dangngochuy/training-data-analyst/blogs/gcp_forecasting/time_series.py:98: FutureWarning: Currently, 'apply' passes the values as ndarrays to the applied function. In the future, this will change to passing it as Series objects. You need to specify 'raw=True' to keep the current behaviour, and you can pass 'raw=False' to silence this warning\n",
      "  .apply(_keep, args=(windows,))\n"
     ]
    }
   ],
   "source": [
    "WINDOW_SIZE = 30 \n",
    "HORIZON = 3 # Predict approximately 3 days into the future\n",
    "LABELS_SIZE = 1  # The label will be the voteshare of 1 day\n",
    "df = time_series.create_rolling_features_label(series, window_size=WINDOW_SIZE, pred_offset=HORIZON)"
   ]
  },
  {
   "cell_type": "code",
   "execution_count": 100,
   "metadata": {},
   "outputs": [
    {
     "data": {
      "text/html": [
       "<div>\n",
       "<style scoped>\n",
       "    .dataframe tbody tr th:only-of-type {\n",
       "        vertical-align: middle;\n",
       "    }\n",
       "\n",
       "    .dataframe tbody tr th {\n",
       "        vertical-align: top;\n",
       "    }\n",
       "\n",
       "    .dataframe thead th {\n",
       "        text-align: right;\n",
       "    }\n",
       "</style>\n",
       "<table border=\"1\" class=\"dataframe\">\n",
       "  <thead>\n",
       "    <tr style=\"text-align: right;\">\n",
       "      <th></th>\n",
       "      <th>-32_steps</th>\n",
       "      <th>-31_steps</th>\n",
       "      <th>-30_steps</th>\n",
       "      <th>-29_steps</th>\n",
       "      <th>-28_steps</th>\n",
       "      <th>-27_steps</th>\n",
       "      <th>-26_steps</th>\n",
       "      <th>-25_steps</th>\n",
       "      <th>-24_steps</th>\n",
       "      <th>-23_steps</th>\n",
       "      <th>...</th>\n",
       "      <th>-11_steps</th>\n",
       "      <th>-10_steps</th>\n",
       "      <th>-9_steps</th>\n",
       "      <th>-8_steps</th>\n",
       "      <th>-7_steps</th>\n",
       "      <th>-6_steps</th>\n",
       "      <th>-5_steps</th>\n",
       "      <th>-4_steps</th>\n",
       "      <th>-3_steps</th>\n",
       "      <th>label</th>\n",
       "    </tr>\n",
       "    <tr>\n",
       "      <th>pred_date</th>\n",
       "      <th></th>\n",
       "      <th></th>\n",
       "      <th></th>\n",
       "      <th></th>\n",
       "      <th></th>\n",
       "      <th></th>\n",
       "      <th></th>\n",
       "      <th></th>\n",
       "      <th></th>\n",
       "      <th></th>\n",
       "      <th></th>\n",
       "      <th></th>\n",
       "      <th></th>\n",
       "      <th></th>\n",
       "      <th></th>\n",
       "      <th></th>\n",
       "      <th></th>\n",
       "      <th></th>\n",
       "      <th></th>\n",
       "      <th></th>\n",
       "      <th></th>\n",
       "    </tr>\n",
       "  </thead>\n",
       "  <tbody>\n",
       "    <tr>\n",
       "      <th>2017-09-17</th>\n",
       "      <td>8.102721</td>\n",
       "      <td>8.138466</td>\n",
       "      <td>8.174212</td>\n",
       "      <td>8.209957</td>\n",
       "      <td>8.286518</td>\n",
       "      <td>8.363080</td>\n",
       "      <td>8.439641</td>\n",
       "      <td>8.525727</td>\n",
       "      <td>8.591404</td>\n",
       "      <td>8.658442</td>\n",
       "      <td>...</td>\n",
       "      <td>9.126160</td>\n",
       "      <td>9.205651</td>\n",
       "      <td>9.319466</td>\n",
       "      <td>9.433281</td>\n",
       "      <td>9.567504</td>\n",
       "      <td>9.701727</td>\n",
       "      <td>9.825746</td>\n",
       "      <td>9.949765</td>\n",
       "      <td>10.073783</td>\n",
       "      <td>10.350602</td>\n",
       "    </tr>\n",
       "    <tr>\n",
       "      <th>2017-09-18</th>\n",
       "      <td>8.138466</td>\n",
       "      <td>8.174212</td>\n",
       "      <td>8.209957</td>\n",
       "      <td>8.286518</td>\n",
       "      <td>8.363080</td>\n",
       "      <td>8.439641</td>\n",
       "      <td>8.525727</td>\n",
       "      <td>8.591404</td>\n",
       "      <td>8.658442</td>\n",
       "      <td>8.694867</td>\n",
       "      <td>...</td>\n",
       "      <td>9.205651</td>\n",
       "      <td>9.319466</td>\n",
       "      <td>9.433281</td>\n",
       "      <td>9.567504</td>\n",
       "      <td>9.701727</td>\n",
       "      <td>9.825746</td>\n",
       "      <td>9.949765</td>\n",
       "      <td>10.073783</td>\n",
       "      <td>10.177394</td>\n",
       "      <td>10.416797</td>\n",
       "    </tr>\n",
       "    <tr>\n",
       "      <th>2017-09-19</th>\n",
       "      <td>8.174212</td>\n",
       "      <td>8.209957</td>\n",
       "      <td>8.286518</td>\n",
       "      <td>8.363080</td>\n",
       "      <td>8.439641</td>\n",
       "      <td>8.525727</td>\n",
       "      <td>8.591404</td>\n",
       "      <td>8.658442</td>\n",
       "      <td>8.694867</td>\n",
       "      <td>8.710884</td>\n",
       "      <td>...</td>\n",
       "      <td>9.319466</td>\n",
       "      <td>9.433281</td>\n",
       "      <td>9.567504</td>\n",
       "      <td>9.701727</td>\n",
       "      <td>9.825746</td>\n",
       "      <td>9.949765</td>\n",
       "      <td>10.073783</td>\n",
       "      <td>10.177394</td>\n",
       "      <td>10.284406</td>\n",
       "      <td>10.482993</td>\n",
       "    </tr>\n",
       "    <tr>\n",
       "      <th>2017-09-20</th>\n",
       "      <td>8.209957</td>\n",
       "      <td>8.286518</td>\n",
       "      <td>8.363080</td>\n",
       "      <td>8.439641</td>\n",
       "      <td>8.525727</td>\n",
       "      <td>8.591404</td>\n",
       "      <td>8.658442</td>\n",
       "      <td>8.694867</td>\n",
       "      <td>8.710884</td>\n",
       "      <td>8.726902</td>\n",
       "      <td>...</td>\n",
       "      <td>9.433281</td>\n",
       "      <td>9.567504</td>\n",
       "      <td>9.701727</td>\n",
       "      <td>9.825746</td>\n",
       "      <td>9.949765</td>\n",
       "      <td>10.073783</td>\n",
       "      <td>10.177394</td>\n",
       "      <td>10.284406</td>\n",
       "      <td>10.350602</td>\n",
       "      <td>10.527211</td>\n",
       "    </tr>\n",
       "    <tr>\n",
       "      <th>2017-09-21</th>\n",
       "      <td>8.286518</td>\n",
       "      <td>8.363080</td>\n",
       "      <td>8.439641</td>\n",
       "      <td>8.525727</td>\n",
       "      <td>8.591404</td>\n",
       "      <td>8.658442</td>\n",
       "      <td>8.694867</td>\n",
       "      <td>8.710884</td>\n",
       "      <td>8.726902</td>\n",
       "      <td>8.742919</td>\n",
       "      <td>...</td>\n",
       "      <td>9.567504</td>\n",
       "      <td>9.701727</td>\n",
       "      <td>9.825746</td>\n",
       "      <td>9.949765</td>\n",
       "      <td>10.073783</td>\n",
       "      <td>10.177394</td>\n",
       "      <td>10.284406</td>\n",
       "      <td>10.350602</td>\n",
       "      <td>10.416797</td>\n",
       "      <td>10.571429</td>\n",
       "    </tr>\n",
       "  </tbody>\n",
       "</table>\n",
       "<p>5 rows × 31 columns</p>\n",
       "</div>"
      ],
      "text/plain": [
       "            -32_steps  -31_steps  -30_steps  -29_steps  -28_steps  -27_steps  \\\n",
       "pred_date                                                                      \n",
       "2017-09-17   8.102721   8.138466   8.174212   8.209957   8.286518   8.363080   \n",
       "2017-09-18   8.138466   8.174212   8.209957   8.286518   8.363080   8.439641   \n",
       "2017-09-19   8.174212   8.209957   8.286518   8.363080   8.439641   8.525727   \n",
       "2017-09-20   8.209957   8.286518   8.363080   8.439641   8.525727   8.591404   \n",
       "2017-09-21   8.286518   8.363080   8.439641   8.525727   8.591404   8.658442   \n",
       "\n",
       "            -26_steps  -25_steps  -24_steps  -23_steps  ...  -11_steps  \\\n",
       "pred_date                                               ...              \n",
       "2017-09-17   8.439641   8.525727   8.591404   8.658442  ...   9.126160   \n",
       "2017-09-18   8.525727   8.591404   8.658442   8.694867  ...   9.205651   \n",
       "2017-09-19   8.591404   8.658442   8.694867   8.710884  ...   9.319466   \n",
       "2017-09-20   8.658442   8.694867   8.710884   8.726902  ...   9.433281   \n",
       "2017-09-21   8.694867   8.710884   8.726902   8.742919  ...   9.567504   \n",
       "\n",
       "            -10_steps  -9_steps  -8_steps   -7_steps   -6_steps   -5_steps  \\\n",
       "pred_date                                                                    \n",
       "2017-09-17   9.205651  9.319466  9.433281   9.567504   9.701727   9.825746   \n",
       "2017-09-18   9.319466  9.433281  9.567504   9.701727   9.825746   9.949765   \n",
       "2017-09-19   9.433281  9.567504  9.701727   9.825746   9.949765  10.073783   \n",
       "2017-09-20   9.567504  9.701727  9.825746   9.949765  10.073783  10.177394   \n",
       "2017-09-21   9.701727  9.825746  9.949765  10.073783  10.177394  10.284406   \n",
       "\n",
       "             -4_steps   -3_steps      label  \n",
       "pred_date                                    \n",
       "2017-09-17   9.949765  10.073783  10.350602  \n",
       "2017-09-18  10.073783  10.177394  10.416797  \n",
       "2017-09-19  10.177394  10.284406  10.482993  \n",
       "2017-09-20  10.284406  10.350602  10.527211  \n",
       "2017-09-21  10.350602  10.416797  10.571429  \n",
       "\n",
       "[5 rows x 31 columns]"
      ]
     },
     "execution_count": 100,
     "metadata": {},
     "output_type": "execute_result"
    }
   ],
   "source": [
    "df.tail()"
   ]
  },
  {
   "cell_type": "code",
   "execution_count": 101,
   "metadata": {},
   "outputs": [],
   "source": [
    "# Features, label.\n",
    "X = df.drop('label', axis=1)\n",
    "y = df['label']\n",
    "\n",
    "# Train/test split. Splitting on time.\n",
    "train_ix = time_series.is_between_dates(y.index,\n",
    "                                  end='2017-06-30')\n",
    "test_ix = time_series.is_between_dates(y.index,\n",
    "                                 start='2017-06-30',\n",
    "                                 end='2017-09-21')\n",
    "X_train, y_train = X.iloc[train_ix], y.iloc[train_ix]\n",
    "X_test, y_test = X.iloc[test_ix], y.iloc[test_ix]"
   ]
  },
  {
   "cell_type": "markdown",
   "metadata": {},
   "source": [
    "## Linear Regression"
   ]
  },
  {
   "cell_type": "code",
   "execution_count": 102,
   "metadata": {},
   "outputs": [
    {
     "name": "stdout",
     "output_type": "stream",
     "text": [
      "Forest Model results\n",
      "~~~~~~~~~~~~~~~~~~~~\n",
      "RMSE: 0.292\n",
      "MAE: 0.247\n",
      "MALR: 0.026\n"
     ]
    }
   ],
   "source": [
    "from sklearn.ensemble import RandomForestRegressor\n",
    "# Train model.\n",
    "cl = RandomForestRegressor(n_estimators=500, max_features='sqrt',\n",
    "                              random_state=10, criterion='mse')\n",
    "\n",
    "cl.fit(X_train, y_train)\n",
    "pred = cl.predict(X_test)\n",
    "random_forest_metrics = time_series.Metrics(y_test, pred)\n",
    "random_forest_metrics.report(\"Forest Model\")"
   ]
  },
  {
   "cell_type": "code",
   "execution_count": 103,
   "metadata": {},
   "outputs": [],
   "source": [
    "test = y_test.tail(30).to_frame()"
   ]
  },
  {
   "cell_type": "code",
   "execution_count": 104,
   "metadata": {},
   "outputs": [
    {
     "data": {
      "text/html": [
       "<div>\n",
       "<style scoped>\n",
       "    .dataframe tbody tr th:only-of-type {\n",
       "        vertical-align: middle;\n",
       "    }\n",
       "\n",
       "    .dataframe tbody tr th {\n",
       "        vertical-align: top;\n",
       "    }\n",
       "\n",
       "    .dataframe thead th {\n",
       "        text-align: right;\n",
       "    }\n",
       "</style>\n",
       "<table border=\"1\" class=\"dataframe\">\n",
       "  <thead>\n",
       "    <tr style=\"text-align: right;\">\n",
       "      <th></th>\n",
       "      <th>label</th>\n",
       "    </tr>\n",
       "    <tr>\n",
       "      <th>pred_date</th>\n",
       "      <th></th>\n",
       "    </tr>\n",
       "  </thead>\n",
       "  <tbody>\n",
       "    <tr>\n",
       "      <th>2017-09-17</th>\n",
       "      <td>10.350602</td>\n",
       "    </tr>\n",
       "    <tr>\n",
       "      <th>2017-09-18</th>\n",
       "      <td>10.416797</td>\n",
       "    </tr>\n",
       "    <tr>\n",
       "      <th>2017-09-19</th>\n",
       "      <td>10.482993</td>\n",
       "    </tr>\n",
       "    <tr>\n",
       "      <th>2017-09-20</th>\n",
       "      <td>10.527211</td>\n",
       "    </tr>\n",
       "    <tr>\n",
       "      <th>2017-09-21</th>\n",
       "      <td>10.571429</td>\n",
       "    </tr>\n",
       "  </tbody>\n",
       "</table>\n",
       "</div>"
      ],
      "text/plain": [
       "                label\n",
       "pred_date            \n",
       "2017-09-17  10.350602\n",
       "2017-09-18  10.416797\n",
       "2017-09-19  10.482993\n",
       "2017-09-20  10.527211\n",
       "2017-09-21  10.571429"
      ]
     },
     "execution_count": 104,
     "metadata": {},
     "output_type": "execute_result"
    }
   ],
   "source": [
    "test.tail()"
   ]
  },
  {
   "cell_type": "code",
   "execution_count": 105,
   "metadata": {},
   "outputs": [
    {
     "data": {
      "text/html": [
       "<div>\n",
       "<style scoped>\n",
       "    .dataframe tbody tr th:only-of-type {\n",
       "        vertical-align: middle;\n",
       "    }\n",
       "\n",
       "    .dataframe tbody tr th {\n",
       "        vertical-align: top;\n",
       "    }\n",
       "\n",
       "    .dataframe thead th {\n",
       "        text-align: right;\n",
       "    }\n",
       "</style>\n",
       "<table border=\"1\" class=\"dataframe\">\n",
       "  <thead>\n",
       "    <tr style=\"text-align: right;\">\n",
       "      <th>pred_date</th>\n",
       "      <th>2017-08-23 00:00:00</th>\n",
       "      <th>2017-08-24 00:00:00</th>\n",
       "      <th>2017-08-25 00:00:00</th>\n",
       "      <th>2017-08-26 00:00:00</th>\n",
       "      <th>2017-08-27 00:00:00</th>\n",
       "      <th>2017-08-28 00:00:00</th>\n",
       "      <th>2017-08-29 00:00:00</th>\n",
       "      <th>2017-08-30 00:00:00</th>\n",
       "      <th>2017-08-31 00:00:00</th>\n",
       "      <th>2017-09-01 00:00:00</th>\n",
       "      <th>...</th>\n",
       "      <th>2017-09-12 00:00:00</th>\n",
       "      <th>2017-09-13 00:00:00</th>\n",
       "      <th>2017-09-14 00:00:00</th>\n",
       "      <th>2017-09-15 00:00:00</th>\n",
       "      <th>2017-09-16 00:00:00</th>\n",
       "      <th>2017-09-17 00:00:00</th>\n",
       "      <th>2017-09-18 00:00:00</th>\n",
       "      <th>2017-09-19 00:00:00</th>\n",
       "      <th>2017-09-20 00:00:00</th>\n",
       "      <th>2017-09-21 00:00:00</th>\n",
       "    </tr>\n",
       "  </thead>\n",
       "  <tbody>\n",
       "    <tr>\n",
       "      <th>label</th>\n",
       "      <td>8.525727</td>\n",
       "      <td>8.591404</td>\n",
       "      <td>8.658442</td>\n",
       "      <td>8.694867</td>\n",
       "      <td>8.710884</td>\n",
       "      <td>8.726902</td>\n",
       "      <td>8.742919</td>\n",
       "      <td>8.770841</td>\n",
       "      <td>8.798763</td>\n",
       "      <td>8.806277</td>\n",
       "      <td>...</td>\n",
       "      <td>9.825746</td>\n",
       "      <td>9.949765</td>\n",
       "      <td>10.073783</td>\n",
       "      <td>10.177394</td>\n",
       "      <td>10.284406</td>\n",
       "      <td>10.350602</td>\n",
       "      <td>10.416797</td>\n",
       "      <td>10.482993</td>\n",
       "      <td>10.527211</td>\n",
       "      <td>10.571429</td>\n",
       "    </tr>\n",
       "  </tbody>\n",
       "</table>\n",
       "<p>1 rows × 30 columns</p>\n",
       "</div>"
      ],
      "text/plain": [
       "pred_date  2017-08-23  2017-08-24  2017-08-25  2017-08-26  2017-08-27  \\\n",
       "label        8.525727    8.591404    8.658442    8.694867    8.710884   \n",
       "\n",
       "pred_date  2017-08-28  2017-08-29  2017-08-30  2017-08-31  2017-09-01  ...  \\\n",
       "label        8.726902    8.742919    8.770841    8.798763    8.806277  ...   \n",
       "\n",
       "pred_date  2017-09-12  2017-09-13  2017-09-14  2017-09-15  2017-09-16  \\\n",
       "label        9.825746    9.949765   10.073783   10.177394   10.284406   \n",
       "\n",
       "pred_date  2017-09-17  2017-09-18  2017-09-19  2017-09-20  2017-09-21  \n",
       "label       10.350602   10.416797   10.482993   10.527211   10.571429  \n",
       "\n",
       "[1 rows x 30 columns]"
      ]
     },
     "execution_count": 105,
     "metadata": {},
     "output_type": "execute_result"
    }
   ],
   "source": [
    "test_transposed = test.T\n",
    "test_transposed.tail()"
   ]
  },
  {
   "cell_type": "code",
   "execution_count": 106,
   "metadata": {},
   "outputs": [
    {
     "name": "stdout",
     "output_type": "stream",
     "text": [
      "[10.73779073]\n"
     ]
    }
   ],
   "source": [
    "election = cl.predict(test_transposed)\n",
    "print(election)"
   ]
  },
  {
   "cell_type": "code",
   "execution_count": 107,
   "metadata": {},
   "outputs": [
    {
     "name": "stdout",
     "output_type": "stream",
     "text": [
      "Linear Regression results\n",
      "~~~~~~~~~~~~~~~~~~~~~~~~~\n",
      "RMSE: 0.059\n",
      "MAE: 0.047\n",
      "MALR: 0.005\n"
     ]
    }
   ],
   "source": [
    "from sklearn.linear_model import LinearRegression\n",
    "from sklearn.metrics import mean_squared_error\n",
    "from math import sqrt\n",
    "\n",
    "lin_afd = LinearRegression()\n",
    "lin_afd.fit(X_train, y_train)\n",
    "lin_pred = lin_afd.predict(X_test)\n",
    "linear_regression_metrics = time_series.Metrics(y_test, lin_pred)\n",
    "linear_regression_metrics.report(\"Linear Regression\")"
   ]
  },
  {
   "cell_type": "code",
   "execution_count": 108,
   "metadata": {},
   "outputs": [
    {
     "name": "stdout",
     "output_type": "stream",
     "text": [
      "[10.6843783]\n"
     ]
    }
   ],
   "source": [
    "test_lin = y_test.tail(30).to_frame()\n",
    "test_lin_transposed = test.T\n",
    "election_lin = lin_afd.predict(test_lin_transposed)\n",
    "print(election_lin)"
   ]
  },
  {
   "cell_type": "code",
   "execution_count": 110,
   "metadata": {},
   "outputs": [
    {
     "name": "stdout",
     "output_type": "stream",
     "text": [
      "Gradient Boosting results\n",
      "~~~~~~~~~~~~~~~~~~~~~~~~~\n",
      "RMSE: 0.163\n",
      "MAE: 0.124\n",
      "MALR: 0.013\n"
     ]
    }
   ],
   "source": [
    "# Gradient Boosting Model \n",
    "from sklearn.ensemble import GradientBoostingRegressor\n",
    "\n",
    "# Create GB model\n",
    "gbr_afd = GradientBoostingRegressor()\n",
    "gbr_afd.fit(X_train, y_train)\n",
    "gbr_pred = gbr_afd.predict(X_test)\n",
    "gradient_boosting_metrics = time_series.Metrics(y_test, gbr_pred)\n",
    "gradient_boosting_metrics.report(\"Gradient Boosting\")"
   ]
  },
  {
   "cell_type": "code",
   "execution_count": 112,
   "metadata": {},
   "outputs": [
    {
     "name": "stdout",
     "output_type": "stream",
     "text": [
      "[10.75339729]\n"
     ]
    }
   ],
   "source": [
    "test_gbr = y_test.tail(30).to_frame()\n",
    "test_gbr_transposed = test.T\n",
    "election_gbr = gbr_afd.predict(test_gbr_transposed)\n",
    "print(election_gbr)"
   ]
  },
  {
   "cell_type": "code",
   "execution_count": null,
   "metadata": {},
   "outputs": [],
   "source": []
  }
 ],
 "metadata": {
  "kernelspec": {
   "display_name": "Python 3",
   "language": "python",
   "name": "python3"
  },
  "language_info": {
   "codemirror_mode": {
    "name": "ipython",
    "version": 3
   },
   "file_extension": ".py",
   "mimetype": "text/x-python",
   "name": "python",
   "nbconvert_exporter": "python",
   "pygments_lexer": "ipython3",
   "version": "3.6.5"
  }
 },
 "nbformat": 4,
 "nbformat_minor": 2
}
