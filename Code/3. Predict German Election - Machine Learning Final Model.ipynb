{
 "cells": [
  {
   "cell_type": "code",
   "execution_count": 2,
   "metadata": {},
   "outputs": [],
   "source": [
    "#import libraries\n",
    "\n",
    "import pyreadr\n",
    "import pandas as pd\n",
    "import numpy as np\n",
    "import matplotlib.pyplot as plt\n",
    "import seaborn as sns\n",
    "%matplotlib inline\n",
    "from matplotlib.dates import DateFormatter\n",
    "import matplotlib.dates as mdates\n",
    "import os"
   ]
  },
  {
   "cell_type": "code",
   "execution_count": 12,
   "metadata": {},
   "outputs": [
    {
     "data": {
      "text/html": [
       "<div>\n",
       "<style scoped>\n",
       "    .dataframe tbody tr th:only-of-type {\n",
       "        vertical-align: middle;\n",
       "    }\n",
       "\n",
       "    .dataframe tbody tr th {\n",
       "        vertical-align: top;\n",
       "    }\n",
       "\n",
       "    .dataframe thead th {\n",
       "        text-align: right;\n",
       "    }\n",
       "</style>\n",
       "<table border=\"1\" class=\"dataframe\">\n",
       "  <thead>\n",
       "    <tr style=\"text-align: right;\">\n",
       "      <th></th>\n",
       "      <th>support</th>\n",
       "    </tr>\n",
       "    <tr>\n",
       "      <th>date</th>\n",
       "      <th></th>\n",
       "    </tr>\n",
       "  </thead>\n",
       "  <tbody>\n",
       "    <tr>\n",
       "      <th>2013-10-23</th>\n",
       "      <td>5.045125</td>\n",
       "    </tr>\n",
       "    <tr>\n",
       "      <th>2013-10-24</th>\n",
       "      <td>5.051701</td>\n",
       "    </tr>\n",
       "    <tr>\n",
       "      <th>2013-10-25</th>\n",
       "      <td>5.058277</td>\n",
       "    </tr>\n",
       "    <tr>\n",
       "      <th>2013-10-26</th>\n",
       "      <td>5.049102</td>\n",
       "    </tr>\n",
       "    <tr>\n",
       "      <th>2013-10-27</th>\n",
       "      <td>5.039927</td>\n",
       "    </tr>\n",
       "  </tbody>\n",
       "</table>\n",
       "</div>"
      ],
      "text/plain": [
       "             support\n",
       "date                \n",
       "2013-10-23  5.045125\n",
       "2013-10-24  5.051701\n",
       "2013-10-25  5.058277\n",
       "2013-10-26  5.049102\n",
       "2013-10-27  5.039927"
      ]
     },
     "execution_count": 12,
     "metadata": {},
     "output_type": "execute_result"
    }
   ],
   "source": [
    "#set working directory \n",
    "path = \"/Users/dangngochuy/Desktop/Hertie/Hertie 3rd semester/Machine Learning/Predicting-German-Election/Code/Transformed Data\"\n",
    "os.chdir(path)\n",
    "\n",
    "#load data\n",
    "afd = pd.read_csv(\"combined_data_afd.csv\", index_col='date', parse_dates=True)\n",
    "afd.head()"
   ]
  },
  {
   "cell_type": "code",
   "execution_count": 13,
   "metadata": {},
   "outputs": [
    {
     "data": {
      "text/plain": [
       "pandas.core.frame.DataFrame"
      ]
     },
     "execution_count": 13,
     "metadata": {},
     "output_type": "execute_result"
    }
   ],
   "source": [
    "type(afd)"
   ]
  },
  {
   "cell_type": "code",
   "execution_count": 15,
   "metadata": {},
   "outputs": [],
   "source": [
    "#import libraries \n",
    "\n",
    "import talib\n",
    "import numpy as np\n",
    "from sklearn.metrics import mean_squared_log_error\n",
    "from sklearn.ensemble import RandomForestRegressor"
   ]
  },
  {
   "cell_type": "code",
   "execution_count": 17,
   "metadata": {},
   "outputs": [],
   "source": [
    "# Create 3-day % changes of support for the current day, and 3 days in the future\n",
    "\n",
    "afd['3d_future'] = afd['support'].shift(-3)\n",
    "afd['3d_future_pct'] = afd['3d_future'].pct_change(3)\n",
    "afd['3d_pct'] = afd['support'].pct_change(3)"
   ]
  },
  {
   "cell_type": "code",
   "execution_count": 18,
   "metadata": {},
   "outputs": [
    {
     "data": {
      "text/html": [
       "<div>\n",
       "<style scoped>\n",
       "    .dataframe tbody tr th:only-of-type {\n",
       "        vertical-align: middle;\n",
       "    }\n",
       "\n",
       "    .dataframe tbody tr th {\n",
       "        vertical-align: top;\n",
       "    }\n",
       "\n",
       "    .dataframe thead th {\n",
       "        text-align: right;\n",
       "    }\n",
       "</style>\n",
       "<table border=\"1\" class=\"dataframe\">\n",
       "  <thead>\n",
       "    <tr style=\"text-align: right;\">\n",
       "      <th></th>\n",
       "      <th>support</th>\n",
       "      <th>3d_future</th>\n",
       "      <th>3d_future_pct</th>\n",
       "      <th>3d_pct</th>\n",
       "    </tr>\n",
       "    <tr>\n",
       "      <th>date</th>\n",
       "      <th></th>\n",
       "      <th></th>\n",
       "      <th></th>\n",
       "      <th></th>\n",
       "    </tr>\n",
       "  </thead>\n",
       "  <tbody>\n",
       "    <tr>\n",
       "      <th>2013-10-23</th>\n",
       "      <td>5.045125</td>\n",
       "      <td>5.049102</td>\n",
       "      <td>NaN</td>\n",
       "      <td>NaN</td>\n",
       "    </tr>\n",
       "    <tr>\n",
       "      <th>2013-10-24</th>\n",
       "      <td>5.051701</td>\n",
       "      <td>5.039927</td>\n",
       "      <td>NaN</td>\n",
       "      <td>NaN</td>\n",
       "    </tr>\n",
       "    <tr>\n",
       "      <th>2013-10-25</th>\n",
       "      <td>5.058277</td>\n",
       "      <td>5.030752</td>\n",
       "      <td>NaN</td>\n",
       "      <td>NaN</td>\n",
       "    </tr>\n",
       "    <tr>\n",
       "      <th>2013-10-26</th>\n",
       "      <td>5.049102</td>\n",
       "      <td>5.021577</td>\n",
       "      <td>-0.005451</td>\n",
       "      <td>0.000788</td>\n",
       "    </tr>\n",
       "    <tr>\n",
       "      <th>2013-10-27</th>\n",
       "      <td>5.039927</td>\n",
       "      <td>5.012402</td>\n",
       "      <td>-0.005461</td>\n",
       "      <td>-0.002331</td>\n",
       "    </tr>\n",
       "    <tr>\n",
       "      <th>2013-10-28</th>\n",
       "      <td>5.030752</td>\n",
       "      <td>4.985086</td>\n",
       "      <td>-0.009077</td>\n",
       "      <td>-0.005442</td>\n",
       "    </tr>\n",
       "    <tr>\n",
       "      <th>2013-10-29</th>\n",
       "      <td>5.021577</td>\n",
       "      <td>4.957771</td>\n",
       "      <td>-0.012706</td>\n",
       "      <td>-0.005451</td>\n",
       "    </tr>\n",
       "    <tr>\n",
       "      <th>2013-10-30</th>\n",
       "      <td>5.012402</td>\n",
       "      <td>4.930455</td>\n",
       "      <td>-0.016349</td>\n",
       "      <td>-0.005461</td>\n",
       "    </tr>\n",
       "    <tr>\n",
       "      <th>2013-10-31</th>\n",
       "      <td>4.985086</td>\n",
       "      <td>4.903140</td>\n",
       "      <td>-0.016438</td>\n",
       "      <td>-0.009077</td>\n",
       "    </tr>\n",
       "    <tr>\n",
       "      <th>2013-11-01</th>\n",
       "      <td>4.957771</td>\n",
       "      <td>4.875824</td>\n",
       "      <td>-0.016529</td>\n",
       "      <td>-0.012706</td>\n",
       "    </tr>\n",
       "  </tbody>\n",
       "</table>\n",
       "</div>"
      ],
      "text/plain": [
       "             support  3d_future  3d_future_pct    3d_pct\n",
       "date                                                    \n",
       "2013-10-23  5.045125   5.049102            NaN       NaN\n",
       "2013-10-24  5.051701   5.039927            NaN       NaN\n",
       "2013-10-25  5.058277   5.030752            NaN       NaN\n",
       "2013-10-26  5.049102   5.021577      -0.005451  0.000788\n",
       "2013-10-27  5.039927   5.012402      -0.005461 -0.002331\n",
       "2013-10-28  5.030752   4.985086      -0.009077 -0.005442\n",
       "2013-10-29  5.021577   4.957771      -0.012706 -0.005451\n",
       "2013-10-30  5.012402   4.930455      -0.016349 -0.005461\n",
       "2013-10-31  4.985086   4.903140      -0.016438 -0.009077\n",
       "2013-11-01  4.957771   4.875824      -0.016529 -0.012706"
      ]
     },
     "execution_count": 18,
     "metadata": {},
     "output_type": "execute_result"
    }
   ],
   "source": [
    "#look at the new dataframe\n",
    "\n",
    "afd.head(10)"
   ]
  },
  {
   "cell_type": "code",
   "execution_count": 19,
   "metadata": {},
   "outputs": [
    {
     "name": "stdout",
     "output_type": "stream",
     "text": [
      "                 3d_pct  3d_future_pct\n",
      "3d_pct         1.000000       0.826682\n",
      "3d_future_pct  0.826682       1.000000\n"
     ]
    }
   ],
   "source": [
    "# Calculate the correlation matrix between the 3d close pecentage changes (current and future)\n",
    "\n",
    "corr = afd[['3d_pct', '3d_future_pct']].corr()\n",
    "print(corr)"
   ]
  },
  {
   "cell_type": "code",
   "execution_count": 20,
   "metadata": {},
   "outputs": [
    {
     "data": {
      "image/png": "[encoded data removed]",
      "text/plain": [
       "<Figure size 432x288 with 1 Axes>"
      ]
     },
     "metadata": {
      "needs_background": "light"
     },
     "output_type": "display_data"
    }
   ],
   "source": [
    "# Scatter the current 3-day percent change vs the future 3-day percent change\n",
    "plt.scatter(afd['3d_pct'], afd['3d_future_pct'])\n",
    "plt.show()"
   ]
  },
  {
   "cell_type": "code",
   "execution_count": 21,
   "metadata": {},
   "outputs": [
    {
     "name": "stdout",
     "output_type": "stream",
     "text": [
      "['3d_future_pct', 'ma3', 'ma5', 'ma10', 'ma20', 'ma30', 'ma50', 'ma100', 'ma200']\n"
     ]
    }
   ],
   "source": [
    "feature_names = ['3d_future_pct']  # a list of the feature names for later\n",
    "\n",
    "# Create moving averages timeperiods of 3, 5, 10, 20, 30, 50, 100 and 200\n",
    "for n in [3, 5, 10, 20, 30, 50, 100, 200]:\n",
    "\n",
    "    # Create the moving average indicator and divide by support\n",
    "    afd['ma' + str(n)] = talib.SMA(afd['support'].values,\n",
    "                              timeperiod=n) / afd['support']\n",
    "    # Create the RSI indicator\n",
    "    #df_2017_allen_afd['rsi' + str(n)] = talib.RSI(df_2017_allen_afd['support'].values, timeperiod=n)\n",
    "    \n",
    "    # Add rsi and moving average to the feature name list\n",
    "    feature_names = feature_names + ['ma' + str(n)]\n",
    "print(feature_names)"
   ]
  },
  {
   "cell_type": "code",
   "execution_count": 22,
   "metadata": {},
   "outputs": [
    {
     "data": {
      "text/html": [
       "<div>\n",
       "<style scoped>\n",
       "    .dataframe tbody tr th:only-of-type {\n",
       "        vertical-align: middle;\n",
       "    }\n",
       "\n",
       "    .dataframe tbody tr th {\n",
       "        vertical-align: top;\n",
       "    }\n",
       "\n",
       "    .dataframe thead th {\n",
       "        text-align: right;\n",
       "    }\n",
       "</style>\n",
       "<table border=\"1\" class=\"dataframe\">\n",
       "  <thead>\n",
       "    <tr style=\"text-align: right;\">\n",
       "      <th></th>\n",
       "      <th>support</th>\n",
       "      <th>3d_future</th>\n",
       "      <th>3d_future_pct</th>\n",
       "      <th>3d_pct</th>\n",
       "      <th>ma3</th>\n",
       "      <th>ma5</th>\n",
       "      <th>ma10</th>\n",
       "      <th>ma20</th>\n",
       "      <th>ma30</th>\n",
       "      <th>ma50</th>\n",
       "      <th>ma100</th>\n",
       "      <th>ma200</th>\n",
       "    </tr>\n",
       "    <tr>\n",
       "      <th>date</th>\n",
       "      <th></th>\n",
       "      <th></th>\n",
       "      <th></th>\n",
       "      <th></th>\n",
       "      <th></th>\n",
       "      <th></th>\n",
       "      <th></th>\n",
       "      <th></th>\n",
       "      <th></th>\n",
       "      <th></th>\n",
       "      <th></th>\n",
       "      <th></th>\n",
       "    </tr>\n",
       "  </thead>\n",
       "  <tbody>\n",
       "    <tr>\n",
       "      <th>2013-10-23</th>\n",
       "      <td>5.045125</td>\n",
       "      <td>5.049102</td>\n",
       "      <td>NaN</td>\n",
       "      <td>NaN</td>\n",
       "      <td>NaN</td>\n",
       "      <td>NaN</td>\n",
       "      <td>NaN</td>\n",
       "      <td>NaN</td>\n",
       "      <td>NaN</td>\n",
       "      <td>NaN</td>\n",
       "      <td>NaN</td>\n",
       "      <td>NaN</td>\n",
       "    </tr>\n",
       "    <tr>\n",
       "      <th>2013-10-24</th>\n",
       "      <td>5.051701</td>\n",
       "      <td>5.039927</td>\n",
       "      <td>NaN</td>\n",
       "      <td>NaN</td>\n",
       "      <td>NaN</td>\n",
       "      <td>NaN</td>\n",
       "      <td>NaN</td>\n",
       "      <td>NaN</td>\n",
       "      <td>NaN</td>\n",
       "      <td>NaN</td>\n",
       "      <td>NaN</td>\n",
       "      <td>NaN</td>\n",
       "    </tr>\n",
       "    <tr>\n",
       "      <th>2013-10-25</th>\n",
       "      <td>5.058277</td>\n",
       "      <td>5.030752</td>\n",
       "      <td>NaN</td>\n",
       "      <td>NaN</td>\n",
       "      <td>0.998700</td>\n",
       "      <td>NaN</td>\n",
       "      <td>NaN</td>\n",
       "      <td>NaN</td>\n",
       "      <td>NaN</td>\n",
       "      <td>NaN</td>\n",
       "      <td>NaN</td>\n",
       "      <td>NaN</td>\n",
       "    </tr>\n",
       "    <tr>\n",
       "      <th>2013-10-26</th>\n",
       "      <td>5.049102</td>\n",
       "      <td>5.021577</td>\n",
       "      <td>-0.005451</td>\n",
       "      <td>0.000788</td>\n",
       "      <td>1.000777</td>\n",
       "      <td>NaN</td>\n",
       "      <td>NaN</td>\n",
       "      <td>NaN</td>\n",
       "      <td>NaN</td>\n",
       "      <td>NaN</td>\n",
       "      <td>NaN</td>\n",
       "      <td>NaN</td>\n",
       "    </tr>\n",
       "    <tr>\n",
       "      <th>2013-10-27</th>\n",
       "      <td>5.039927</td>\n",
       "      <td>5.012402</td>\n",
       "      <td>-0.005461</td>\n",
       "      <td>-0.002331</td>\n",
       "      <td>1.001820</td>\n",
       "      <td>1.001766</td>\n",
       "      <td>NaN</td>\n",
       "      <td>NaN</td>\n",
       "      <td>NaN</td>\n",
       "      <td>NaN</td>\n",
       "      <td>NaN</td>\n",
       "      <td>NaN</td>\n",
       "    </tr>\n",
       "    <tr>\n",
       "      <th>2013-10-28</th>\n",
       "      <td>5.030752</td>\n",
       "      <td>4.985086</td>\n",
       "      <td>-0.009077</td>\n",
       "      <td>-0.005442</td>\n",
       "      <td>1.001824</td>\n",
       "      <td>1.003021</td>\n",
       "      <td>NaN</td>\n",
       "      <td>NaN</td>\n",
       "      <td>NaN</td>\n",
       "      <td>NaN</td>\n",
       "      <td>NaN</td>\n",
       "      <td>NaN</td>\n",
       "    </tr>\n",
       "    <tr>\n",
       "      <th>2013-10-29</th>\n",
       "      <td>5.021577</td>\n",
       "      <td>4.957771</td>\n",
       "      <td>-0.012706</td>\n",
       "      <td>-0.005451</td>\n",
       "      <td>1.001827</td>\n",
       "      <td>1.003654</td>\n",
       "      <td>NaN</td>\n",
       "      <td>NaN</td>\n",
       "      <td>NaN</td>\n",
       "      <td>NaN</td>\n",
       "      <td>NaN</td>\n",
       "      <td>NaN</td>\n",
       "    </tr>\n",
       "    <tr>\n",
       "      <th>2013-10-30</th>\n",
       "      <td>5.012402</td>\n",
       "      <td>4.930455</td>\n",
       "      <td>-0.016349</td>\n",
       "      <td>-0.005461</td>\n",
       "      <td>1.001830</td>\n",
       "      <td>1.003661</td>\n",
       "      <td>NaN</td>\n",
       "      <td>NaN</td>\n",
       "      <td>NaN</td>\n",
       "      <td>NaN</td>\n",
       "      <td>NaN</td>\n",
       "      <td>NaN</td>\n",
       "    </tr>\n",
       "    <tr>\n",
       "      <th>2013-10-31</th>\n",
       "      <td>4.985086</td>\n",
       "      <td>4.903140</td>\n",
       "      <td>-0.016438</td>\n",
       "      <td>-0.009077</td>\n",
       "      <td>1.004266</td>\n",
       "      <td>1.006592</td>\n",
       "      <td>NaN</td>\n",
       "      <td>NaN</td>\n",
       "      <td>NaN</td>\n",
       "      <td>NaN</td>\n",
       "      <td>NaN</td>\n",
       "      <td>NaN</td>\n",
       "    </tr>\n",
       "    <tr>\n",
       "      <th>2013-11-01</th>\n",
       "      <td>4.957771</td>\n",
       "      <td>4.875824</td>\n",
       "      <td>-0.016529</td>\n",
       "      <td>-0.012706</td>\n",
       "      <td>1.005510</td>\n",
       "      <td>1.008824</td>\n",
       "      <td>1.013595</td>\n",
       "      <td>NaN</td>\n",
       "      <td>NaN</td>\n",
       "      <td>NaN</td>\n",
       "      <td>NaN</td>\n",
       "      <td>NaN</td>\n",
       "    </tr>\n",
       "  </tbody>\n",
       "</table>\n",
       "</div>"
      ],
      "text/plain": [
       "             support  3d_future  3d_future_pct    3d_pct       ma3       ma5  \\\n",
       "date                                                                           \n",
       "2013-10-23  5.045125   5.049102            NaN       NaN       NaN       NaN   \n",
       "2013-10-24  5.051701   5.039927            NaN       NaN       NaN       NaN   \n",
       "2013-10-25  5.058277   5.030752            NaN       NaN  0.998700       NaN   \n",
       "2013-10-26  5.049102   5.021577      -0.005451  0.000788  1.000777       NaN   \n",
       "2013-10-27  5.039927   5.012402      -0.005461 -0.002331  1.001820  1.001766   \n",
       "2013-10-28  5.030752   4.985086      -0.009077 -0.005442  1.001824  1.003021   \n",
       "2013-10-29  5.021577   4.957771      -0.012706 -0.005451  1.001827  1.003654   \n",
       "2013-10-30  5.012402   4.930455      -0.016349 -0.005461  1.001830  1.003661   \n",
       "2013-10-31  4.985086   4.903140      -0.016438 -0.009077  1.004266  1.006592   \n",
       "2013-11-01  4.957771   4.875824      -0.016529 -0.012706  1.005510  1.008824   \n",
       "\n",
       "                ma10  ma20  ma30  ma50  ma100  ma200  \n",
       "date                                                  \n",
       "2013-10-23       NaN   NaN   NaN   NaN    NaN    NaN  \n",
       "2013-10-24       NaN   NaN   NaN   NaN    NaN    NaN  \n",
       "2013-10-25       NaN   NaN   NaN   NaN    NaN    NaN  \n",
       "2013-10-26       NaN   NaN   NaN   NaN    NaN    NaN  \n",
       "2013-10-27       NaN   NaN   NaN   NaN    NaN    NaN  \n",
       "2013-10-28       NaN   NaN   NaN   NaN    NaN    NaN  \n",
       "2013-10-29       NaN   NaN   NaN   NaN    NaN    NaN  \n",
       "2013-10-30       NaN   NaN   NaN   NaN    NaN    NaN  \n",
       "2013-10-31       NaN   NaN   NaN   NaN    NaN    NaN  \n",
       "2013-11-01  1.013595   NaN   NaN   NaN    NaN    NaN  "
      ]
     },
     "execution_count": 22,
     "metadata": {},
     "output_type": "execute_result"
    }
   ],
   "source": [
    "afd.head(10)"
   ]
  },
  {
   "cell_type": "code",
   "execution_count": 24,
   "metadata": {},
   "outputs": [
    {
     "name": "stdout",
     "output_type": "stream",
     "text": [
      "               3d_future  3d_future_pct       ma3       ma5      ma10  \\\n",
      "3d_future       1.000000      -0.008360 -0.025240 -0.033800 -0.054165   \n",
      "3d_future_pct  -0.008360       1.000000 -0.876394 -0.842908 -0.767097   \n",
      "ma3            -0.025240      -0.876394  1.000000  0.987663  0.921327   \n",
      "ma5            -0.033800      -0.842908  0.987663  1.000000  0.962591   \n",
      "ma10           -0.054165      -0.767097  0.921327  0.962591  1.000000   \n",
      "ma20           -0.092885      -0.705962  0.820214  0.864789  0.946686   \n",
      "ma30           -0.129848      -0.661659  0.760178  0.802037  0.887289   \n",
      "ma50           -0.193587      -0.565416  0.650390  0.688407  0.772664   \n",
      "ma100          -0.297369      -0.396802  0.467892  0.498695  0.569671   \n",
      "ma200          -0.416823      -0.270331  0.326278  0.349714  0.404562   \n",
      "\n",
      "                   ma20      ma30      ma50     ma100     ma200  \n",
      "3d_future     -0.092885 -0.129848 -0.193587 -0.297369 -0.416823  \n",
      "3d_future_pct -0.705962 -0.661659 -0.565416 -0.396802 -0.270331  \n",
      "ma3            0.820214  0.760178  0.650390  0.467892  0.326278  \n",
      "ma5            0.864789  0.802037  0.688407  0.498695  0.349714  \n",
      "ma10           0.946686  0.887289  0.772664  0.569671  0.404562  \n",
      "ma20           1.000000  0.978478  0.890008  0.682333  0.496161  \n",
      "ma30           0.978478  1.000000  0.955135  0.765524  0.570122  \n",
      "ma50           0.890008  0.955135  1.000000  0.888112  0.694244  \n",
      "ma100          0.682333  0.765524  0.888112  1.000000  0.896830  \n",
      "ma200          0.496161  0.570122  0.694244  0.896830  1.000000  \n"
     ]
    }
   ],
   "source": [
    "afd = afd.dropna()\n",
    "\n",
    "# Create features and targets\n",
    "# use feature_names for features; '5d_close_future_pct' for targets\n",
    "features = afd[feature_names]\n",
    "targets = afd['3d_future']\n",
    "\n",
    "# Create DataFrame from target column and feature columns\n",
    "feature_and_target_cols = ['3d_future'] + feature_names\n",
    "feat_targ_df = afd[feature_and_target_cols]\n",
    "\n",
    "# Calculate correlation matrix\n",
    "corr = feat_targ_df.corr()\n",
    "print(corr)"
   ]
  },
  {
   "cell_type": "code",
   "execution_count": 25,
   "metadata": {},
   "outputs": [
    {
     "data": {
      "image/png": "[encoded data removed]",
      "text/plain": [
       "<Figure size 432x288 with 2 Axes>"
      ]
     },
     "metadata": {
      "needs_background": "light"
     },
     "output_type": "display_data"
    },
    {
     "data": {
      "text/plain": [
       "<Figure size 432x288 with 0 Axes>"
      ]
     },
     "metadata": {},
     "output_type": "display_data"
    }
   ],
   "source": [
    "sns.heatmap(corr, annot=True)\n",
    "plt.yticks(rotation=0); plt.xticks(rotation=90)  # fix ticklabel directions\n",
    "plt.title(\"Heatmap of features and targets correlations\")\n",
    "plt.tight_layout()  # fits plot area to the plot, \"tightly\"\n",
    "plt.show()  # show the plot\n",
    "plt.clf()  # clear the plot area"
   ]
  },
  {
   "cell_type": "markdown",
   "metadata": {},
   "source": [
    "### Linear Model"
   ]
  },
  {
   "cell_type": "code",
   "execution_count": 48,
   "metadata": {},
   "outputs": [
    {
     "name": "stdout",
     "output_type": "stream",
     "text": [
      "(1228, 10) (1043, 10) (185, 10)\n"
     ]
    },
    {
     "name": "stderr",
     "output_type": "stream",
     "text": [
      "/Users/dangngochuy/anaconda3/lib/python3.6/site-packages/numpy/core/fromnumeric.py:2389: FutureWarning: Method .ptp is deprecated and will be removed in a future version. Use numpy.ptp instead.\n",
      "  return ptp(axis=axis, out=out, **kwargs)\n"
     ]
    }
   ],
   "source": [
    "# Import the statsmodels.api library with the alias sm\n",
    "import statsmodels.api as sm\n",
    "\n",
    "# Add a constant to the features\n",
    "linear_features = sm.add_constant(features)\n",
    "\n",
    "# Create a size for the training set that is 85% of the total number of samples\n",
    "train_size = int(0.85 * features.shape[0])\n",
    "train_features = linear_features[:train_size]\n",
    "train_targets = targets[:train_size]\n",
    "test_features = linear_features[train_size:]\n",
    "test_targets = targets[train_size:]\n",
    "print(linear_features.shape, train_features.shape, test_features.shape)"
   ]
  },
  {
   "cell_type": "code",
   "execution_count": 49,
   "metadata": {},
   "outputs": [
    {
     "name": "stdout",
     "output_type": "stream",
     "text": [
      "0.2718888160518852\n",
      "-10.832083633070537\n",
      "2.3497390221383414\n"
     ]
    }
   ],
   "source": [
    "from sklearn.linear_model import LinearRegression\n",
    "from sklearn.metrics import mean_squared_error\n",
    "from math import sqrt\n",
    "\n",
    "lin_afd = LinearRegression()\n",
    "lin_afd.fit(train_features, train_targets)\n",
    "\n",
    "# Check the score on train and test\n",
    "print(lin_afd.score(train_features, train_targets))\n",
    "print(lin_afd.score(test_features, test_targets))\n",
    "\n",
    "#Check Root mean squared error\n",
    "lin_afd_pred = lin_afd.predict(test_features)\n",
    "print(sqrt(mean_squared_error(lin_afd_pred, test_targets)))"
   ]
  },
  {
   "cell_type": "markdown",
   "metadata": {},
   "source": [
    "### Decision Tree"
   ]
  },
  {
   "cell_type": "code",
   "execution_count": 50,
   "metadata": {},
   "outputs": [
    {
     "name": "stdout",
     "output_type": "stream",
     "text": [
      "0.5218729816940997\n",
      "-12.99212590695537\n",
      "2.5552351094696575\n"
     ]
    }
   ],
   "source": [
    "from sklearn.tree import DecisionTreeRegressor\n",
    "\n",
    "# Create a decision tree regression model with default arguments\n",
    "decision_tree_allen_afd = DecisionTreeRegressor(max_depth=3)\n",
    "\n",
    "# Fit the model to the training features and targets\n",
    "decision_tree_allen_afd.fit(train_features, train_targets)\n",
    "\n",
    "# Check the score on train and test\n",
    "print(decision_tree_allen_afd.score(train_features, train_targets))\n",
    "print(decision_tree_allen_afd.score(test_features, test_targets))\n",
    "\n",
    "#Check Root mean squared error\n",
    "decision_tree_allen_afd_pred = decision_tree_allen_afd.predict(test_features)\n",
    "print(sqrt(mean_squared_error(decision_tree_allen_afd_pred, test_targets)))"
   ]
  },
  {
   "cell_type": "code",
   "execution_count": 51,
   "metadata": {},
   "outputs": [
    {
     "name": "stdout",
     "output_type": "stream",
     "text": [
      "max_depth= 3\n",
      "0.5218729816940997\n",
      "-12.992125906955385 \n",
      "\n",
      "max_depth= 5\n",
      "0.6822069437210256\n",
      "-14.707761502914522 \n",
      "\n",
      "max_depth= 10\n",
      "0.9446960189008589\n",
      "-25.30692883793139 \n",
      "\n",
      "max_depth= 15\n",
      "0.999958985352369\n",
      "-23.842239005463142 \n",
      "\n",
      "max_depth= 20\n",
      "0.999999954407119\n",
      "-23.3554557625431 \n",
      "\n",
      "max_depth= 25\n",
      "0.9999999999549162\n",
      "-22.77882960026749 \n",
      "\n"
     ]
    }
   ],
   "source": [
    "# Loop through a few different max depths and check the performance\n",
    "for d in [3, 5, 10, 15, 20, 25]:\n",
    "    # Create the tree and fit it\n",
    "    decision_tree_allen_afd = DecisionTreeRegressor(max_depth=d)\n",
    "    decision_tree_allen_afd.fit(train_features, train_targets)\n",
    "\n",
    "    # Print out the scores on train and test\n",
    "    print('max_depth=', str(d))\n",
    "    print(decision_tree_allen_afd.score(train_features, train_targets))\n",
    "    print(decision_tree_allen_afd.score(test_features, test_targets), '\\n')"
   ]
  },
  {
   "cell_type": "code",
   "execution_count": 52,
   "metadata": {},
   "outputs": [
    {
     "name": "stdout",
     "output_type": "stream",
     "text": [
      "1.7460058169565493\n"
     ]
    },
    {
     "data": {
      "image/png": "[encoded data removed]",
      "text/plain": [
       "<Figure size 432x288 with 1 Axes>"
      ]
     },
     "metadata": {
      "needs_background": "light"
     },
     "output_type": "display_data"
    }
   ],
   "source": [
    "# Use the best max_depth of 3 from last exercise to fit a decision tree\n",
    "decision_tree_allen_afd = DecisionTreeRegressor(max_depth=1)\n",
    "decision_tree_allen_afd.fit(train_features, train_targets)\n",
    "\n",
    "# Predict values for train and test\n",
    "train_predictions = decision_tree_allen_afd.predict(train_features)\n",
    "test_predictions = decision_tree_allen_afd.predict(test_features)\n",
    "\n",
    "#Check Root mean squared error\n",
    "decision_tree_allen_afd_pred = decision_tree_allen_afd.predict(test_features)\n",
    "print(sqrt(mean_squared_error(decision_tree_allen_afd_pred, test_targets)))\n",
    "\n",
    "# Scatter the predictions vs actual values\n",
    "plt.scatter(train_predictions, train_targets, label='train')\n",
    "plt.scatter(test_predictions, test_targets, label = 'test')\n",
    "plt.show()"
   ]
  },
  {
   "cell_type": "markdown",
   "metadata": {},
   "source": [
    "### Random Forest"
   ]
  },
  {
   "cell_type": "code",
   "execution_count": 53,
   "metadata": {},
   "outputs": [
    {
     "name": "stdout",
     "output_type": "stream",
     "text": [
      "0.9890668083811233\n",
      "-18.84132433935207\n",
      "3.042806547684667\n"
     ]
    }
   ],
   "source": [
    "from sklearn.ensemble import RandomForestRegressor\n",
    "\n",
    "# Create the random forest model and fit to the training data\n",
    "rfr_allen_afd = RandomForestRegressor(n_estimators=50)\n",
    "rfr_allen_afd.fit(train_features, train_targets)\n",
    "\n",
    "# Look at the R^2 scores on train and test\n",
    "print(rfr_allen_afd.score(train_features, train_targets))\n",
    "print(rfr_allen_afd.score(test_features, test_targets))\n",
    "\n",
    "# Check RMSE\n",
    "rfr_allen_afd_pred = rfr_allen_afd.predict(test_features)\n",
    "print(sqrt(mean_squared_error(rfr_allen_afd_pred, test_targets)))"
   ]
  },
  {
   "cell_type": "code",
   "execution_count": 54,
   "metadata": {},
   "outputs": [
    {
     "name": "stdout",
     "output_type": "stream",
     "text": [
      "-9.320904306647165 {'random_state': 42, 'n_estimators': 300, 'max_features': 4, 'max_depth': 3}\n"
     ]
    }
   ],
   "source": [
    "from sklearn.model_selection import ParameterGrid\n",
    "\n",
    "# Create a dictionary of hyperparameters to search\n",
    "grid = {'n_estimators': [50,100,200,300], 'max_depth': [3], 'max_features': [4, 8], 'random_state': [42]}\n",
    "test_scores = []\n",
    "\n",
    "# Loop through the parameter grid, set the hyperparameters, and save the scores\n",
    "for g in ParameterGrid(grid):\n",
    "    rfr_allen_afd.set_params(**g)  # ** is \"unpacking\" the dictionary\n",
    "    rfr_allen_afd.fit(train_features, train_targets)\n",
    "    test_scores.append(rfr_allen_afd.score(test_features, test_targets))\n",
    "\n",
    "# Find best hyperparameters from the test score and print\n",
    "best_idx = np.argmax(test_scores)\n",
    "print(test_scores[best_idx], ParameterGrid(grid)[best_idx])"
   ]
  },
  {
   "cell_type": "code",
   "execution_count": 55,
   "metadata": {},
   "outputs": [
    {
     "name": "stdout",
     "output_type": "stream",
     "text": [
      "0.544299581600618\n",
      "-9.320904306647165\n",
      "2.1945621753796645\n"
     ]
    },
    {
     "data": {
      "image/png": "[encoded data removed]",
      "text/plain": [
       "<Figure size 432x288 with 1 Axes>"
      ]
     },
     "metadata": {
      "needs_background": "light"
     },
     "output_type": "display_data"
    }
   ],
   "source": [
    "# Use the best hyperparameters from before to fit a random forest model\n",
    "rfr_allen_afd = RandomForestRegressor(n_estimators=300, max_depth=3, max_features=4, random_state=42)\n",
    "rfr_allen_afd.fit(train_features, train_targets)\n",
    "\n",
    "# Make predictions with our model\n",
    "train_predictions = rfr_allen_afd.predict(train_features)\n",
    "test_predictions = rfr_allen_afd.predict(test_features)\n",
    "\n",
    "# Look at the R^2 scores on train and test\n",
    "print(rfr_allen_afd.score(train_features, train_targets))\n",
    "print(rfr_allen_afd.score(test_features, test_targets))\n",
    "\n",
    "# Check RMSE\n",
    "rfr_allen_afd_pred = rfr_allen_afd.predict(test_features)\n",
    "print(sqrt(mean_squared_error(rfr_allen_afd_pred, test_targets)))\n",
    "\n",
    "# Create a scatter plot with train and test actual vs predictions\n",
    "plt.scatter(train_targets, train_predictions, label='train')\n",
    "plt.scatter(test_targets, test_predictions, label='test')\n",
    "plt.title('Scatter plot of training and test sets of targets vs. predictions')\n",
    "plt.xlabel('Targets')\n",
    "plt.ylabel('Predictions')\n",
    "plt.legend()\n",
    "plt.show()"
   ]
  },
  {
   "cell_type": "code",
   "execution_count": 56,
   "metadata": {},
   "outputs": [
    {
     "data": {
      "image/png": "[encoded data removed]",
      "text/plain": [
       "<Figure size 432x288 with 1 Axes>"
      ]
     },
     "metadata": {
      "needs_background": "light"
     },
     "output_type": "display_data"
    }
   ],
   "source": [
    "# Get feature importances from our random forest model\n",
    "importances = rfr_allen_afd.feature_importances_\n",
    "importances = importances[importances != 0]\n",
    "\n",
    "# Get the index of importances from greatest importance to least\n",
    "sorted_index = np.argsort(importances)[::-1]\n",
    "x = range(len(importances))\n",
    "\n",
    "# Create tick labels \n",
    "labels = np.array(feature_names)[sorted_index]\n",
    "plt.bar(x, importances[sorted_index], tick_label=labels)\n",
    "\n",
    "# Rotate tick labels to vertical\n",
    "plt.xticks(rotation=90)\n",
    "plt.title(\"Feature importances from Random Forest model\")\n",
    "plt.show()"
   ]
  },
  {
   "cell_type": "markdown",
   "metadata": {},
   "source": [
    "### Gradient Boosting"
   ]
  },
  {
   "cell_type": "code",
   "execution_count": 57,
   "metadata": {},
   "outputs": [
    {
     "name": "stdout",
     "output_type": "stream",
     "text": [
      "0.6044838055204318\n",
      "-9.56290925927674\n",
      "2.2201421822340435\n"
     ]
    }
   ],
   "source": [
    "# Gradient Boosting Model \n",
    "from sklearn.ensemble import GradientBoostingRegressor\n",
    "\n",
    "# Create GB model\n",
    "gbr_allen_afd = GradientBoostingRegressor(max_features=4,\n",
    "                                learning_rate=0.01,\n",
    "                                n_estimators=200,\n",
    "                                subsample=0.6,\n",
    "                                random_state=42)\n",
    "result_gbr = gbr_allen_afd.fit(train_features, train_targets)\n",
    "\n",
    "print(gbr_allen_afd.score(train_features, train_targets))\n",
    "print(gbr_allen_afd.score(test_features, test_targets))\n",
    "\n",
    "# Check RMSE\n",
    "gbr_allen_afd_pred = gbr_allen_afd.predict(test_features)\n",
    "print(sqrt(mean_squared_error(gbr_allen_afd_pred, test_targets)))"
   ]
  },
  {
   "cell_type": "markdown",
   "metadata": {},
   "source": [
    "### XGBoost"
   ]
  },
  {
   "cell_type": "code",
   "execution_count": 58,
   "metadata": {},
   "outputs": [
    {
     "name": "stderr",
     "output_type": "stream",
     "text": [
      "/Users/dangngochuy/anaconda3/lib/python3.6/site-packages/xgboost/core.py:587: FutureWarning: Series.base is deprecated and will be removed in a future version\n",
      "  if getattr(data, 'base', None) is not None and \\\n",
      "/Users/dangngochuy/anaconda3/lib/python3.6/site-packages/xgboost/core.py:588: FutureWarning: Series.base is deprecated and will be removed in a future version\n",
      "  data.base is not None and isinstance(data, np.ndarray) \\\n"
     ]
    },
    {
     "name": "stdout",
     "output_type": "stream",
     "text": [
      "0.9835956478543258\n",
      "-17.7326262536892\n",
      "2.9565712405241835\n"
     ]
    }
   ],
   "source": [
    "# XGBoost Model\n",
    "from xgboost import XGBRegressor\n",
    "import xgboost as xgb\n",
    "\n",
    "# Create the xgboost model and fit to the training data\n",
    "\n",
    "xgb_model_allen_afd = XGBRegressor(colsample_bytree = 0.7, learning_rate= 0.01, max_depth= 7, min_child_weight= 4, n_estimators= 500, nthread= 4, objective= 'reg:linear', silent= 1, subsample= 0.7)\n",
    "result_xgb = xgb_model_allen_afd.fit(train_features, train_targets)\n",
    "\n",
    "# Look at the R^2 scores on train and test\n",
    "print(xgb_model_allen_afd.score(train_features, train_targets))\n",
    "print(xgb_model_allen_afd.score(test_features, test_targets))\n",
    "\n",
    "# Check RMSE\n",
    "xgb_model_allen_afd_pred = xgb_model_allen_afd.predict(test_features)\n",
    "print(sqrt(mean_squared_error(xgb_model_allen_afd_pred, test_targets)))"
   ]
  },
  {
   "cell_type": "code",
   "execution_count": null,
   "metadata": {},
   "outputs": [],
   "source": []
  }
 ],
 "metadata": {
  "kernelspec": {
   "display_name": "Python 3",
   "language": "python",
   "name": "python3"
  },
  "language_info": {
   "codemirror_mode": {
    "name": "ipython",
    "version": 3
   },
   "file_extension": ".py",
   "mimetype": "text/x-python",
   "name": "python",
   "nbconvert_exporter": "python",
   "pygments_lexer": "ipython3",
   "version": "3.6.5"
  }
 },
 "nbformat": 4,
 "nbformat_minor": 2
}
