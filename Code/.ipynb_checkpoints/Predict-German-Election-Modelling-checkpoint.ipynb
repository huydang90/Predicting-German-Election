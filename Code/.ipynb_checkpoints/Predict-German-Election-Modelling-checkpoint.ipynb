{
 "cells": [
  {
   "cell_type": "code",
   "execution_count": 1,
   "metadata": {},
   "outputs": [],
   "source": [
    "#import libraries\n",
    "\n",
    "import pyreadr\n",
    "import pandas as pd\n",
    "import numpy as np\n",
    "import matplotlib.pyplot as plt\n",
    "import seaborn as sns\n",
    "%matplotlib inline\n",
    "from matplotlib.dates import DateFormatter\n",
    "import matplotlib.dates as mdates"
   ]
  },
  {
   "cell_type": "code",
   "execution_count": 2,
   "metadata": {},
   "outputs": [
    {
     "data": {
      "text/html": [
       "<div>\n",
       "<style scoped>\n",
       "    .dataframe tbody tr th:only-of-type {\n",
       "        vertical-align: middle;\n",
       "    }\n",
       "\n",
       "    .dataframe tbody tr th {\n",
       "        vertical-align: top;\n",
       "    }\n",
       "\n",
       "    .dataframe thead th {\n",
       "        text-align: right;\n",
       "    }\n",
       "</style>\n",
       "<table border=\"1\" class=\"dataframe\">\n",
       "  <thead>\n",
       "    <tr style=\"text-align: right;\">\n",
       "      <th></th>\n",
       "      <th>election</th>\n",
       "      <th>sample_size</th>\n",
       "      <th>institute</th>\n",
       "      <th>party</th>\n",
       "      <th>support</th>\n",
       "      <th>election_date</th>\n",
       "      <th>days_to_election</th>\n",
       "    </tr>\n",
       "    <tr>\n",
       "      <th>date</th>\n",
       "      <th></th>\n",
       "      <th></th>\n",
       "      <th></th>\n",
       "      <th></th>\n",
       "      <th></th>\n",
       "      <th></th>\n",
       "      <th></th>\n",
       "    </tr>\n",
       "  </thead>\n",
       "  <tbody>\n",
       "    <tr>\n",
       "      <th>1951-04-15</th>\n",
       "      <td>1953.0</td>\n",
       "      <td>NaN</td>\n",
       "      <td>allensbach</td>\n",
       "      <td>oth</td>\n",
       "      <td>24.0</td>\n",
       "      <td>1953-09-06</td>\n",
       "      <td>875.0</td>\n",
       "    </tr>\n",
       "    <tr>\n",
       "      <th>1950-11-15</th>\n",
       "      <td>1953.0</td>\n",
       "      <td>NaN</td>\n",
       "      <td>allensbach</td>\n",
       "      <td>gru</td>\n",
       "      <td>NaN</td>\n",
       "      <td>1953-09-06</td>\n",
       "      <td>1026.0</td>\n",
       "    </tr>\n",
       "    <tr>\n",
       "      <th>1952-12-15</th>\n",
       "      <td>1953.0</td>\n",
       "      <td>NaN</td>\n",
       "      <td>allensbach</td>\n",
       "      <td>spd</td>\n",
       "      <td>35.0</td>\n",
       "      <td>1953-09-06</td>\n",
       "      <td>265.0</td>\n",
       "    </tr>\n",
       "    <tr>\n",
       "      <th>1953-02-15</th>\n",
       "      <td>1953.0</td>\n",
       "      <td>NaN</td>\n",
       "      <td>allensbach</td>\n",
       "      <td>spd</td>\n",
       "      <td>33.0</td>\n",
       "      <td>1953-09-06</td>\n",
       "      <td>203.0</td>\n",
       "    </tr>\n",
       "    <tr>\n",
       "      <th>1951-03-15</th>\n",
       "      <td>1953.0</td>\n",
       "      <td>NaN</td>\n",
       "      <td>allensbach</td>\n",
       "      <td>gru</td>\n",
       "      <td>NaN</td>\n",
       "      <td>1953-09-06</td>\n",
       "      <td>906.0</td>\n",
       "    </tr>\n",
       "  </tbody>\n",
       "</table>\n",
       "</div>"
      ],
      "text/plain": [
       "            election  sample_size   institute party  support election_date  \\\n",
       "date                                                                         \n",
       "1951-04-15    1953.0          NaN  allensbach   oth     24.0    1953-09-06   \n",
       "1950-11-15    1953.0          NaN  allensbach   gru      NaN    1953-09-06   \n",
       "1952-12-15    1953.0          NaN  allensbach   spd     35.0    1953-09-06   \n",
       "1953-02-15    1953.0          NaN  allensbach   spd     33.0    1953-09-06   \n",
       "1951-03-15    1953.0          NaN  allensbach   gru      NaN    1953-09-06   \n",
       "\n",
       "            days_to_election  \n",
       "date                          \n",
       "1951-04-15             875.0  \n",
       "1950-11-15            1026.0  \n",
       "1952-12-15             265.0  \n",
       "1953-02-15             203.0  \n",
       "1951-03-15             906.0  "
      ]
     },
     "execution_count": 2,
     "metadata": {},
     "output_type": "execute_result"
    }
   ],
   "source": [
    "#load data\n",
    "\n",
    "polls = pd.read_csv(\"polls_btw.csv\", index_col='date', parse_dates=True)\n",
    "polls.head()"
   ]
  },
  {
   "cell_type": "markdown",
   "metadata": {},
   "source": [
    "## Exploratory Data Analysis"
   ]
  },
  {
   "cell_type": "code",
   "execution_count": 3,
   "metadata": {},
   "outputs": [
    {
     "data": {
      "text/html": [
       "<div>\n",
       "<style scoped>\n",
       "    .dataframe tbody tr th:only-of-type {\n",
       "        vertical-align: middle;\n",
       "    }\n",
       "\n",
       "    .dataframe tbody tr th {\n",
       "        vertical-align: top;\n",
       "    }\n",
       "\n",
       "    .dataframe thead th {\n",
       "        text-align: right;\n",
       "    }\n",
       "</style>\n",
       "<table border=\"1\" class=\"dataframe\">\n",
       "  <thead>\n",
       "    <tr style=\"text-align: right;\">\n",
       "      <th></th>\n",
       "      <th>election</th>\n",
       "      <th>sample_size</th>\n",
       "      <th>institute</th>\n",
       "      <th>party</th>\n",
       "      <th>support</th>\n",
       "      <th>election_date</th>\n",
       "      <th>days_to_election</th>\n",
       "    </tr>\n",
       "    <tr>\n",
       "      <th>date</th>\n",
       "      <th></th>\n",
       "      <th></th>\n",
       "      <th></th>\n",
       "      <th></th>\n",
       "      <th></th>\n",
       "      <th></th>\n",
       "      <th></th>\n",
       "    </tr>\n",
       "  </thead>\n",
       "  <tbody>\n",
       "    <tr>\n",
       "      <th>1951-04-15</th>\n",
       "      <td>1953.0</td>\n",
       "      <td>1000.0</td>\n",
       "      <td>allensbach</td>\n",
       "      <td>oth</td>\n",
       "      <td>24.0</td>\n",
       "      <td>1953-09-06</td>\n",
       "      <td>875.0</td>\n",
       "    </tr>\n",
       "    <tr>\n",
       "      <th>1950-11-15</th>\n",
       "      <td>1953.0</td>\n",
       "      <td>1000.0</td>\n",
       "      <td>allensbach</td>\n",
       "      <td>gru</td>\n",
       "      <td>NaN</td>\n",
       "      <td>1953-09-06</td>\n",
       "      <td>1026.0</td>\n",
       "    </tr>\n",
       "    <tr>\n",
       "      <th>1952-12-15</th>\n",
       "      <td>1953.0</td>\n",
       "      <td>1000.0</td>\n",
       "      <td>allensbach</td>\n",
       "      <td>spd</td>\n",
       "      <td>35.0</td>\n",
       "      <td>1953-09-06</td>\n",
       "      <td>265.0</td>\n",
       "    </tr>\n",
       "    <tr>\n",
       "      <th>1953-02-15</th>\n",
       "      <td>1953.0</td>\n",
       "      <td>1000.0</td>\n",
       "      <td>allensbach</td>\n",
       "      <td>spd</td>\n",
       "      <td>33.0</td>\n",
       "      <td>1953-09-06</td>\n",
       "      <td>203.0</td>\n",
       "    </tr>\n",
       "    <tr>\n",
       "      <th>1951-03-15</th>\n",
       "      <td>1953.0</td>\n",
       "      <td>1000.0</td>\n",
       "      <td>allensbach</td>\n",
       "      <td>gru</td>\n",
       "      <td>NaN</td>\n",
       "      <td>1953-09-06</td>\n",
       "      <td>906.0</td>\n",
       "    </tr>\n",
       "  </tbody>\n",
       "</table>\n",
       "</div>"
      ],
      "text/plain": [
       "            election  sample_size   institute party  support election_date  \\\n",
       "date                                                                         \n",
       "1951-04-15    1953.0       1000.0  allensbach   oth     24.0    1953-09-06   \n",
       "1950-11-15    1953.0       1000.0  allensbach   gru      NaN    1953-09-06   \n",
       "1952-12-15    1953.0       1000.0  allensbach   spd     35.0    1953-09-06   \n",
       "1953-02-15    1953.0       1000.0  allensbach   spd     33.0    1953-09-06   \n",
       "1951-03-15    1953.0       1000.0  allensbach   gru      NaN    1953-09-06   \n",
       "\n",
       "            days_to_election  \n",
       "date                          \n",
       "1951-04-15             875.0  \n",
       "1950-11-15            1026.0  \n",
       "1952-12-15             265.0  \n",
       "1953-02-15             203.0  \n",
       "1951-03-15             906.0  "
      ]
     },
     "execution_count": 3,
     "metadata": {},
     "output_type": "execute_result"
    }
   ],
   "source": [
    "#Impute sample_size with 1000 for missing values\n",
    "\n",
    "polls[\"sample_size\"].fillna(1000, inplace=True)\n",
    "polls.head()"
   ]
  },
  {
   "cell_type": "code",
   "execution_count": 4,
   "metadata": {},
   "outputs": [
    {
     "data": {
      "text/plain": [
       "array(['allensbach', 'fgruppe_wahlen', 'forsa', 'emnid',\n",
       "       'infratest_dimap', 'gms', 'insa'], dtype=object)"
      ]
     },
     "execution_count": 4,
     "metadata": {},
     "output_type": "execute_result"
    }
   ],
   "source": [
    "#see how many unique polling institutions there are\n",
    "\n",
    "polls['institute'].unique()"
   ]
  },
  {
   "cell_type": "code",
   "execution_count": 5,
   "metadata": {},
   "outputs": [
    {
     "data": {
      "text/plain": [
       "array(['oth', 'gru', 'spd', 'cdu', 'lin', 'fdp', 'afd'], dtype=object)"
      ]
     },
     "execution_count": 5,
     "metadata": {},
     "output_type": "execute_result"
    }
   ],
   "source": [
    "#see how many unique parties there are in the polls\n",
    "\n",
    "polls['party'].unique()"
   ]
  },
  {
   "cell_type": "code",
   "execution_count": 6,
   "metadata": {},
   "outputs": [],
   "source": [
    "#create data frame with polls from each institutions in 2017 \n",
    "\n",
    "election2017_allen = polls.loc[(polls['institute'] == 'allensbach') & (polls['election'] == 2017)]\n",
    "election2017_insa = polls.loc[(polls['institute'] == 'insa') & (polls['election'] == 2017)]\n",
    "election2017_forsa = polls.loc[(polls['institute'] == 'forsa') & (polls['election'] == 2017)]\n",
    "election2017_emnid = polls.loc[(polls['institute'] == 'emnid') & (polls['election'] == 2017)]\n",
    "election2017_gms = polls.loc[(polls['institute'] == 'gms') & (polls['election'] == 2017)]\n",
    "election2017_infra = polls.loc[(polls['institute'] == 'infratest_dimap') & (polls['election'] == 2017)]\n",
    "election2017_fgruppe = polls.loc[(polls['institute'] == 'fgruppe_wahlen') & (polls['election'] == 2017)]"
   ]
  },
  {
   "cell_type": "code",
   "execution_count": 7,
   "metadata": {},
   "outputs": [
    {
     "data": {
      "text/html": [
       "<div>\n",
       "<style scoped>\n",
       "    .dataframe tbody tr th:only-of-type {\n",
       "        vertical-align: middle;\n",
       "    }\n",
       "\n",
       "    .dataframe tbody tr th {\n",
       "        vertical-align: top;\n",
       "    }\n",
       "\n",
       "    .dataframe thead th {\n",
       "        text-align: right;\n",
       "    }\n",
       "</style>\n",
       "<table border=\"1\" class=\"dataframe\">\n",
       "  <thead>\n",
       "    <tr style=\"text-align: right;\">\n",
       "      <th></th>\n",
       "      <th>election</th>\n",
       "      <th>sample_size</th>\n",
       "      <th>institute</th>\n",
       "      <th>party</th>\n",
       "      <th>support</th>\n",
       "      <th>election_date</th>\n",
       "      <th>days_to_election</th>\n",
       "    </tr>\n",
       "    <tr>\n",
       "      <th>date</th>\n",
       "      <th></th>\n",
       "      <th></th>\n",
       "      <th></th>\n",
       "      <th></th>\n",
       "      <th></th>\n",
       "      <th></th>\n",
       "      <th></th>\n",
       "    </tr>\n",
       "  </thead>\n",
       "  <tbody>\n",
       "    <tr>\n",
       "      <th>2015-06-18</th>\n",
       "      <td>2017.0</td>\n",
       "      <td>1400.0</td>\n",
       "      <td>allensbach</td>\n",
       "      <td>spd</td>\n",
       "      <td>26.0</td>\n",
       "      <td>2017-09-24</td>\n",
       "      <td>829.0</td>\n",
       "    </tr>\n",
       "    <tr>\n",
       "      <th>2016-08-24</th>\n",
       "      <td>2017.0</td>\n",
       "      <td>1496.0</td>\n",
       "      <td>allensbach</td>\n",
       "      <td>spd</td>\n",
       "      <td>23.0</td>\n",
       "      <td>2017-09-24</td>\n",
       "      <td>396.0</td>\n",
       "    </tr>\n",
       "    <tr>\n",
       "      <th>2015-08-19</th>\n",
       "      <td>2017.0</td>\n",
       "      <td>1400.0</td>\n",
       "      <td>allensbach</td>\n",
       "      <td>spd</td>\n",
       "      <td>26.0</td>\n",
       "      <td>2017-09-24</td>\n",
       "      <td>767.0</td>\n",
       "    </tr>\n",
       "    <tr>\n",
       "      <th>2015-02-19</th>\n",
       "      <td>2017.0</td>\n",
       "      <td>1400.0</td>\n",
       "      <td>allensbach</td>\n",
       "      <td>spd</td>\n",
       "      <td>25.5</td>\n",
       "      <td>2017-09-24</td>\n",
       "      <td>948.0</td>\n",
       "    </tr>\n",
       "    <tr>\n",
       "      <th>2017-07-18</th>\n",
       "      <td>2017.0</td>\n",
       "      <td>1403.0</td>\n",
       "      <td>allensbach</td>\n",
       "      <td>spd</td>\n",
       "      <td>25.0</td>\n",
       "      <td>2017-09-24</td>\n",
       "      <td>68.0</td>\n",
       "    </tr>\n",
       "  </tbody>\n",
       "</table>\n",
       "</div>"
      ],
      "text/plain": [
       "            election  sample_size   institute party  support election_date  \\\n",
       "date                                                                         \n",
       "2015-06-18    2017.0       1400.0  allensbach   spd     26.0    2017-09-24   \n",
       "2016-08-24    2017.0       1496.0  allensbach   spd     23.0    2017-09-24   \n",
       "2015-08-19    2017.0       1400.0  allensbach   spd     26.0    2017-09-24   \n",
       "2015-02-19    2017.0       1400.0  allensbach   spd     25.5    2017-09-24   \n",
       "2017-07-18    2017.0       1403.0  allensbach   spd     25.0    2017-09-24   \n",
       "\n",
       "            days_to_election  \n",
       "date                          \n",
       "2015-06-18             829.0  \n",
       "2016-08-24             396.0  \n",
       "2015-08-19             767.0  \n",
       "2015-02-19             948.0  \n",
       "2017-07-18              68.0  "
      ]
     },
     "execution_count": 7,
     "metadata": {},
     "output_type": "execute_result"
    }
   ],
   "source": [
    "#check out institution allensbach: \n",
    "\n",
    "election2017_allen.head()"
   ]
  },
  {
   "cell_type": "code",
   "execution_count": 8,
   "metadata": {},
   "outputs": [
    {
     "data": {
      "text/plain": [
       "pandas.core.frame.DataFrame"
      ]
     },
     "execution_count": 8,
     "metadata": {},
     "output_type": "execute_result"
    }
   ],
   "source": [
    "type(election2017_allen)"
   ]
  },
  {
   "cell_type": "code",
   "execution_count": 9,
   "metadata": {},
   "outputs": [],
   "source": [
    "#create allensbach's polls for AFD in 2017 election:\n",
    "\n",
    "election2017_allen_afd = election2017_allen.loc[election2017_allen['party'] == 'afd']\n",
    "#plot_allen_afd = sns.lineplot(x=\"days_to_election\", y=\"support\", data=election2017allen_afd)"
   ]
  },
  {
   "cell_type": "code",
   "execution_count": 10,
   "metadata": {},
   "outputs": [
    {
     "data": {
      "image/png": "[encoded data removed]",
      "text/plain": [
       "<matplotlib.figure.Figure at 0x12040acc0>"
      ]
     },
     "metadata": {
      "needs_background": "light"
     },
     "output_type": "display_data"
    },
    {
     "data": {
      "text/plain": [
       "<matplotlib.figure.Figure at 0x12042eac8>"
      ]
     },
     "metadata": {},
     "output_type": "display_data"
    }
   ],
   "source": [
    "#plot allensbach's polls for AFD in 2017 election:\n",
    "#election2017allen_afd['date'] = election2017allen_afd.index\n",
    "#melted_df = pd.melt(election2017allen_afd, id_vars='date', value_name='support')\n",
    "#plot_allen_afd = sns.tsplot(melted_df, time='date', value='support')\n",
    "election2017_allen_afd.support['2013-10-23':'2017-09-19'].plot()\n",
    "plt.show()\n",
    "plt.clf()"
   ]
  },
  {
   "cell_type": "code",
   "execution_count": 11,
   "metadata": {},
   "outputs": [],
   "source": [
    "upsampled_election2017_allen_afd = election2017_allen_afd['support'].resample('D').first()"
   ]
  },
  {
   "cell_type": "code",
   "execution_count": 12,
   "metadata": {},
   "outputs": [
    {
     "name": "stdout",
     "output_type": "stream",
     "text": [
      "date\n",
      "2013-10-23    5.5\n",
      "2013-10-24    NaN\n",
      "2013-10-25    NaN\n",
      "2013-10-26    NaN\n",
      "2013-10-27    NaN\n",
      "2013-10-28    NaN\n",
      "2013-10-29    NaN\n",
      "2013-10-30    NaN\n",
      "2013-10-31    NaN\n",
      "2013-11-01    NaN\n",
      "2013-11-02    NaN\n",
      "2013-11-03    NaN\n",
      "2013-11-04    NaN\n",
      "2013-11-05    NaN\n",
      "2013-11-06    NaN\n",
      "2013-11-07    NaN\n",
      "2013-11-08    NaN\n",
      "2013-11-09    NaN\n",
      "2013-11-10    NaN\n",
      "2013-11-11    NaN\n",
      "2013-11-12    NaN\n",
      "2013-11-13    NaN\n",
      "2013-11-14    NaN\n",
      "2013-11-15    NaN\n",
      "2013-11-16    NaN\n",
      "2013-11-17    NaN\n",
      "2013-11-18    NaN\n",
      "2013-11-19    NaN\n",
      "2013-11-20    NaN\n",
      "2013-11-21    NaN\n",
      "2013-11-22    NaN\n",
      "2013-11-23    NaN\n",
      "Freq: D, Name: support, dtype: float64\n"
     ]
    }
   ],
   "source": [
    "print(upsampled_election2017_allen_afd.head(32))"
   ]
  },
  {
   "cell_type": "code",
   "execution_count": 13,
   "metadata": {},
   "outputs": [
    {
     "data": {
      "text/plain": [
       "date\n",
       "2013-10-23    5.500000\n",
       "2013-10-24    5.485714\n",
       "2013-10-25    5.471429\n",
       "2013-10-26    5.457143\n",
       "2013-10-27    5.442857\n",
       "Freq: D, Name: support, dtype: float64"
      ]
     },
     "execution_count": 13,
     "metadata": {},
     "output_type": "execute_result"
    }
   ],
   "source": [
    "interpolated_election2017_allen_afd = upsampled_election2017_allen_afd.interpolate(how='linear')\n",
    "interpolated_election2017_allen_afd.head()"
   ]
  },
  {
   "cell_type": "code",
   "execution_count": 14,
   "metadata": {},
   "outputs": [
    {
     "data": {
      "image/png": "[encoded data removed]",
      "text/plain": [
       "<matplotlib.figure.Figure at 0x12056c4e0>"
      ]
     },
     "metadata": {
      "needs_background": "light"
     },
     "output_type": "display_data"
    },
    {
     "data": {
      "text/plain": [
       "<matplotlib.figure.Figure at 0x12071a4a8>"
      ]
     },
     "metadata": {},
     "output_type": "display_data"
    }
   ],
   "source": [
    "interpolated_election2017_allen_afd.plot()\n",
    "plt.show()\n",
    "plt.clf()"
   ]
  },
  {
   "cell_type": "markdown",
   "metadata": {},
   "source": [
    "## Data transformation of time-series \n",
    "\n"
   ]
  },
  {
   "cell_type": "markdown",
   "metadata": {},
   "source": [
    "#### AFD"
   ]
  },
  {
   "cell_type": "code",
   "execution_count": 15,
   "metadata": {},
   "outputs": [],
   "source": [
    "#Create dataframe for AFD voteshares polls by each of the 7 institutions\n",
    "\n",
    "election2017_allen_afd = election2017_allen.loc[election2017_allen['party'] == 'afd']\n",
    "election2017_insa_afd = election2017_insa.loc[election2017_insa['party'] == 'afd']\n",
    "election2017_forsa_afd = election2017_forsa.loc[election2017_forsa['party'] == 'afd']\n",
    "election2017_emnid_afd = election2017_emnid.loc[election2017_emnid['party'] == 'afd']\n",
    "election2017_gms_afd = election2017_gms.loc[election2017_gms['party'] == 'afd']\n",
    "election2017_infra_afd = election2017_infra.loc[election2017_infra['party'] == 'afd']\n",
    "election2017_fgruppe_afd = election2017_fgruppe.loc[election2017_fgruppe['party'] == 'afd']"
   ]
  },
  {
   "cell_type": "code",
   "execution_count": 16,
   "metadata": {},
   "outputs": [
    {
     "data": {
      "text/plain": [
       "2017-09-17     9.692308\n",
       "2017-09-18     9.846154\n",
       "2017-09-19    10.000000\n",
       "2017-09-20    10.000000\n",
       "2017-09-21    10.000000\n",
       "Freq: D, Name: support, dtype: float64"
      ]
     },
     "execution_count": 16,
     "metadata": {},
     "output_type": "execute_result"
    }
   ],
   "source": [
    "#Create upsampled and interpolated data for Allen in AFD voteshares\n",
    "\n",
    "t_index_final = pd.date_range(start='2013-10-23', end='2017-09-21', freq='D')\n",
    "t_index_allen = pd.date_range(start='2013-10-10', end='2017-09-21', freq='D')\n",
    "\n",
    "upsampled_election2017_allen_afd = election2017_allen_afd['support'].resample('D').first().reindex(t_index_allen)\n",
    "interpolated_election2017_allen_afd = upsampled_election2017_allen_afd.interpolate(how='linear')\n",
    "interpolated_election2017_allen_afd = interpolated_election2017_allen_afd.reindex(t_index_final)\n",
    "interpolated_election2017_allen_afd.tail()"
   ]
  },
  {
   "cell_type": "code",
   "execution_count": 17,
   "metadata": {},
   "outputs": [
    {
     "data": {
      "text/plain": [
       "2017-09-17    11.0\n",
       "2017-09-18    11.0\n",
       "2017-09-19    11.0\n",
       "2017-09-20    11.0\n",
       "2017-09-21    11.0\n",
       "Freq: D, Name: support, dtype: float64"
      ]
     },
     "execution_count": 17,
     "metadata": {},
     "output_type": "execute_result"
    }
   ],
   "source": [
    "#Create upsampled and interpolated data for Insa in AFD voteshares\n",
    "\n",
    "t_index_final = pd.date_range(start='2013-10-23', end='2017-09-21', freq='D')\n",
    "t_index_insa = pd.date_range(start='2013-10-10', end='2017-09-21', freq='D')\n",
    "\n",
    "upsampled_election2017_insa_afd = election2017_insa_afd['support'].resample('D').first().reindex(t_index_insa)\n",
    "interpolated_election2017_insa_afd = upsampled_election2017_insa_afd.interpolate(how='linear')\n",
    "interpolated_election2017_insa_afd = interpolated_election2017_insa_afd.reindex(t_index_final)\n",
    "interpolated_election2017_insa_afd.tail()"
   ]
  },
  {
   "cell_type": "code",
   "execution_count": 18,
   "metadata": {},
   "outputs": [
    {
     "data": {
      "text/plain": [
       "2017-09-17    9.0\n",
       "2017-09-18    9.0\n",
       "2017-09-19    9.0\n",
       "2017-09-20    9.0\n",
       "2017-09-21    9.0\n",
       "Freq: D, Name: support, dtype: float64"
      ]
     },
     "execution_count": 18,
     "metadata": {},
     "output_type": "execute_result"
    }
   ],
   "source": [
    "#Create upsampled and interpolated data for Forsa in AFD voteshares\n",
    "\n",
    "t_index_forsa = pd.date_range(start='2013-10-01', end='2017-09-21', freq='D')\n",
    "\n",
    "upsampled_election2017_forsa_afd = election2017_forsa_afd['support'].resample('D').first().reindex(t_index_forsa)\n",
    "interpolated_election2017_forsa_afd = upsampled_election2017_forsa_afd.interpolate(how='linear')\n",
    "interpolated_election2017_forsa_afd = interpolated_election2017_forsa_afd.reindex(t_index_final)\n",
    "interpolated_election2017_forsa_afd.tail()"
   ]
  },
  {
   "cell_type": "code",
   "execution_count": 19,
   "metadata": {},
   "outputs": [
    {
     "data": {
      "text/plain": [
       "2017-09-17    11.0\n",
       "2017-09-18    11.0\n",
       "2017-09-19    11.0\n",
       "2017-09-20    11.0\n",
       "2017-09-21    11.0\n",
       "Freq: D, Name: support, dtype: float64"
      ]
     },
     "execution_count": 19,
     "metadata": {},
     "output_type": "execute_result"
    }
   ],
   "source": [
    "#Create upsampled and interpolated data for Emnid in AFD voteshares\n",
    "\n",
    "t_index_emnid = pd.date_range(start='2013-09-29', end='2017-09-21', freq='D')\n",
    "\n",
    "upsampled_election2017_emnid_afd = election2017_emnid_afd['support'].resample('D').first().reindex(t_index_emnid)\n",
    "interpolated_election2017_emnid_afd = upsampled_election2017_emnid_afd.interpolate(how='linear')\n",
    "interpolated_election2017_emnid_afd = interpolated_election2017_emnid_afd.reindex(t_index_final)\n",
    "interpolated_election2017_emnid_afd.tail()"
   ]
  },
  {
   "cell_type": "code",
   "execution_count": 20,
   "metadata": {},
   "outputs": [
    {
     "data": {
      "text/plain": [
       "2017-09-17     9.428571\n",
       "2017-09-18     9.571429\n",
       "2017-09-19     9.714286\n",
       "2017-09-20     9.857143\n",
       "2017-09-21    10.000000\n",
       "Freq: D, Name: support, dtype: float64"
      ]
     },
     "execution_count": 20,
     "metadata": {},
     "output_type": "execute_result"
    }
   ],
   "source": [
    "#Create upsampled and interpolated data for GMS in AFD voteshares\n",
    "\n",
    "t_index_gms = pd.date_range(start='2013-10-15', end='2017-09-21', freq='D')\n",
    "\n",
    "upsampled_election2017_gms_afd = election2017_gms_afd['support'].resample('D').first().reindex(t_index_gms)\n",
    "interpolated_election2017_gms_afd = upsampled_election2017_gms_afd.interpolate(how='linear')\n",
    "interpolated_election2017_gms_afd = interpolated_election2017_gms_afd.reindex(t_index_final)\n",
    "interpolated_election2017_gms_afd.tail()"
   ]
  },
  {
   "cell_type": "code",
   "execution_count": 21,
   "metadata": {},
   "outputs": [
    {
     "data": {
      "text/plain": [
       "2017-09-17     9.428571\n",
       "2017-09-18     9.571429\n",
       "2017-09-19     9.714286\n",
       "2017-09-20     9.857143\n",
       "2017-09-21    10.000000\n",
       "Freq: D, Name: support, dtype: float64"
      ]
     },
     "execution_count": 21,
     "metadata": {},
     "output_type": "execute_result"
    }
   ],
   "source": [
    "#Create upsampled and interpolated data for Infra in AFD voteshares\n",
    "\n",
    "t_index_infra = pd.date_range(start='2013-10-10', end='2017-09-21', freq='D')\n",
    "\n",
    "upsampled_election2017_infra_afd = election2017_infra_afd['support'].resample('D').first().reindex(t_index_infra)\n",
    "interpolated_election2017_infra_afd = upsampled_election2017_infra_afd.interpolate(how='linear')\n",
    "interpolated_election2017_infra_afd = interpolated_election2017_infra_afd.reindex(t_index_final)\n",
    "interpolated_election2017_gms_afd.tail()"
   ]
  },
  {
   "cell_type": "code",
   "execution_count": 22,
   "metadata": {},
   "outputs": [
    {
     "data": {
      "text/plain": [
       "2017-09-17    10.333333\n",
       "2017-09-18    10.500000\n",
       "2017-09-19    10.666667\n",
       "2017-09-20    10.833333\n",
       "2017-09-21    11.000000\n",
       "Freq: D, Name: support, dtype: float64"
      ]
     },
     "execution_count": 22,
     "metadata": {},
     "output_type": "execute_result"
    }
   ],
   "source": [
    "#Create upsampled and interpolated data for Fgruppe in AFD voteshares\n",
    "\n",
    "t_index_fgruppe = pd.date_range(start='2013-09-27', end='2017-09-21', freq='D')\n",
    "\n",
    "upsampled_election2017_fgruppe_afd = election2017_fgruppe_afd['support'].resample('D').first().reindex(t_index_fgruppe)\n",
    "interpolated_election2017_fgruppe_afd = upsampled_election2017_fgruppe_afd.interpolate(how='linear')\n",
    "interpolated_election2017_fgruppe_afd = interpolated_election2017_fgruppe_afd.reindex(t_index_final)\n",
    "interpolated_election2017_fgruppe_afd.tail()"
   ]
  },
  {
   "cell_type": "code",
   "execution_count": 23,
   "metadata": {},
   "outputs": [
    {
     "data": {
      "image/png": "[encoded data removed]",
      "text/plain": [
       "<matplotlib.figure.Figure at 0x1207ea630>"
      ]
     },
     "metadata": {
      "needs_background": "light"
     },
     "output_type": "display_data"
    },
    {
     "data": {
      "text/plain": [
       "<matplotlib.figure.Figure at 0x120ae43c8>"
      ]
     },
     "metadata": {},
     "output_type": "display_data"
    }
   ],
   "source": [
    "interpolated_election2017_allen_afd.plot(label=\"Allensbach\", legend = True)\n",
    "interpolated_election2017_insa_afd.plot(label=\"Insa\", legend = True)\n",
    "interpolated_election2017_forsa_afd.plot(label=\"Forsa\", legend = True)\n",
    "interpolated_election2017_emnid_afd.plot(label=\"Emnid\", legend = True)\n",
    "interpolated_election2017_gms_afd.plot(label=\"GMS\", legend = True)\n",
    "interpolated_election2017_infra_afd.plot(label=\"Infra\", legend = True)\n",
    "interpolated_election2017_fgruppe_afd.plot(label=\"Fgruppe\", legend = True)\n",
    "plt.xlabel(\"Date\")\n",
    "plt.ylabel(\"Voteshares\")\n",
    "plt.title(\"AFD voteshares from polls for 2017 election\")\n",
    "plt.show()\n",
    "plt.clf()"
   ]
  },
  {
   "cell_type": "code",
   "execution_count": 24,
   "metadata": {},
   "outputs": [
    {
     "data": {
      "text/html": [
       "<div>\n",
       "<style scoped>\n",
       "    .dataframe tbody tr th:only-of-type {\n",
       "        vertical-align: middle;\n",
       "    }\n",
       "\n",
       "    .dataframe tbody tr th {\n",
       "        vertical-align: top;\n",
       "    }\n",
       "\n",
       "    .dataframe thead th {\n",
       "        text-align: right;\n",
       "    }\n",
       "</style>\n",
       "<table border=\"1\" class=\"dataframe\">\n",
       "  <thead>\n",
       "    <tr style=\"text-align: right;\">\n",
       "      <th></th>\n",
       "      <th>2013-10-23 00:00:00</th>\n",
       "      <th>2013-10-24 00:00:00</th>\n",
       "      <th>2013-10-25 00:00:00</th>\n",
       "      <th>2013-10-26 00:00:00</th>\n",
       "      <th>2013-10-27 00:00:00</th>\n",
       "      <th>2013-10-28 00:00:00</th>\n",
       "      <th>2013-10-29 00:00:00</th>\n",
       "      <th>2013-10-30 00:00:00</th>\n",
       "      <th>2013-10-31 00:00:00</th>\n",
       "      <th>2013-11-01 00:00:00</th>\n",
       "      <th>...</th>\n",
       "      <th>2017-09-12 00:00:00</th>\n",
       "      <th>2017-09-13 00:00:00</th>\n",
       "      <th>2017-09-14 00:00:00</th>\n",
       "      <th>2017-09-15 00:00:00</th>\n",
       "      <th>2017-09-16 00:00:00</th>\n",
       "      <th>2017-09-17 00:00:00</th>\n",
       "      <th>2017-09-18 00:00:00</th>\n",
       "      <th>2017-09-19 00:00:00</th>\n",
       "      <th>2017-09-20 00:00:00</th>\n",
       "      <th>2017-09-21 00:00:00</th>\n",
       "    </tr>\n",
       "  </thead>\n",
       "  <tbody>\n",
       "    <tr>\n",
       "      <th>support</th>\n",
       "      <td>5.500000</td>\n",
       "      <td>5.485714</td>\n",
       "      <td>5.471429</td>\n",
       "      <td>5.457143</td>\n",
       "      <td>5.442857</td>\n",
       "      <td>5.428571</td>\n",
       "      <td>5.414286</td>\n",
       "      <td>5.400000</td>\n",
       "      <td>5.385714</td>\n",
       "      <td>5.371429</td>\n",
       "      <td>...</td>\n",
       "      <td>8.923077</td>\n",
       "      <td>9.076923</td>\n",
       "      <td>9.230769</td>\n",
       "      <td>9.384615</td>\n",
       "      <td>9.538462</td>\n",
       "      <td>9.692308</td>\n",
       "      <td>9.846154</td>\n",
       "      <td>10.000000</td>\n",
       "      <td>10.000000</td>\n",
       "      <td>10.0</td>\n",
       "    </tr>\n",
       "    <tr>\n",
       "      <th>support</th>\n",
       "      <td>4.111111</td>\n",
       "      <td>4.166667</td>\n",
       "      <td>4.222222</td>\n",
       "      <td>4.277778</td>\n",
       "      <td>4.333333</td>\n",
       "      <td>4.388889</td>\n",
       "      <td>4.444444</td>\n",
       "      <td>4.500000</td>\n",
       "      <td>4.428571</td>\n",
       "      <td>4.357143</td>\n",
       "      <td>...</td>\n",
       "      <td>11.000000</td>\n",
       "      <td>11.000000</td>\n",
       "      <td>11.000000</td>\n",
       "      <td>11.000000</td>\n",
       "      <td>11.000000</td>\n",
       "      <td>11.000000</td>\n",
       "      <td>11.000000</td>\n",
       "      <td>11.000000</td>\n",
       "      <td>11.000000</td>\n",
       "      <td>11.0</td>\n",
       "    </tr>\n",
       "    <tr>\n",
       "      <th>support</th>\n",
       "      <td>5.000000</td>\n",
       "      <td>5.000000</td>\n",
       "      <td>5.000000</td>\n",
       "      <td>5.000000</td>\n",
       "      <td>5.000000</td>\n",
       "      <td>5.000000</td>\n",
       "      <td>5.000000</td>\n",
       "      <td>5.000000</td>\n",
       "      <td>5.000000</td>\n",
       "      <td>5.000000</td>\n",
       "      <td>...</td>\n",
       "      <td>9.000000</td>\n",
       "      <td>9.000000</td>\n",
       "      <td>9.000000</td>\n",
       "      <td>9.000000</td>\n",
       "      <td>9.000000</td>\n",
       "      <td>9.000000</td>\n",
       "      <td>9.000000</td>\n",
       "      <td>9.000000</td>\n",
       "      <td>9.000000</td>\n",
       "      <td>9.0</td>\n",
       "    </tr>\n",
       "    <tr>\n",
       "      <th>support</th>\n",
       "      <td>5.000000</td>\n",
       "      <td>5.000000</td>\n",
       "      <td>5.000000</td>\n",
       "      <td>5.000000</td>\n",
       "      <td>5.000000</td>\n",
       "      <td>5.000000</td>\n",
       "      <td>5.000000</td>\n",
       "      <td>5.000000</td>\n",
       "      <td>5.000000</td>\n",
       "      <td>5.000000</td>\n",
       "      <td>...</td>\n",
       "      <td>9.857143</td>\n",
       "      <td>10.142857</td>\n",
       "      <td>10.428571</td>\n",
       "      <td>10.714286</td>\n",
       "      <td>11.000000</td>\n",
       "      <td>11.000000</td>\n",
       "      <td>11.000000</td>\n",
       "      <td>11.000000</td>\n",
       "      <td>11.000000</td>\n",
       "      <td>11.0</td>\n",
       "    </tr>\n",
       "    <tr>\n",
       "      <th>support</th>\n",
       "      <td>5.771429</td>\n",
       "      <td>5.742857</td>\n",
       "      <td>5.714286</td>\n",
       "      <td>5.685714</td>\n",
       "      <td>5.657143</td>\n",
       "      <td>5.628571</td>\n",
       "      <td>5.600000</td>\n",
       "      <td>5.571429</td>\n",
       "      <td>5.542857</td>\n",
       "      <td>5.514286</td>\n",
       "      <td>...</td>\n",
       "      <td>8.714286</td>\n",
       "      <td>8.857143</td>\n",
       "      <td>9.000000</td>\n",
       "      <td>9.142857</td>\n",
       "      <td>9.285714</td>\n",
       "      <td>9.428571</td>\n",
       "      <td>9.571429</td>\n",
       "      <td>9.714286</td>\n",
       "      <td>9.857143</td>\n",
       "      <td>10.0</td>\n",
       "    </tr>\n",
       "  </tbody>\n",
       "</table>\n",
       "<p>5 rows × 1430 columns</p>\n",
       "</div>"
      ],
      "text/plain": [
       "         2013-10-23  2013-10-24  2013-10-25  2013-10-26  2013-10-27  \\\n",
       "support    5.500000    5.485714    5.471429    5.457143    5.442857   \n",
       "support    4.111111    4.166667    4.222222    4.277778    4.333333   \n",
       "support    5.000000    5.000000    5.000000    5.000000    5.000000   \n",
       "support    5.000000    5.000000    5.000000    5.000000    5.000000   \n",
       "support    5.771429    5.742857    5.714286    5.685714    5.657143   \n",
       "\n",
       "         2013-10-28  2013-10-29  2013-10-30  2013-10-31  2013-11-01  ...  \\\n",
       "support    5.428571    5.414286    5.400000    5.385714    5.371429  ...   \n",
       "support    4.388889    4.444444    4.500000    4.428571    4.357143  ...   \n",
       "support    5.000000    5.000000    5.000000    5.000000    5.000000  ...   \n",
       "support    5.000000    5.000000    5.000000    5.000000    5.000000  ...   \n",
       "support    5.628571    5.600000    5.571429    5.542857    5.514286  ...   \n",
       "\n",
       "         2017-09-12  2017-09-13  2017-09-14  2017-09-15  2017-09-16  \\\n",
       "support    8.923077    9.076923    9.230769    9.384615    9.538462   \n",
       "support   11.000000   11.000000   11.000000   11.000000   11.000000   \n",
       "support    9.000000    9.000000    9.000000    9.000000    9.000000   \n",
       "support    9.857143   10.142857   10.428571   10.714286   11.000000   \n",
       "support    8.714286    8.857143    9.000000    9.142857    9.285714   \n",
       "\n",
       "         2017-09-17  2017-09-18  2017-09-19  2017-09-20  2017-09-21  \n",
       "support    9.692308    9.846154   10.000000   10.000000        10.0  \n",
       "support   11.000000   11.000000   11.000000   11.000000        11.0  \n",
       "support    9.000000    9.000000    9.000000    9.000000         9.0  \n",
       "support   11.000000   11.000000   11.000000   11.000000        11.0  \n",
       "support    9.428571    9.571429    9.714286    9.857143        10.0  \n",
       "\n",
       "[5 rows x 1430 columns]"
      ]
     },
     "execution_count": 24,
     "metadata": {},
     "output_type": "execute_result"
    }
   ],
   "source": [
    "#Create new dataframe with all new time-series from 7 institutions\n",
    "\n",
    "frames_afd = [interpolated_election2017_allen_afd, interpolated_election2017_insa_afd, \n",
    "         interpolated_election2017_forsa_afd, interpolated_election2017_emnid_afd,\n",
    "         interpolated_election2017_gms_afd, interpolated_election2017_infra_afd, \n",
    "         interpolated_election2017_fgruppe_afd]\n",
    "\n",
    "result_afd = pd.concat(frames_afd, axis=1)\n",
    "final_result_afd = result_afd.T\n",
    "final_result_afd.head()"
   ]
  },
  {
   "cell_type": "markdown",
   "metadata": {},
   "source": [
    "## MODELLING FOR AFD"
   ]
  },
  {
   "cell_type": "code",
   "execution_count": 25,
   "metadata": {},
   "outputs": [],
   "source": [
    "#import libraries \n",
    "\n",
    "import talib\n",
    "import numpy as np\n",
    "from sklearn.metrics import mean_squared_log_error\n",
    "from sklearn.ensemble import RandomForestRegressor\n"
   ]
  },
  {
   "cell_type": "markdown",
   "metadata": {},
   "source": [
    "##### Correlations\n",
    "Correlations are nice to check out before building machine learning models, because we can see which features correlate to the target most strongly. Pearson's correlation coefficient is often used, which only detects linear relationships. It's commonly assumed our data is normally distributed, which we can \"eyeball\" from histograms. Highly correlated variables have a Pearson correlation coefficient near 1 (positively correlated) or -1 (negatively correlated). A value near 0 means the two variables are not linearly correlated.\n",
    "\n",
    "If we use the same time periods for previous voteshares changes and future voteshares changes, we can see if the vote share is mean-reverting (bounces around) or trend-following (goes up if it has been going up recently)."
   ]
  },
  {
   "cell_type": "code",
   "execution_count": 26,
   "metadata": {},
   "outputs": [
    {
     "data": {
      "text/html": [
       "<div>\n",
       "<style scoped>\n",
       "    .dataframe tbody tr th:only-of-type {\n",
       "        vertical-align: middle;\n",
       "    }\n",
       "\n",
       "    .dataframe tbody tr th {\n",
       "        vertical-align: top;\n",
       "    }\n",
       "\n",
       "    .dataframe thead th {\n",
       "        text-align: right;\n",
       "    }\n",
       "</style>\n",
       "<table border=\"1\" class=\"dataframe\">\n",
       "  <thead>\n",
       "    <tr style=\"text-align: right;\">\n",
       "      <th></th>\n",
       "      <th>support</th>\n",
       "    </tr>\n",
       "  </thead>\n",
       "  <tbody>\n",
       "    <tr>\n",
       "      <th>2017-09-17</th>\n",
       "      <td>9.692308</td>\n",
       "    </tr>\n",
       "    <tr>\n",
       "      <th>2017-09-18</th>\n",
       "      <td>9.846154</td>\n",
       "    </tr>\n",
       "    <tr>\n",
       "      <th>2017-09-19</th>\n",
       "      <td>10.000000</td>\n",
       "    </tr>\n",
       "    <tr>\n",
       "      <th>2017-09-20</th>\n",
       "      <td>10.000000</td>\n",
       "    </tr>\n",
       "    <tr>\n",
       "      <th>2017-09-21</th>\n",
       "      <td>10.000000</td>\n",
       "    </tr>\n",
       "  </tbody>\n",
       "</table>\n",
       "</div>"
      ],
      "text/plain": [
       "              support\n",
       "2017-09-17   9.692308\n",
       "2017-09-18   9.846154\n",
       "2017-09-19  10.000000\n",
       "2017-09-20  10.000000\n",
       "2017-09-21  10.000000"
      ]
     },
     "execution_count": 26,
     "metadata": {},
     "output_type": "execute_result"
    }
   ],
   "source": [
    "#Create dataframe from interpolated allensbach data for AFD\n",
    "\n",
    "df_2017_allen_afd = interpolated_election2017_allen_afd.to_frame()\n",
    "df_2017_allen_afd.tail()"
   ]
  },
  {
   "cell_type": "code",
   "execution_count": 27,
   "metadata": {},
   "outputs": [],
   "source": [
    "# Create 5-day % changes of Adj_Close for the current day, and 5 days in the future\n",
    "\n",
    "df_2017_allen_afd['5d_future_close'] = df_2017_allen_afd['support'].shift(-5)\n",
    "df_2017_allen_afd['5d_close_future_pct'] = df_2017_allen_afd['5d_future_close'].pct_change(5)\n",
    "df_2017_allen_afd['5d_close_pct'] = df_2017_allen_afd['support'].pct_change(5)"
   ]
  },
  {
   "cell_type": "code",
   "execution_count": 28,
   "metadata": {},
   "outputs": [
    {
     "data": {
      "text/html": [
       "<div>\n",
       "<style scoped>\n",
       "    .dataframe tbody tr th:only-of-type {\n",
       "        vertical-align: middle;\n",
       "    }\n",
       "\n",
       "    .dataframe tbody tr th {\n",
       "        vertical-align: top;\n",
       "    }\n",
       "\n",
       "    .dataframe thead th {\n",
       "        text-align: right;\n",
       "    }\n",
       "</style>\n",
       "<table border=\"1\" class=\"dataframe\">\n",
       "  <thead>\n",
       "    <tr style=\"text-align: right;\">\n",
       "      <th></th>\n",
       "      <th>support</th>\n",
       "      <th>5d_future_close</th>\n",
       "      <th>5d_close_future_pct</th>\n",
       "      <th>5d_close_pct</th>\n",
       "    </tr>\n",
       "  </thead>\n",
       "  <tbody>\n",
       "    <tr>\n",
       "      <th>2013-10-23</th>\n",
       "      <td>5.500000</td>\n",
       "      <td>5.428571</td>\n",
       "      <td>NaN</td>\n",
       "      <td>NaN</td>\n",
       "    </tr>\n",
       "    <tr>\n",
       "      <th>2013-10-24</th>\n",
       "      <td>5.485714</td>\n",
       "      <td>5.414286</td>\n",
       "      <td>NaN</td>\n",
       "      <td>NaN</td>\n",
       "    </tr>\n",
       "    <tr>\n",
       "      <th>2013-10-25</th>\n",
       "      <td>5.471429</td>\n",
       "      <td>5.400000</td>\n",
       "      <td>NaN</td>\n",
       "      <td>NaN</td>\n",
       "    </tr>\n",
       "    <tr>\n",
       "      <th>2013-10-26</th>\n",
       "      <td>5.457143</td>\n",
       "      <td>5.385714</td>\n",
       "      <td>NaN</td>\n",
       "      <td>NaN</td>\n",
       "    </tr>\n",
       "    <tr>\n",
       "      <th>2013-10-27</th>\n",
       "      <td>5.442857</td>\n",
       "      <td>5.371429</td>\n",
       "      <td>NaN</td>\n",
       "      <td>NaN</td>\n",
       "    </tr>\n",
       "    <tr>\n",
       "      <th>2013-10-28</th>\n",
       "      <td>5.428571</td>\n",
       "      <td>5.357143</td>\n",
       "      <td>-0.013158</td>\n",
       "      <td>-0.012987</td>\n",
       "    </tr>\n",
       "    <tr>\n",
       "      <th>2013-10-29</th>\n",
       "      <td>5.414286</td>\n",
       "      <td>5.342857</td>\n",
       "      <td>-0.013193</td>\n",
       "      <td>-0.013021</td>\n",
       "    </tr>\n",
       "    <tr>\n",
       "      <th>2013-10-30</th>\n",
       "      <td>5.400000</td>\n",
       "      <td>5.328571</td>\n",
       "      <td>-0.013228</td>\n",
       "      <td>-0.013055</td>\n",
       "    </tr>\n",
       "    <tr>\n",
       "      <th>2013-10-31</th>\n",
       "      <td>5.385714</td>\n",
       "      <td>5.314286</td>\n",
       "      <td>-0.013263</td>\n",
       "      <td>-0.013089</td>\n",
       "    </tr>\n",
       "    <tr>\n",
       "      <th>2013-11-01</th>\n",
       "      <td>5.371429</td>\n",
       "      <td>5.300000</td>\n",
       "      <td>-0.013298</td>\n",
       "      <td>-0.013123</td>\n",
       "    </tr>\n",
       "  </tbody>\n",
       "</table>\n",
       "</div>"
      ],
      "text/plain": [
       "             support  5d_future_close  5d_close_future_pct  5d_close_pct\n",
       "2013-10-23  5.500000         5.428571                  NaN           NaN\n",
       "2013-10-24  5.485714         5.414286                  NaN           NaN\n",
       "2013-10-25  5.471429         5.400000                  NaN           NaN\n",
       "2013-10-26  5.457143         5.385714                  NaN           NaN\n",
       "2013-10-27  5.442857         5.371429                  NaN           NaN\n",
       "2013-10-28  5.428571         5.357143            -0.013158     -0.012987\n",
       "2013-10-29  5.414286         5.342857            -0.013193     -0.013021\n",
       "2013-10-30  5.400000         5.328571            -0.013228     -0.013055\n",
       "2013-10-31  5.385714         5.314286            -0.013263     -0.013089\n",
       "2013-11-01  5.371429         5.300000            -0.013298     -0.013123"
      ]
     },
     "execution_count": 28,
     "metadata": {},
     "output_type": "execute_result"
    }
   ],
   "source": [
    "#look at the new dataframe\n",
    "\n",
    "df_2017_allen_afd.head(10)"
   ]
  },
  {
   "cell_type": "code",
   "execution_count": 29,
   "metadata": {},
   "outputs": [
    {
     "name": "stdout",
     "output_type": "stream",
     "text": [
      "                     5d_close_pct  5d_close_future_pct\n",
      "5d_close_pct             1.000000             0.874558\n",
      "5d_close_future_pct      0.874558             1.000000\n"
     ]
    }
   ],
   "source": [
    "# Calculate the correlation matrix between the 5d close pecentage changes (current and future)\n",
    "\n",
    "corr = df_2017_allen_afd[['5d_close_pct', '5d_close_future_pct']].corr()\n",
    "print(corr)"
   ]
  },
  {
   "cell_type": "code",
   "execution_count": 30,
   "metadata": {},
   "outputs": [
    {
     "data": {
      "image/png": "[encoded data removed]",
      "text/plain": [
       "<matplotlib.figure.Figure at 0x1242e29e8>"
      ]
     },
     "metadata": {
      "needs_background": "light"
     },
     "output_type": "display_data"
    }
   ],
   "source": [
    "# Scatter the current 5-day percent change vs the future 5-day percent change\n",
    "plt.scatter(df_2017_allen_afd['5d_close_pct'], df_2017_allen_afd['5d_close_future_pct'])\n",
    "plt.show()"
   ]
  },
  {
   "cell_type": "markdown",
   "metadata": {},
   "source": [
    "#### Create moving average and RSI features\n",
    "\n",
    "We want to add historical data to our machine learning models to make better predictions, but adding lots of historical time steps is tricky. Instead, we can condense information from previous points into a single timestep with indicators.\n",
    "\n",
    "A moving average is one of the simplest indicators - it's the average of previous data points. This is the function talib.SMA() from the TAlib library.\n",
    "\n",
    "Another common technical indicator is the relative strength index (RSI). This is defined by:\n",
    "\n",
    "RSI=100−1001+RS\n",
    "RS=average gain over n periodsaverage loss over n periods\n",
    "The n periods is set in talib.RSI() as the timeperiod argument.\n",
    "\n",
    "A common period for RSI is 14, so we'll use that as one setting in our calculations.\n"
   ]
  },
  {
   "cell_type": "code",
   "execution_count": 31,
   "metadata": {},
   "outputs": [
    {
     "name": "stdout",
     "output_type": "stream",
     "text": [
      "['5d_close_pct', 'ma3', 'rsi3', 'ma14', 'rsi14', 'ma30', 'rsi30', 'ma50', 'rsi50', 'ma200', 'rsi200']\n"
     ]
    }
   ],
   "source": [
    "feature_names = ['5d_close_pct']  # a list of the feature names for later\n",
    "\n",
    "# Create moving averages and rsi for timeperiods of 14, 30, 50, and 200\n",
    "for n in [3, 14, 30, 50, 200]:\n",
    "\n",
    "    # Create the moving average indicator and divide by Adj_Close\n",
    "    df_2017_allen_afd['ma' + str(n)] = talib.SMA(df_2017_allen_afd['support'].values,\n",
    "                              timeperiod=n) / df_2017_allen_afd['support']\n",
    "    # Create the RSI indicator\n",
    "    df_2017_allen_afd['rsi' + str(n)] = talib.RSI(df_2017_allen_afd['support'].values, timeperiod=n)\n",
    "    \n",
    "    # Add rsi and moving average to the feature name list\n",
    "    feature_names = feature_names + ['ma' + str(n), 'rsi' + str(n)]\n",
    "print(feature_names)"
   ]
  },
  {
   "cell_type": "code",
   "execution_count": 42,
   "metadata": {},
   "outputs": [
    {
     "data": {
      "text/html": [
       "<div>\n",
       "<style scoped>\n",
       "    .dataframe tbody tr th:only-of-type {\n",
       "        vertical-align: middle;\n",
       "    }\n",
       "\n",
       "    .dataframe tbody tr th {\n",
       "        vertical-align: top;\n",
       "    }\n",
       "\n",
       "    .dataframe thead th {\n",
       "        text-align: right;\n",
       "    }\n",
       "</style>\n",
       "<table border=\"1\" class=\"dataframe\">\n",
       "  <thead>\n",
       "    <tr style=\"text-align: right;\">\n",
       "      <th></th>\n",
       "      <th>support</th>\n",
       "      <th>5d_future_close</th>\n",
       "      <th>5d_close_future_pct</th>\n",
       "      <th>5d_close_pct</th>\n",
       "      <th>ma3</th>\n",
       "      <th>rsi3</th>\n",
       "      <th>ma14</th>\n",
       "      <th>rsi14</th>\n",
       "      <th>ma30</th>\n",
       "      <th>rsi30</th>\n",
       "      <th>ma50</th>\n",
       "      <th>rsi50</th>\n",
       "      <th>ma200</th>\n",
       "      <th>rsi200</th>\n",
       "    </tr>\n",
       "  </thead>\n",
       "  <tbody>\n",
       "    <tr>\n",
       "      <th>2014-05-11</th>\n",
       "      <td>5.446429</td>\n",
       "      <td>5.527027</td>\n",
       "      <td>0.014798</td>\n",
       "      <td>0.016667</td>\n",
       "      <td>0.996721</td>\n",
       "      <td>100.0</td>\n",
       "      <td>0.978689</td>\n",
       "      <td>99.996505</td>\n",
       "      <td>0.953552</td>\n",
       "      <td>98.619738</td>\n",
       "      <td>0.939344</td>\n",
       "      <td>89.042951</td>\n",
       "      <td>0.916705</td>\n",
       "      <td>48.623853</td>\n",
       "    </tr>\n",
       "    <tr>\n",
       "      <th>2014-05-12</th>\n",
       "      <td>5.464286</td>\n",
       "      <td>5.540541</td>\n",
       "      <td>0.013955</td>\n",
       "      <td>0.016611</td>\n",
       "      <td>0.996732</td>\n",
       "      <td>100.0</td>\n",
       "      <td>0.978758</td>\n",
       "      <td>99.996797</td>\n",
       "      <td>0.953268</td>\n",
       "      <td>98.695239</td>\n",
       "      <td>0.937974</td>\n",
       "      <td>89.472352</td>\n",
       "      <td>0.913690</td>\n",
       "      <td>49.093235</td>\n",
       "    </tr>\n",
       "    <tr>\n",
       "      <th>2014-05-13</th>\n",
       "      <td>5.482143</td>\n",
       "      <td>5.554054</td>\n",
       "      <td>0.013117</td>\n",
       "      <td>0.016556</td>\n",
       "      <td>0.996743</td>\n",
       "      <td>100.0</td>\n",
       "      <td>0.978827</td>\n",
       "      <td>99.997062</td>\n",
       "      <td>0.953094</td>\n",
       "      <td>98.765118</td>\n",
       "      <td>0.936678</td>\n",
       "      <td>89.877156</td>\n",
       "      <td>0.910723</td>\n",
       "      <td>49.556412</td>\n",
       "    </tr>\n",
       "    <tr>\n",
       "      <th>2014-05-14</th>\n",
       "      <td>5.500000</td>\n",
       "      <td>5.567568</td>\n",
       "      <td>0.012285</td>\n",
       "      <td>0.016502</td>\n",
       "      <td>0.996753</td>\n",
       "      <td>100.0</td>\n",
       "      <td>0.978896</td>\n",
       "      <td>99.997302</td>\n",
       "      <td>0.953030</td>\n",
       "      <td>98.829942</td>\n",
       "      <td>0.935455</td>\n",
       "      <td>90.259344</td>\n",
       "      <td>0.907805</td>\n",
       "      <td>50.013502</td>\n",
       "    </tr>\n",
       "    <tr>\n",
       "      <th>2014-05-15</th>\n",
       "      <td>5.513514</td>\n",
       "      <td>5.581081</td>\n",
       "      <td>0.012255</td>\n",
       "      <td>0.015647</td>\n",
       "      <td>0.997286</td>\n",
       "      <td>100.0</td>\n",
       "      <td>0.979679</td>\n",
       "      <td>99.997470</td>\n",
       "      <td>0.953799</td>\n",
       "      <td>98.876128</td>\n",
       "      <td>0.935025</td>\n",
       "      <td>90.535282</td>\n",
       "      <td>0.905644</td>\n",
       "      <td>50.355638</td>\n",
       "    </tr>\n",
       "    <tr>\n",
       "      <th>2014-05-16</th>\n",
       "      <td>5.527027</td>\n",
       "      <td>5.594595</td>\n",
       "      <td>0.012225</td>\n",
       "      <td>0.014798</td>\n",
       "      <td>0.997555</td>\n",
       "      <td>100.0</td>\n",
       "      <td>0.980403</td>\n",
       "      <td>99.997629</td>\n",
       "      <td>0.954645</td>\n",
       "      <td>98.920221</td>\n",
       "      <td>0.934645</td>\n",
       "      <td>90.801188</td>\n",
       "      <td>0.903519</td>\n",
       "      <td>50.694806</td>\n",
       "    </tr>\n",
       "    <tr>\n",
       "      <th>2014-05-17</th>\n",
       "      <td>5.540541</td>\n",
       "      <td>5.608108</td>\n",
       "      <td>0.012195</td>\n",
       "      <td>0.013955</td>\n",
       "      <td>0.997561</td>\n",
       "      <td>100.0</td>\n",
       "      <td>0.981066</td>\n",
       "      <td>99.997780</td>\n",
       "      <td>0.955462</td>\n",
       "      <td>98.962335</td>\n",
       "      <td>0.934317</td>\n",
       "      <td>91.057549</td>\n",
       "      <td>0.901429</td>\n",
       "      <td>51.031041</td>\n",
       "    </tr>\n",
       "    <tr>\n",
       "      <th>2014-05-18</th>\n",
       "      <td>5.554054</td>\n",
       "      <td>5.621622</td>\n",
       "      <td>0.012165</td>\n",
       "      <td>0.013117</td>\n",
       "      <td>0.997567</td>\n",
       "      <td>100.0</td>\n",
       "      <td>0.981671</td>\n",
       "      <td>99.997922</td>\n",
       "      <td>0.956248</td>\n",
       "      <td>99.002578</td>\n",
       "      <td>0.934039</td>\n",
       "      <td>91.304820</td>\n",
       "      <td>0.899375</td>\n",
       "      <td>51.364377</td>\n",
       "    </tr>\n",
       "    <tr>\n",
       "      <th>2014-05-19</th>\n",
       "      <td>5.567568</td>\n",
       "      <td>5.635135</td>\n",
       "      <td>0.012136</td>\n",
       "      <td>0.012285</td>\n",
       "      <td>0.997573</td>\n",
       "      <td>100.0</td>\n",
       "      <td>0.982217</td>\n",
       "      <td>99.998056</td>\n",
       "      <td>0.957004</td>\n",
       "      <td>99.041051</td>\n",
       "      <td>0.933811</td>\n",
       "      <td>91.543427</td>\n",
       "      <td>0.897355</td>\n",
       "      <td>51.694847</td>\n",
       "    </tr>\n",
       "    <tr>\n",
       "      <th>2014-05-20</th>\n",
       "      <td>5.581081</td>\n",
       "      <td>5.648649</td>\n",
       "      <td>0.012107</td>\n",
       "      <td>0.012255</td>\n",
       "      <td>0.997579</td>\n",
       "      <td>100.0</td>\n",
       "      <td>0.982705</td>\n",
       "      <td>99.998182</td>\n",
       "      <td>0.957731</td>\n",
       "      <td>99.077847</td>\n",
       "      <td>0.933632</td>\n",
       "      <td>91.773773</td>\n",
       "      <td>0.895370</td>\n",
       "      <td>52.022483</td>\n",
       "    </tr>\n",
       "    <tr>\n",
       "      <th>2014-05-21</th>\n",
       "      <td>5.594595</td>\n",
       "      <td>5.662162</td>\n",
       "      <td>0.012077</td>\n",
       "      <td>0.012225</td>\n",
       "      <td>0.997585</td>\n",
       "      <td>100.0</td>\n",
       "      <td>0.983135</td>\n",
       "      <td>99.998301</td>\n",
       "      <td>0.958428</td>\n",
       "      <td>99.113054</td>\n",
       "      <td>0.933502</td>\n",
       "      <td>91.996234</td>\n",
       "      <td>0.893420</td>\n",
       "      <td>52.347318</td>\n",
       "    </tr>\n",
       "    <tr>\n",
       "      <th>2014-05-22</th>\n",
       "      <td>5.608108</td>\n",
       "      <td>5.675676</td>\n",
       "      <td>0.012048</td>\n",
       "      <td>0.012195</td>\n",
       "      <td>0.997590</td>\n",
       "      <td>100.0</td>\n",
       "      <td>0.983507</td>\n",
       "      <td>99.998413</td>\n",
       "      <td>0.959096</td>\n",
       "      <td>99.146753</td>\n",
       "      <td>0.933422</td>\n",
       "      <td>92.211166</td>\n",
       "      <td>0.891503</td>\n",
       "      <td>52.669383</td>\n",
       "    </tr>\n",
       "    <tr>\n",
       "      <th>2014-05-23</th>\n",
       "      <td>5.621622</td>\n",
       "      <td>5.689189</td>\n",
       "      <td>0.012019</td>\n",
       "      <td>0.012165</td>\n",
       "      <td>0.997596</td>\n",
       "      <td>100.0</td>\n",
       "      <td>0.983823</td>\n",
       "      <td>99.998518</td>\n",
       "      <td>0.959736</td>\n",
       "      <td>99.179022</td>\n",
       "      <td>0.933389</td>\n",
       "      <td>92.418902</td>\n",
       "      <td>0.889621</td>\n",
       "      <td>52.988710</td>\n",
       "    </tr>\n",
       "    <tr>\n",
       "      <th>2014-05-24</th>\n",
       "      <td>5.635135</td>\n",
       "      <td>5.702703</td>\n",
       "      <td>0.011990</td>\n",
       "      <td>0.012136</td>\n",
       "      <td>0.997602</td>\n",
       "      <td>100.0</td>\n",
       "      <td>0.984082</td>\n",
       "      <td>99.998616</td>\n",
       "      <td>0.960346</td>\n",
       "      <td>99.209932</td>\n",
       "      <td>0.933405</td>\n",
       "      <td>92.619757</td>\n",
       "      <td>0.887772</td>\n",
       "      <td>53.305330</td>\n",
       "    </tr>\n",
       "    <tr>\n",
       "      <th>2014-05-25</th>\n",
       "      <td>5.648649</td>\n",
       "      <td>5.716216</td>\n",
       "      <td>0.011962</td>\n",
       "      <td>0.012107</td>\n",
       "      <td>0.997608</td>\n",
       "      <td>100.0</td>\n",
       "      <td>0.984285</td>\n",
       "      <td>99.998709</td>\n",
       "      <td>0.960928</td>\n",
       "      <td>99.239550</td>\n",
       "      <td>0.933469</td>\n",
       "      <td>92.814030</td>\n",
       "      <td>0.885957</td>\n",
       "      <td>53.619272</td>\n",
       "    </tr>\n",
       "    <tr>\n",
       "      <th>2014-05-26</th>\n",
       "      <td>5.662162</td>\n",
       "      <td>5.729730</td>\n",
       "      <td>0.011933</td>\n",
       "      <td>0.012077</td>\n",
       "      <td>0.997613</td>\n",
       "      <td>100.0</td>\n",
       "      <td>0.984432</td>\n",
       "      <td>99.998795</td>\n",
       "      <td>0.961481</td>\n",
       "      <td>99.267939</td>\n",
       "      <td>0.933580</td>\n",
       "      <td>93.001999</td>\n",
       "      <td>0.884175</td>\n",
       "      <td>53.930567</td>\n",
       "    </tr>\n",
       "    <tr>\n",
       "      <th>2014-05-27</th>\n",
       "      <td>5.675676</td>\n",
       "      <td>5.743243</td>\n",
       "      <td>0.011905</td>\n",
       "      <td>0.012048</td>\n",
       "      <td>0.997619</td>\n",
       "      <td>100.0</td>\n",
       "      <td>0.984524</td>\n",
       "      <td>99.998877</td>\n",
       "      <td>0.962007</td>\n",
       "      <td>99.295160</td>\n",
       "      <td>0.933738</td>\n",
       "      <td>93.183932</td>\n",
       "      <td>0.882426</td>\n",
       "      <td>54.239245</td>\n",
       "    </tr>\n",
       "    <tr>\n",
       "      <th>2014-05-28</th>\n",
       "      <td>5.689189</td>\n",
       "      <td>5.756757</td>\n",
       "      <td>0.011876</td>\n",
       "      <td>0.012019</td>\n",
       "      <td>0.997625</td>\n",
       "      <td>100.0</td>\n",
       "      <td>0.984561</td>\n",
       "      <td>99.998953</td>\n",
       "      <td>0.962504</td>\n",
       "      <td>99.321269</td>\n",
       "      <td>0.933943</td>\n",
       "      <td>93.360078</td>\n",
       "      <td>0.880710</td>\n",
       "      <td>54.545334</td>\n",
       "    </tr>\n",
       "    <tr>\n",
       "      <th>2014-05-29</th>\n",
       "      <td>5.702703</td>\n",
       "      <td>5.770270</td>\n",
       "      <td>0.011848</td>\n",
       "      <td>0.011990</td>\n",
       "      <td>0.997630</td>\n",
       "      <td>100.0</td>\n",
       "      <td>0.984597</td>\n",
       "      <td>99.999024</td>\n",
       "      <td>0.962974</td>\n",
       "      <td>99.346317</td>\n",
       "      <td>0.934194</td>\n",
       "      <td>93.530676</td>\n",
       "      <td>0.879026</td>\n",
       "      <td>54.848863</td>\n",
       "    </tr>\n",
       "    <tr>\n",
       "      <th>2014-05-30</th>\n",
       "      <td>5.716216</td>\n",
       "      <td>5.783784</td>\n",
       "      <td>0.011820</td>\n",
       "      <td>0.011962</td>\n",
       "      <td>0.997636</td>\n",
       "      <td>100.0</td>\n",
       "      <td>0.984634</td>\n",
       "      <td>99.999090</td>\n",
       "      <td>0.963416</td>\n",
       "      <td>99.370355</td>\n",
       "      <td>0.934492</td>\n",
       "      <td>93.695949</td>\n",
       "      <td>0.877374</td>\n",
       "      <td>55.149860</td>\n",
       "    </tr>\n",
       "  </tbody>\n",
       "</table>\n",
       "</div>"
      ],
      "text/plain": [
       "             support  5d_future_close  5d_close_future_pct  5d_close_pct  \\\n",
       "2014-05-11  5.446429         5.527027             0.014798      0.016667   \n",
       "2014-05-12  5.464286         5.540541             0.013955      0.016611   \n",
       "2014-05-13  5.482143         5.554054             0.013117      0.016556   \n",
       "2014-05-14  5.500000         5.567568             0.012285      0.016502   \n",
       "2014-05-15  5.513514         5.581081             0.012255      0.015647   \n",
       "2014-05-16  5.527027         5.594595             0.012225      0.014798   \n",
       "2014-05-17  5.540541         5.608108             0.012195      0.013955   \n",
       "2014-05-18  5.554054         5.621622             0.012165      0.013117   \n",
       "2014-05-19  5.567568         5.635135             0.012136      0.012285   \n",
       "2014-05-20  5.581081         5.648649             0.012107      0.012255   \n",
       "2014-05-21  5.594595         5.662162             0.012077      0.012225   \n",
       "2014-05-22  5.608108         5.675676             0.012048      0.012195   \n",
       "2014-05-23  5.621622         5.689189             0.012019      0.012165   \n",
       "2014-05-24  5.635135         5.702703             0.011990      0.012136   \n",
       "2014-05-25  5.648649         5.716216             0.011962      0.012107   \n",
       "2014-05-26  5.662162         5.729730             0.011933      0.012077   \n",
       "2014-05-27  5.675676         5.743243             0.011905      0.012048   \n",
       "2014-05-28  5.689189         5.756757             0.011876      0.012019   \n",
       "2014-05-29  5.702703         5.770270             0.011848      0.011990   \n",
       "2014-05-30  5.716216         5.783784             0.011820      0.011962   \n",
       "\n",
       "                 ma3   rsi3      ma14      rsi14      ma30      rsi30  \\\n",
       "2014-05-11  0.996721  100.0  0.978689  99.996505  0.953552  98.619738   \n",
       "2014-05-12  0.996732  100.0  0.978758  99.996797  0.953268  98.695239   \n",
       "2014-05-13  0.996743  100.0  0.978827  99.997062  0.953094  98.765118   \n",
       "2014-05-14  0.996753  100.0  0.978896  99.997302  0.953030  98.829942   \n",
       "2014-05-15  0.997286  100.0  0.979679  99.997470  0.953799  98.876128   \n",
       "2014-05-16  0.997555  100.0  0.980403  99.997629  0.954645  98.920221   \n",
       "2014-05-17  0.997561  100.0  0.981066  99.997780  0.955462  98.962335   \n",
       "2014-05-18  0.997567  100.0  0.981671  99.997922  0.956248  99.002578   \n",
       "2014-05-19  0.997573  100.0  0.982217  99.998056  0.957004  99.041051   \n",
       "2014-05-20  0.997579  100.0  0.982705  99.998182  0.957731  99.077847   \n",
       "2014-05-21  0.997585  100.0  0.983135  99.998301  0.958428  99.113054   \n",
       "2014-05-22  0.997590  100.0  0.983507  99.998413  0.959096  99.146753   \n",
       "2014-05-23  0.997596  100.0  0.983823  99.998518  0.959736  99.179022   \n",
       "2014-05-24  0.997602  100.0  0.984082  99.998616  0.960346  99.209932   \n",
       "2014-05-25  0.997608  100.0  0.984285  99.998709  0.960928  99.239550   \n",
       "2014-05-26  0.997613  100.0  0.984432  99.998795  0.961481  99.267939   \n",
       "2014-05-27  0.997619  100.0  0.984524  99.998877  0.962007  99.295160   \n",
       "2014-05-28  0.997625  100.0  0.984561  99.998953  0.962504  99.321269   \n",
       "2014-05-29  0.997630  100.0  0.984597  99.999024  0.962974  99.346317   \n",
       "2014-05-30  0.997636  100.0  0.984634  99.999090  0.963416  99.370355   \n",
       "\n",
       "                ma50      rsi50     ma200     rsi200  \n",
       "2014-05-11  0.939344  89.042951  0.916705  48.623853  \n",
       "2014-05-12  0.937974  89.472352  0.913690  49.093235  \n",
       "2014-05-13  0.936678  89.877156  0.910723  49.556412  \n",
       "2014-05-14  0.935455  90.259344  0.907805  50.013502  \n",
       "2014-05-15  0.935025  90.535282  0.905644  50.355638  \n",
       "2014-05-16  0.934645  90.801188  0.903519  50.694806  \n",
       "2014-05-17  0.934317  91.057549  0.901429  51.031041  \n",
       "2014-05-18  0.934039  91.304820  0.899375  51.364377  \n",
       "2014-05-19  0.933811  91.543427  0.897355  51.694847  \n",
       "2014-05-20  0.933632  91.773773  0.895370  52.022483  \n",
       "2014-05-21  0.933502  91.996234  0.893420  52.347318  \n",
       "2014-05-22  0.933422  92.211166  0.891503  52.669383  \n",
       "2014-05-23  0.933389  92.418902  0.889621  52.988710  \n",
       "2014-05-24  0.933405  92.619757  0.887772  53.305330  \n",
       "2014-05-25  0.933469  92.814030  0.885957  53.619272  \n",
       "2014-05-26  0.933580  93.001999  0.884175  53.930567  \n",
       "2014-05-27  0.933738  93.183932  0.882426  54.239245  \n",
       "2014-05-28  0.933943  93.360078  0.880710  54.545334  \n",
       "2014-05-29  0.934194  93.530676  0.879026  54.848863  \n",
       "2014-05-30  0.934492  93.695949  0.877374  55.149860  "
      ]
     },
     "execution_count": 42,
     "metadata": {},
     "output_type": "execute_result"
    }
   ],
   "source": [
    "df_2017_allen_afd.head(20)"
   ]
  },
  {
   "cell_type": "code",
   "execution_count": 33,
   "metadata": {},
   "outputs": [
    {
     "name": "stdout",
     "output_type": "stream",
     "text": [
      "                     5d_close_future_pct  5d_close_pct       ma3      rsi3  \\\n",
      "5d_close_future_pct             1.000000      0.883348 -0.920884  0.578308   \n",
      "5d_close_pct                    0.883348      1.000000 -0.973101  0.653106   \n",
      "ma3                            -0.920884     -0.973101  1.000000 -0.653499   \n",
      "rsi3                            0.578308      0.653106 -0.653499  1.000000   \n",
      "ma14                           -0.845059     -0.979928  0.941353 -0.684338   \n",
      "rsi14                           0.523371      0.620581 -0.601992  0.880716   \n",
      "ma30                           -0.724337     -0.885405  0.831125 -0.691113   \n",
      "rsi30                           0.442764      0.549226 -0.521798  0.777168   \n",
      "ma50                           -0.595366     -0.755419  0.698996 -0.685337   \n",
      "rsi50                           0.374172      0.478435 -0.450026  0.700789   \n",
      "ma200                          -0.291410     -0.399834  0.367169 -0.576648   \n",
      "rsi200                          0.152701      0.254450 -0.228319  0.456428   \n",
      "\n",
      "                         ma14     rsi14      ma30     rsi30      ma50  \\\n",
      "5d_close_future_pct -0.845059  0.523371 -0.724337  0.442764 -0.595366   \n",
      "5d_close_pct        -0.979928  0.620581 -0.885405  0.549226 -0.755419   \n",
      "ma3                  0.941353 -0.601992  0.831125 -0.521798  0.698996   \n",
      "rsi3                -0.684338  0.880716 -0.691113  0.777168 -0.685337   \n",
      "ma14                 1.000000 -0.672411  0.947434 -0.605944  0.830722   \n",
      "rsi14               -0.672411  1.000000 -0.738918  0.958658 -0.786205   \n",
      "ma30                 0.947434 -0.738918  1.000000 -0.695323  0.951361   \n",
      "rsi30               -0.605944  0.958658 -0.695323  1.000000 -0.777518   \n",
      "ma50                 0.830722 -0.786205  0.951361 -0.777518  1.000000   \n",
      "rsi50               -0.538090  0.898727 -0.636192  0.982420 -0.732314   \n",
      "ma200                0.466609 -0.749503  0.590433 -0.858479  0.718064   \n",
      "rsi200              -0.317960  0.664639 -0.427030  0.789042 -0.538131   \n",
      "\n",
      "                        rsi50     ma200    rsi200  \n",
      "5d_close_future_pct  0.374172 -0.291410  0.152701  \n",
      "5d_close_pct         0.478435 -0.399834  0.254450  \n",
      "ma3                 -0.450026  0.367169 -0.228319  \n",
      "rsi3                 0.700789 -0.576648  0.456428  \n",
      "ma14                -0.538090  0.466609 -0.317960  \n",
      "rsi14                0.898727 -0.749503  0.664639  \n",
      "ma30                -0.636192  0.590433 -0.427030  \n",
      "rsi30                0.982420 -0.858479  0.789042  \n",
      "ma50                -0.732314  0.718064 -0.538131  \n",
      "rsi50                1.000000 -0.910601  0.867405  \n",
      "ma200               -0.910601  1.000000 -0.911018  \n",
      "rsi200               0.867405 -0.911018  1.000000  \n"
     ]
    }
   ],
   "source": [
    "df_2017_allen_afd = df_2017_allen_afd.dropna()\n",
    "\n",
    "# Create features and targets\n",
    "# use feature_names for features; '5d_close_future_pct' for targets\n",
    "features = df_2017_allen_afd[feature_names]\n",
    "targets = df_2017_allen_afd['5d_close_future_pct']\n",
    "\n",
    "# Create DataFrame from target column and feature columns\n",
    "feature_and_target_cols = ['5d_close_future_pct'] + feature_names\n",
    "feat_targ_df = df_2017_allen_afd[feature_and_target_cols]\n",
    "\n",
    "# Calculate correlation matrix\n",
    "corr = feat_targ_df.corr()\n",
    "print(corr)"
   ]
  },
  {
   "cell_type": "code",
   "execution_count": 34,
   "metadata": {},
   "outputs": [
    {
     "data": {
      "image/png": "[encoded data removed]",
      "text/plain": [
       "<matplotlib.figure.Figure at 0x1242a8e80>"
      ]
     },
     "metadata": {
      "needs_background": "light"
     },
     "output_type": "display_data"
    },
    {
     "data": {
      "text/plain": [
       "<matplotlib.figure.Figure at 0x12c669d68>"
      ]
     },
     "metadata": {},
     "output_type": "display_data"
    }
   ],
   "source": [
    "sns.heatmap(corr, annot=True)\n",
    "plt.yticks(rotation=0); plt.xticks(rotation=90)  # fix ticklabel directions\n",
    "plt.tight_layout()  # fits plot area to the plot, \"tightly\"\n",
    "plt.show()  # show the plot\n",
    "plt.clf()  # clear the plot area"
   ]
  },
  {
   "cell_type": "code",
   "execution_count": 35,
   "metadata": {},
   "outputs": [
    {
     "data": {
      "image/png": "[encoded data removed]",
      "text/plain": [
       "<matplotlib.figure.Figure at 0x120ad7c50>"
      ]
     },
     "metadata": {
      "needs_background": "light"
     },
     "output_type": "display_data"
    }
   ],
   "source": [
    "# Create a scatter plot of the most highly correlated variable with the target\n",
    "plt.scatter(df_2017_allen_afd['ma3'], df_2017_allen_afd['5d_close_future_pct'])\n",
    "plt.show()"
   ]
  },
  {
   "cell_type": "markdown",
   "metadata": {},
   "source": [
    "#### Linear Model \n",
    "\n",
    "##### Create training and test features"
   ]
  },
  {
   "cell_type": "code",
   "execution_count": 36,
   "metadata": {},
   "outputs": [
    {
     "name": "stdout",
     "output_type": "stream",
     "text": [
      "(1225, 12) (1041, 12) (184, 12)\n"
     ]
    },
    {
     "name": "stderr",
     "output_type": "stream",
     "text": [
      "/Users/dangngochuy/anaconda3/lib/python3.6/site-packages/numpy/core/fromnumeric.py:2389: FutureWarning: Method .ptp is deprecated and will be removed in a future version. Use numpy.ptp instead.\n",
      "  return ptp(axis=axis, out=out, **kwargs)\n"
     ]
    }
   ],
   "source": [
    "\n",
    "# Import the statsmodels.api library with the alias sm\n",
    "import statsmodels.api as sm\n",
    "\n",
    "# Add a constant to the features\n",
    "linear_features = sm.add_constant(features)\n",
    "\n",
    "# Create a size for the training set that is 85% of the total number of samples\n",
    "train_size = int(0.85 * features.shape[0])\n",
    "train_features = linear_features[:train_size]\n",
    "train_targets = targets[:train_size]\n",
    "test_features = linear_features[train_size:]\n",
    "test_targets = targets[train_size:]\n",
    "print(linear_features.shape, train_features.shape, test_features.shape)"
   ]
  },
  {
   "cell_type": "code",
   "execution_count": 37,
   "metadata": {},
   "outputs": [
    {
     "name": "stdout",
     "output_type": "stream",
     "text": [
      "                             OLS Regression Results                            \n",
      "===============================================================================\n",
      "Dep. Variable:     5d_close_future_pct   R-squared:                       0.863\n",
      "Model:                             OLS   Adj. R-squared:                  0.862\n",
      "Method:                  Least Squares   F-statistic:                     590.8\n",
      "Date:                 Sun, 13 Oct 2019   Prob (F-statistic):               0.00\n",
      "Time:                         09:48:20   Log-Likelihood:                 3295.3\n",
      "No. Observations:                 1041   AIC:                            -6567.\n",
      "Df Residuals:                     1029   BIC:                            -6507.\n",
      "Df Model:                           11                                         \n",
      "Covariance Type:             nonrobust                                         \n",
      "================================================================================\n",
      "                   coef    std err          t      P>|t|      [0.025      0.975]\n",
      "--------------------------------------------------------------------------------\n",
      "const            5.6441      0.300     18.813      0.000       5.055       6.233\n",
      "5d_close_pct    -0.2163      0.108     -1.996      0.046      -0.429      -0.004\n",
      "ma3             -5.5212      0.276    -20.002      0.000      -6.063      -4.980\n",
      "rsi3         -5.786e-05   1.78e-05     -3.259      0.001   -9.27e-05    -2.3e-05\n",
      "ma14            -0.1994      0.127     -1.575      0.115      -0.448       0.049\n",
      "rsi14            0.0003   7.18e-05      3.594      0.000       0.000       0.000\n",
      "ma30             0.1142      0.058      1.955      0.051      -0.000       0.229\n",
      "rsi30           -0.0006      0.000     -3.054      0.002      -0.001      -0.000\n",
      "ma50            -0.0177      0.025     -0.720      0.472      -0.066       0.030\n",
      "rsi50            0.0004      0.000      2.869      0.004       0.000       0.001\n",
      "ma200           -0.0087      0.006     -1.404      0.161      -0.021       0.003\n",
      "rsi200          -0.0003   5.91e-05     -4.768      0.000      -0.000      -0.000\n",
      "==============================================================================\n",
      "Omnibus:                     1050.269   Durbin-Watson:                   0.388\n",
      "Prob(Omnibus):                  0.000   Jarque-Bera (JB):           172838.517\n",
      "Skew:                           4.264   Prob(JB):                         0.00\n",
      "Kurtosis:                      65.546   Cond. No.                     1.92e+05\n",
      "==============================================================================\n",
      "\n",
      "Warnings:\n",
      "[1] Standard Errors assume that the covariance matrix of the errors is correctly specified.\n",
      "[2] The condition number is large, 1.92e+05. This might indicate that there are\n",
      "strong multicollinearity or other numerical problems.\n"
     ]
    }
   ],
   "source": [
    "# Create the linear model and complete the least squares fit\n",
    "model_allen_afd = sm.OLS(train_targets, train_features)\n",
    "results_allen_afd = model_allen_afd.fit()  # fit the model\n",
    "print(results_allen_afd.summary())"
   ]
  },
  {
   "cell_type": "code",
   "execution_count": 38,
   "metadata": {},
   "outputs": [
    {
     "name": "stdout",
     "output_type": "stream",
     "text": [
      "const           4.337529e-68\n",
      "5d_close_pct    4.621515e-02\n",
      "ma3             1.919190e-75\n",
      "rsi3            1.153497e-03\n",
      "ma14            1.154913e-01\n",
      "rsi14           3.414135e-04\n",
      "ma30            5.087761e-02\n",
      "rsi30           2.317021e-03\n",
      "ma50            4.715251e-01\n",
      "rsi50           4.204510e-03\n",
      "ma200           1.606374e-01\n",
      "rsi200          2.132766e-06\n",
      "dtype: float64\n"
     ]
    }
   ],
   "source": [
    "# examine pvalues\n",
    "# Features with p <= 0.05 are typically considered significantly different from 0\n",
    "print(results_allen_afd.pvalues)\n"
   ]
  },
  {
   "cell_type": "code",
   "execution_count": 40,
   "metadata": {},
   "outputs": [
    {
     "name": "stdout",
     "output_type": "stream",
     "text": [
      "2017-03-17   -0.027472\n",
      "2017-03-18   -0.027773\n",
      "2017-03-19   -0.028046\n",
      "2017-03-20   -0.028290\n",
      "2017-03-21   -0.028506\n",
      "2017-03-22   -0.028692\n",
      "2017-03-23   -0.028848\n",
      "2017-03-24   -0.028973\n",
      "2017-03-25   -0.029104\n",
      "2017-03-26   -0.029239\n",
      "2017-03-27   -0.029379\n",
      "2017-03-28   -0.029524\n",
      "2017-03-29   -0.006956\n",
      "2017-03-30    0.003926\n",
      "2017-03-31    0.003122\n",
      "2017-04-01    0.002230\n",
      "2017-04-02    0.001251\n",
      "2017-04-03    0.001555\n",
      "2017-04-04    0.001789\n",
      "2017-04-05    0.001952\n",
      "2017-04-06    0.002044\n",
      "2017-04-07    0.002065\n",
      "2017-04-08    0.002015\n",
      "2017-04-09    0.001895\n",
      "2017-04-10    0.001703\n",
      "2017-04-11    0.001440\n",
      "2017-04-12    0.001196\n",
      "2017-04-13    0.000970\n",
      "2017-04-14    0.000766\n",
      "2017-04-15    0.000583\n",
      "                ...   \n",
      "2017-08-18    0.003453\n",
      "2017-08-19    0.003461\n",
      "2017-08-20    0.003469\n",
      "2017-08-21    0.003478\n",
      "2017-08-22    0.003487\n",
      "2017-08-23    0.038675\n",
      "2017-08-24    0.052829\n",
      "2017-08-25    0.049905\n",
      "2017-08-26    0.047240\n",
      "2017-08-27    0.044724\n",
      "2017-08-28    0.044436\n",
      "2017-08-29    0.044164\n",
      "2017-08-30    0.043873\n",
      "2017-08-31    0.043542\n",
      "2017-09-01    0.043157\n",
      "2017-09-02    0.042709\n",
      "2017-09-03    0.042192\n",
      "2017-09-04    0.041602\n",
      "2017-09-05    0.040938\n",
      "2017-09-06    0.040317\n",
      "2017-09-07    0.077225\n",
      "2017-09-08    0.093315\n",
      "2017-09-09    0.089716\n",
      "2017-09-10    0.086104\n",
      "2017-09-11    0.082481\n",
      "2017-09-12    0.081408\n",
      "2017-09-13    0.080278\n",
      "2017-09-14    0.079096\n",
      "2017-09-15    0.077865\n",
      "2017-09-16    0.076589\n",
      "Freq: D, Length: 184, dtype: float64\n"
     ]
    }
   ],
   "source": [
    "# Make predictions from our model for train and test sets\n",
    "train_predictions = results_allen_afd.predict(train_features)\n",
    "test_predictions = results_allen_afd.predict(test_features)\n",
    "print(test_predictions)"
   ]
  },
  {
   "cell_type": "markdown",
   "metadata": {},
   "source": [
    "#### Evaluate Linear Model Results\n",
    "\n",
    "Once we have our linear fit and predictions, we want to see how good the predictions are so we can decide if our model is any good or not. \n",
    "\n",
    "A quick way to understand the performance of our model is looking at regression evaluation metrics like R2, and plotting the predictions versus the actual values of the targets. Perfect predictions would form a straight, diagonal line in such a plot, making it easy for us to eyeball how our predictions are doing in different regions of voteshare changes."
   ]
  },
  {
   "cell_type": "code",
   "execution_count": 44,
   "metadata": {},
   "outputs": [
    {
     "data": {
      "image/png": "[encoded data removed]",
      "text/plain": [
       "<matplotlib.figure.Figure at 0x12dab10b8>"
      ]
     },
     "metadata": {
      "needs_background": "light"
     },
     "output_type": "display_data"
    }
   ],
   "source": [
    "# Scatter the predictions vs the targets with 80% transparency\n",
    "plt.scatter(train_predictions, train_targets, alpha=0.2, color='b', label='train')\n",
    "plt.scatter(test_predictions, test_targets, alpha = 0.2, color='r', label='test')\n",
    "\n",
    "# Plot the perfect prediction line\n",
    "xmin, xmax = plt.xlim()\n",
    "plt.plot(np.arange(xmin, xmax, 0.01), np.arange(xmin, xmax, 0.01), c='k')\n",
    "\n",
    "# Set the axis labels and show the plot\n",
    "plt.xlabel('predictions')\n",
    "plt.ylabel('actual')\n",
    "plt.legend()  # show the legend\n",
    "plt.show()"
   ]
  },
  {
   "cell_type": "markdown",
   "metadata": {},
   "source": [
    "#### Decision Tree Model"
   ]
  },
  {
   "cell_type": "code",
   "execution_count": 53,
   "metadata": {},
   "outputs": [
    {
     "name": "stdout",
     "output_type": "stream",
     "text": [
      "0.9999540365035429\n",
      "0.5018132764143677\n"
     ]
    }
   ],
   "source": [
    "from sklearn.tree import DecisionTreeRegressor\n",
    "\n",
    "# Create a decision tree regression model with default arguments\n",
    "decision_tree_allen_afd = DecisionTreeRegressor()\n",
    "\n",
    "# Fit the model to the training features and targets\n",
    "decision_tree_allen_afd.fit(train_features, train_targets)\n",
    "\n",
    "# Check the score on train and test\n",
    "print(decision_tree_allen_afd.score(train_features, train_targets))\n",
    "print(decision_tree_allen_afd.score(test_features, test_targets))"
   ]
  },
  {
   "cell_type": "markdown",
   "metadata": {},
   "source": [
    "As expected, perfect fit on the training data but quite a bad fit on the test data. Let's see if we can improve by experimenting on the max height of the trees. "
   ]
  },
  {
   "cell_type": "code",
   "execution_count": 55,
   "metadata": {},
   "outputs": [
    {
     "name": "stdout",
     "output_type": "stream",
     "text": [
      "max_depth= 3\n",
      "0.8597638709486862\n",
      "0.6248015874150517 \n",
      "\n",
      "max_depth= 5\n",
      "0.9020838356952094\n",
      "0.622622526106746 \n",
      "\n",
      "max_depth= 10\n",
      "0.996876325295108\n",
      "0.5151669885696408 \n",
      "\n",
      "max_depth= 15\n",
      "0.9999540365035429\n",
      "0.5525673409507016 \n",
      "\n",
      "max_depth= 20\n",
      "0.9999540365035429\n",
      "0.4412807300009639 \n",
      "\n",
      "max_depth= 25\n",
      "0.9999540365035429\n",
      "0.5249351184796799 \n",
      "\n"
     ]
    }
   ],
   "source": [
    "# Loop through a few different max depths and check the performance\n",
    "for d in [3, 5, 10, 15, 20, 25]:\n",
    "    # Create the tree and fit it\n",
    "    decision_tree_allen_afd = DecisionTreeRegressor(max_depth=d)\n",
    "    decision_tree_allen_afd.fit(train_features, train_targets)\n",
    "\n",
    "    # Print out the scores on train and test\n",
    "    print('max_depth=', str(d))\n",
    "    print(decision_tree_allen_afd.score(train_features, train_targets))\n",
    "    print(decision_tree_allen_afd.score(test_features, test_targets), '\\n')"
   ]
  },
  {
   "cell_type": "markdown",
   "metadata": {},
   "source": [
    "It seems that trees of max height 3 would be the best at predicting the changes in voteshares percentage during the next 5 days. "
   ]
  },
  {
   "cell_type": "code",
   "execution_count": 56,
   "metadata": {},
   "outputs": [
    {
     "data": {
      "image/png": "[encoded data removed]",
      "text/plain": [
       "<matplotlib.figure.Figure at 0x1207bef60>"
      ]
     },
     "metadata": {
      "needs_background": "light"
     },
     "output_type": "display_data"
    }
   ],
   "source": [
    "# Use the best max_depth of 3 from last exercise to fit a decision tree\n",
    "decision_tree_allen_afd = DecisionTreeRegressor(max_depth=3)\n",
    "decision_tree_allen_afd.fit(train_features, train_targets)\n",
    "\n",
    "# Predict values for train and test\n",
    "train_predictions = decision_tree_allen_afd.predict(train_features)\n",
    "test_predictions = decision_tree_allen_afd.predict(test_features)\n",
    "\n",
    "# Scatter the predictions vs actual values\n",
    "plt.scatter(train_predictions, train_targets, label='train')\n",
    "plt.scatter(test_predictions, test_targets, label = 'test')\n",
    "plt.show()"
   ]
  },
  {
   "cell_type": "markdown",
   "metadata": {},
   "source": [
    "#### Random Forest Model "
   ]
  },
  {
   "cell_type": "code",
   "execution_count": 57,
   "metadata": {},
   "outputs": [
    {
     "name": "stdout",
     "output_type": "stream",
     "text": [
      "0.9972181313172842\n",
      "0.6602821578268485\n"
     ]
    }
   ],
   "source": [
    "from sklearn.ensemble import RandomForestRegressor\n",
    "\n",
    "# Create the random forest model and fit to the training data\n",
    "rfr_allen_afd = RandomForestRegressor(n_estimators=200)\n",
    "rfr_allen_afd.fit(train_features, train_targets)\n",
    "\n",
    "# Look at the R^2 scores on train and test\n",
    "print(rfr_allen_afd.score(train_features, train_targets))\n",
    "print(rfr_allen_afd.score(test_features, test_targets))"
   ]
  },
  {
   "cell_type": "markdown",
   "metadata": {},
   "source": [
    "Let's see if we can improve on the score with hyperparameter tuning: "
   ]
  },
  {
   "cell_type": "code",
   "execution_count": 58,
   "metadata": {},
   "outputs": [
    {
     "name": "stdout",
     "output_type": "stream",
     "text": [
      "0.7211789479995037 {'random_state': 42, 'n_estimators': 200, 'max_features': 8, 'max_depth': 3}\n"
     ]
    }
   ],
   "source": [
    "from sklearn.model_selection import ParameterGrid\n",
    "\n",
    "# Create a dictionary of hyperparameters to search\n",
    "grid = {'n_estimators': [200], 'max_depth': [3], 'max_features': [4, 8], 'random_state': [42]}\n",
    "test_scores = []\n",
    "\n",
    "# Loop through the parameter grid, set the hyperparameters, and save the scores\n",
    "for g in ParameterGrid(grid):\n",
    "    rfr_allen_afd.set_params(**g)  # ** is \"unpacking\" the dictionary\n",
    "    rfr_allen_afd.fit(train_features, train_targets)\n",
    "    test_scores.append(rfr_allen_afd.score(test_features, test_targets))\n",
    "\n",
    "# Find best hyperparameters from the test score and print\n",
    "best_idx = np.argmax(test_scores)\n",
    "print(test_scores[best_idx], ParameterGrid(grid)[best_idx])"
   ]
  },
  {
   "cell_type": "code",
   "execution_count": 60,
   "metadata": {},
   "outputs": [
    {
     "data": {
      "image/png": "[encoded data removed]",
      "text/plain": [
       "<matplotlib.figure.Figure at 0x12c63b588>"
      ]
     },
     "metadata": {
      "needs_background": "light"
     },
     "output_type": "display_data"
    }
   ],
   "source": [
    "# Use the best hyperparameters from before to fit a random forest model\n",
    "rfr = RandomForestRegressor(n_estimators=200, max_depth=3, max_features=4, random_state=42)\n",
    "rfr.fit(train_features, train_targets)\n",
    "\n",
    "# Make predictions with our model\n",
    "train_predictions = rfr.predict(train_features)\n",
    "test_predictions = rfr.predict(test_features)\n",
    "\n",
    "# Create a scatter plot with train and test actual vs predictions\n",
    "plt.scatter(train_targets, train_predictions, label='train')\n",
    "plt.scatter(test_targets, test_predictions, label='test')\n",
    "plt.legend()\n",
    "plt.show()"
   ]
  },
  {
   "cell_type": "code",
   "execution_count": null,
   "metadata": {},
   "outputs": [],
   "source": []
  }
 ],
 "metadata": {
  "kernelspec": {
   "display_name": "Python 3",
   "language": "python",
   "name": "python3"
  },
  "language_info": {
   "codemirror_mode": {
    "name": "ipython",
    "version": 3
   },
   "file_extension": ".py",
   "mimetype": "text/x-python",
   "name": "python",
   "nbconvert_exporter": "python",
   "pygments_lexer": "ipython3",
   "version": "3.6.8"
  }
 },
 "nbformat": 4,
 "nbformat_minor": 2
}
