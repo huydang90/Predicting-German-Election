{
 "cells": [
  {
   "cell_type": "code",
   "execution_count": 1,
   "metadata": {},
   "outputs": [],
   "source": [
    "#import libraries\n",
    "\n",
    "import pyreadr\n",
    "import pandas as pd\n",
    "import numpy as np\n",
    "import matplotlib.pyplot as plt\n",
    "import seaborn as sns\n",
    "%matplotlib inline\n",
    "from matplotlib.dates import DateFormatter\n",
    "import matplotlib.dates as mdates"
   ]
  },
  {
   "cell_type": "code",
   "execution_count": 2,
   "metadata": {},
   "outputs": [
    {
     "data": {
      "text/html": [
       "<div>\n",
       "<style scoped>\n",
       "    .dataframe tbody tr th:only-of-type {\n",
       "        vertical-align: middle;\n",
       "    }\n",
       "\n",
       "    .dataframe tbody tr th {\n",
       "        vertical-align: top;\n",
       "    }\n",
       "\n",
       "    .dataframe thead th {\n",
       "        text-align: right;\n",
       "    }\n",
       "</style>\n",
       "<table border=\"1\" class=\"dataframe\">\n",
       "  <thead>\n",
       "    <tr style=\"text-align: right;\">\n",
       "      <th></th>\n",
       "      <th>election</th>\n",
       "      <th>sample_size</th>\n",
       "      <th>institute</th>\n",
       "      <th>party</th>\n",
       "      <th>support</th>\n",
       "      <th>election_date</th>\n",
       "      <th>days_to_election</th>\n",
       "    </tr>\n",
       "    <tr>\n",
       "      <th>date</th>\n",
       "      <th></th>\n",
       "      <th></th>\n",
       "      <th></th>\n",
       "      <th></th>\n",
       "      <th></th>\n",
       "      <th></th>\n",
       "      <th></th>\n",
       "    </tr>\n",
       "  </thead>\n",
       "  <tbody>\n",
       "    <tr>\n",
       "      <th>1951-04-15</th>\n",
       "      <td>1953.0</td>\n",
       "      <td>NaN</td>\n",
       "      <td>allensbach</td>\n",
       "      <td>oth</td>\n",
       "      <td>24.0</td>\n",
       "      <td>1953-09-06</td>\n",
       "      <td>875.0</td>\n",
       "    </tr>\n",
       "    <tr>\n",
       "      <th>1950-11-15</th>\n",
       "      <td>1953.0</td>\n",
       "      <td>NaN</td>\n",
       "      <td>allensbach</td>\n",
       "      <td>gru</td>\n",
       "      <td>NaN</td>\n",
       "      <td>1953-09-06</td>\n",
       "      <td>1026.0</td>\n",
       "    </tr>\n",
       "    <tr>\n",
       "      <th>1952-12-15</th>\n",
       "      <td>1953.0</td>\n",
       "      <td>NaN</td>\n",
       "      <td>allensbach</td>\n",
       "      <td>spd</td>\n",
       "      <td>35.0</td>\n",
       "      <td>1953-09-06</td>\n",
       "      <td>265.0</td>\n",
       "    </tr>\n",
       "    <tr>\n",
       "      <th>1953-02-15</th>\n",
       "      <td>1953.0</td>\n",
       "      <td>NaN</td>\n",
       "      <td>allensbach</td>\n",
       "      <td>spd</td>\n",
       "      <td>33.0</td>\n",
       "      <td>1953-09-06</td>\n",
       "      <td>203.0</td>\n",
       "    </tr>\n",
       "    <tr>\n",
       "      <th>1951-03-15</th>\n",
       "      <td>1953.0</td>\n",
       "      <td>NaN</td>\n",
       "      <td>allensbach</td>\n",
       "      <td>gru</td>\n",
       "      <td>NaN</td>\n",
       "      <td>1953-09-06</td>\n",
       "      <td>906.0</td>\n",
       "    </tr>\n",
       "  </tbody>\n",
       "</table>\n",
       "</div>"
      ],
      "text/plain": [
       "            election  sample_size   institute party  support election_date  \\\n",
       "date                                                                         \n",
       "1951-04-15    1953.0          NaN  allensbach   oth     24.0    1953-09-06   \n",
       "1950-11-15    1953.0          NaN  allensbach   gru      NaN    1953-09-06   \n",
       "1952-12-15    1953.0          NaN  allensbach   spd     35.0    1953-09-06   \n",
       "1953-02-15    1953.0          NaN  allensbach   spd     33.0    1953-09-06   \n",
       "1951-03-15    1953.0          NaN  allensbach   gru      NaN    1953-09-06   \n",
       "\n",
       "            days_to_election  \n",
       "date                          \n",
       "1951-04-15             875.0  \n",
       "1950-11-15            1026.0  \n",
       "1952-12-15             265.0  \n",
       "1953-02-15             203.0  \n",
       "1951-03-15             906.0  "
      ]
     },
     "execution_count": 2,
     "metadata": {},
     "output_type": "execute_result"
    }
   ],
   "source": [
    "#load data\n",
    "\n",
    "polls = pd.read_csv(\"polls_btw.csv\", index_col='date', parse_dates=True)\n",
    "polls.head()"
   ]
  },
  {
   "cell_type": "markdown",
   "metadata": {},
   "source": [
    "## Exploratory Data Analysis"
   ]
  },
  {
   "cell_type": "code",
   "execution_count": 3,
   "metadata": {},
   "outputs": [
    {
     "data": {
      "text/html": [
       "<div>\n",
       "<style scoped>\n",
       "    .dataframe tbody tr th:only-of-type {\n",
       "        vertical-align: middle;\n",
       "    }\n",
       "\n",
       "    .dataframe tbody tr th {\n",
       "        vertical-align: top;\n",
       "    }\n",
       "\n",
       "    .dataframe thead th {\n",
       "        text-align: right;\n",
       "    }\n",
       "</style>\n",
       "<table border=\"1\" class=\"dataframe\">\n",
       "  <thead>\n",
       "    <tr style=\"text-align: right;\">\n",
       "      <th></th>\n",
       "      <th>election</th>\n",
       "      <th>sample_size</th>\n",
       "      <th>institute</th>\n",
       "      <th>party</th>\n",
       "      <th>support</th>\n",
       "      <th>election_date</th>\n",
       "      <th>days_to_election</th>\n",
       "    </tr>\n",
       "    <tr>\n",
       "      <th>date</th>\n",
       "      <th></th>\n",
       "      <th></th>\n",
       "      <th></th>\n",
       "      <th></th>\n",
       "      <th></th>\n",
       "      <th></th>\n",
       "      <th></th>\n",
       "    </tr>\n",
       "  </thead>\n",
       "  <tbody>\n",
       "    <tr>\n",
       "      <th>1951-04-15</th>\n",
       "      <td>1953.0</td>\n",
       "      <td>1000.0</td>\n",
       "      <td>allensbach</td>\n",
       "      <td>oth</td>\n",
       "      <td>24.0</td>\n",
       "      <td>1953-09-06</td>\n",
       "      <td>875.0</td>\n",
       "    </tr>\n",
       "    <tr>\n",
       "      <th>1950-11-15</th>\n",
       "      <td>1953.0</td>\n",
       "      <td>1000.0</td>\n",
       "      <td>allensbach</td>\n",
       "      <td>gru</td>\n",
       "      <td>NaN</td>\n",
       "      <td>1953-09-06</td>\n",
       "      <td>1026.0</td>\n",
       "    </tr>\n",
       "    <tr>\n",
       "      <th>1952-12-15</th>\n",
       "      <td>1953.0</td>\n",
       "      <td>1000.0</td>\n",
       "      <td>allensbach</td>\n",
       "      <td>spd</td>\n",
       "      <td>35.0</td>\n",
       "      <td>1953-09-06</td>\n",
       "      <td>265.0</td>\n",
       "    </tr>\n",
       "    <tr>\n",
       "      <th>1953-02-15</th>\n",
       "      <td>1953.0</td>\n",
       "      <td>1000.0</td>\n",
       "      <td>allensbach</td>\n",
       "      <td>spd</td>\n",
       "      <td>33.0</td>\n",
       "      <td>1953-09-06</td>\n",
       "      <td>203.0</td>\n",
       "    </tr>\n",
       "    <tr>\n",
       "      <th>1951-03-15</th>\n",
       "      <td>1953.0</td>\n",
       "      <td>1000.0</td>\n",
       "      <td>allensbach</td>\n",
       "      <td>gru</td>\n",
       "      <td>NaN</td>\n",
       "      <td>1953-09-06</td>\n",
       "      <td>906.0</td>\n",
       "    </tr>\n",
       "  </tbody>\n",
       "</table>\n",
       "</div>"
      ],
      "text/plain": [
       "            election  sample_size   institute party  support election_date  \\\n",
       "date                                                                         \n",
       "1951-04-15    1953.0       1000.0  allensbach   oth     24.0    1953-09-06   \n",
       "1950-11-15    1953.0       1000.0  allensbach   gru      NaN    1953-09-06   \n",
       "1952-12-15    1953.0       1000.0  allensbach   spd     35.0    1953-09-06   \n",
       "1953-02-15    1953.0       1000.0  allensbach   spd     33.0    1953-09-06   \n",
       "1951-03-15    1953.0       1000.0  allensbach   gru      NaN    1953-09-06   \n",
       "\n",
       "            days_to_election  \n",
       "date                          \n",
       "1951-04-15             875.0  \n",
       "1950-11-15            1026.0  \n",
       "1952-12-15             265.0  \n",
       "1953-02-15             203.0  \n",
       "1951-03-15             906.0  "
      ]
     },
     "execution_count": 3,
     "metadata": {},
     "output_type": "execute_result"
    }
   ],
   "source": [
    "#Impute sample_size with 1000 for missing values\n",
    "\n",
    "polls[\"sample_size\"].fillna(1000, inplace=True)\n",
    "polls.head()"
   ]
  },
  {
   "cell_type": "code",
   "execution_count": 4,
   "metadata": {},
   "outputs": [
    {
     "data": {
      "text/plain": [
       "array(['allensbach', 'fgruppe_wahlen', 'forsa', 'emnid',\n",
       "       'infratest_dimap', 'gms', 'insa'], dtype=object)"
      ]
     },
     "execution_count": 4,
     "metadata": {},
     "output_type": "execute_result"
    }
   ],
   "source": [
    "#see how many unique polling institutions there are\n",
    "\n",
    "polls['institute'].unique()"
   ]
  },
  {
   "cell_type": "code",
   "execution_count": 5,
   "metadata": {},
   "outputs": [
    {
     "data": {
      "text/plain": [
       "array(['oth', 'gru', 'spd', 'cdu', 'lin', 'fdp', 'afd'], dtype=object)"
      ]
     },
     "execution_count": 5,
     "metadata": {},
     "output_type": "execute_result"
    }
   ],
   "source": [
    "#see how many unique parties there are in the polls\n",
    "\n",
    "polls['party'].unique()"
   ]
  },
  {
   "cell_type": "code",
   "execution_count": 6,
   "metadata": {},
   "outputs": [],
   "source": [
    "#create data frame with polls from each institutions in 2017 \n",
    "\n",
    "election2017_allen = polls.loc[(polls['institute'] == 'allensbach') & (polls['election'] == 2017)]\n",
    "election2017_insa = polls.loc[(polls['institute'] == 'insa') & (polls['election'] == 2017)]\n",
    "election2017_forsa = polls.loc[(polls['institute'] == 'forsa') & (polls['election'] == 2017)]\n",
    "election2017_emnid = polls.loc[(polls['institute'] == 'emnid') & (polls['election'] == 2017)]\n",
    "election2017_gms = polls.loc[(polls['institute'] == 'gms') & (polls['election'] == 2017)]\n",
    "election2017_infra = polls.loc[(polls['institute'] == 'infratest_dimap') & (polls['election'] == 2017)]\n",
    "election2017_fgruppe = polls.loc[(polls['institute'] == 'fgruppe_wahlen') & (polls['election'] == 2017)]"
   ]
  },
  {
   "cell_type": "code",
   "execution_count": 7,
   "metadata": {},
   "outputs": [
    {
     "data": {
      "text/html": [
       "<div>\n",
       "<style scoped>\n",
       "    .dataframe tbody tr th:only-of-type {\n",
       "        vertical-align: middle;\n",
       "    }\n",
       "\n",
       "    .dataframe tbody tr th {\n",
       "        vertical-align: top;\n",
       "    }\n",
       "\n",
       "    .dataframe thead th {\n",
       "        text-align: right;\n",
       "    }\n",
       "</style>\n",
       "<table border=\"1\" class=\"dataframe\">\n",
       "  <thead>\n",
       "    <tr style=\"text-align: right;\">\n",
       "      <th></th>\n",
       "      <th>election</th>\n",
       "      <th>sample_size</th>\n",
       "      <th>institute</th>\n",
       "      <th>party</th>\n",
       "      <th>support</th>\n",
       "      <th>election_date</th>\n",
       "      <th>days_to_election</th>\n",
       "    </tr>\n",
       "    <tr>\n",
       "      <th>date</th>\n",
       "      <th></th>\n",
       "      <th></th>\n",
       "      <th></th>\n",
       "      <th></th>\n",
       "      <th></th>\n",
       "      <th></th>\n",
       "      <th></th>\n",
       "    </tr>\n",
       "  </thead>\n",
       "  <tbody>\n",
       "    <tr>\n",
       "      <th>2015-06-18</th>\n",
       "      <td>2017.0</td>\n",
       "      <td>1400.0</td>\n",
       "      <td>allensbach</td>\n",
       "      <td>spd</td>\n",
       "      <td>26.0</td>\n",
       "      <td>2017-09-24</td>\n",
       "      <td>829.0</td>\n",
       "    </tr>\n",
       "    <tr>\n",
       "      <th>2016-08-24</th>\n",
       "      <td>2017.0</td>\n",
       "      <td>1496.0</td>\n",
       "      <td>allensbach</td>\n",
       "      <td>spd</td>\n",
       "      <td>23.0</td>\n",
       "      <td>2017-09-24</td>\n",
       "      <td>396.0</td>\n",
       "    </tr>\n",
       "    <tr>\n",
       "      <th>2015-08-19</th>\n",
       "      <td>2017.0</td>\n",
       "      <td>1400.0</td>\n",
       "      <td>allensbach</td>\n",
       "      <td>spd</td>\n",
       "      <td>26.0</td>\n",
       "      <td>2017-09-24</td>\n",
       "      <td>767.0</td>\n",
       "    </tr>\n",
       "    <tr>\n",
       "      <th>2015-02-19</th>\n",
       "      <td>2017.0</td>\n",
       "      <td>1400.0</td>\n",
       "      <td>allensbach</td>\n",
       "      <td>spd</td>\n",
       "      <td>25.5</td>\n",
       "      <td>2017-09-24</td>\n",
       "      <td>948.0</td>\n",
       "    </tr>\n",
       "    <tr>\n",
       "      <th>2017-07-18</th>\n",
       "      <td>2017.0</td>\n",
       "      <td>1403.0</td>\n",
       "      <td>allensbach</td>\n",
       "      <td>spd</td>\n",
       "      <td>25.0</td>\n",
       "      <td>2017-09-24</td>\n",
       "      <td>68.0</td>\n",
       "    </tr>\n",
       "  </tbody>\n",
       "</table>\n",
       "</div>"
      ],
      "text/plain": [
       "            election  sample_size   institute party  support election_date  \\\n",
       "date                                                                         \n",
       "2015-06-18    2017.0       1400.0  allensbach   spd     26.0    2017-09-24   \n",
       "2016-08-24    2017.0       1496.0  allensbach   spd     23.0    2017-09-24   \n",
       "2015-08-19    2017.0       1400.0  allensbach   spd     26.0    2017-09-24   \n",
       "2015-02-19    2017.0       1400.0  allensbach   spd     25.5    2017-09-24   \n",
       "2017-07-18    2017.0       1403.0  allensbach   spd     25.0    2017-09-24   \n",
       "\n",
       "            days_to_election  \n",
       "date                          \n",
       "2015-06-18             829.0  \n",
       "2016-08-24             396.0  \n",
       "2015-08-19             767.0  \n",
       "2015-02-19             948.0  \n",
       "2017-07-18              68.0  "
      ]
     },
     "execution_count": 7,
     "metadata": {},
     "output_type": "execute_result"
    }
   ],
   "source": [
    "#check out institution allensbach: \n",
    "\n",
    "election2017_allen.head()"
   ]
  },
  {
   "cell_type": "code",
   "execution_count": 8,
   "metadata": {},
   "outputs": [
    {
     "data": {
      "text/plain": [
       "pandas.core.frame.DataFrame"
      ]
     },
     "execution_count": 8,
     "metadata": {},
     "output_type": "execute_result"
    }
   ],
   "source": [
    "type(election2017_allen)"
   ]
  },
  {
   "cell_type": "code",
   "execution_count": 9,
   "metadata": {},
   "outputs": [],
   "source": [
    "#create allensbach's polls for AFD in 2017 election:\n",
    "\n",
    "election2017_allen_afd = election2017_allen.loc[election2017_allen['party'] == 'afd']\n",
    "#plot_allen_afd = sns.lineplot(x=\"days_to_election\", y=\"support\", data=election2017allen_afd)"
   ]
  },
  {
   "cell_type": "code",
   "execution_count": 10,
   "metadata": {},
   "outputs": [
    {
     "data": {
      "image/png": "[encoded data removed]",
      "text/plain": [
       "<matplotlib.figure.Figure at 0x12040acc0>"
      ]
     },
     "metadata": {
      "needs_background": "light"
     },
     "output_type": "display_data"
    },
    {
     "data": {
      "text/plain": [
       "<matplotlib.figure.Figure at 0x12042eac8>"
      ]
     },
     "metadata": {},
     "output_type": "display_data"
    }
   ],
   "source": [
    "#plot allensbach's polls for AFD in 2017 election:\n",
    "#election2017allen_afd['date'] = election2017allen_afd.index\n",
    "#melted_df = pd.melt(election2017allen_afd, id_vars='date', value_name='support')\n",
    "#plot_allen_afd = sns.tsplot(melted_df, time='date', value='support')\n",
    "election2017_allen_afd.support['2013-10-23':'2017-09-19'].plot()\n",
    "plt.show()\n",
    "plt.clf()"
   ]
  },
  {
   "cell_type": "code",
   "execution_count": 11,
   "metadata": {},
   "outputs": [],
   "source": [
    "upsampled_election2017_allen_afd = election2017_allen_afd['support'].resample('D').first()"
   ]
  },
  {
   "cell_type": "code",
   "execution_count": 12,
   "metadata": {},
   "outputs": [
    {
     "name": "stdout",
     "output_type": "stream",
     "text": [
      "date\n",
      "2013-10-23    5.5\n",
      "2013-10-24    NaN\n",
      "2013-10-25    NaN\n",
      "2013-10-26    NaN\n",
      "2013-10-27    NaN\n",
      "2013-10-28    NaN\n",
      "2013-10-29    NaN\n",
      "2013-10-30    NaN\n",
      "2013-10-31    NaN\n",
      "2013-11-01    NaN\n",
      "2013-11-02    NaN\n",
      "2013-11-03    NaN\n",
      "2013-11-04    NaN\n",
      "2013-11-05    NaN\n",
      "2013-11-06    NaN\n",
      "2013-11-07    NaN\n",
      "2013-11-08    NaN\n",
      "2013-11-09    NaN\n",
      "2013-11-10    NaN\n",
      "2013-11-11    NaN\n",
      "2013-11-12    NaN\n",
      "2013-11-13    NaN\n",
      "2013-11-14    NaN\n",
      "2013-11-15    NaN\n",
      "2013-11-16    NaN\n",
      "2013-11-17    NaN\n",
      "2013-11-18    NaN\n",
      "2013-11-19    NaN\n",
      "2013-11-20    NaN\n",
      "2013-11-21    NaN\n",
      "2013-11-22    NaN\n",
      "2013-11-23    NaN\n",
      "Freq: D, Name: support, dtype: float64\n"
     ]
    }
   ],
   "source": [
    "print(upsampled_election2017_allen_afd.head(32))"
   ]
  },
  {
   "cell_type": "code",
   "execution_count": 13,
   "metadata": {},
   "outputs": [
    {
     "data": {
      "text/plain": [
       "date\n",
       "2013-10-23    5.500000\n",
       "2013-10-24    5.485714\n",
       "2013-10-25    5.471429\n",
       "2013-10-26    5.457143\n",
       "2013-10-27    5.442857\n",
       "Freq: D, Name: support, dtype: float64"
      ]
     },
     "execution_count": 13,
     "metadata": {},
     "output_type": "execute_result"
    }
   ],
   "source": [
    "interpolated_election2017_allen_afd = upsampled_election2017_allen_afd.interpolate(how='linear')\n",
    "interpolated_election2017_allen_afd.head()"
   ]
  },
  {
   "cell_type": "code",
   "execution_count": 14,
   "metadata": {},
   "outputs": [
    {
     "data": {
      "image/png": "[encoded data removed]",
      "text/plain": [
       "<matplotlib.figure.Figure at 0x12056c4e0>"
      ]
     },
     "metadata": {
      "needs_background": "light"
     },
     "output_type": "display_data"
    },
    {
     "data": {
      "text/plain": [
       "<matplotlib.figure.Figure at 0x12071a4a8>"
      ]
     },
     "metadata": {},
     "output_type": "display_data"
    }
   ],
   "source": [
    "interpolated_election2017_allen_afd.plot()\n",
    "plt.show()\n",
    "plt.clf()"
   ]
  },
  {
   "cell_type": "markdown",
   "metadata": {},
   "source": [
    "## Data transformation of time-series \n",
    "\n"
   ]
  },
  {
   "cell_type": "markdown",
   "metadata": {},
   "source": [
    "#### AFD"
   ]
  },
  {
   "cell_type": "code",
   "execution_count": 15,
   "metadata": {},
   "outputs": [],
   "source": [
    "#Create dataframe for AFD voteshares polls by each of the 7 institutions\n",
    "\n",
    "election2017_allen_afd = election2017_allen.loc[election2017_allen['party'] == 'afd']\n",
    "election2017_insa_afd = election2017_insa.loc[election2017_insa['party'] == 'afd']\n",
    "election2017_forsa_afd = election2017_forsa.loc[election2017_forsa['party'] == 'afd']\n",
    "election2017_emnid_afd = election2017_emnid.loc[election2017_emnid['party'] == 'afd']\n",
    "election2017_gms_afd = election2017_gms.loc[election2017_gms['party'] == 'afd']\n",
    "election2017_infra_afd = election2017_infra.loc[election2017_infra['party'] == 'afd']\n",
    "election2017_fgruppe_afd = election2017_fgruppe.loc[election2017_fgruppe['party'] == 'afd']"
   ]
  },
  {
   "cell_type": "code",
   "execution_count": 16,
   "metadata": {},
   "outputs": [
    {
     "data": {
      "text/plain": [
       "2017-09-17     9.692308\n",
       "2017-09-18     9.846154\n",
       "2017-09-19    10.000000\n",
       "2017-09-20    10.000000\n",
       "2017-09-21    10.000000\n",
       "Freq: D, Name: support, dtype: float64"
      ]
     },
     "execution_count": 16,
     "metadata": {},
     "output_type": "execute_result"
    }
   ],
   "source": [
    "#Create upsampled and interpolated data for Allen in AFD voteshares\n",
    "\n",
    "t_index_final = pd.date_range(start='2013-10-23', end='2017-09-21', freq='D')\n",
    "t_index_allen = pd.date_range(start='2013-10-10', end='2017-09-21', freq='D')\n",
    "\n",
    "upsampled_election2017_allen_afd = election2017_allen_afd['support'].resample('D').first().reindex(t_index_allen)\n",
    "interpolated_election2017_allen_afd = upsampled_election2017_allen_afd.interpolate(how='linear')\n",
    "interpolated_election2017_allen_afd = interpolated_election2017_allen_afd.reindex(t_index_final)\n",
    "interpolated_election2017_allen_afd.tail()"
   ]
  },
  {
   "cell_type": "code",
   "execution_count": 171,
   "metadata": {},
   "outputs": [
    {
     "data": {
      "text/plain": [
       "2017-09-17    11.0\n",
       "2017-09-18    11.0\n",
       "2017-09-19    11.0\n",
       "2017-09-20    11.0\n",
       "2017-09-21    11.0\n",
       "Freq: D, Name: support, dtype: float64"
      ]
     },
     "execution_count": 171,
     "metadata": {},
     "output_type": "execute_result"
    }
   ],
   "source": [
    "#Create upsampled and interpolated data for Insa in AFD voteshares\n",
    "\n",
    "t_index_final = pd.date_range(start='2013-10-23', end='2017-09-21', freq='D')\n",
    "t_index_insa = pd.date_range(start='2013-10-10', end='2017-09-21', freq='D')\n",
    "\n",
    "upsampled_election2017_insa_afd = election2017_insa_afd['support'].resample('D').first().reindex(t_index_insa)\n",
    "interpolated_election2017_insa_afd = upsampled_election2017_insa_afd.interpolate(how='linear')\n",
    "interpolated_election2017_insa_afd = interpolated_election2017_insa_afd.reindex(t_index_final)\n",
    "interpolated_election2017_insa_afd.tail()"
   ]
  },
  {
   "cell_type": "code",
   "execution_count": 18,
   "metadata": {},
   "outputs": [
    {
     "data": {
      "text/plain": [
       "2017-09-17    9.0\n",
       "2017-09-18    9.0\n",
       "2017-09-19    9.0\n",
       "2017-09-20    9.0\n",
       "2017-09-21    9.0\n",
       "Freq: D, Name: support, dtype: float64"
      ]
     },
     "execution_count": 18,
     "metadata": {},
     "output_type": "execute_result"
    }
   ],
   "source": [
    "#Create upsampled and interpolated data for Forsa in AFD voteshares\n",
    "\n",
    "t_index_forsa = pd.date_range(start='2013-10-01', end='2017-09-21', freq='D')\n",
    "\n",
    "upsampled_election2017_forsa_afd = election2017_forsa_afd['support'].resample('D').first().reindex(t_index_forsa)\n",
    "interpolated_election2017_forsa_afd = upsampled_election2017_forsa_afd.interpolate(how='linear')\n",
    "interpolated_election2017_forsa_afd = interpolated_election2017_forsa_afd.reindex(t_index_final)\n",
    "interpolated_election2017_forsa_afd.tail()"
   ]
  },
  {
   "cell_type": "code",
   "execution_count": 19,
   "metadata": {},
   "outputs": [
    {
     "data": {
      "text/plain": [
       "2017-09-17    11.0\n",
       "2017-09-18    11.0\n",
       "2017-09-19    11.0\n",
       "2017-09-20    11.0\n",
       "2017-09-21    11.0\n",
       "Freq: D, Name: support, dtype: float64"
      ]
     },
     "execution_count": 19,
     "metadata": {},
     "output_type": "execute_result"
    }
   ],
   "source": [
    "#Create upsampled and interpolated data for Emnid in AFD voteshares\n",
    "\n",
    "t_index_emnid = pd.date_range(start='2013-09-29', end='2017-09-21', freq='D')\n",
    "\n",
    "upsampled_election2017_emnid_afd = election2017_emnid_afd['support'].resample('D').first().reindex(t_index_emnid)\n",
    "interpolated_election2017_emnid_afd = upsampled_election2017_emnid_afd.interpolate(how='linear')\n",
    "interpolated_election2017_emnid_afd = interpolated_election2017_emnid_afd.reindex(t_index_final)\n",
    "interpolated_election2017_emnid_afd.tail()"
   ]
  },
  {
   "cell_type": "code",
   "execution_count": 20,
   "metadata": {},
   "outputs": [
    {
     "data": {
      "text/plain": [
       "2017-09-17     9.428571\n",
       "2017-09-18     9.571429\n",
       "2017-09-19     9.714286\n",
       "2017-09-20     9.857143\n",
       "2017-09-21    10.000000\n",
       "Freq: D, Name: support, dtype: float64"
      ]
     },
     "execution_count": 20,
     "metadata": {},
     "output_type": "execute_result"
    }
   ],
   "source": [
    "#Create upsampled and interpolated data for GMS in AFD voteshares\n",
    "\n",
    "t_index_gms = pd.date_range(start='2013-10-15', end='2017-09-21', freq='D')\n",
    "\n",
    "upsampled_election2017_gms_afd = election2017_gms_afd['support'].resample('D').first().reindex(t_index_gms)\n",
    "interpolated_election2017_gms_afd = upsampled_election2017_gms_afd.interpolate(how='linear')\n",
    "interpolated_election2017_gms_afd = interpolated_election2017_gms_afd.reindex(t_index_final)\n",
    "interpolated_election2017_gms_afd.tail()"
   ]
  },
  {
   "cell_type": "code",
   "execution_count": 21,
   "metadata": {},
   "outputs": [
    {
     "data": {
      "text/plain": [
       "2017-09-17     9.428571\n",
       "2017-09-18     9.571429\n",
       "2017-09-19     9.714286\n",
       "2017-09-20     9.857143\n",
       "2017-09-21    10.000000\n",
       "Freq: D, Name: support, dtype: float64"
      ]
     },
     "execution_count": 21,
     "metadata": {},
     "output_type": "execute_result"
    }
   ],
   "source": [
    "#Create upsampled and interpolated data for Infra in AFD voteshares\n",
    "\n",
    "t_index_infra = pd.date_range(start='2013-10-10', end='2017-09-21', freq='D')\n",
    "\n",
    "upsampled_election2017_infra_afd = election2017_infra_afd['support'].resample('D').first().reindex(t_index_infra)\n",
    "interpolated_election2017_infra_afd = upsampled_election2017_infra_afd.interpolate(how='linear')\n",
    "interpolated_election2017_infra_afd = interpolated_election2017_infra_afd.reindex(t_index_final)\n",
    "interpolated_election2017_gms_afd.tail()"
   ]
  },
  {
   "cell_type": "code",
   "execution_count": 169,
   "metadata": {},
   "outputs": [
    {
     "data": {
      "text/plain": [
       "2017-09-17    10.333333\n",
       "2017-09-18    10.500000\n",
       "2017-09-19    10.666667\n",
       "2017-09-20    10.833333\n",
       "2017-09-21    11.000000\n",
       "Freq: D, Name: support, dtype: float64"
      ]
     },
     "execution_count": 169,
     "metadata": {},
     "output_type": "execute_result"
    }
   ],
   "source": [
    "#Create upsampled and interpolated data for Fgruppe in AFD voteshares\n",
    "\n",
    "t_index_fgruppe = pd.date_range(start='2013-09-27', end='2017-09-21', freq='D')\n",
    "\n",
    "upsampled_election2017_fgruppe_afd = election2017_fgruppe_afd['support'].resample('D').first().reindex(t_index_fgruppe)\n",
    "interpolated_election2017_fgruppe_afd = upsampled_election2017_fgruppe_afd.interpolate(how='linear')\n",
    "interpolated_election2017_fgruppe_afd = interpolated_election2017_fgruppe_afd.reindex(t_index_final)\n",
    "interpolated_election2017_fgruppe_afd.tail()"
   ]
  },
  {
   "cell_type": "code",
   "execution_count": 23,
   "metadata": {},
   "outputs": [
    {
     "data": {
      "image/png": "[encoded data removed]",
      "text/plain": [
       "<matplotlib.figure.Figure at 0x1207ea630>"
      ]
     },
     "metadata": {
      "needs_background": "light"
     },
     "output_type": "display_data"
    },
    {
     "data": {
      "text/plain": [
       "<matplotlib.figure.Figure at 0x120ae43c8>"
      ]
     },
     "metadata": {},
     "output_type": "display_data"
    }
   ],
   "source": [
    "interpolated_election2017_allen_afd.plot(label=\"Allensbach\", legend = True)\n",
    "interpolated_election2017_insa_afd.plot(label=\"Insa\", legend = True)\n",
    "interpolated_election2017_forsa_afd.plot(label=\"Forsa\", legend = True)\n",
    "interpolated_election2017_emnid_afd.plot(label=\"Emnid\", legend = True)\n",
    "interpolated_election2017_gms_afd.plot(label=\"GMS\", legend = True)\n",
    "interpolated_election2017_infra_afd.plot(label=\"Infra\", legend = True)\n",
    "interpolated_election2017_fgruppe_afd.plot(label=\"Fgruppe\", legend = True)\n",
    "plt.xlabel(\"Date\")\n",
    "plt.ylabel(\"Voteshares\")\n",
    "plt.title(\"AFD voteshares from polls for 2017 election\")\n",
    "plt.show()\n",
    "plt.clf()"
   ]
  },
  {
   "cell_type": "code",
   "execution_count": 24,
   "metadata": {},
   "outputs": [
    {
     "data": {
      "text/html": [
       "<div>\n",
       "<style scoped>\n",
       "    .dataframe tbody tr th:only-of-type {\n",
       "        vertical-align: middle;\n",
       "    }\n",
       "\n",
       "    .dataframe tbody tr th {\n",
       "        vertical-align: top;\n",
       "    }\n",
       "\n",
       "    .dataframe thead th {\n",
       "        text-align: right;\n",
       "    }\n",
       "</style>\n",
       "<table border=\"1\" class=\"dataframe\">\n",
       "  <thead>\n",
       "    <tr style=\"text-align: right;\">\n",
       "      <th></th>\n",
       "      <th>2013-10-23 00:00:00</th>\n",
       "      <th>2013-10-24 00:00:00</th>\n",
       "      <th>2013-10-25 00:00:00</th>\n",
       "      <th>2013-10-26 00:00:00</th>\n",
       "      <th>2013-10-27 00:00:00</th>\n",
       "      <th>2013-10-28 00:00:00</th>\n",
       "      <th>2013-10-29 00:00:00</th>\n",
       "      <th>2013-10-30 00:00:00</th>\n",
       "      <th>2013-10-31 00:00:00</th>\n",
       "      <th>2013-11-01 00:00:00</th>\n",
       "      <th>...</th>\n",
       "      <th>2017-09-12 00:00:00</th>\n",
       "      <th>2017-09-13 00:00:00</th>\n",
       "      <th>2017-09-14 00:00:00</th>\n",
       "      <th>2017-09-15 00:00:00</th>\n",
       "      <th>2017-09-16 00:00:00</th>\n",
       "      <th>2017-09-17 00:00:00</th>\n",
       "      <th>2017-09-18 00:00:00</th>\n",
       "      <th>2017-09-19 00:00:00</th>\n",
       "      <th>2017-09-20 00:00:00</th>\n",
       "      <th>2017-09-21 00:00:00</th>\n",
       "    </tr>\n",
       "  </thead>\n",
       "  <tbody>\n",
       "    <tr>\n",
       "      <th>support</th>\n",
       "      <td>5.500000</td>\n",
       "      <td>5.485714</td>\n",
       "      <td>5.471429</td>\n",
       "      <td>5.457143</td>\n",
       "      <td>5.442857</td>\n",
       "      <td>5.428571</td>\n",
       "      <td>5.414286</td>\n",
       "      <td>5.400000</td>\n",
       "      <td>5.385714</td>\n",
       "      <td>5.371429</td>\n",
       "      <td>...</td>\n",
       "      <td>8.923077</td>\n",
       "      <td>9.076923</td>\n",
       "      <td>9.230769</td>\n",
       "      <td>9.384615</td>\n",
       "      <td>9.538462</td>\n",
       "      <td>9.692308</td>\n",
       "      <td>9.846154</td>\n",
       "      <td>10.000000</td>\n",
       "      <td>10.000000</td>\n",
       "      <td>10.0</td>\n",
       "    </tr>\n",
       "    <tr>\n",
       "      <th>support</th>\n",
       "      <td>4.111111</td>\n",
       "      <td>4.166667</td>\n",
       "      <td>4.222222</td>\n",
       "      <td>4.277778</td>\n",
       "      <td>4.333333</td>\n",
       "      <td>4.388889</td>\n",
       "      <td>4.444444</td>\n",
       "      <td>4.500000</td>\n",
       "      <td>4.428571</td>\n",
       "      <td>4.357143</td>\n",
       "      <td>...</td>\n",
       "      <td>11.000000</td>\n",
       "      <td>11.000000</td>\n",
       "      <td>11.000000</td>\n",
       "      <td>11.000000</td>\n",
       "      <td>11.000000</td>\n",
       "      <td>11.000000</td>\n",
       "      <td>11.000000</td>\n",
       "      <td>11.000000</td>\n",
       "      <td>11.000000</td>\n",
       "      <td>11.0</td>\n",
       "    </tr>\n",
       "    <tr>\n",
       "      <th>support</th>\n",
       "      <td>5.000000</td>\n",
       "      <td>5.000000</td>\n",
       "      <td>5.000000</td>\n",
       "      <td>5.000000</td>\n",
       "      <td>5.000000</td>\n",
       "      <td>5.000000</td>\n",
       "      <td>5.000000</td>\n",
       "      <td>5.000000</td>\n",
       "      <td>5.000000</td>\n",
       "      <td>5.000000</td>\n",
       "      <td>...</td>\n",
       "      <td>9.000000</td>\n",
       "      <td>9.000000</td>\n",
       "      <td>9.000000</td>\n",
       "      <td>9.000000</td>\n",
       "      <td>9.000000</td>\n",
       "      <td>9.000000</td>\n",
       "      <td>9.000000</td>\n",
       "      <td>9.000000</td>\n",
       "      <td>9.000000</td>\n",
       "      <td>9.0</td>\n",
       "    </tr>\n",
       "    <tr>\n",
       "      <th>support</th>\n",
       "      <td>5.000000</td>\n",
       "      <td>5.000000</td>\n",
       "      <td>5.000000</td>\n",
       "      <td>5.000000</td>\n",
       "      <td>5.000000</td>\n",
       "      <td>5.000000</td>\n",
       "      <td>5.000000</td>\n",
       "      <td>5.000000</td>\n",
       "      <td>5.000000</td>\n",
       "      <td>5.000000</td>\n",
       "      <td>...</td>\n",
       "      <td>9.857143</td>\n",
       "      <td>10.142857</td>\n",
       "      <td>10.428571</td>\n",
       "      <td>10.714286</td>\n",
       "      <td>11.000000</td>\n",
       "      <td>11.000000</td>\n",
       "      <td>11.000000</td>\n",
       "      <td>11.000000</td>\n",
       "      <td>11.000000</td>\n",
       "      <td>11.0</td>\n",
       "    </tr>\n",
       "    <tr>\n",
       "      <th>support</th>\n",
       "      <td>5.771429</td>\n",
       "      <td>5.742857</td>\n",
       "      <td>5.714286</td>\n",
       "      <td>5.685714</td>\n",
       "      <td>5.657143</td>\n",
       "      <td>5.628571</td>\n",
       "      <td>5.600000</td>\n",
       "      <td>5.571429</td>\n",
       "      <td>5.542857</td>\n",
       "      <td>5.514286</td>\n",
       "      <td>...</td>\n",
       "      <td>8.714286</td>\n",
       "      <td>8.857143</td>\n",
       "      <td>9.000000</td>\n",
       "      <td>9.142857</td>\n",
       "      <td>9.285714</td>\n",
       "      <td>9.428571</td>\n",
       "      <td>9.571429</td>\n",
       "      <td>9.714286</td>\n",
       "      <td>9.857143</td>\n",
       "      <td>10.0</td>\n",
       "    </tr>\n",
       "  </tbody>\n",
       "</table>\n",
       "<p>5 rows × 1430 columns</p>\n",
       "</div>"
      ],
      "text/plain": [
       "         2013-10-23  2013-10-24  2013-10-25  2013-10-26  2013-10-27  \\\n",
       "support    5.500000    5.485714    5.471429    5.457143    5.442857   \n",
       "support    4.111111    4.166667    4.222222    4.277778    4.333333   \n",
       "support    5.000000    5.000000    5.000000    5.000000    5.000000   \n",
       "support    5.000000    5.000000    5.000000    5.000000    5.000000   \n",
       "support    5.771429    5.742857    5.714286    5.685714    5.657143   \n",
       "\n",
       "         2013-10-28  2013-10-29  2013-10-30  2013-10-31  2013-11-01  ...  \\\n",
       "support    5.428571    5.414286    5.400000    5.385714    5.371429  ...   \n",
       "support    4.388889    4.444444    4.500000    4.428571    4.357143  ...   \n",
       "support    5.000000    5.000000    5.000000    5.000000    5.000000  ...   \n",
       "support    5.000000    5.000000    5.000000    5.000000    5.000000  ...   \n",
       "support    5.628571    5.600000    5.571429    5.542857    5.514286  ...   \n",
       "\n",
       "         2017-09-12  2017-09-13  2017-09-14  2017-09-15  2017-09-16  \\\n",
       "support    8.923077    9.076923    9.230769    9.384615    9.538462   \n",
       "support   11.000000   11.000000   11.000000   11.000000   11.000000   \n",
       "support    9.000000    9.000000    9.000000    9.000000    9.000000   \n",
       "support    9.857143   10.142857   10.428571   10.714286   11.000000   \n",
       "support    8.714286    8.857143    9.000000    9.142857    9.285714   \n",
       "\n",
       "         2017-09-17  2017-09-18  2017-09-19  2017-09-20  2017-09-21  \n",
       "support    9.692308    9.846154   10.000000   10.000000        10.0  \n",
       "support   11.000000   11.000000   11.000000   11.000000        11.0  \n",
       "support    9.000000    9.000000    9.000000    9.000000         9.0  \n",
       "support   11.000000   11.000000   11.000000   11.000000        11.0  \n",
       "support    9.428571    9.571429    9.714286    9.857143        10.0  \n",
       "\n",
       "[5 rows x 1430 columns]"
      ]
     },
     "execution_count": 24,
     "metadata": {},
     "output_type": "execute_result"
    }
   ],
   "source": [
    "#Create new dataframe with all new time-series from 7 institutions\n",
    "\n",
    "frames_afd = [interpolated_election2017_allen_afd, interpolated_election2017_insa_afd, \n",
    "         interpolated_election2017_forsa_afd, interpolated_election2017_emnid_afd,\n",
    "         interpolated_election2017_gms_afd, interpolated_election2017_infra_afd, \n",
    "         interpolated_election2017_fgruppe_afd]\n",
    "\n",
    "result_afd = pd.concat(frames_afd, axis=1)\n",
    "final_result_afd = result_afd.T\n",
    "final_result_afd.head()"
   ]
  },
  {
   "cell_type": "markdown",
   "metadata": {},
   "source": [
    "## MODELLING FOR AFD"
   ]
  },
  {
   "cell_type": "code",
   "execution_count": 25,
   "metadata": {},
   "outputs": [],
   "source": [
    "#import libraries \n",
    "\n",
    "import talib\n",
    "import numpy as np\n",
    "from sklearn.metrics import mean_squared_log_error\n",
    "from sklearn.ensemble import RandomForestRegressor\n"
   ]
  },
  {
   "cell_type": "markdown",
   "metadata": {},
   "source": [
    "##### Correlations\n",
    "Correlations are nice to check out before building machine learning models, because we can see which features correlate to the target most strongly. Pearson's correlation coefficient is often used, which only detects linear relationships. It's commonly assumed our data is normally distributed, which we can \"eyeball\" from histograms. Highly correlated variables have a Pearson correlation coefficient near 1 (positively correlated) or -1 (negatively correlated). A value near 0 means the two variables are not linearly correlated.\n",
    "\n",
    "If we use the same time periods for previous voteshares changes and future voteshares changes, we can see if the vote share is mean-reverting (bounces around) or trend-following (goes up if it has been going up recently)."
   ]
  },
  {
   "cell_type": "code",
   "execution_count": 209,
   "metadata": {},
   "outputs": [
    {
     "data": {
      "text/html": [
       "<div>\n",
       "<style scoped>\n",
       "    .dataframe tbody tr th:only-of-type {\n",
       "        vertical-align: middle;\n",
       "    }\n",
       "\n",
       "    .dataframe tbody tr th {\n",
       "        vertical-align: top;\n",
       "    }\n",
       "\n",
       "    .dataframe thead th {\n",
       "        text-align: right;\n",
       "    }\n",
       "</style>\n",
       "<table border=\"1\" class=\"dataframe\">\n",
       "  <thead>\n",
       "    <tr style=\"text-align: right;\">\n",
       "      <th></th>\n",
       "      <th>support</th>\n",
       "    </tr>\n",
       "  </thead>\n",
       "  <tbody>\n",
       "    <tr>\n",
       "      <th>2017-09-17</th>\n",
       "      <td>9.692308</td>\n",
       "    </tr>\n",
       "    <tr>\n",
       "      <th>2017-09-18</th>\n",
       "      <td>9.846154</td>\n",
       "    </tr>\n",
       "    <tr>\n",
       "      <th>2017-09-19</th>\n",
       "      <td>10.000000</td>\n",
       "    </tr>\n",
       "    <tr>\n",
       "      <th>2017-09-20</th>\n",
       "      <td>10.000000</td>\n",
       "    </tr>\n",
       "    <tr>\n",
       "      <th>2017-09-21</th>\n",
       "      <td>10.000000</td>\n",
       "    </tr>\n",
       "  </tbody>\n",
       "</table>\n",
       "</div>"
      ],
      "text/plain": [
       "              support\n",
       "2017-09-17   9.692308\n",
       "2017-09-18   9.846154\n",
       "2017-09-19  10.000000\n",
       "2017-09-20  10.000000\n",
       "2017-09-21  10.000000"
      ]
     },
     "execution_count": 209,
     "metadata": {},
     "output_type": "execute_result"
    }
   ],
   "source": [
    "#Create dataframe from interpolated allensbach data for AFD\n",
    "\n",
    "df_2017_allen_afd = interpolated_election2017_allen_afd.to_frame()\n",
    "df_2017_allen_afd.tail()"
   ]
  },
  {
   "cell_type": "code",
   "execution_count": 210,
   "metadata": {},
   "outputs": [],
   "source": [
    "# Create 3-day % changes of support for the current day, and 3 days in the future\n",
    "\n",
    "df_2017_allen_afd['3d_future'] = df_2017_allen_afd['support'].shift(-3)\n",
    "df_2017_allen_afd['3d_future_pct'] = df_2017_allen_afd['3d_future'].pct_change(3)\n",
    "df_2017_allen_afd['3d_pct'] = df_2017_allen_afd['support'].pct_change(3)"
   ]
  },
  {
   "cell_type": "code",
   "execution_count": 211,
   "metadata": {},
   "outputs": [
    {
     "data": {
      "text/html": [
       "<div>\n",
       "<style scoped>\n",
       "    .dataframe tbody tr th:only-of-type {\n",
       "        vertical-align: middle;\n",
       "    }\n",
       "\n",
       "    .dataframe tbody tr th {\n",
       "        vertical-align: top;\n",
       "    }\n",
       "\n",
       "    .dataframe thead th {\n",
       "        text-align: right;\n",
       "    }\n",
       "</style>\n",
       "<table border=\"1\" class=\"dataframe\">\n",
       "  <thead>\n",
       "    <tr style=\"text-align: right;\">\n",
       "      <th></th>\n",
       "      <th>support</th>\n",
       "      <th>3d_future</th>\n",
       "      <th>3d_future_pct</th>\n",
       "      <th>3d_pct</th>\n",
       "    </tr>\n",
       "  </thead>\n",
       "  <tbody>\n",
       "    <tr>\n",
       "      <th>2013-10-23</th>\n",
       "      <td>5.500000</td>\n",
       "      <td>5.457143</td>\n",
       "      <td>NaN</td>\n",
       "      <td>NaN</td>\n",
       "    </tr>\n",
       "    <tr>\n",
       "      <th>2013-10-24</th>\n",
       "      <td>5.485714</td>\n",
       "      <td>5.442857</td>\n",
       "      <td>NaN</td>\n",
       "      <td>NaN</td>\n",
       "    </tr>\n",
       "    <tr>\n",
       "      <th>2013-10-25</th>\n",
       "      <td>5.471429</td>\n",
       "      <td>5.428571</td>\n",
       "      <td>NaN</td>\n",
       "      <td>NaN</td>\n",
       "    </tr>\n",
       "    <tr>\n",
       "      <th>2013-10-26</th>\n",
       "      <td>5.457143</td>\n",
       "      <td>5.414286</td>\n",
       "      <td>-0.007853</td>\n",
       "      <td>-0.007792</td>\n",
       "    </tr>\n",
       "    <tr>\n",
       "      <th>2013-10-27</th>\n",
       "      <td>5.442857</td>\n",
       "      <td>5.400000</td>\n",
       "      <td>-0.007874</td>\n",
       "      <td>-0.007812</td>\n",
       "    </tr>\n",
       "    <tr>\n",
       "      <th>2013-10-28</th>\n",
       "      <td>5.428571</td>\n",
       "      <td>5.385714</td>\n",
       "      <td>-0.007895</td>\n",
       "      <td>-0.007833</td>\n",
       "    </tr>\n",
       "    <tr>\n",
       "      <th>2013-10-29</th>\n",
       "      <td>5.414286</td>\n",
       "      <td>5.371429</td>\n",
       "      <td>-0.007916</td>\n",
       "      <td>-0.007853</td>\n",
       "    </tr>\n",
       "    <tr>\n",
       "      <th>2013-10-30</th>\n",
       "      <td>5.400000</td>\n",
       "      <td>5.357143</td>\n",
       "      <td>-0.007937</td>\n",
       "      <td>-0.007874</td>\n",
       "    </tr>\n",
       "    <tr>\n",
       "      <th>2013-10-31</th>\n",
       "      <td>5.385714</td>\n",
       "      <td>5.342857</td>\n",
       "      <td>-0.007958</td>\n",
       "      <td>-0.007895</td>\n",
       "    </tr>\n",
       "    <tr>\n",
       "      <th>2013-11-01</th>\n",
       "      <td>5.371429</td>\n",
       "      <td>5.328571</td>\n",
       "      <td>-0.007979</td>\n",
       "      <td>-0.007916</td>\n",
       "    </tr>\n",
       "  </tbody>\n",
       "</table>\n",
       "</div>"
      ],
      "text/plain": [
       "             support  3d_future  3d_future_pct    3d_pct\n",
       "2013-10-23  5.500000   5.457143            NaN       NaN\n",
       "2013-10-24  5.485714   5.442857            NaN       NaN\n",
       "2013-10-25  5.471429   5.428571            NaN       NaN\n",
       "2013-10-26  5.457143   5.414286      -0.007853 -0.007792\n",
       "2013-10-27  5.442857   5.400000      -0.007874 -0.007812\n",
       "2013-10-28  5.428571   5.385714      -0.007895 -0.007833\n",
       "2013-10-29  5.414286   5.371429      -0.007916 -0.007853\n",
       "2013-10-30  5.400000   5.357143      -0.007937 -0.007874\n",
       "2013-10-31  5.385714   5.342857      -0.007958 -0.007895\n",
       "2013-11-01  5.371429   5.328571      -0.007979 -0.007916"
      ]
     },
     "execution_count": 211,
     "metadata": {},
     "output_type": "execute_result"
    }
   ],
   "source": [
    "#look at the new dataframe\n",
    "\n",
    "df_2017_allen_afd.head(10)"
   ]
  },
  {
   "cell_type": "code",
   "execution_count": 212,
   "metadata": {},
   "outputs": [
    {
     "name": "stdout",
     "output_type": "stream",
     "text": [
      "                 3d_pct  3d_future_pct\n",
      "3d_pct         1.000000       0.923151\n",
      "3d_future_pct  0.923151       1.000000\n"
     ]
    }
   ],
   "source": [
    "# Calculate the correlation matrix between the 3d close pecentage changes (current and future)\n",
    "\n",
    "corr = df_2017_allen_afd[['3d_pct', '3d_future_pct']].corr()\n",
    "print(corr)"
   ]
  },
  {
   "cell_type": "code",
   "execution_count": 213,
   "metadata": {},
   "outputs": [
    {
     "data": {
      "image/png": "[encoded data removed]",
      "text/plain": [
       "<matplotlib.figure.Figure at 0x12e2be320>"
      ]
     },
     "metadata": {
      "needs_background": "light"
     },
     "output_type": "display_data"
    }
   ],
   "source": [
    "# Scatter the current 3-day percent change vs the future 3-day percent change\n",
    "plt.scatter(df_2017_allen_afd['3d_pct'], df_2017_allen_afd['3d_future_pct'])\n",
    "plt.show()"
   ]
  },
  {
   "cell_type": "markdown",
   "metadata": {},
   "source": [
    "#### Create moving average\n",
    "\n",
    "We want to add historical data to our machine learning models to make better predictions, but adding lots of historical time steps is tricky. Instead, we can condense information from previous points into a single timestep with indicators.\n",
    "\n",
    "A moving average is one of the simplest indicators - it's the average of previous data points. This is the function talib.SMA() from the TAlib library."
   ]
  },
  {
   "cell_type": "code",
   "execution_count": 214,
   "metadata": {},
   "outputs": [
    {
     "name": "stdout",
     "output_type": "stream",
     "text": [
      "['3d_future', 'ma3', 'ma5', 'ma10', 'ma20', 'ma30', 'ma50', 'ma100', 'ma200']\n"
     ]
    }
   ],
   "source": [
    "feature_names = ['3d_future']  # a list of the feature names for later\n",
    "\n",
    "# Create moving averages and rsi for timeperiods of 14, 30, 50, and 200\n",
    "for n in [3, 5, 10, 20, 30, 50, 100, 200]:\n",
    "\n",
    "    # Create the moving average indicator and divide by Adj_Close\n",
    "    df_2017_allen_afd['ma' + str(n)] = talib.SMA(df_2017_allen_afd['support'].values,\n",
    "                              timeperiod=n) / df_2017_allen_afd['support']\n",
    "    # Create the RSI indicator\n",
    "    #df_2017_allen_afd['rsi' + str(n)] = talib.RSI(df_2017_allen_afd['support'].values, timeperiod=n)\n",
    "    \n",
    "    # Add rsi and moving average to the feature name list\n",
    "    feature_names = feature_names + ['ma' + str(n)]\n",
    "print(feature_names)"
   ]
  },
  {
   "cell_type": "code",
   "execution_count": 215,
   "metadata": {},
   "outputs": [
    {
     "data": {
      "text/html": [
       "<div>\n",
       "<style scoped>\n",
       "    .dataframe tbody tr th:only-of-type {\n",
       "        vertical-align: middle;\n",
       "    }\n",
       "\n",
       "    .dataframe tbody tr th {\n",
       "        vertical-align: top;\n",
       "    }\n",
       "\n",
       "    .dataframe thead th {\n",
       "        text-align: right;\n",
       "    }\n",
       "</style>\n",
       "<table border=\"1\" class=\"dataframe\">\n",
       "  <thead>\n",
       "    <tr style=\"text-align: right;\">\n",
       "      <th></th>\n",
       "      <th>support</th>\n",
       "      <th>3d_future</th>\n",
       "      <th>3d_future_pct</th>\n",
       "      <th>3d_pct</th>\n",
       "      <th>ma3</th>\n",
       "      <th>ma5</th>\n",
       "      <th>ma10</th>\n",
       "      <th>ma20</th>\n",
       "      <th>ma30</th>\n",
       "      <th>ma50</th>\n",
       "      <th>ma100</th>\n",
       "      <th>ma200</th>\n",
       "    </tr>\n",
       "  </thead>\n",
       "  <tbody>\n",
       "    <tr>\n",
       "      <th>2013-10-23</th>\n",
       "      <td>5.500000</td>\n",
       "      <td>5.457143</td>\n",
       "      <td>NaN</td>\n",
       "      <td>NaN</td>\n",
       "      <td>NaN</td>\n",
       "      <td>NaN</td>\n",
       "      <td>NaN</td>\n",
       "      <td>NaN</td>\n",
       "      <td>NaN</td>\n",
       "      <td>NaN</td>\n",
       "      <td>NaN</td>\n",
       "      <td>NaN</td>\n",
       "    </tr>\n",
       "    <tr>\n",
       "      <th>2013-10-24</th>\n",
       "      <td>5.485714</td>\n",
       "      <td>5.442857</td>\n",
       "      <td>NaN</td>\n",
       "      <td>NaN</td>\n",
       "      <td>NaN</td>\n",
       "      <td>NaN</td>\n",
       "      <td>NaN</td>\n",
       "      <td>NaN</td>\n",
       "      <td>NaN</td>\n",
       "      <td>NaN</td>\n",
       "      <td>NaN</td>\n",
       "      <td>NaN</td>\n",
       "    </tr>\n",
       "    <tr>\n",
       "      <th>2013-10-25</th>\n",
       "      <td>5.471429</td>\n",
       "      <td>5.428571</td>\n",
       "      <td>NaN</td>\n",
       "      <td>NaN</td>\n",
       "      <td>1.002611</td>\n",
       "      <td>NaN</td>\n",
       "      <td>NaN</td>\n",
       "      <td>NaN</td>\n",
       "      <td>NaN</td>\n",
       "      <td>NaN</td>\n",
       "      <td>NaN</td>\n",
       "      <td>NaN</td>\n",
       "    </tr>\n",
       "    <tr>\n",
       "      <th>2013-10-26</th>\n",
       "      <td>5.457143</td>\n",
       "      <td>5.414286</td>\n",
       "      <td>-0.007853</td>\n",
       "      <td>-0.007792</td>\n",
       "      <td>1.002618</td>\n",
       "      <td>NaN</td>\n",
       "      <td>NaN</td>\n",
       "      <td>NaN</td>\n",
       "      <td>NaN</td>\n",
       "      <td>NaN</td>\n",
       "      <td>NaN</td>\n",
       "      <td>NaN</td>\n",
       "    </tr>\n",
       "    <tr>\n",
       "      <th>2013-10-27</th>\n",
       "      <td>5.442857</td>\n",
       "      <td>5.400000</td>\n",
       "      <td>-0.007874</td>\n",
       "      <td>-0.007812</td>\n",
       "      <td>1.002625</td>\n",
       "      <td>1.005249</td>\n",
       "      <td>NaN</td>\n",
       "      <td>NaN</td>\n",
       "      <td>NaN</td>\n",
       "      <td>NaN</td>\n",
       "      <td>NaN</td>\n",
       "      <td>NaN</td>\n",
       "    </tr>\n",
       "    <tr>\n",
       "      <th>2013-10-28</th>\n",
       "      <td>5.428571</td>\n",
       "      <td>5.385714</td>\n",
       "      <td>-0.007895</td>\n",
       "      <td>-0.007833</td>\n",
       "      <td>1.002632</td>\n",
       "      <td>1.005263</td>\n",
       "      <td>NaN</td>\n",
       "      <td>NaN</td>\n",
       "      <td>NaN</td>\n",
       "      <td>NaN</td>\n",
       "      <td>NaN</td>\n",
       "      <td>NaN</td>\n",
       "    </tr>\n",
       "    <tr>\n",
       "      <th>2013-10-29</th>\n",
       "      <td>5.414286</td>\n",
       "      <td>5.371429</td>\n",
       "      <td>-0.007916</td>\n",
       "      <td>-0.007853</td>\n",
       "      <td>1.002639</td>\n",
       "      <td>1.005277</td>\n",
       "      <td>NaN</td>\n",
       "      <td>NaN</td>\n",
       "      <td>NaN</td>\n",
       "      <td>NaN</td>\n",
       "      <td>NaN</td>\n",
       "      <td>NaN</td>\n",
       "    </tr>\n",
       "    <tr>\n",
       "      <th>2013-10-30</th>\n",
       "      <td>5.400000</td>\n",
       "      <td>5.357143</td>\n",
       "      <td>-0.007937</td>\n",
       "      <td>-0.007874</td>\n",
       "      <td>1.002646</td>\n",
       "      <td>1.005291</td>\n",
       "      <td>NaN</td>\n",
       "      <td>NaN</td>\n",
       "      <td>NaN</td>\n",
       "      <td>NaN</td>\n",
       "      <td>NaN</td>\n",
       "      <td>NaN</td>\n",
       "    </tr>\n",
       "    <tr>\n",
       "      <th>2013-10-31</th>\n",
       "      <td>5.385714</td>\n",
       "      <td>5.342857</td>\n",
       "      <td>-0.007958</td>\n",
       "      <td>-0.007895</td>\n",
       "      <td>1.002653</td>\n",
       "      <td>1.005305</td>\n",
       "      <td>NaN</td>\n",
       "      <td>NaN</td>\n",
       "      <td>NaN</td>\n",
       "      <td>NaN</td>\n",
       "      <td>NaN</td>\n",
       "      <td>NaN</td>\n",
       "    </tr>\n",
       "    <tr>\n",
       "      <th>2013-11-01</th>\n",
       "      <td>5.371429</td>\n",
       "      <td>5.328571</td>\n",
       "      <td>-0.007979</td>\n",
       "      <td>-0.007916</td>\n",
       "      <td>1.002660</td>\n",
       "      <td>1.005319</td>\n",
       "      <td>1.011968</td>\n",
       "      <td>NaN</td>\n",
       "      <td>NaN</td>\n",
       "      <td>NaN</td>\n",
       "      <td>NaN</td>\n",
       "      <td>NaN</td>\n",
       "    </tr>\n",
       "    <tr>\n",
       "      <th>2013-11-02</th>\n",
       "      <td>5.357143</td>\n",
       "      <td>5.314286</td>\n",
       "      <td>-0.008000</td>\n",
       "      <td>-0.007937</td>\n",
       "      <td>1.002667</td>\n",
       "      <td>1.005333</td>\n",
       "      <td>1.012000</td>\n",
       "      <td>NaN</td>\n",
       "      <td>NaN</td>\n",
       "      <td>NaN</td>\n",
       "      <td>NaN</td>\n",
       "      <td>NaN</td>\n",
       "    </tr>\n",
       "    <tr>\n",
       "      <th>2013-11-03</th>\n",
       "      <td>5.342857</td>\n",
       "      <td>5.300000</td>\n",
       "      <td>-0.008021</td>\n",
       "      <td>-0.007958</td>\n",
       "      <td>1.002674</td>\n",
       "      <td>1.005348</td>\n",
       "      <td>1.012032</td>\n",
       "      <td>NaN</td>\n",
       "      <td>NaN</td>\n",
       "      <td>NaN</td>\n",
       "      <td>NaN</td>\n",
       "      <td>NaN</td>\n",
       "    </tr>\n",
       "    <tr>\n",
       "      <th>2013-11-04</th>\n",
       "      <td>5.328571</td>\n",
       "      <td>5.285714</td>\n",
       "      <td>-0.008043</td>\n",
       "      <td>-0.007979</td>\n",
       "      <td>1.002681</td>\n",
       "      <td>1.005362</td>\n",
       "      <td>1.012064</td>\n",
       "      <td>NaN</td>\n",
       "      <td>NaN</td>\n",
       "      <td>NaN</td>\n",
       "      <td>NaN</td>\n",
       "      <td>NaN</td>\n",
       "    </tr>\n",
       "    <tr>\n",
       "      <th>2013-11-05</th>\n",
       "      <td>5.314286</td>\n",
       "      <td>5.271429</td>\n",
       "      <td>-0.008065</td>\n",
       "      <td>-0.008000</td>\n",
       "      <td>1.002688</td>\n",
       "      <td>1.005376</td>\n",
       "      <td>1.012097</td>\n",
       "      <td>NaN</td>\n",
       "      <td>NaN</td>\n",
       "      <td>NaN</td>\n",
       "      <td>NaN</td>\n",
       "      <td>NaN</td>\n",
       "    </tr>\n",
       "    <tr>\n",
       "      <th>2013-11-06</th>\n",
       "      <td>5.300000</td>\n",
       "      <td>5.257143</td>\n",
       "      <td>-0.008086</td>\n",
       "      <td>-0.008021</td>\n",
       "      <td>1.002695</td>\n",
       "      <td>1.005391</td>\n",
       "      <td>1.012129</td>\n",
       "      <td>NaN</td>\n",
       "      <td>NaN</td>\n",
       "      <td>NaN</td>\n",
       "      <td>NaN</td>\n",
       "      <td>NaN</td>\n",
       "    </tr>\n",
       "    <tr>\n",
       "      <th>2013-11-07</th>\n",
       "      <td>5.285714</td>\n",
       "      <td>5.242857</td>\n",
       "      <td>-0.008108</td>\n",
       "      <td>-0.008043</td>\n",
       "      <td>1.002703</td>\n",
       "      <td>1.005405</td>\n",
       "      <td>1.012162</td>\n",
       "      <td>NaN</td>\n",
       "      <td>NaN</td>\n",
       "      <td>NaN</td>\n",
       "      <td>NaN</td>\n",
       "      <td>NaN</td>\n",
       "    </tr>\n",
       "    <tr>\n",
       "      <th>2013-11-08</th>\n",
       "      <td>5.271429</td>\n",
       "      <td>5.228571</td>\n",
       "      <td>-0.008130</td>\n",
       "      <td>-0.008065</td>\n",
       "      <td>1.002710</td>\n",
       "      <td>1.005420</td>\n",
       "      <td>1.012195</td>\n",
       "      <td>NaN</td>\n",
       "      <td>NaN</td>\n",
       "      <td>NaN</td>\n",
       "      <td>NaN</td>\n",
       "      <td>NaN</td>\n",
       "    </tr>\n",
       "    <tr>\n",
       "      <th>2013-11-09</th>\n",
       "      <td>5.257143</td>\n",
       "      <td>5.214286</td>\n",
       "      <td>-0.008152</td>\n",
       "      <td>-0.008086</td>\n",
       "      <td>1.002717</td>\n",
       "      <td>1.005435</td>\n",
       "      <td>1.012228</td>\n",
       "      <td>NaN</td>\n",
       "      <td>NaN</td>\n",
       "      <td>NaN</td>\n",
       "      <td>NaN</td>\n",
       "      <td>NaN</td>\n",
       "    </tr>\n",
       "    <tr>\n",
       "      <th>2013-11-10</th>\n",
       "      <td>5.242857</td>\n",
       "      <td>5.200000</td>\n",
       "      <td>-0.008174</td>\n",
       "      <td>-0.008108</td>\n",
       "      <td>1.002725</td>\n",
       "      <td>1.005450</td>\n",
       "      <td>1.012262</td>\n",
       "      <td>NaN</td>\n",
       "      <td>NaN</td>\n",
       "      <td>NaN</td>\n",
       "      <td>NaN</td>\n",
       "      <td>NaN</td>\n",
       "    </tr>\n",
       "    <tr>\n",
       "      <th>2013-11-11</th>\n",
       "      <td>5.228571</td>\n",
       "      <td>5.185714</td>\n",
       "      <td>-0.008197</td>\n",
       "      <td>-0.008130</td>\n",
       "      <td>1.002732</td>\n",
       "      <td>1.005464</td>\n",
       "      <td>1.012295</td>\n",
       "      <td>1.025956</td>\n",
       "      <td>NaN</td>\n",
       "      <td>NaN</td>\n",
       "      <td>NaN</td>\n",
       "      <td>NaN</td>\n",
       "    </tr>\n",
       "  </tbody>\n",
       "</table>\n",
       "</div>"
      ],
      "text/plain": [
       "             support  3d_future  3d_future_pct    3d_pct       ma3       ma5  \\\n",
       "2013-10-23  5.500000   5.457143            NaN       NaN       NaN       NaN   \n",
       "2013-10-24  5.485714   5.442857            NaN       NaN       NaN       NaN   \n",
       "2013-10-25  5.471429   5.428571            NaN       NaN  1.002611       NaN   \n",
       "2013-10-26  5.457143   5.414286      -0.007853 -0.007792  1.002618       NaN   \n",
       "2013-10-27  5.442857   5.400000      -0.007874 -0.007812  1.002625  1.005249   \n",
       "2013-10-28  5.428571   5.385714      -0.007895 -0.007833  1.002632  1.005263   \n",
       "2013-10-29  5.414286   5.371429      -0.007916 -0.007853  1.002639  1.005277   \n",
       "2013-10-30  5.400000   5.357143      -0.007937 -0.007874  1.002646  1.005291   \n",
       "2013-10-31  5.385714   5.342857      -0.007958 -0.007895  1.002653  1.005305   \n",
       "2013-11-01  5.371429   5.328571      -0.007979 -0.007916  1.002660  1.005319   \n",
       "2013-11-02  5.357143   5.314286      -0.008000 -0.007937  1.002667  1.005333   \n",
       "2013-11-03  5.342857   5.300000      -0.008021 -0.007958  1.002674  1.005348   \n",
       "2013-11-04  5.328571   5.285714      -0.008043 -0.007979  1.002681  1.005362   \n",
       "2013-11-05  5.314286   5.271429      -0.008065 -0.008000  1.002688  1.005376   \n",
       "2013-11-06  5.300000   5.257143      -0.008086 -0.008021  1.002695  1.005391   \n",
       "2013-11-07  5.285714   5.242857      -0.008108 -0.008043  1.002703  1.005405   \n",
       "2013-11-08  5.271429   5.228571      -0.008130 -0.008065  1.002710  1.005420   \n",
       "2013-11-09  5.257143   5.214286      -0.008152 -0.008086  1.002717  1.005435   \n",
       "2013-11-10  5.242857   5.200000      -0.008174 -0.008108  1.002725  1.005450   \n",
       "2013-11-11  5.228571   5.185714      -0.008197 -0.008130  1.002732  1.005464   \n",
       "\n",
       "                ma10      ma20  ma30  ma50  ma100  ma200  \n",
       "2013-10-23       NaN       NaN   NaN   NaN    NaN    NaN  \n",
       "2013-10-24       NaN       NaN   NaN   NaN    NaN    NaN  \n",
       "2013-10-25       NaN       NaN   NaN   NaN    NaN    NaN  \n",
       "2013-10-26       NaN       NaN   NaN   NaN    NaN    NaN  \n",
       "2013-10-27       NaN       NaN   NaN   NaN    NaN    NaN  \n",
       "2013-10-28       NaN       NaN   NaN   NaN    NaN    NaN  \n",
       "2013-10-29       NaN       NaN   NaN   NaN    NaN    NaN  \n",
       "2013-10-30       NaN       NaN   NaN   NaN    NaN    NaN  \n",
       "2013-10-31       NaN       NaN   NaN   NaN    NaN    NaN  \n",
       "2013-11-01  1.011968       NaN   NaN   NaN    NaN    NaN  \n",
       "2013-11-02  1.012000       NaN   NaN   NaN    NaN    NaN  \n",
       "2013-11-03  1.012032       NaN   NaN   NaN    NaN    NaN  \n",
       "2013-11-04  1.012064       NaN   NaN   NaN    NaN    NaN  \n",
       "2013-11-05  1.012097       NaN   NaN   NaN    NaN    NaN  \n",
       "2013-11-06  1.012129       NaN   NaN   NaN    NaN    NaN  \n",
       "2013-11-07  1.012162       NaN   NaN   NaN    NaN    NaN  \n",
       "2013-11-08  1.012195       NaN   NaN   NaN    NaN    NaN  \n",
       "2013-11-09  1.012228       NaN   NaN   NaN    NaN    NaN  \n",
       "2013-11-10  1.012262       NaN   NaN   NaN    NaN    NaN  \n",
       "2013-11-11  1.012295  1.025956   NaN   NaN    NaN    NaN  "
      ]
     },
     "execution_count": 215,
     "metadata": {},
     "output_type": "execute_result"
    }
   ],
   "source": [
    "df_2017_allen_afd.head(20)"
   ]
  },
  {
   "cell_type": "code",
   "execution_count": 216,
   "metadata": {},
   "outputs": [
    {
     "name": "stdout",
     "output_type": "stream",
     "text": [
      "               3d_future_pct  3d_future       ma3       ma5      ma10  \\\n",
      "3d_future_pct       1.000000   0.010718 -0.942369 -0.930175 -0.896611   \n",
      "3d_future           0.010718   1.000000 -0.046979 -0.056604 -0.079524   \n",
      "ma3                -0.942369  -0.046979  1.000000  0.994403  0.967001   \n",
      "ma5                -0.930175  -0.056604  0.994403  1.000000  0.984826   \n",
      "ma10               -0.896611  -0.079524  0.967001  0.984826  1.000000   \n",
      "ma20               -0.827028  -0.121077  0.902962  0.927801  0.970825   \n",
      "ma30               -0.752974  -0.157662  0.833167  0.860684  0.915457   \n",
      "ma50               -0.624141  -0.218267  0.701935  0.729511  0.790111   \n",
      "ma100              -0.449299  -0.326635  0.513022  0.535717  0.587977   \n",
      "ma200              -0.313555  -0.482655  0.369658  0.388982  0.434164   \n",
      "\n",
      "                   ma20      ma30      ma50     ma100     ma200  \n",
      "3d_future_pct -0.827028 -0.752974 -0.624141 -0.449299 -0.313555  \n",
      "3d_future     -0.121077 -0.157662 -0.218267 -0.326635 -0.482655  \n",
      "ma3            0.902962  0.833167  0.701935  0.513022  0.369658  \n",
      "ma5            0.927801  0.860684  0.729511  0.535717  0.388982  \n",
      "ma10           0.970825  0.915457  0.790111  0.587977  0.434164  \n",
      "ma20           1.000000  0.980935  0.885965  0.681027  0.516767  \n",
      "ma30           0.980935  1.000000  0.951707  0.761882  0.591350  \n",
      "ma50           0.885965  0.951707  1.000000  0.888060  0.718528  \n",
      "ma100          0.681027  0.761882  0.888060  1.000000  0.908953  \n",
      "ma200          0.516767  0.591350  0.718528  0.908953  1.000000  \n"
     ]
    }
   ],
   "source": [
    "df_2017_allen_afd = df_2017_allen_afd.dropna()\n",
    "\n",
    "# Create features and targets\n",
    "# use feature_names for features; '5d_close_future_pct' for targets\n",
    "features = df_2017_allen_afd[feature_names]\n",
    "targets = df_2017_allen_afd['3d_future_pct']\n",
    "\n",
    "# Create DataFrame from target column and feature columns\n",
    "feature_and_target_cols = ['3d_future_pct'] + feature_names\n",
    "feat_targ_df = df_2017_allen_afd[feature_and_target_cols]\n",
    "\n",
    "# Calculate correlation matrix\n",
    "corr = feat_targ_df.corr()\n",
    "print(corr)"
   ]
  },
  {
   "cell_type": "code",
   "execution_count": 217,
   "metadata": {},
   "outputs": [
    {
     "data": {
      "image/png": "[encoded data removed]",
      "text/plain": [
       "<matplotlib.figure.Figure at 0x12e1c0518>"
      ]
     },
     "metadata": {
      "needs_background": "light"
     },
     "output_type": "display_data"
    },
    {
     "data": {
      "text/plain": [
       "<matplotlib.figure.Figure at 0x12dae9390>"
      ]
     },
     "metadata": {},
     "output_type": "display_data"
    }
   ],
   "source": [
    "sns.heatmap(corr, annot=True)\n",
    "plt.yticks(rotation=0); plt.xticks(rotation=90)  # fix ticklabel directions\n",
    "plt.tight_layout()  # fits plot area to the plot, \"tightly\"\n",
    "plt.show()  # show the plot\n",
    "plt.clf()  # clear the plot area"
   ]
  },
  {
   "cell_type": "code",
   "execution_count": 218,
   "metadata": {},
   "outputs": [
    {
     "data": {
      "image/png": "[encoded data removed]",
      "text/plain": [
       "<matplotlib.figure.Figure at 0x12eb11b70>"
      ]
     },
     "metadata": {
      "needs_background": "light"
     },
     "output_type": "display_data"
    }
   ],
   "source": [
    "# Create a scatter plot of the most highly correlated variable with the target\n",
    "plt.scatter(df_2017_insa_afd['ma3'], df_2017_allen_afd['3d_future_pct'])\n",
    "plt.show()"
   ]
  },
  {
   "cell_type": "markdown",
   "metadata": {},
   "source": [
    "#### Linear Model \n",
    "\n",
    "##### Create training and test features"
   ]
  },
  {
   "cell_type": "code",
   "execution_count": 219,
   "metadata": {},
   "outputs": [
    {
     "name": "stdout",
     "output_type": "stream",
     "text": [
      "(1228, 10) (1043, 10) (185, 10)\n"
     ]
    },
    {
     "name": "stderr",
     "output_type": "stream",
     "text": [
      "/Users/dangngochuy/anaconda3/lib/python3.6/site-packages/numpy/core/fromnumeric.py:2389: FutureWarning: Method .ptp is deprecated and will be removed in a future version. Use numpy.ptp instead.\n",
      "  return ptp(axis=axis, out=out, **kwargs)\n"
     ]
    }
   ],
   "source": [
    "\n",
    "# Import the statsmodels.api library with the alias sm\n",
    "import statsmodels.api as sm\n",
    "\n",
    "# Add a constant to the features\n",
    "linear_features = sm.add_constant(features)\n",
    "\n",
    "# Create a size for the training set that is 85% of the total number of samples\n",
    "train_size = int(0.85 * features.shape[0])\n",
    "train_features = linear_features[:train_size]\n",
    "train_targets = targets[:train_size]\n",
    "test_features = linear_features[train_size:]\n",
    "test_targets = targets[train_size:]\n",
    "print(linear_features.shape, train_features.shape, test_features.shape)"
   ]
  },
  {
   "cell_type": "code",
   "execution_count": 221,
   "metadata": {},
   "outputs": [
    {
     "name": "stdout",
     "output_type": "stream",
     "text": [
      "                            OLS Regression Results                            \n",
      "==============================================================================\n",
      "Dep. Variable:          3d_future_pct   R-squared:                       0.900\n",
      "Model:                            OLS   Adj. R-squared:                  0.899\n",
      "Method:                 Least Squares   F-statistic:                     1034.\n",
      "Date:                Sun, 13 Oct 2019   Prob (F-statistic):               0.00\n",
      "Time:                        14:28:52   Log-Likelihood:                 3995.2\n",
      "No. Observations:                1043   AIC:                            -7970.\n",
      "Df Residuals:                    1033   BIC:                            -7921.\n",
      "Df Model:                           9                                         \n",
      "Covariance Type:            nonrobust                                         \n",
      "==============================================================================\n",
      "                 coef    std err          t      P>|t|      [0.025      0.975]\n",
      "------------------------------------------------------------------------------\n",
      "const          3.7557      0.159     23.571      0.000       3.443       4.068\n",
      "3d_future     -0.0001   7.83e-05     -1.625      0.105      -0.000    2.64e-05\n",
      "ma3           -4.8186      0.410    -11.765      0.000      -5.622      -4.015\n",
      "ma5            1.1394      0.347      3.282      0.001       0.458       1.821\n",
      "ma10          -0.0350      0.137     -0.255      0.799      -0.304       0.234\n",
      "ma20          -0.1140      0.085     -1.341      0.180      -0.281       0.053\n",
      "ma30           0.0802      0.056      1.437      0.151      -0.029       0.190\n",
      "ma50          -0.0027      0.018     -0.149      0.882      -0.038       0.033\n",
      "ma100         -0.0062      0.006     -0.998      0.318      -0.018       0.006\n",
      "ma200          0.0023      0.002      0.938      0.348      -0.003       0.007\n",
      "==============================================================================\n",
      "Omnibus:                     1194.742   Durbin-Watson:                   0.703\n",
      "Prob(Omnibus):                  0.000   Jarque-Bera (JB):           407357.807\n",
      "Skew:                           5.092   Prob(JB):                         0.00\n",
      "Kurtosis:                      99.280   Cond. No.                     2.98e+04\n",
      "==============================================================================\n",
      "\n",
      "Warnings:\n",
      "[1] Standard Errors assume that the covariance matrix of the errors is correctly specified.\n",
      "[2] The condition number is large, 2.98e+04. This might indicate that there are\n",
      "strong multicollinearity or other numerical problems.\n"
     ]
    }
   ],
   "source": [
    "# Create the linear model and complete the least squares fit\n",
    "model_allen_afd = sm.OLS(train_targets, train_features)\n",
    "results_allen_afd = model_allen_afd.fit()  # fit the model\n",
    "print(results_allen_afd.summary())"
   ]
  },
  {
   "cell_type": "code",
   "execution_count": 222,
   "metadata": {},
   "outputs": [
    {
     "name": "stdout",
     "output_type": "stream",
     "text": [
      "const        1.208666e-98\n",
      "3d_future    1.045518e-01\n",
      "ma3          4.440566e-30\n",
      "ma5          1.065709e-03\n",
      "ma10         7.986494e-01\n",
      "ma20         1.800857e-01\n",
      "ma30         1.511335e-01\n",
      "ma50         8.818265e-01\n",
      "ma100        3.183089e-01\n",
      "ma200        3.482181e-01\n",
      "dtype: float64\n"
     ]
    }
   ],
   "source": [
    "# examine pvalues\n",
    "# Features with p <= 0.05 are typically considered significantly different from 0\n",
    "print(results_allen_afd.pvalues)\n"
   ]
  },
  {
   "cell_type": "code",
   "execution_count": 223,
   "metadata": {},
   "outputs": [
    {
     "name": "stdout",
     "output_type": "stream",
     "text": [
      "2017-03-18   -0.016455\n",
      "2017-03-19   -0.016660\n",
      "2017-03-20   -0.016843\n",
      "2017-03-21   -0.017005\n",
      "2017-03-22   -0.017144\n",
      "2017-03-23   -0.017261\n",
      "2017-03-24   -0.017354\n",
      "2017-03-25   -0.017449\n",
      "2017-03-26   -0.017552\n",
      "2017-03-27   -0.017655\n",
      "2017-03-28   -0.017761\n",
      "2017-03-29   -0.002819\n",
      "2017-03-30    0.003393\n",
      "2017-03-31    0.000876\n",
      "2017-04-01   -0.000247\n",
      "2017-04-02    0.000025\n",
      "2017-04-03    0.000255\n",
      "2017-04-04    0.000443\n",
      "2017-04-05    0.000589\n",
      "2017-04-06    0.000693\n",
      "2017-04-07    0.000755\n",
      "2017-04-08    0.000798\n",
      "2017-04-09    0.000821\n",
      "2017-04-10    0.000823\n",
      "2017-04-11    0.000807\n",
      "2017-04-12    0.000770\n",
      "2017-04-13    0.000714\n",
      "2017-04-14    0.000638\n",
      "2017-04-15    0.000544\n",
      "2017-04-16    0.000430\n",
      "                ...   \n",
      "2017-08-20    0.000377\n",
      "2017-08-21    0.000365\n",
      "2017-08-22    0.000354\n",
      "2017-08-23    0.022697\n",
      "2017-08-24    0.031679\n",
      "2017-08-25    0.027672\n",
      "2017-08-26    0.025768\n",
      "2017-08-27    0.025911\n",
      "2017-08-28    0.025991\n",
      "2017-08-29    0.026012\n",
      "2017-08-30    0.025974\n",
      "2017-08-31    0.025879\n",
      "2017-09-01    0.025728\n",
      "2017-09-02    0.025554\n",
      "2017-09-03    0.025356\n",
      "2017-09-04    0.025123\n",
      "2017-09-05    0.024867\n",
      "2017-09-06    0.024589\n",
      "2017-09-07    0.049366\n",
      "2017-09-08    0.058665\n",
      "2017-09-09    0.053330\n",
      "2017-09-10    0.050401\n",
      "2017-09-11    0.049748\n",
      "2017-09-12    0.049072\n",
      "2017-09-13    0.048372\n",
      "2017-09-14    0.047651\n",
      "2017-09-15    0.046909\n",
      "2017-09-16    0.046148\n",
      "2017-09-17    0.045419\n",
      "2017-09-18    0.044702\n",
      "Freq: D, Length: 185, dtype: float64\n"
     ]
    }
   ],
   "source": [
    "# Make predictions from our model for train and test sets\n",
    "train_predictions = results_allen_afd.predict(train_features)\n",
    "test_predictions = results_allen_afd.predict(test_features)\n",
    "print(test_predictions)"
   ]
  },
  {
   "cell_type": "markdown",
   "metadata": {},
   "source": [
    "#### Evaluate Linear Model Results\n",
    "\n",
    "Once we have our linear fit and predictions, we want to see how good the predictions are so we can decide if our model is any good or not. \n",
    "\n",
    "A quick way to understand the performance of our model is looking at regression evaluation metrics like R2, and plotting the predictions versus the actual values of the targets. Perfect predictions would form a straight, diagonal line in such a plot, making it easy for us to eyeball how our predictions are doing in different regions of voteshare changes."
   ]
  },
  {
   "cell_type": "code",
   "execution_count": 224,
   "metadata": {},
   "outputs": [
    {
     "data": {
      "image/png": "[encoded data removed]",
      "text/plain": [
       "<matplotlib.figure.Figure at 0x12ef990f0>"
      ]
     },
     "metadata": {
      "needs_background": "light"
     },
     "output_type": "display_data"
    }
   ],
   "source": [
    "# Scatter the predictions vs the targets with 80% transparency\n",
    "plt.scatter(train_predictions, train_targets, alpha=0.2, color='b', label='train')\n",
    "plt.scatter(test_predictions, test_targets, alpha = 0.2, color='r', label='test')\n",
    "\n",
    "# Plot the perfect prediction line\n",
    "xmin, xmax = plt.xlim()\n",
    "plt.plot(np.arange(xmin, xmax, 0.01), np.arange(xmin, xmax, 0.01), c='k')\n",
    "\n",
    "# Set the axis labels and show the plot\n",
    "plt.xlabel('predictions')\n",
    "plt.ylabel('actual')\n",
    "plt.legend()  # show the legend\n",
    "plt.show()"
   ]
  },
  {
   "cell_type": "markdown",
   "metadata": {},
   "source": [
    "#### Decision Tree Model"
   ]
  },
  {
   "cell_type": "code",
   "execution_count": 225,
   "metadata": {},
   "outputs": [
    {
     "name": "stdout",
     "output_type": "stream",
     "text": [
      "0.9998987729341396\n",
      "0.7322337894522877\n"
     ]
    }
   ],
   "source": [
    "from sklearn.tree import DecisionTreeRegressor\n",
    "\n",
    "# Create a decision tree regression model with default arguments\n",
    "decision_tree_allen_afd = DecisionTreeRegressor()\n",
    "\n",
    "# Fit the model to the training features and targets\n",
    "decision_tree_allen_afd.fit(train_features, train_targets)\n",
    "\n",
    "# Check the score on train and test\n",
    "print(decision_tree_allen_afd.score(train_features, train_targets))\n",
    "print(decision_tree_allen_afd.score(test_features, test_targets))"
   ]
  },
  {
   "cell_type": "markdown",
   "metadata": {},
   "source": [
    "As expected, perfect fit on the training data but quite a bad fit on the test data. Let's see if we can improve by experimenting on the max height of the trees. "
   ]
  },
  {
   "cell_type": "code",
   "execution_count": 227,
   "metadata": {},
   "outputs": [
    {
     "name": "stdout",
     "output_type": "stream",
     "text": [
      "max_depth= 3\n",
      "0.8881933722044721\n",
      "0.78557570023376 \n",
      "\n",
      "max_depth= 5\n",
      "0.9257244949427467\n",
      "0.7460030933680579 \n",
      "\n",
      "max_depth= 10\n",
      "0.9959139647271333\n",
      "0.7658854690178207 \n",
      "\n",
      "max_depth= 15\n",
      "0.9997508045939772\n",
      "0.7179759025516324 \n",
      "\n",
      "max_depth= 20\n",
      "0.9998987729341396\n",
      "0.4681848666852052 \n",
      "\n",
      "max_depth= 25\n",
      "0.9998987729341396\n",
      "0.5822739657277125 \n",
      "\n"
     ]
    }
   ],
   "source": [
    "# Loop through a few different max depths and check the performance\n",
    "for d in [3, 5, 10, 15, 20, 25]:\n",
    "    # Create the tree and fit it\n",
    "    decision_tree_allen_afd = DecisionTreeRegressor(max_depth=d)\n",
    "    decision_tree_allen_afd.fit(train_features, train_targets)\n",
    "\n",
    "    # Print out the scores on train and test\n",
    "    print('max_depth=', str(d))\n",
    "    print(decision_tree_allen_afd.score(train_features, train_targets))\n",
    "    print(decision_tree_allen_afd.score(test_features, test_targets), '\\n')"
   ]
  },
  {
   "cell_type": "markdown",
   "metadata": {},
   "source": [
    "It seems that trees of max height 3 would be the best at predicting the changes in voteshares percentage during the next 5 days. "
   ]
  },
  {
   "cell_type": "code",
   "execution_count": 228,
   "metadata": {},
   "outputs": [
    {
     "data": {
      "image/png": "[encoded data removed]",
      "text/plain": [
       "<matplotlib.figure.Figure at 0x12efaf198>"
      ]
     },
     "metadata": {
      "needs_background": "light"
     },
     "output_type": "display_data"
    }
   ],
   "source": [
    "# Use the best max_depth of 3 from last exercise to fit a decision tree\n",
    "decision_tree_allen_afd = DecisionTreeRegressor(max_depth=10)\n",
    "decision_tree_allen_afd.fit(train_features, train_targets)\n",
    "\n",
    "# Predict values for train and test\n",
    "train_predictions = decision_tree_allen_afd.predict(train_features)\n",
    "test_predictions = decision_tree_allen_afd.predict(test_features)\n",
    "\n",
    "# Scatter the predictions vs actual values\n",
    "plt.scatter(train_predictions, train_targets, label='train')\n",
    "plt.scatter(test_predictions, test_targets, label = 'test')\n",
    "plt.show()"
   ]
  },
  {
   "cell_type": "markdown",
   "metadata": {},
   "source": [
    "#### Random Forest Model "
   ]
  },
  {
   "cell_type": "code",
   "execution_count": 233,
   "metadata": {},
   "outputs": [
    {
     "name": "stdout",
     "output_type": "stream",
     "text": [
      "0.9944044470721668\n",
      "0.8086348160142691\n"
     ]
    }
   ],
   "source": [
    "from sklearn.ensemble import RandomForestRegressor\n",
    "\n",
    "# Create the random forest model and fit to the training data\n",
    "rfr_allen_afd = RandomForestRegressor(n_estimators=200)\n",
    "rfr_allen_afd.fit(train_features, train_targets)\n",
    "\n",
    "# Look at the R^2 scores on train and test\n",
    "print(rfr_allen_afd.score(train_features, train_targets))\n",
    "print(rfr_allen_afd.score(test_features, test_targets))"
   ]
  },
  {
   "cell_type": "markdown",
   "metadata": {},
   "source": [
    "Let's see if we can improve on the score with hyperparameter tuning: "
   ]
  },
  {
   "cell_type": "code",
   "execution_count": 234,
   "metadata": {},
   "outputs": [
    {
     "name": "stdout",
     "output_type": "stream",
     "text": [
      "0.7717386136304498 {'random_state': 42, 'n_estimators': 200, 'max_features': 8, 'max_depth': 3}\n"
     ]
    }
   ],
   "source": [
    "from sklearn.model_selection import ParameterGrid\n",
    "\n",
    "# Create a dictionary of hyperparameters to search\n",
    "grid = {'n_estimators': [200], 'max_depth': [3], 'max_features': [4, 8], 'random_state': [42]}\n",
    "test_scores = []\n",
    "\n",
    "# Loop through the parameter grid, set the hyperparameters, and save the scores\n",
    "for g in ParameterGrid(grid):\n",
    "    rfr_allen_afd.set_params(**g)  # ** is \"unpacking\" the dictionary\n",
    "    rfr_allen_afd.fit(train_features, train_targets)\n",
    "    test_scores.append(rfr_allen_afd.score(test_features, test_targets))\n",
    "\n",
    "# Find best hyperparameters from the test score and print\n",
    "best_idx = np.argmax(test_scores)\n",
    "print(test_scores[best_idx], ParameterGrid(grid)[best_idx])"
   ]
  },
  {
   "cell_type": "code",
   "execution_count": 235,
   "metadata": {},
   "outputs": [
    {
     "data": {
      "image/png": "[encoded data removed]",
      "text/plain": [
       "<matplotlib.figure.Figure at 0x12ef72dd8>"
      ]
     },
     "metadata": {
      "needs_background": "light"
     },
     "output_type": "display_data"
    }
   ],
   "source": [
    "# Use the best hyperparameters from before to fit a random forest model\n",
    "rfr_allen_afd = RandomForestRegressor(n_estimators=200, max_depth=3, max_features=4, random_state=42)\n",
    "rfr_allen_afd.fit(train_features, train_targets)\n",
    "\n",
    "# Make predictions with our model\n",
    "train_predictions = rfr_allen_afd.predict(train_features)\n",
    "test_predictions = rfr_allen_afd.predict(test_features)\n",
    "\n",
    "# Create a scatter plot with train and test actual vs predictions\n",
    "plt.scatter(train_targets, train_predictions, label='train')\n",
    "plt.scatter(test_targets, test_predictions, label='test')\n",
    "plt.legend()\n",
    "plt.show()"
   ]
  },
  {
   "cell_type": "code",
   "execution_count": 236,
   "metadata": {},
   "outputs": [
    {
     "name": "stdout",
     "output_type": "stream",
     "text": [
      "[-1.54564240e-02 -1.55534054e-02 -1.56111272e-02 -1.55024446e-02\n",
      " -1.55024446e-02 -1.58813754e-02 -1.60065079e-02 -1.60595134e-02\n",
      " -1.61025717e-02 -1.61549207e-02 -1.62045286e-02 -1.03485107e-02\n",
      " -2.51840736e-03 -1.96985223e-04  2.14790247e-04  3.82370921e-04\n",
      "  1.42504318e-03  1.90575917e-03  1.90575917e-03  1.93600553e-03\n",
      "  2.01367247e-03  2.01367247e-03  2.08356422e-03  2.08356422e-03\n",
      "  2.10320805e-03  2.24535525e-03  2.33476427e-03  2.35418057e-03\n",
      "  2.35418057e-03  2.35418057e-03  2.35418057e-03  2.36314741e-03\n",
      "  2.37544251e-03  2.37544251e-03  2.40498380e-03  2.39559942e-03\n",
      "  2.42229134e-03  2.43537785e-03  2.48106757e-03  3.47463856e-03\n",
      "  8.96899969e-03  1.08334110e-02  1.20144006e-02  1.22131981e-02\n",
      "  1.24397693e-02  1.37649532e-02  1.44935787e-02  1.46383269e-02\n",
      "  1.48641675e-02  1.51429943e-02  1.53281610e-02  1.53497108e-02\n",
      "  1.56333719e-02  1.56333719e-02  1.57301753e-02  1.54111957e-02\n",
      "  1.54111957e-02  1.54111957e-02  1.54111957e-02  1.54111957e-02\n",
      "  1.54111957e-02  1.49588655e-02  1.48282114e-02  1.46058644e-02\n",
      "  1.46058644e-02  1.46058644e-02  1.46058644e-02  1.46058644e-02\n",
      "  1.46058644e-02  1.46058644e-02 -2.85257403e-03 -9.66279355e-03\n",
      " -1.39848282e-02 -1.54525848e-02 -1.72131978e-02 -1.78658473e-02\n",
      " -1.90062508e-02 -2.03424929e-02 -2.06211580e-02 -2.06392128e-02\n",
      " -2.07438059e-02 -2.15219076e-02 -2.16643862e-02 -2.20208654e-02\n",
      " -2.19669793e-02 -2.19911022e-02 -2.20358540e-02 -2.17745727e-02\n",
      " -2.18159668e-02 -2.17792855e-02 -2.17792855e-02 -2.17792855e-02\n",
      " -2.17792855e-02 -2.17910691e-02 -2.19293445e-02 -6.87077313e-03\n",
      " -4.62386818e-04  9.43776765e-05  1.03834147e-03  2.42122339e-03\n",
      "  2.78625175e-03  2.84378887e-03  2.90880372e-03  3.20458598e-03\n",
      "  3.37072602e-03  3.39293557e-03  3.40865490e-03  3.40865490e-03\n",
      "  3.84440004e-03  3.89710642e-03  3.89719700e-03  3.78336337e-03\n",
      "  3.78336337e-03  4.04218117e-03  4.04218117e-03  4.09658123e-03\n",
      "  4.11754143e-03  3.58808403e-03  3.58808403e-03  3.57663390e-03\n",
      "  3.48637233e-03  3.36899781e-03  3.35428053e-03  3.15101237e-03\n",
      "  2.97284532e-03  2.82467212e-03  2.78993307e-03  2.60573927e-03\n",
      "  2.56447643e-03  2.52813499e-03  2.51241566e-03  2.51241566e-03\n",
      "  2.51241566e-03  2.51241566e-03  2.51241566e-03  2.49020611e-03\n",
      "  2.49020611e-03  2.49020611e-03  2.49020611e-03  2.49020611e-03\n",
      "  2.49020611e-03  2.49020611e-03  2.49020611e-03  2.49020611e-03\n",
      "  2.49020611e-03  2.49020611e-03  2.49020611e-03  2.49020611e-03\n",
      "  2.49020611e-03  2.49020611e-03  2.49020611e-03  2.49020611e-03\n",
      "  2.48184782e-03  2.47869800e-03  2.47869800e-03  2.47869800e-03\n",
      "  2.47869800e-03  2.50217945e-03  9.07544112e-03  1.20046091e-02\n",
      "  1.36467124e-02  1.44106810e-02  1.51413489e-02  1.52068098e-02\n",
      "  1.53430923e-02  1.53430923e-02  1.53744700e-02  1.53744700e-02\n",
      "  1.53744700e-02  1.53744700e-02  1.55949849e-02  1.59390342e-02\n",
      "  1.59390342e-02  3.98822172e-02  5.24083722e-02  5.35983842e-02\n",
      "  5.38183439e-02  5.62020339e-02  5.71933527e-02  5.66617162e-02\n",
      "  5.68365547e-02  5.61854602e-02  5.59284798e-02  5.55376485e-02\n",
      "  5.43571103e-02]\n"
     ]
    }
   ],
   "source": [
    "print(test_predictions)"
   ]
  },
  {
   "cell_type": "code",
   "execution_count": 237,
   "metadata": {},
   "outputs": [
    {
     "name": "stdout",
     "output_type": "stream",
     "text": [
      "2017-03-18   -0.017787\n",
      "2017-03-19   -0.017893\n",
      "2017-03-20   -0.018000\n",
      "2017-03-21   -0.018109\n",
      "2017-03-22   -0.018219\n",
      "2017-03-23   -0.018330\n",
      "2017-03-24   -0.018443\n",
      "2017-03-25   -0.018557\n",
      "2017-03-26   -0.012448\n",
      "2017-03-27   -0.006263\n",
      "2017-03-28    0.000000\n",
      "2017-03-29    0.000000\n",
      "2017-03-30    0.000000\n",
      "2017-03-31    0.000000\n",
      "2017-04-01    0.000000\n",
      "2017-04-02    0.000000\n",
      "2017-04-03    0.000000\n",
      "2017-04-04    0.000000\n",
      "2017-04-05    0.000000\n",
      "2017-04-06    0.000000\n",
      "2017-04-07    0.000000\n",
      "2017-04-08    0.000000\n",
      "2017-04-09    0.000000\n",
      "2017-04-10    0.000000\n",
      "2017-04-11    0.000000\n",
      "2017-04-12    0.000000\n",
      "2017-04-13    0.000000\n",
      "2017-04-14    0.000000\n",
      "2017-04-15    0.000000\n",
      "2017-04-16    0.000000\n",
      "                ...   \n",
      "2017-08-20    0.009524\n",
      "2017-08-21    0.019048\n",
      "2017-08-22    0.028571\n",
      "2017-08-23    0.028302\n",
      "2017-08-24    0.028037\n",
      "2017-08-25    0.027778\n",
      "2017-08-26    0.027523\n",
      "2017-08-27    0.027273\n",
      "2017-08-28    0.027027\n",
      "2017-08-29    0.026786\n",
      "2017-08-30    0.026549\n",
      "2017-08-31    0.026316\n",
      "2017-09-01    0.026087\n",
      "2017-09-02    0.025862\n",
      "2017-09-03    0.025641\n",
      "2017-09-04    0.036506\n",
      "2017-09-05    0.047188\n",
      "2017-09-06    0.057692\n",
      "2017-09-07    0.056604\n",
      "2017-09-08    0.055556\n",
      "2017-09-09    0.054545\n",
      "2017-09-10    0.053571\n",
      "2017-09-11    0.052632\n",
      "2017-09-12    0.051724\n",
      "2017-09-13    0.050847\n",
      "2017-09-14    0.050000\n",
      "2017-09-15    0.049180\n",
      "2017-09-16    0.048387\n",
      "2017-09-17    0.031746\n",
      "2017-09-18    0.015625\n",
      "Freq: D, Name: 3d_future_pct, Length: 185, dtype: float64\n"
     ]
    }
   ],
   "source": [
    "print(test_targets)"
   ]
  },
  {
   "cell_type": "code",
   "execution_count": 238,
   "metadata": {},
   "outputs": [
    {
     "data": {
      "image/png": "[encoded data removed]",
      "text/plain": [
       "<matplotlib.figure.Figure at 0x12e65f978>"
      ]
     },
     "metadata": {
      "needs_background": "light"
     },
     "output_type": "display_data"
    }
   ],
   "source": [
    "# Get feature importances from our random forest model\n",
    "importances = rfr_allen_afd.feature_importances_\n",
    "importances = importances[importances != 0]\n",
    "\n",
    "# Get the index of importances from greatest importance to least\n",
    "sorted_index = np.argsort(importances)[::-1]\n",
    "x = range(len(importances))\n",
    "\n",
    "# Create tick labels \n",
    "labels = np.array(feature_names)[sorted_index]\n",
    "plt.bar(x, importances[sorted_index], tick_label=labels)\n",
    "\n",
    "# Rotate tick labels to vertical\n",
    "plt.xticks(rotation=90)\n",
    "plt.show()"
   ]
  },
  {
   "cell_type": "code",
   "execution_count": 240,
   "metadata": {},
   "outputs": [
    {
     "name": "stdout",
     "output_type": "stream",
     "text": [
      "0.892791089461975\n",
      "0.8070740171628102\n"
     ]
    }
   ],
   "source": [
    "# Gradient Boosting Model \n",
    "from sklearn.ensemble import GradientBoostingRegressor\n",
    "\n",
    "# Create GB model -- hyperparameters have already been searched for you\n",
    "gbr_allen_afd = GradientBoostingRegressor(max_features=4,\n",
    "                                learning_rate=0.01,\n",
    "                                n_estimators=200,\n",
    "                                subsample=0.6,\n",
    "                                random_state=42)\n",
    "gbr_allen_afd.fit(train_features, train_targets)\n",
    "\n",
    "print(gbr_allen_afd.score(train_features, train_targets))\n",
    "print(gbr_allen_afd.score(test_features, test_targets))"
   ]
  },
  {
   "cell_type": "code",
   "execution_count": 241,
   "metadata": {},
   "outputs": [
    {
     "data": {
      "image/png": "[encoded data removed]",
      "text/plain": [
       "<matplotlib.figure.Figure at 0x12eb27898>"
      ]
     },
     "metadata": {
      "needs_background": "light"
     },
     "output_type": "display_data"
    }
   ],
   "source": [
    "# Extract feature importances from the fitted gradient boosting model\n",
    "feature_importances_gbr = gbr_allen_afd.feature_importances_\n",
    "feature_importances_gbr = feature_importances_gbr[feature_importances_gbr != 0]\n",
    "\n",
    "# Get the indices of the largest to smallest feature importances\n",
    "sorted_index_gbr = np.argsort(feature_importances_gbr)[::-1]\n",
    "x_gbr = range(features.shape[1])\n",
    "\n",
    "# Create tick labels \n",
    "labels = np.array(feature_names)[sorted_index_gbr]\n",
    "\n",
    "plt.bar(x_gbr, feature_importances_gbr[sorted_index_gbr], tick_label=labels)\n",
    "\n",
    "# Set the tick lables to be the feature names, according to the sorted feature_idx\n",
    "plt.xticks(rotation=90)\n",
    "plt.show()"
   ]
  },
  {
   "cell_type": "code",
   "execution_count": 242,
   "metadata": {},
   "outputs": [
    {
     "name": "stdout",
     "output_type": "stream",
     "text": [
      "0.9708126058153611\n",
      "0.860819727747812\n"
     ]
    },
    {
     "name": "stderr",
     "output_type": "stream",
     "text": [
      "/Users/dangngochuy/anaconda3/lib/python3.6/site-packages/xgboost/core.py:587: FutureWarning: Series.base is deprecated and will be removed in a future version\n",
      "  if getattr(data, 'base', None) is not None and \\\n",
      "/Users/dangngochuy/anaconda3/lib/python3.6/site-packages/xgboost/core.py:588: FutureWarning: Series.base is deprecated and will be removed in a future version\n",
      "  data.base is not None and isinstance(data, np.ndarray) \\\n"
     ]
    }
   ],
   "source": [
    "# XGBoost Model\n",
    "from xgboost import XGBRegressor\n",
    "\n",
    "# Create the xgboost model and fit to the training data\n",
    "\n",
    "xgb_model_allen_afd = XGBRegressor()\n",
    "xgb_model_allen_afd.fit(train_features, train_targets)\n",
    "\n",
    "# Look at the R^2 scores on train and test\n",
    "print(xgb_model_allen_afd.score(train_features, train_targets))\n",
    "print(xgb_model_allen_afd.score(test_features, test_targets))"
   ]
  },
  {
   "cell_type": "code",
   "execution_count": 114,
   "metadata": {},
   "outputs": [
    {
     "name": "stdout",
     "output_type": "stream",
     "text": [
      "[-0.02804512 -0.02804512 -0.02804512 -0.02896339 -0.02896339 -0.02443606\n",
      " -0.02443606 -0.02443606 -0.02443606 -0.02443606 -0.02443606 -0.02443606\n",
      " -0.0078817   0.00441298  0.00441298  0.00348938  0.00348938  0.00327992\n",
      "  0.00327992  0.00327992  0.00327992  0.00327992  0.00327992  0.00327992\n",
      " -0.00124776 -0.00131536 -0.00131536 -0.00131536 -0.00131536 -0.00131536\n",
      " -0.00131536 -0.00245541 -0.00245541 -0.00245541 -0.00245541 -0.00342679\n",
      " -0.00329268 -0.00347829 -0.00347829 -0.00347829  0.02293184  0.03884751\n",
      "  0.0385673   0.0385673   0.04132017  0.04223076  0.04223076  0.04212955\n",
      "  0.04212955  0.04056269  0.04056269  0.04056269  0.04056269  0.04056269\n",
      "  0.03999126  0.03999126  0.03999126  0.04029474  0.04029474  0.04029474\n",
      "  0.04029474  0.04029474  0.04029474  0.04029474  0.03467295  0.03467295\n",
      "  0.03467295  0.03467295  0.03467295  0.03467295  0.03467295 -0.01687765\n",
      " -0.04108137 -0.03961515 -0.03961515 -0.03930026 -0.0405755  -0.04169977\n",
      " -0.04159862 -0.04159862 -0.04159862 -0.04184324 -0.04207939 -0.04234183\n",
      " -0.04234183 -0.04234183 -0.04234183 -0.04234183 -0.04234183 -0.04234183\n",
      " -0.0408411  -0.03600514 -0.03635806 -0.03635806 -0.03591746 -0.0365268\n",
      "  0.00327912  0.028981    0.028981    0.028981    0.02855799  0.02446604\n",
      "  0.02591768  0.02591768  0.02591768  0.02591768  0.02439842  0.02439842\n",
      "  0.02439842  0.02439842  0.02504653  0.02567366  0.02567366  0.02567366\n",
      "  0.02567366  0.02567366  0.02593607  0.02647576  0.02647576  0.01809806\n",
      "  0.01483127  0.01288855  0.01288855  0.01288855  0.00098747  0.00098747\n",
      "  0.00098747  0.00098747  0.00088626  0.00088626  0.00088626  0.00088626\n",
      "  0.00088626  0.00088626  0.00088626  0.00088626  0.00088626  0.00088626\n",
      "  0.00088626  0.00088626  0.00088626  0.00088626  0.00088626  0.00088626\n",
      "  0.00088626  0.00098747  0.00098747  0.00098747  0.00098747  0.00098747\n",
      "  0.00098747 -0.00176066 -0.00176066 -0.00176066 -0.00176066 -0.00176066\n",
      " -0.00176066 -0.00176066 -0.00176066  0.04450062  0.05352759  0.0517908\n",
      "  0.0517908   0.04686412  0.04686412  0.04981798  0.04981798  0.04441223\n",
      "  0.04441223  0.04419205  0.04419205  0.04711378  0.04692936  0.04692936\n",
      "  0.04841852  0.09634602  0.09507644  0.08685002  0.08599827  0.08752003\n",
      "  0.08752003  0.08233741  0.08233741  0.0811353 ]\n"
     ]
    }
   ],
   "source": [
    "test_predictions_xgb_model_allen_afd = xgb_model_allen_afd.predict(test_features)\n",
    "print(test_predictions_xgb_model_allen_afd)"
   ]
  },
  {
   "cell_type": "code",
   "execution_count": 244,
   "metadata": {},
   "outputs": [
    {
     "data": {
      "image/png": "[encoded data removed]",
      "text/plain": [
       "<matplotlib.figure.Figure at 0x12df35ef0>"
      ]
     },
     "metadata": {
      "needs_background": "light"
     },
     "output_type": "display_data"
    }
   ],
   "source": [
    "# Extract feature importances from the fitted gradient boosting model\n",
    "feature_importances_xgb = xgb_model_allen_afd.feature_importances_\n",
    "feature_importances_xgb = feature_importances_xgb[feature_importances_xgb != 0]\n",
    "\n",
    "# Get the indices of the largest to smallest feature importances\n",
    "sorted_index_xgb = np.argsort(feature_importances_xgb)[::-1]\n",
    "x_xgb = range(features.shape[1])\n",
    "\n",
    "# Create tick labels \n",
    "labels = np.array(feature_names)[sorted_index_xgb]\n",
    "\n",
    "plt.bar(x_xgb, feature_importances_xgb[sorted_index_xgb], tick_label=labels)\n",
    "\n",
    "# Set the tick lables to be the feature names, according to the sorted feature_idx\n",
    "plt.xticks(rotation=90)\n",
    "plt.show()"
   ]
  },
  {
   "cell_type": "code",
   "execution_count": 255,
   "metadata": {},
   "outputs": [
    {
     "name": "stdout",
     "output_type": "stream",
     "text": [
      "Train on 1043 samples\n",
      "Epoch 1/25\n",
      "1043/1043 [==============================] - 0s 178us/sample - loss: 0.0722\n",
      "Epoch 2/25\n",
      "1043/1043 [==============================] - 0s 64us/sample - loss: 0.0018\n",
      "Epoch 3/25\n",
      "1043/1043 [==============================] - 0s 105us/sample - loss: 5.7861e-04\n",
      "Epoch 4/25\n",
      "1043/1043 [==============================] - 0s 66us/sample - loss: 4.7978e-04\n",
      "Epoch 5/25\n",
      "1043/1043 [==============================] - 0s 49us/sample - loss: 4.2982e-04\n",
      "Epoch 6/25\n",
      "1043/1043 [==============================] - 0s 68us/sample - loss: 3.9867e-04\n",
      "Epoch 7/25\n",
      "1043/1043 [==============================] - 0s 177us/sample - loss: 3.8245e-04\n",
      "Epoch 8/25\n",
      "1043/1043 [==============================] - 0s 130us/sample - loss: 3.6612e-04\n",
      "Epoch 9/25\n",
      "1043/1043 [==============================] - 0s 121us/sample - loss: 3.6218e-04\n",
      "Epoch 10/25\n",
      "1043/1043 [==============================] - 0s 95us/sample - loss: 3.5319e-04\n",
      "Epoch 11/25\n",
      "1043/1043 [==============================] - 0s 76us/sample - loss: 3.4469e-04\n",
      "Epoch 12/25\n",
      "1043/1043 [==============================] - 0s 70us/sample - loss: 3.3724e-04\n",
      "Epoch 13/25\n",
      "1043/1043 [==============================] - 0s 54us/sample - loss: 3.2021e-04\n",
      "Epoch 14/25\n",
      "1043/1043 [==============================] - 0s 135us/sample - loss: 3.3439e-04\n",
      "Epoch 15/25\n",
      "1043/1043 [==============================] - 0s 116us/sample - loss: 3.3130e-04\n",
      "Epoch 16/25\n",
      "1043/1043 [==============================] - 0s 45us/sample - loss: 3.1702e-04\n",
      "Epoch 17/25\n",
      "1043/1043 [==============================] - 0s 57us/sample - loss: 3.0689e-04\n",
      "Epoch 18/25\n",
      "1043/1043 [==============================] - 0s 103us/sample - loss: 2.9599e-04\n",
      "Epoch 19/25\n",
      "1043/1043 [==============================] - 0s 127us/sample - loss: 3.0620e-04\n",
      "Epoch 20/25\n",
      "1043/1043 [==============================] - 0s 82us/sample - loss: 3.4987e-04\n",
      "Epoch 21/25\n",
      "1043/1043 [==============================] - 0s 79us/sample - loss: 2.7430e-04\n",
      "Epoch 22/25\n",
      "1043/1043 [==============================] - 0s 58us/sample - loss: 2.6461e-04\n",
      "Epoch 23/25\n",
      "1043/1043 [==============================] - 0s 81us/sample - loss: 2.6579e-04\n",
      "Epoch 24/25\n",
      "1043/1043 [==============================] - 0s 96us/sample - loss: 2.6345e-04\n",
      "Epoch 25/25\n",
      "1043/1043 [==============================] - 0s 113us/sample - loss: 2.7985e-04\n",
      "[[-0.03205785]\n",
      " [-0.03338134]\n",
      " [-0.03472778]\n",
      " [-0.03609735]\n",
      " [-0.03747571]\n",
      " [-0.03808817]\n",
      " [-0.03895688]\n",
      " [-0.04010922]\n",
      " [-0.04031056]\n",
      " [-0.04053572]\n",
      " [-0.04078573]\n",
      " [-0.03963375]\n",
      " [-0.03828374]\n",
      " [-0.03673583]\n",
      " [-0.03524289]\n",
      " [-0.03383288]\n",
      " [-0.03243163]\n",
      " [-0.03081486]\n",
      " [-0.02933252]\n",
      " [-0.02798414]\n",
      " [-0.02677044]\n",
      " [-0.02559265]\n",
      " [-0.02445203]\n",
      " [-0.0233478 ]\n",
      " [-0.02228785]\n",
      " [-0.02127212]\n",
      " [-0.02071857]\n",
      " [-0.02059484]\n",
      " [-0.02045873]\n",
      " [-0.02031061]\n",
      " [-0.02015013]\n",
      " [-0.01999706]\n",
      " [-0.01985154]\n",
      " [-0.01971364]\n",
      " [-0.01958311]\n",
      " [-0.01946014]\n",
      " [-0.01956853]\n",
      " [-0.01968434]\n",
      " [-0.01980752]\n",
      " [-0.02000552]\n",
      " [-0.0200226 ]\n",
      " [-0.01986679]\n",
      " [-0.01971152]\n",
      " [-0.01955605]\n",
      " [-0.01945233]\n",
      " [-0.01939949]\n",
      " [-0.01939666]\n",
      " [-0.01944298]\n",
      " [-0.01953831]\n",
      " [-0.01963562]\n",
      " [-0.01972347]\n",
      " [-0.01980218]\n",
      " [-0.0198746 ]\n",
      " [-0.019941  ]\n",
      " [-0.02000171]\n",
      " [-0.02005646]\n",
      " [-0.02010518]\n",
      " [-0.02014863]\n",
      " [-0.02018616]\n",
      " [-0.0202314 ]\n",
      " [-0.020284  ]\n",
      " [-0.0203346 ]\n",
      " [-0.02038312]\n",
      " [-0.02042985]\n",
      " [-0.02047455]\n",
      " [-0.02051744]\n",
      " [-0.02055827]\n",
      " [-0.01995736]\n",
      " [-0.01935446]\n",
      " [-0.01875332]\n",
      " [-0.01791209]\n",
      " [-0.01754734]\n",
      " [-0.01767012]\n",
      " [-0.01784289]\n",
      " [-0.01806626]\n",
      " [-0.01820362]\n",
      " [-0.01825365]\n",
      " [-0.01821858]\n",
      " [-0.01809719]\n",
      " [-0.01788399]\n",
      " [-0.01770943]\n",
      " [-0.01757449]\n",
      " [-0.01747966]\n",
      " [-0.01745224]\n",
      " [-0.01816159]\n",
      " [-0.01890686]\n",
      " [-0.01968911]\n",
      " [-0.02050921]\n",
      " [-0.02302605]\n",
      " [-0.02767906]\n",
      " [-0.03191549]\n",
      " [-0.03510824]\n",
      " [-0.03657201]\n",
      " [-0.03802758]\n",
      " [-0.03947443]\n",
      " [-0.0383231 ]\n",
      " [-0.03671771]\n",
      " [-0.03448802]\n",
      " [-0.03148633]\n",
      " [-0.02836961]\n",
      " [-0.02545172]\n",
      " [-0.02273118]\n",
      " [-0.02214804]\n",
      " [-0.02184486]\n",
      " [-0.02164438]\n",
      " [-0.02139765]\n",
      " [-0.02110514]\n",
      " [-0.02096188]\n",
      " [-0.02083698]\n",
      " [-0.02065963]\n",
      " [-0.02043006]\n",
      " [-0.02015293]\n",
      " [-0.01982793]\n",
      " [-0.01945633]\n",
      " [-0.01903784]\n",
      " [-0.01860702]\n",
      " [-0.01816413]\n",
      " [-0.01770961]\n",
      " [-0.01724312]\n",
      " [-0.0167647 ]\n",
      " [-0.01617268]\n",
      " [-0.01559049]\n",
      " [-0.0150184 ]\n",
      " [-0.01440737]\n",
      " [-0.01390848]\n",
      " [-0.01353163]\n",
      " [-0.01317915]\n",
      " [-0.01285273]\n",
      " [-0.01252222]\n",
      " [-0.01218754]\n",
      " [-0.01184943]\n",
      " [-0.01150724]\n",
      " [-0.01116124]\n",
      " [-0.01083827]\n",
      " [-0.01053822]\n",
      " [-0.01026118]\n",
      " [-0.01000744]\n",
      " [-0.00977692]\n",
      " [-0.00956905]\n",
      " [-0.00938696]\n",
      " [-0.00923076]\n",
      " [-0.00910038]\n",
      " [-0.00899562]\n",
      " [-0.00890878]\n",
      " [-0.00883973]\n",
      " [-0.00877005]\n",
      " [-0.00869983]\n",
      " [-0.00862911]\n",
      " [-0.00855759]\n",
      " [-0.00848585]\n",
      " [-0.00841954]\n",
      " [-0.00835818]\n",
      " [-0.00830236]\n",
      " [-0.00825012]\n",
      " [-0.00820059]\n",
      " [-0.00861713]\n",
      " [-0.00903693]\n",
      " [-0.00946006]\n",
      " [-0.01012799]\n",
      " [-0.01040989]\n",
      " [-0.01031607]\n",
      " [-0.01020396]\n",
      " [-0.01007411]\n",
      " [-0.01002914]\n",
      " [-0.01006758]\n",
      " [-0.00977752]\n",
      " [-0.00848308]\n",
      " [-0.00728166]\n",
      " [-0.00607985]\n",
      " [-0.0048776 ]\n",
      " [-0.00310144]\n",
      " [-0.00132066]\n",
      " [ 0.0003264 ]\n",
      " [-0.00038707]\n",
      " [-0.00084251]\n",
      " [-0.00105432]\n",
      " [-0.00121775]\n",
      " [-0.001333  ]\n",
      " [-0.00250408]\n",
      " [-0.00473395]\n",
      " [-0.00695705]\n",
      " [-0.00917345]\n",
      " [-0.0105927 ]\n",
      " [-0.0106858 ]\n",
      " [-0.01070863]]\n"
     ]
    }
   ],
   "source": [
    "# Deep Learning Model\n",
    "\n",
    "#import libraries \n",
    "import tensorflow as tf\n",
    "from tensorflow import keras\n",
    "\n",
    "dnnmodel_allen_afd = tf.keras.Sequential()\n",
    "dnnmodel_allen_afd.add(keras.layers.Dense(100, input_dim=train_features.shape[1], activation='relu'))\n",
    "dnnmodel_allen_afd.add(keras.layers.Dense(20, activation='relu'))\n",
    "dnnmodel_allen_afd.add(keras.layers.Dense(1, activation='linear'))\n",
    "\n",
    "# Fit the model with our custom 'sign_penalty' loss function\n",
    "dnnmodel_allen_afd.compile(optimizer='adam', loss='mean_squared_error')\n",
    "history = dnnmodel_allen_afd.fit(train_features, train_targets, epochs=25)\n",
    "print(dnnmodel_allen_afd.predict(test_features))"
   ]
  },
  {
   "cell_type": "code",
   "execution_count": 256,
   "metadata": {},
   "outputs": [
    {
     "data": {
      "image/png": "[encoded data removed]",
      "text/plain": [
       "<matplotlib.figure.Figure at 0x12eb27eb8>"
      ]
     },
     "metadata": {
      "needs_background": "light"
     },
     "output_type": "display_data"
    }
   ],
   "source": [
    "plt.plot(history.history['loss'])\n",
    "plt.title('loss:' + str(round(history.history['loss'][-1], 6)))\n",
    "plt.show()"
   ]
  },
  {
   "cell_type": "code",
   "execution_count": 259,
   "metadata": {},
   "outputs": [
    {
     "name": "stdout",
     "output_type": "stream",
     "text": [
      "0.1084825883750129\n",
      "-1.338070462160454\n"
     ]
    }
   ],
   "source": [
    "# Evaluate R^2 scores\n",
    "from sklearn.metrics import mean_squared_error, r2_score\n",
    "\n",
    "train_preds_dnn_allen_afd = dnnmodel_allen_afd.predict(train_features)\n",
    "test_preds_dnn_allen_afd = dnnmodel_allen_afd.predict(test_features)\n",
    "print(r2_score(train_targets, train_preds_dnn_allen_afd))\n",
    "print(r2_score(test_targets, test_preds_dnn_allen_afd))"
   ]
  },
  {
   "cell_type": "code",
   "execution_count": 260,
   "metadata": {},
   "outputs": [
    {
     "data": {
      "image/png": "[encoded data removed]",
      "text/plain": [
       "<matplotlib.figure.Figure at 0x1443b74a8>"
      ]
     },
     "metadata": {
      "needs_background": "light"
     },
     "output_type": "display_data"
    }
   ],
   "source": [
    "\n",
    "# Scatter the predictions vs actual\n",
    "plt.scatter(train_preds_dnn_allen_afd, train_targets, label='train')\n",
    "plt.scatter(test_preds_dnn_allen_afd, test_targets, label='test')  # plot test set\n",
    "plt.legend(); plt.show()\n"
   ]
  },
  {
   "cell_type": "code",
   "execution_count": null,
   "metadata": {},
   "outputs": [],
   "source": []
  }
 ],
 "metadata": {
  "kernelspec": {
   "display_name": "Python 3",
   "language": "python",
   "name": "python3"
  },
  "language_info": {
   "codemirror_mode": {
    "name": "ipython",
    "version": 3
   },
   "file_extension": ".py",
   "mimetype": "text/x-python",
   "name": "python",
   "nbconvert_exporter": "python",
   "pygments_lexer": "ipython3",
   "version": "3.6.8"
  }
 },
 "nbformat": 4,
 "nbformat_minor": 2
}
