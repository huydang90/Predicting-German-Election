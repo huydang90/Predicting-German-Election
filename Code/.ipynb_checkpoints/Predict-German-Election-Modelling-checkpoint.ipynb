{
 "cells": [
  {
   "cell_type": "code",
   "execution_count": 17,
   "metadata": {},
   "outputs": [],
   "source": [
    "#import libraries\n",
    "\n",
    "import pyreadr\n",
    "import pandas as pd\n",
    "import numpy as np\n",
    "import matplotlib.pyplot as plt\n",
    "import seaborn as sns\n",
    "%matplotlib inline\n",
    "from matplotlib.dates import DateFormatter\n",
    "import matplotlib.dates as mdates"
   ]
  },
  {
   "cell_type": "code",
   "execution_count": 18,
   "metadata": {},
   "outputs": [
    {
     "data": {
      "text/html": [
       "<div>\n",
       "<style scoped>\n",
       "    .dataframe tbody tr th:only-of-type {\n",
       "        vertical-align: middle;\n",
       "    }\n",
       "\n",
       "    .dataframe tbody tr th {\n",
       "        vertical-align: top;\n",
       "    }\n",
       "\n",
       "    .dataframe thead th {\n",
       "        text-align: right;\n",
       "    }\n",
       "</style>\n",
       "<table border=\"1\" class=\"dataframe\">\n",
       "  <thead>\n",
       "    <tr style=\"text-align: right;\">\n",
       "      <th></th>\n",
       "      <th>election</th>\n",
       "      <th>sample_size</th>\n",
       "      <th>institute</th>\n",
       "      <th>party</th>\n",
       "      <th>support</th>\n",
       "      <th>election_date</th>\n",
       "      <th>days_to_election</th>\n",
       "    </tr>\n",
       "    <tr>\n",
       "      <th>date</th>\n",
       "      <th></th>\n",
       "      <th></th>\n",
       "      <th></th>\n",
       "      <th></th>\n",
       "      <th></th>\n",
       "      <th></th>\n",
       "      <th></th>\n",
       "    </tr>\n",
       "  </thead>\n",
       "  <tbody>\n",
       "    <tr>\n",
       "      <th>1951-04-15</th>\n",
       "      <td>1953.0</td>\n",
       "      <td>NaN</td>\n",
       "      <td>allensbach</td>\n",
       "      <td>oth</td>\n",
       "      <td>24.0</td>\n",
       "      <td>1953-09-06</td>\n",
       "      <td>875.0</td>\n",
       "    </tr>\n",
       "    <tr>\n",
       "      <th>1950-11-15</th>\n",
       "      <td>1953.0</td>\n",
       "      <td>NaN</td>\n",
       "      <td>allensbach</td>\n",
       "      <td>gru</td>\n",
       "      <td>NaN</td>\n",
       "      <td>1953-09-06</td>\n",
       "      <td>1026.0</td>\n",
       "    </tr>\n",
       "    <tr>\n",
       "      <th>1952-12-15</th>\n",
       "      <td>1953.0</td>\n",
       "      <td>NaN</td>\n",
       "      <td>allensbach</td>\n",
       "      <td>spd</td>\n",
       "      <td>35.0</td>\n",
       "      <td>1953-09-06</td>\n",
       "      <td>265.0</td>\n",
       "    </tr>\n",
       "    <tr>\n",
       "      <th>1953-02-15</th>\n",
       "      <td>1953.0</td>\n",
       "      <td>NaN</td>\n",
       "      <td>allensbach</td>\n",
       "      <td>spd</td>\n",
       "      <td>33.0</td>\n",
       "      <td>1953-09-06</td>\n",
       "      <td>203.0</td>\n",
       "    </tr>\n",
       "    <tr>\n",
       "      <th>1951-03-15</th>\n",
       "      <td>1953.0</td>\n",
       "      <td>NaN</td>\n",
       "      <td>allensbach</td>\n",
       "      <td>gru</td>\n",
       "      <td>NaN</td>\n",
       "      <td>1953-09-06</td>\n",
       "      <td>906.0</td>\n",
       "    </tr>\n",
       "  </tbody>\n",
       "</table>\n",
       "</div>"
      ],
      "text/plain": [
       "            election  sample_size   institute party  support election_date  \\\n",
       "date                                                                         \n",
       "1951-04-15    1953.0          NaN  allensbach   oth     24.0    1953-09-06   \n",
       "1950-11-15    1953.0          NaN  allensbach   gru      NaN    1953-09-06   \n",
       "1952-12-15    1953.0          NaN  allensbach   spd     35.0    1953-09-06   \n",
       "1953-02-15    1953.0          NaN  allensbach   spd     33.0    1953-09-06   \n",
       "1951-03-15    1953.0          NaN  allensbach   gru      NaN    1953-09-06   \n",
       "\n",
       "            days_to_election  \n",
       "date                          \n",
       "1951-04-15             875.0  \n",
       "1950-11-15            1026.0  \n",
       "1952-12-15             265.0  \n",
       "1953-02-15             203.0  \n",
       "1951-03-15             906.0  "
      ]
     },
     "execution_count": 18,
     "metadata": {},
     "output_type": "execute_result"
    }
   ],
   "source": [
    "#load data\n",
    "\n",
    "polls = pd.read_csv(\"polls_btw.csv\", index_col='date', parse_dates=True)\n",
    "polls.head()"
   ]
  },
  {
   "cell_type": "code",
   "execution_count": 19,
   "metadata": {},
   "outputs": [],
   "source": [
    "#transform date column to datetime format in pandas\n",
    "#time_format = '%Y-%m-%d'\n",
    "\n",
    "#polls['date'] =  pd.to_datetime(polls['date'], format= time_format)"
   ]
  },
  {
   "cell_type": "code",
   "execution_count": 20,
   "metadata": {},
   "outputs": [
    {
     "data": {
      "text/html": [
       "<div>\n",
       "<style scoped>\n",
       "    .dataframe tbody tr th:only-of-type {\n",
       "        vertical-align: middle;\n",
       "    }\n",
       "\n",
       "    .dataframe tbody tr th {\n",
       "        vertical-align: top;\n",
       "    }\n",
       "\n",
       "    .dataframe thead th {\n",
       "        text-align: right;\n",
       "    }\n",
       "</style>\n",
       "<table border=\"1\" class=\"dataframe\">\n",
       "  <thead>\n",
       "    <tr style=\"text-align: right;\">\n",
       "      <th></th>\n",
       "      <th>election</th>\n",
       "      <th>sample_size</th>\n",
       "      <th>institute</th>\n",
       "      <th>party</th>\n",
       "      <th>support</th>\n",
       "      <th>election_date</th>\n",
       "      <th>days_to_election</th>\n",
       "    </tr>\n",
       "    <tr>\n",
       "      <th>date</th>\n",
       "      <th></th>\n",
       "      <th></th>\n",
       "      <th></th>\n",
       "      <th></th>\n",
       "      <th></th>\n",
       "      <th></th>\n",
       "      <th></th>\n",
       "    </tr>\n",
       "  </thead>\n",
       "  <tbody>\n",
       "    <tr>\n",
       "      <th>1951-04-15</th>\n",
       "      <td>1953.0</td>\n",
       "      <td>1000.0</td>\n",
       "      <td>allensbach</td>\n",
       "      <td>oth</td>\n",
       "      <td>24.0</td>\n",
       "      <td>1953-09-06</td>\n",
       "      <td>875.0</td>\n",
       "    </tr>\n",
       "    <tr>\n",
       "      <th>1950-11-15</th>\n",
       "      <td>1953.0</td>\n",
       "      <td>1000.0</td>\n",
       "      <td>allensbach</td>\n",
       "      <td>gru</td>\n",
       "      <td>NaN</td>\n",
       "      <td>1953-09-06</td>\n",
       "      <td>1026.0</td>\n",
       "    </tr>\n",
       "    <tr>\n",
       "      <th>1952-12-15</th>\n",
       "      <td>1953.0</td>\n",
       "      <td>1000.0</td>\n",
       "      <td>allensbach</td>\n",
       "      <td>spd</td>\n",
       "      <td>35.0</td>\n",
       "      <td>1953-09-06</td>\n",
       "      <td>265.0</td>\n",
       "    </tr>\n",
       "    <tr>\n",
       "      <th>1953-02-15</th>\n",
       "      <td>1953.0</td>\n",
       "      <td>1000.0</td>\n",
       "      <td>allensbach</td>\n",
       "      <td>spd</td>\n",
       "      <td>33.0</td>\n",
       "      <td>1953-09-06</td>\n",
       "      <td>203.0</td>\n",
       "    </tr>\n",
       "    <tr>\n",
       "      <th>1951-03-15</th>\n",
       "      <td>1953.0</td>\n",
       "      <td>1000.0</td>\n",
       "      <td>allensbach</td>\n",
       "      <td>gru</td>\n",
       "      <td>NaN</td>\n",
       "      <td>1953-09-06</td>\n",
       "      <td>906.0</td>\n",
       "    </tr>\n",
       "  </tbody>\n",
       "</table>\n",
       "</div>"
      ],
      "text/plain": [
       "            election  sample_size   institute party  support election_date  \\\n",
       "date                                                                         \n",
       "1951-04-15    1953.0       1000.0  allensbach   oth     24.0    1953-09-06   \n",
       "1950-11-15    1953.0       1000.0  allensbach   gru      NaN    1953-09-06   \n",
       "1952-12-15    1953.0       1000.0  allensbach   spd     35.0    1953-09-06   \n",
       "1953-02-15    1953.0       1000.0  allensbach   spd     33.0    1953-09-06   \n",
       "1951-03-15    1953.0       1000.0  allensbach   gru      NaN    1953-09-06   \n",
       "\n",
       "            days_to_election  \n",
       "date                          \n",
       "1951-04-15             875.0  \n",
       "1950-11-15            1026.0  \n",
       "1952-12-15             265.0  \n",
       "1953-02-15             203.0  \n",
       "1951-03-15             906.0  "
      ]
     },
     "execution_count": 20,
     "metadata": {},
     "output_type": "execute_result"
    }
   ],
   "source": [
    "#Impute sample_size with 1000 for missing values\n",
    "\n",
    "polls[\"sample_size\"].fillna(1000, inplace=True)\n",
    "polls.head()"
   ]
  },
  {
   "cell_type": "code",
   "execution_count": 21,
   "metadata": {},
   "outputs": [
    {
     "data": {
      "text/plain": [
       "array(['allensbach', 'fgruppe_wahlen', 'forsa', 'emnid',\n",
       "       'infratest_dimap', 'gms', 'insa'], dtype=object)"
      ]
     },
     "execution_count": 21,
     "metadata": {},
     "output_type": "execute_result"
    }
   ],
   "source": [
    "#see how many unique polling institutions there are\n",
    "\n",
    "polls['institute'].unique()"
   ]
  },
  {
   "cell_type": "code",
   "execution_count": 22,
   "metadata": {},
   "outputs": [
    {
     "data": {
      "text/plain": [
       "array(['oth', 'gru', 'spd', 'cdu', 'lin', 'fdp', 'afd'], dtype=object)"
      ]
     },
     "execution_count": 22,
     "metadata": {},
     "output_type": "execute_result"
    }
   ],
   "source": [
    "#see how many unique parties there are in the polls\n",
    "\n",
    "polls['party'].unique()"
   ]
  },
  {
   "cell_type": "code",
   "execution_count": 23,
   "metadata": {},
   "outputs": [],
   "source": [
    "#create data frame with polls from each institutions in 2017 \n",
    "\n",
    "election2017_allen = polls.loc[(polls['institute'] == 'allensbach') & (polls['election'] == 2017)]\n",
    "election2017_insa = polls.loc[(polls['institute'] == 'insa') & (polls['election'] == 2017)]\n",
    "election2017_forsa = polls.loc[(polls['institute'] == 'forsa') & (polls['election'] == 2017)]\n",
    "election2017_emnid = polls.loc[(polls['institute'] == 'emnid') & (polls['election'] == 2017)]\n",
    "election2017_gms = polls.loc[(polls['institute'] == 'gms') & (polls['election'] == 2017)]\n",
    "election2017_infra = polls.loc[(polls['institute'] == 'infratest_dimap') & (polls['election'] == 2017)]\n",
    "election2017_fgruppe = polls.loc[(polls['institute'] == 'fgruppe_wahlen') & (polls['election'] == 2017)]"
   ]
  },
  {
   "cell_type": "code",
   "execution_count": 24,
   "metadata": {},
   "outputs": [
    {
     "data": {
      "text/html": [
       "<div>\n",
       "<style scoped>\n",
       "    .dataframe tbody tr th:only-of-type {\n",
       "        vertical-align: middle;\n",
       "    }\n",
       "\n",
       "    .dataframe tbody tr th {\n",
       "        vertical-align: top;\n",
       "    }\n",
       "\n",
       "    .dataframe thead th {\n",
       "        text-align: right;\n",
       "    }\n",
       "</style>\n",
       "<table border=\"1\" class=\"dataframe\">\n",
       "  <thead>\n",
       "    <tr style=\"text-align: right;\">\n",
       "      <th></th>\n",
       "      <th>election</th>\n",
       "      <th>sample_size</th>\n",
       "      <th>institute</th>\n",
       "      <th>party</th>\n",
       "      <th>support</th>\n",
       "      <th>election_date</th>\n",
       "      <th>days_to_election</th>\n",
       "    </tr>\n",
       "    <tr>\n",
       "      <th>date</th>\n",
       "      <th></th>\n",
       "      <th></th>\n",
       "      <th></th>\n",
       "      <th></th>\n",
       "      <th></th>\n",
       "      <th></th>\n",
       "      <th></th>\n",
       "    </tr>\n",
       "  </thead>\n",
       "  <tbody>\n",
       "    <tr>\n",
       "      <th>2015-06-18</th>\n",
       "      <td>2017.0</td>\n",
       "      <td>1400.0</td>\n",
       "      <td>allensbach</td>\n",
       "      <td>spd</td>\n",
       "      <td>26.0</td>\n",
       "      <td>2017-09-24</td>\n",
       "      <td>829.0</td>\n",
       "    </tr>\n",
       "    <tr>\n",
       "      <th>2016-08-24</th>\n",
       "      <td>2017.0</td>\n",
       "      <td>1496.0</td>\n",
       "      <td>allensbach</td>\n",
       "      <td>spd</td>\n",
       "      <td>23.0</td>\n",
       "      <td>2017-09-24</td>\n",
       "      <td>396.0</td>\n",
       "    </tr>\n",
       "    <tr>\n",
       "      <th>2015-08-19</th>\n",
       "      <td>2017.0</td>\n",
       "      <td>1400.0</td>\n",
       "      <td>allensbach</td>\n",
       "      <td>spd</td>\n",
       "      <td>26.0</td>\n",
       "      <td>2017-09-24</td>\n",
       "      <td>767.0</td>\n",
       "    </tr>\n",
       "    <tr>\n",
       "      <th>2015-02-19</th>\n",
       "      <td>2017.0</td>\n",
       "      <td>1400.0</td>\n",
       "      <td>allensbach</td>\n",
       "      <td>spd</td>\n",
       "      <td>25.5</td>\n",
       "      <td>2017-09-24</td>\n",
       "      <td>948.0</td>\n",
       "    </tr>\n",
       "    <tr>\n",
       "      <th>2017-07-18</th>\n",
       "      <td>2017.0</td>\n",
       "      <td>1403.0</td>\n",
       "      <td>allensbach</td>\n",
       "      <td>spd</td>\n",
       "      <td>25.0</td>\n",
       "      <td>2017-09-24</td>\n",
       "      <td>68.0</td>\n",
       "    </tr>\n",
       "  </tbody>\n",
       "</table>\n",
       "</div>"
      ],
      "text/plain": [
       "            election  sample_size   institute party  support election_date  \\\n",
       "date                                                                         \n",
       "2015-06-18    2017.0       1400.0  allensbach   spd     26.0    2017-09-24   \n",
       "2016-08-24    2017.0       1496.0  allensbach   spd     23.0    2017-09-24   \n",
       "2015-08-19    2017.0       1400.0  allensbach   spd     26.0    2017-09-24   \n",
       "2015-02-19    2017.0       1400.0  allensbach   spd     25.5    2017-09-24   \n",
       "2017-07-18    2017.0       1403.0  allensbach   spd     25.0    2017-09-24   \n",
       "\n",
       "            days_to_election  \n",
       "date                          \n",
       "2015-06-18             829.0  \n",
       "2016-08-24             396.0  \n",
       "2015-08-19             767.0  \n",
       "2015-02-19             948.0  \n",
       "2017-07-18              68.0  "
      ]
     },
     "execution_count": 24,
     "metadata": {},
     "output_type": "execute_result"
    }
   ],
   "source": [
    "#check out institution allensbach: \n",
    "\n",
    "election2017_allen.head()"
   ]
  },
  {
   "cell_type": "code",
   "execution_count": 47,
   "metadata": {},
   "outputs": [],
   "source": [
    "#create allensbach's polls for AFD in 2017 election:\n",
    "\n",
    "election2017_allen_afd = election2017_allen.loc[election2017_allen['party'] == 'afd']\n",
    "#plot_allen_afd = sns.lineplot(x=\"days_to_election\", y=\"support\", data=election2017allen_afd)"
   ]
  },
  {
   "cell_type": "code",
   "execution_count": 48,
   "metadata": {},
   "outputs": [
    {
     "data": {
      "image/png": "[encoded data removed]",
      "text/plain": [
       "<matplotlib.figure.Figure at 0x11534b048>"
      ]
     },
     "metadata": {
      "needs_background": "light"
     },
     "output_type": "display_data"
    },
    {
     "data": {
      "text/plain": [
       "<matplotlib.figure.Figure at 0x1156704a8>"
      ]
     },
     "metadata": {},
     "output_type": "display_data"
    }
   ],
   "source": [
    "#plot allensbach's polls for AFD in 2017 election:\n",
    "#election2017allen_afd['date'] = election2017allen_afd.index\n",
    "#melted_df = pd.melt(election2017allen_afd, id_vars='date', value_name='support')\n",
    "#plot_allen_afd = sns.tsplot(melted_df, time='date', value='support')\n",
    "election2017_allen_afd.support['2013-10-23':'2017-09-19'].plot()\n",
    "plt.show()\n",
    "plt.clf()"
   ]
  },
  {
   "cell_type": "code",
   "execution_count": 49,
   "metadata": {},
   "outputs": [],
   "source": [
    "upsampled_election2017_allen_afd = election2017_allen_afd['support'].resample('D').first()"
   ]
  },
  {
   "cell_type": "code",
   "execution_count": 174,
   "metadata": {},
   "outputs": [
    {
     "name": "stdout",
     "output_type": "stream",
     "text": [
      "date\n",
      "2013-10-23    5.5\n",
      "2013-10-24    NaN\n",
      "2013-10-25    NaN\n",
      "2013-10-26    NaN\n",
      "2013-10-27    NaN\n",
      "2013-10-28    NaN\n",
      "2013-10-29    NaN\n",
      "2013-10-30    NaN\n",
      "2013-10-31    NaN\n",
      "2013-11-01    NaN\n",
      "2013-11-02    NaN\n",
      "2013-11-03    NaN\n",
      "2013-11-04    NaN\n",
      "2013-11-05    NaN\n",
      "2013-11-06    NaN\n",
      "2013-11-07    NaN\n",
      "2013-11-08    NaN\n",
      "2013-11-09    NaN\n",
      "2013-11-10    NaN\n",
      "2013-11-11    NaN\n",
      "2013-11-12    NaN\n",
      "2013-11-13    NaN\n",
      "2013-11-14    NaN\n",
      "2013-11-15    NaN\n",
      "2013-11-16    NaN\n",
      "2013-11-17    NaN\n",
      "2013-11-18    NaN\n",
      "2013-11-19    NaN\n",
      "2013-11-20    NaN\n",
      "2013-11-21    NaN\n",
      "2013-11-22    NaN\n",
      "2013-11-23    NaN\n",
      "Freq: D, Name: support, dtype: float64\n"
     ]
    }
   ],
   "source": [
    "print(upsampled_election2017_allen_afd.head(32))"
   ]
  },
  {
   "cell_type": "code",
   "execution_count": 51,
   "metadata": {},
   "outputs": [
    {
     "data": {
      "text/plain": [
       "date\n",
       "2013-10-23    5.500000\n",
       "2013-10-24    5.485714\n",
       "2013-10-25    5.471429\n",
       "2013-10-26    5.457143\n",
       "2013-10-27    5.442857\n",
       "Freq: D, Name: support, dtype: float64"
      ]
     },
     "execution_count": 51,
     "metadata": {},
     "output_type": "execute_result"
    }
   ],
   "source": [
    "interpolated_election2017_allen_afd = upsampled_election2017_allen_afd.interpolate(how='linear')\n",
    "interpolated_election2017_allen_afd.head()"
   ]
  },
  {
   "cell_type": "code",
   "execution_count": 52,
   "metadata": {},
   "outputs": [
    {
     "data": {
      "image/png": "[encoded data removed]",
      "text/plain": [
       "<matplotlib.figure.Figure at 0x1154f82b0>"
      ]
     },
     "metadata": {
      "needs_background": "light"
     },
     "output_type": "display_data"
    },
    {
     "data": {
      "text/plain": [
       "<matplotlib.figure.Figure at 0x1154f8588>"
      ]
     },
     "metadata": {},
     "output_type": "display_data"
    }
   ],
   "source": [
    "interpolated_election2017_allen_afd.plot()\n",
    "plt.show()\n",
    "plt.clf()"
   ]
  },
  {
   "cell_type": "markdown",
   "metadata": {},
   "source": [
    "### Data transformation of time-series \n",
    "\n"
   ]
  },
  {
   "cell_type": "markdown",
   "metadata": {},
   "source": [
    "#### AFD"
   ]
  },
  {
   "cell_type": "code",
   "execution_count": 194,
   "metadata": {},
   "outputs": [],
   "source": [
    "#Create dataframe for AFD voteshares polls by each of the 7 institutions\n",
    "\n",
    "election2017_allen_afd = election2017_allen.loc[election2017_allen['party'] == 'afd']\n",
    "election2017_insa_afd = election2017_insa.loc[election2017_insa['party'] == 'afd']\n",
    "election2017_forsa_afd = election2017_forsa.loc[election2017_forsa['party'] == 'afd']\n",
    "election2017_emnid_afd = election2017_emnid.loc[election2017_emnid['party'] == 'afd']\n",
    "election2017_gms_afd = election2017_gms.loc[election2017_gms['party'] == 'afd']\n",
    "election2017_infra_afd = election2017_infra.loc[election2017_infra['party'] == 'afd']\n",
    "election2017_fgruppe_afd = election2017_fgruppe.loc[election2017_fgruppe['party'] == 'afd']"
   ]
  },
  {
   "cell_type": "code",
   "execution_count": 195,
   "metadata": {},
   "outputs": [
    {
     "data": {
      "text/plain": [
       "2017-09-17    11.0\n",
       "2017-09-18    11.0\n",
       "2017-09-19    11.0\n",
       "2017-09-20    11.0\n",
       "2017-09-21    11.0\n",
       "Freq: D, Name: support, dtype: float64"
      ]
     },
     "execution_count": 195,
     "metadata": {},
     "output_type": "execute_result"
    }
   ],
   "source": [
    "#Create upsampled and interpolated data for Allen in AFD voteshares\n",
    "\n",
    "t_index_final = pd.date_range(start='2013-10-23', end='2017-09-21', freq='D')\n",
    "t_index_insa = pd.date_range(start='2013-10-10', end='2017-09-21', freq='D')\n",
    "\n",
    "upsampled_election2017_allen_afd = election2017_allen_afd['support'].resample('D').first().reindex(t_index1)\n",
    "interpolated_election2017_allen_afd = upsampled_election2017_allen_afd.interpolate(how='linear')\n",
    "interpolated_election2017_allen_afd = interpolated_election2017_allen_afd.reindex(t_index_final)\n",
    "interpolated_election2017_insa_afd.tail()"
   ]
  },
  {
   "cell_type": "code",
   "execution_count": 196,
   "metadata": {},
   "outputs": [
    {
     "data": {
      "text/plain": [
       "2017-09-17    11.0\n",
       "2017-09-18    11.0\n",
       "2017-09-19    11.0\n",
       "2017-09-20    11.0\n",
       "2017-09-21    11.0\n",
       "Freq: D, Name: support, dtype: float64"
      ]
     },
     "execution_count": 196,
     "metadata": {},
     "output_type": "execute_result"
    }
   ],
   "source": [
    "#Create upsampled and interpolated data for Insa in AFD voteshares\n",
    "\n",
    "t_index_final = pd.date_range(start='2013-10-23', end='2017-09-21', freq='D')\n",
    "t_index_insa = pd.date_range(start='2013-10-10', end='2017-09-21', freq='D')\n",
    "\n",
    "upsampled_election2017_insa_afd = election2017_insa_afd['support'].resample('D').first().reindex(t_index1)\n",
    "interpolated_election2017_insa_afd = upsampled_election2017_insa_afd.interpolate(how='linear')\n",
    "interpolated_election2017_insa_afd = interpolated_election2017_insa_afd.reindex(t_index_final)\n",
    "interpolated_election2017_insa_afd.tail()"
   ]
  },
  {
   "cell_type": "code",
   "execution_count": 197,
   "metadata": {},
   "outputs": [
    {
     "data": {
      "text/plain": [
       "2017-09-17    9.0\n",
       "2017-09-18    9.0\n",
       "2017-09-19    9.0\n",
       "2017-09-20    9.0\n",
       "2017-09-21    9.0\n",
       "Freq: D, Name: support, dtype: float64"
      ]
     },
     "execution_count": 197,
     "metadata": {},
     "output_type": "execute_result"
    }
   ],
   "source": [
    "#Create upsampled and interpolated data for Forsa in AFD voteshares\n",
    "\n",
    "t_index_forsa = pd.date_range(start='2013-10-01', end='2017-09-21', freq='D')\n",
    "\n",
    "upsampled_election2017_forsa_afd = election2017_forsa_afd['support'].resample('D').first().reindex(t_index1)\n",
    "interpolated_election2017_forsa_afd = upsampled_election2017_forsa_afd.interpolate(how='linear')\n",
    "interpolated_election2017_forsa_afd = interpolated_election2017_forsa_afd.reindex(t_index_final)\n",
    "interpolated_election2017_forsa_afd.tail()"
   ]
  },
  {
   "cell_type": "code",
   "execution_count": 198,
   "metadata": {},
   "outputs": [
    {
     "data": {
      "text/plain": [
       "2017-09-17    11.0\n",
       "2017-09-18    11.0\n",
       "2017-09-19    11.0\n",
       "2017-09-20    11.0\n",
       "2017-09-21    11.0\n",
       "Freq: D, Name: support, dtype: float64"
      ]
     },
     "execution_count": 198,
     "metadata": {},
     "output_type": "execute_result"
    }
   ],
   "source": [
    "#Create upsampled and interpolated data for Emnid in AFD voteshares\n",
    "\n",
    "t_index_emnid = pd.date_range(start='2013-09-29', end='2017-09-21', freq='D')\n",
    "\n",
    "upsampled_election2017_emnid_afd = election2017_emnid_afd['support'].resample('D').first().reindex(t_index1)\n",
    "interpolated_election2017_emnid_afd = upsampled_election2017_emnid_afd.interpolate(how='linear')\n",
    "interpolated_election2017_emnid_afd = interpolated_election2017_emnid_afd.reindex(t_index_final)\n",
    "interpolated_election2017_emnid_afd.tail()"
   ]
  },
  {
   "cell_type": "code",
   "execution_count": 199,
   "metadata": {},
   "outputs": [
    {
     "data": {
      "text/plain": [
       "2017-09-17     9.428571\n",
       "2017-09-18     9.571429\n",
       "2017-09-19     9.714286\n",
       "2017-09-20     9.857143\n",
       "2017-09-21    10.000000\n",
       "Freq: D, Name: support, dtype: float64"
      ]
     },
     "execution_count": 199,
     "metadata": {},
     "output_type": "execute_result"
    }
   ],
   "source": [
    "#Create upsampled and interpolated data for GMS in AFD voteshares\n",
    "\n",
    "t_index_gms = pd.date_range(start='2013-10-15', end='2017-09-21', freq='D')\n",
    "\n",
    "upsampled_election2017_gms_afd = election2017_gms_afd['support'].resample('D').first().reindex(t_index1)\n",
    "interpolated_election2017_gms_afd = upsampled_election2017_gms_afd.interpolate(how='linear')\n",
    "interpolated_election2017_gms_afd = interpolated_election2017_gms_afd.reindex(t_index_final)\n",
    "interpolated_election2017_gms_afd.tail()"
   ]
  },
  {
   "cell_type": "code",
   "execution_count": 200,
   "metadata": {},
   "outputs": [
    {
     "data": {
      "text/plain": [
       "2017-09-17     9.428571\n",
       "2017-09-18     9.571429\n",
       "2017-09-19     9.714286\n",
       "2017-09-20     9.857143\n",
       "2017-09-21    10.000000\n",
       "Freq: D, Name: support, dtype: float64"
      ]
     },
     "execution_count": 200,
     "metadata": {},
     "output_type": "execute_result"
    }
   ],
   "source": [
    "#Create upsampled and interpolated data for Infra in AFD voteshares\n",
    "\n",
    "t_index_infra = pd.date_range(start='2013-10-10', end='2017-09-21', freq='D')\n",
    "\n",
    "upsampled_election2017_infra_afd = election2017_infra_afd['support'].resample('D').first().reindex(t_index1)\n",
    "interpolated_election2017_infra_afd = upsampled_election2017_infra_afd.interpolate(how='linear')\n",
    "interpolated_election2017_infra_afd = interpolated_election2017_infra_afd.reindex(t_index_final)\n",
    "interpolated_election2017_gms_afd.tail()"
   ]
  },
  {
   "cell_type": "code",
   "execution_count": 201,
   "metadata": {},
   "outputs": [
    {
     "data": {
      "text/plain": [
       "2017-09-17    10.333333\n",
       "2017-09-18    10.500000\n",
       "2017-09-19    10.666667\n",
       "2017-09-20    10.833333\n",
       "2017-09-21    11.000000\n",
       "Freq: D, Name: support, dtype: float64"
      ]
     },
     "execution_count": 201,
     "metadata": {},
     "output_type": "execute_result"
    }
   ],
   "source": [
    "#Create upsampled and interpolated data for Fgruppe in AFD voteshares\n",
    "\n",
    "t_index_fgruppe = pd.date_range(start='2013-09-27', end='2017-09-21', freq='D')\n",
    "\n",
    "upsampled_election2017_fgruppe_afd = election2017_fgruppe_afd['support'].resample('D').first().reindex(t_index1)\n",
    "interpolated_election2017_fgruppe_afd = upsampled_election2017_fgruppe_afd.interpolate(how='linear')\n",
    "interpolated_election2017_fgruppe_afd = interpolated_election2017_fgruppe_afd.reindex(t_index_final)\n",
    "interpolated_election2017_fgruppe_afd.tail()"
   ]
  },
  {
   "cell_type": "code",
   "execution_count": 202,
   "metadata": {},
   "outputs": [
    {
     "data": {
      "image/png": "[encoded data removed]",
      "text/plain": [
       "<matplotlib.figure.Figure at 0x114e9e240>"
      ]
     },
     "metadata": {
      "needs_background": "light"
     },
     "output_type": "display_data"
    },
    {
     "data": {
      "text/plain": [
       "<matplotlib.figure.Figure at 0x11564f128>"
      ]
     },
     "metadata": {},
     "output_type": "display_data"
    }
   ],
   "source": [
    "interpolated_election2017_allen_afd.plot()\n",
    "interpolated_election2017_insa_afd.plot()\n",
    "interpolated_election2017_forsa_afd.plot()\n",
    "interpolated_election2017_emnid_afd.plot()\n",
    "interpolated_election2017_gms_afd.plot()\n",
    "interpolated_election2017_infra_afd.plot()\n",
    "interpolated_election2017_fgruppe_afd.plot()\n",
    "plt.xlabel(\"Date\")\n",
    "plt.ylabel(\"Voteshares\")\n",
    "plt.title(\"AFD voteshares from polls for 2017 election\")\n",
    "plt.show()\n",
    "plt.clf()"
   ]
  },
  {
   "cell_type": "code",
   "execution_count": 203,
   "metadata": {},
   "outputs": [
    {
     "ename": "AttributeError",
     "evalue": "'Series' object has no attribute 'join'",
     "output_type": "error",
     "traceback": [
      "\u001b[0;31m---------------------------------------------------------------------------\u001b[0m",
      "\u001b[0;31mAttributeError\u001b[0m                            Traceback (most recent call last)",
      "\u001b[0;32m<ipython-input-203-ec35409bfc37>\u001b[0m in \u001b[0;36m<module>\u001b[0;34m\u001b[0m\n\u001b[1;32m      1\u001b[0m \u001b[0;31m#Create new dataframe with all new time-series from 7 institutions\u001b[0m\u001b[0;34m\u001b[0m\u001b[0;34m\u001b[0m\u001b[0;34m\u001b[0m\u001b[0m\n\u001b[1;32m      2\u001b[0m \u001b[0;34m\u001b[0m\u001b[0m\n\u001b[0;32m----> 3\u001b[0;31m \u001b[0mnew_polls\u001b[0m \u001b[0;34m=\u001b[0m \u001b[0minterpolated_election2017_allen_afd\u001b[0m\u001b[0;34m.\u001b[0m\u001b[0mjoin\u001b[0m\u001b[0;34m(\u001b[0m\u001b[0minterpolated_election2017_insa_afd\u001b[0m\u001b[0;34m,\u001b[0m \u001b[0mhow\u001b[0m\u001b[0;34m=\u001b[0m\u001b[0;34m'outer'\u001b[0m\u001b[0;34m)\u001b[0m\u001b[0;34m.\u001b[0m\u001b[0mjoin\u001b[0m\u001b[0;34m(\u001b[0m\u001b[0minterpolated_election2017_forsa_afd\u001b[0m\u001b[0;34m,\u001b[0m \u001b[0mhow\u001b[0m\u001b[0;34m=\u001b[0m\u001b[0;34m'outer'\u001b[0m\u001b[0;34m)\u001b[0m\u001b[0;34m\u001b[0m\u001b[0;34m\u001b[0m\u001b[0m\n\u001b[0m\u001b[1;32m      4\u001b[0m \u001b[0mnew_polls\u001b[0m\u001b[0;34m.\u001b[0m\u001b[0mhead\u001b[0m\u001b[0;34m(\u001b[0m\u001b[0;34m)\u001b[0m\u001b[0;34m\u001b[0m\u001b[0;34m\u001b[0m\u001b[0m\n",
      "\u001b[0;32m~/anaconda3/lib/python3.6/site-packages/pandas/core/generic.py\u001b[0m in \u001b[0;36m__getattr__\u001b[0;34m(self, name)\u001b[0m\n\u001b[1;32m   5065\u001b[0m             \u001b[0;32mif\u001b[0m \u001b[0mself\u001b[0m\u001b[0;34m.\u001b[0m\u001b[0m_info_axis\u001b[0m\u001b[0;34m.\u001b[0m\u001b[0m_can_hold_identifiers_and_holds_name\u001b[0m\u001b[0;34m(\u001b[0m\u001b[0mname\u001b[0m\u001b[0;34m)\u001b[0m\u001b[0;34m:\u001b[0m\u001b[0;34m\u001b[0m\u001b[0;34m\u001b[0m\u001b[0m\n\u001b[1;32m   5066\u001b[0m                 \u001b[0;32mreturn\u001b[0m \u001b[0mself\u001b[0m\u001b[0;34m[\u001b[0m\u001b[0mname\u001b[0m\u001b[0;34m]\u001b[0m\u001b[0;34m\u001b[0m\u001b[0;34m\u001b[0m\u001b[0m\n\u001b[0;32m-> 5067\u001b[0;31m             \u001b[0;32mreturn\u001b[0m \u001b[0mobject\u001b[0m\u001b[0;34m.\u001b[0m\u001b[0m__getattribute__\u001b[0m\u001b[0;34m(\u001b[0m\u001b[0mself\u001b[0m\u001b[0;34m,\u001b[0m \u001b[0mname\u001b[0m\u001b[0;34m)\u001b[0m\u001b[0;34m\u001b[0m\u001b[0;34m\u001b[0m\u001b[0m\n\u001b[0m\u001b[1;32m   5068\u001b[0m \u001b[0;34m\u001b[0m\u001b[0m\n\u001b[1;32m   5069\u001b[0m     \u001b[0;32mdef\u001b[0m \u001b[0m__setattr__\u001b[0m\u001b[0;34m(\u001b[0m\u001b[0mself\u001b[0m\u001b[0;34m,\u001b[0m \u001b[0mname\u001b[0m\u001b[0;34m,\u001b[0m \u001b[0mvalue\u001b[0m\u001b[0;34m)\u001b[0m\u001b[0;34m:\u001b[0m\u001b[0;34m\u001b[0m\u001b[0;34m\u001b[0m\u001b[0m\n",
      "\u001b[0;31mAttributeError\u001b[0m: 'Series' object has no attribute 'join'"
     ]
    }
   ],
   "source": [
    "#Create new dataframe with all new time-series from 7 institutions\n",
    "\n",
    "new_polls = interpolated_election2017_allen_afd.join(interpolated_election2017_insa_afd, how='outer').join(interpolated_election2017_forsa_afd, how='outer')\n",
    "new_polls.head()\n"
   ]
  },
  {
   "cell_type": "code",
   "execution_count": null,
   "metadata": {},
   "outputs": [],
   "source": []
  },
  {
   "cell_type": "code",
   "execution_count": null,
   "metadata": {},
   "outputs": [],
   "source": []
  },
  {
   "cell_type": "code",
   "execution_count": null,
   "metadata": {},
   "outputs": [],
   "source": []
  },
  {
   "cell_type": "code",
   "execution_count": 56,
   "metadata": {},
   "outputs": [],
   "source": [
    "\n",
    "upsampled_election2017_insa_afd = election2017_insa_afd['support'].resample('D').first()\n",
    "upsampled_election2017_forsa_afd = election2017_forsa_afd['support'].resample('D').first()\n",
    "upsampled_election2017_emnid_afd = election2017_emnid_afd['support'].resample('D').first()\n",
    "upsampled_election2017_gms_afd = election2017_gms_afd['support'].resample('D').first()\n",
    "upsampled_election2017_infra_afd = election2017_infra_afd['support'].resample('D').first()\n",
    "upsampled_election2017_fgruppe_afd = election2017_fgruppe_afd['support'].resample('D').first()"
   ]
  },
  {
   "cell_type": "code",
   "execution_count": 57,
   "metadata": {},
   "outputs": [],
   "source": [
    "interpolated_election2017_insa_afd = upsampled_election2017_insa_afd.interpolate(how='linear')\n",
    "interpolated_election2017_forsa_afd = upsampled_election2017_forsa_afd.interpolate(how='linear')\n",
    "interpolated_election2017_emnid_afd = upsampled_election2017_emnid_afd.interpolate(how='linear')\n",
    "interpolated_election2017_gms_afd = upsampled_election2017_gms_afd.interpolate(how='linear')\n",
    "interpolated_election2017_infra_afd = upsampled_election2017_infra_afd.interpolate(how='linear')\n",
    "interpolated_election2017_fgruppe_afd = upsampled_election2017_fgruppe_afd.interpolate(how='linear')"
   ]
  },
  {
   "cell_type": "code",
   "execution_count": 60,
   "metadata": {},
   "outputs": [
    {
     "data": {
      "image/png": "[encoded data removed]",
      "text/plain": [
       "<matplotlib.figure.Figure at 0x115555780>"
      ]
     },
     "metadata": {
      "needs_background": "light"
     },
     "output_type": "display_data"
    },
    {
     "data": {
      "text/plain": [
       "<matplotlib.figure.Figure at 0x1154cde10>"
      ]
     },
     "metadata": {},
     "output_type": "display_data"
    }
   ],
   "source": []
  },
  {
   "cell_type": "code",
   "execution_count": 150,
   "metadata": {},
   "outputs": [
    {
     "data": {
      "text/plain": [
       "2017-09-17     NaN\n",
       "2017-09-18    11.0\n",
       "2017-09-19     NaN\n",
       "2017-09-20     NaN\n",
       "2017-09-21     NaN\n",
       "Freq: D, Name: support, dtype: float64"
      ]
     },
     "execution_count": 150,
     "metadata": {},
     "output_type": "execute_result"
    }
   ],
   "source": [
    "t_index1 = pd.date_range(start='2013-10-10', end='2017-09-21', freq='D')\n",
    "t_index_final = pd.date_range(start='2013-10-23', end='2017-09-21', freq='D')\n",
    "df2 = election2017_insa_afd['support'].resample('D').first().reindex(t_index1)\n",
    "df3 = df2.interpolate(how='linear')\n",
    "df3 = df3.reindex(t_index_final)"
   ]
  },
  {
   "cell_type": "code",
   "execution_count": 155,
   "metadata": {},
   "outputs": [
    {
     "data": {
      "text/plain": [
       "2013-10-23    4.111111\n",
       "2013-10-24    4.166667\n",
       "2013-10-25    4.222222\n",
       "2013-10-26    4.277778\n",
       "2013-10-27    4.333333\n",
       "Freq: D, Name: support, dtype: float64"
      ]
     },
     "execution_count": 155,
     "metadata": {},
     "output_type": "execute_result"
    }
   ],
   "source": []
  },
  {
   "cell_type": "code",
   "execution_count": 132,
   "metadata": {},
   "outputs": [
    {
     "data": {
      "text/plain": [
       "2013-10-23   NaN\n",
       "2013-10-24   NaN\n",
       "2013-10-25   NaN\n",
       "2013-10-26   NaN\n",
       "2013-10-27   NaN\n",
       "Freq: D, Name: support, dtype: float64"
      ]
     },
     "execution_count": 132,
     "metadata": {},
     "output_type": "execute_result"
    }
   ],
   "source": [
    "df3 = df2.interpolate(how='linear')\n",
    "df3.head()"
   ]
  },
  {
   "cell_type": "code",
   "execution_count": null,
   "metadata": {},
   "outputs": [],
   "source": [
    "interpolated_election2017_insa_afd = upsampled_election2017_insa_afd.interpolate(how='linear')\n"
   ]
  }
 ],
 "metadata": {
  "kernelspec": {
   "display_name": "Python 3",
   "language": "python",
   "name": "python3"
  },
  "language_info": {
   "codemirror_mode": {
    "name": "ipython",
    "version": 3
   },
   "file_extension": ".py",
   "mimetype": "text/x-python",
   "name": "python",
   "nbconvert_exporter": "python",
   "pygments_lexer": "ipython3",
   "version": "3.6.8"
  }
 },
 "nbformat": 4,
 "nbformat_minor": 2
}
